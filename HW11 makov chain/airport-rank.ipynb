{
 "cells": [
  {
   "cell_type": "markdown",
   "metadata": {
    "deletable": false,
    "editable": false,
    "nbgrader": {
     "grade": false,
     "grade_id": "intro",
     "locked": true,
     "schema_version": 1,
     "solution": false
    }
   },
   "source": [
    "# Markov chain analysis of the US airport network\n",
    "\n",
    "One way to view the airline transportation infrastructure is in the form of a directed _network_ or _graph_, in which vertices are airports and edges are the direct-flight segments that connect them. For instance, if there is a direct flight from Atlanta's Hartsfield-Jackson International Airport (\"ATL\") to Los Angeles International Airport (\"LAX\"), then the airport network would have a directed edge from ATL to LAX."
   ]
  },
  {
   "cell_type": "markdown",
   "metadata": {
    "deletable": false,
    "editable": false,
    "nbgrader": {
     "grade": false,
     "grade_id": "intro_1",
     "locked": true,
     "schema_version": 1,
     "solution": false
    }
   },
   "source": [
    "Given the airport network, one question we might ask is, which airports are most critical to disruption of the overall network? That is, if an airport is shut down, thereby leading to all inbound and outbound flights being cancelled, will that catastrophic event have a big impact or a small impact on the overall network?\n",
    "\n",
    "You would expect \"importance\" to be related to whether an airport has lots of inbound or outgoing connections. In graph lingo, the number of such connections is called the _degree_ of a vertex or node. The _indegree_ is the number of incoming edges to a node, and the _outdegree_ is the number of outgoing edges.\n",
    "\n",
    "But if there are multiple routes between two airports, then even if one of the routes includes a high-degree airport in its path, a traveler that can work around a closure by going on an alternate route. So having a high-degree is not the only contributor to how important an airport is. Therefore, in this notebook, let's try to use a PageRank-like scheme to rank airports and compare that to looking at degree."
   ]
  },
  {
   "cell_type": "markdown",
   "metadata": {
    "deletable": false,
    "editable": false,
    "nbgrader": {
     "grade": false,
     "grade_id": "intro_2",
     "locked": true,
     "schema_version": 1,
     "solution": false
    }
   },
   "source": [
    "As it happens, the US Bureau of Transportation Statistics collects data on all flights originating or arriving in the United States. Let's use this data to build an airport network and then use Markov chain analysis to rank the networks by some measure of \"criticality.\""
   ]
  },
  {
   "cell_type": "markdown",
   "metadata": {
    "deletable": false,
    "editable": false,
    "nbgrader": {
     "grade": false,
     "grade_id": "intro_3",
     "locked": true,
     "schema_version": 1,
     "solution": false
    }
   },
   "source": [
    "> Sources: This notebook is adapted from the following: https://www.mongodb.com/blog/post/pagerank-on-flights-dataset. The dataset you will use was taken from the repository available here: https://www.transtats.bts.gov/Fields.asp?gnoyr_VQ=FIM"
   ]
  },
  {
   "cell_type": "markdown",
   "metadata": {
    "deletable": false,
    "editable": false,
    "nbgrader": {
     "grade": false,
     "grade_id": "formalize",
     "locked": true,
     "schema_version": 1,
     "solution": false
    }
   },
   "source": [
    "## The formal analysis problem\n",
    "\n",
    "Let's model the analysis problem as follows.\n",
    "\n",
    "Consider a \"random flyer\" to be a person who arrives at an airport $i$, and then randomly selects any direct flight that departs from $i$ and arrives at $j$. We refer to the direct flight from $i$ to $j$ as the _flight segment_ $i \\rightarrow j$. Upon arriving at $j$, the flyer repeats the process of randomly selecting a new segment, $j \\rightarrow k$. He or she repeats this process forever."
   ]
  },
  {
   "cell_type": "markdown",
   "metadata": {
    "deletable": false,
    "editable": false,
    "nbgrader": {
     "grade": false,
     "locked": true,
     "solution": false
    }
   },
   "source": [
    "Let's treat time as a discrete integer $t \\in \\{0, 1, 2, \\ldots\\}$. Let's also assume that the flyer's airport at time $t+1$ depends only on which airport she or he was in during the previous time step, $t$. When modeling a stochastic process (one in which an agent makes random decisions over time), such an assumption is referred to as the _Markov property_, and the process as a _Markov process_."
   ]
  },
  {
   "cell_type": "markdown",
   "metadata": {
    "deletable": false,
    "editable": false,
    "nbgrader": {
     "grade": false,
     "locked": true,
     "solution": false
    }
   },
   "source": [
    "Let $Y$ be the random variable corresponding to the flyer's airport at time $t+1$, and let $X$ be the airport at time $t$. So if the flyer was at the Atlanta Hartsfield-Jackson International Airport (\"ATL\") at time $t$, then that is the event $X = \\texttt{\"ATL\"}$. If the flyer ends up at Los Angeles International (\"LAX\") at time $t+1$, then that is the event $Y = \\texttt{\"LAX\"}$.\n",
    "\n",
    "Since $X$ and $Y$ are random variables, they have probabilities. Let $\\mathrm{Pr}[Y=i]$ be the probability of being at airport $i$ at time $t+1$ and $\\mathrm{Pr}[X=j]$ that of having been at airport $j$ at time $t$. The flyer must always be somewhere, so summing over all airports must yield one, e.g., $\\sum_i \\mathrm{Pr}[Y=i] = 1$ and $\\sum_j \\mathrm{Pr}[X=j] = 1$."
   ]
  },
  {
   "cell_type": "markdown",
   "metadata": {
    "deletable": false,
    "editable": false,
    "nbgrader": {
     "grade": false,
     "locked": true,
     "solution": false
    }
   },
   "source": [
    "We can also ask about the probability of the _joint event_, $\\mathrm{Pr}[Y=i, X=j]$. By definition of joint probabilities, this event may be \"decomposed\" into the product of a conditional probability of moving from $j$ to $i$ times the prior probability of having been at $j$. That is,\n",
    "\n",
    "$$\\mathrm{Pr}[Y=i, X=j] = \\mathrm{Pr}[Y=i \\,|\\, X=j] \\cdot \\mathrm{Pr}[X=j].$$\n",
    "\n",
    "Also, given that $X=j$ has occurred, the sum of the conditional probabilities over all events $Y=i$ must be one, i.e., $\\sum_i \\mathrm{Pr}[Y=i \\,|\\, X=j] = 1$.\n",
    "\n",
    "What we want is the total probability of being on page $i$ at time $t+1$, or $\\mathrm{Pr}[Y=i]$. To get that, we can start with the joint probability above and sum over all possible events $\\{X=j\\}$. Thus,\n",
    "\n",
    "$$\\begin{eqnarray*}\n",
    "  \\mathrm{Pr}[Y=i] & = & \\sum_j \\mathrm{Pr}[Y=i, X=j] = \\sum_j \\mathrm{Pr}[Y=i \\,|\\, X=j] \\cdot \\mathrm{Pr}[X=j].\n",
    "\\end{eqnarray*}$$"
   ]
  },
  {
   "cell_type": "markdown",
   "metadata": {
    "deletable": false,
    "editable": false,
    "nbgrader": {
     "grade": false,
     "locked": true,
     "solution": false
    }
   },
   "source": [
    "Now let's put all these ideas together and simplify the notation. Let\n",
    "\n",
    "$$\\begin{eqnarray}\n",
    "    \\mathrm{Pr}[Y=i] & \\equiv & y_i \\\\\n",
    "    \\mathrm{Pr}[X=j] & \\equiv & x_j \\\\\n",
    "    \\mathrm{Pr}[Y=i \\,|\\, X=j] & \\equiv & p_{j, i}.\n",
    "\\end{eqnarray}$$\n",
    "\n",
    "> **Note the last definition**, $p_{j, i}$. We have picked the ordering of the indices to be $j, i$. We could have also defined it to be $p_{i, j}$. The choice is arbitrary, although it is important to choose something and stick with it, so for the time being, let's go with the above definition.\n",
    "\n",
    "Returning to the calculation of $\\mathrm{Pr}[Y=i]$ with this simplified notation,\n",
    "\n",
    "$$\\begin{eqnarray*}\n",
    "    \\mathrm{Pr}[Y=i] & = & \\sum_j \\mathrm{Pr}[Y=i \\,|\\, X=j] \\cdot \\mathrm{Pr}[X=j]. \\\\\n",
    "    && \\\\ \\Longrightarrow \\qquad y_i & = & \\sum_j p_{j, i} x_j.\n",
    "\\end{eqnarray*}$$\n",
    "\n",
    "Recall from Topic 3 that the product of any matrix $A \\equiv (a_{i,j})$ by a vector $v \\equiv (v_j)$ is\n",
    "\n",
    "$$\\begin{eqnarray*} w_i & = & \\sum_j a_{i, j} \\cdot v_j. \\end{eqnarray*}$$\n",
    "\n",
    "Therefore, if the sum instead looks like\n",
    "\n",
    "$$\\begin{eqnarray*} w_i & = & \\sum_j a_{j, i} \\cdot v_j, \\end{eqnarray*}$$\n",
    "\n",
    "then the matrix indices are transposed compared to the preceding formula, and must, therefore, correspond to the matrix-transpose-vector product, $w = A^T v$. So,\n",
    "\n",
    "$$\\begin{eqnarray*}y_i & = & \\sum_j p_{j, i} \\cdot x_j && \\\\ \\Longrightarrow \\qquad y & = & P^T x, \\end{eqnarray*}$$\n",
    "\n",
    "where the last line reflects the convention that $P$ is the matrix where rows are the positions at time $t$ and columns are those at $t+1$, and $x$ and $y$ are vectors whose elements are numbered accordingly. The matrix $P$ is also called the _probability transition matrix_."
   ]
  },
  {
   "cell_type": "markdown",
   "metadata": {
    "deletable": false,
    "editable": false,
    "nbgrader": {
     "grade": false,
     "grade_id": "formalize_steady_state",
     "locked": true,
     "schema_version": 1,
     "solution": false
    }
   },
   "source": [
    "The matrix formula above represents one transition, from time $t$ to time $t+1$. Since we want to analyze the flyer's behavior over many time steps, let's index the probability vectors by time, i.e., letting $x(t)$ denote the probabilities at time $t$. What we would like to know is whether there is a steady-state distribution, $x^*$, which is the limit of $x(t)$ as $t$ goes to infinity:\n",
    "\n",
    "$$\\displaystyle \\lim_{t \\rightarrow \\infty} x(t) = x^* \\equiv [x_i^*].$$\n",
    "\n",
    "The larger $x_i^*$, the more likely it is that the random flyer is to be at airport $i$ in the steady state. Therefore, we can take the \"importance\" or \"criticality\" of airport $i$ in the flight network to be its steady-state probability, $x_i^*$.\n",
    "\n",
    "Thus, our data preprocessing task is to construct $P$ and our analysis goal is to compute the steady-state probability distribution, $x^*$, for this _first-order Markov chain system_."
   ]
  },
  {
   "cell_type": "markdown",
   "metadata": {
    "deletable": false,
    "editable": false,
    "nbgrader": {
     "grade": false,
     "grade_id": "modules",
     "locked": true,
     "schema_version": 1,
     "solution": false
    }
   },
   "source": [
    "## Modules you'll need\n",
    "\n",
    "For this notebook, let's use Pandas for preprocessing the raw data and SciPy's sparse matrix libraries to implement the analysis.\n",
    "\n",
    "> One of the cells below defines a function, `spy()`, that can be used to visualize the non-zero structure of a sparse matrix."
   ]
  },
  {
   "cell_type": "code",
   "execution_count": 1,
   "metadata": {
    "deletable": false,
    "editable": false,
    "nbgrader": {
     "grade": false,
     "grade_id": "setup",
     "locked": true,
     "schema_version": 1,
     "solution": false
    }
   },
   "outputs": [
    {
     "name": "stdout",
     "output_type": "stream",
     "text": [
      "=== Python version ===\n",
      "3.7.5 (default, Dec 18 2019, 06:24:58) \n",
      "[GCC 5.5.0 20171010]\n",
      "\n",
      "- Numpy version: 1.19.4\n",
      "- Scipy version: 1.4.1\n",
      "- Pandas version: 1.1.2\n"
     ]
    }
   ],
   "source": [
    "import sys\n",
    "print(f\"=== Python version ===\\n{sys.version}\\n\")\n",
    "\n",
    "import numpy as np\n",
    "import scipy as sp\n",
    "import scipy.sparse\n",
    "import pandas as pd\n",
    "\n",
    "print(f\"- Numpy version: {np.__version__}\")\n",
    "print(f\"- Scipy version: {sp.__version__}\")\n",
    "print(f\"- Pandas version: {pd.__version__}\")"
   ]
  },
  {
   "cell_type": "code",
   "execution_count": 2,
   "metadata": {
    "deletable": false,
    "editable": false,
    "nbgrader": {
     "grade": false,
     "grade_id": "setup_spy",
     "locked": true,
     "schema_version": 1,
     "solution": false
    }
   },
   "outputs": [],
   "source": [
    "import matplotlib.pyplot as plt\n",
    "%matplotlib inline\n",
    "\n",
    "def spy(A, figsize=(6, 6), markersize=0.5):\n",
    "    \"\"\"Visualizes a sparse matrix.\"\"\"\n",
    "    fig = plt.figure(figsize=figsize)\n",
    "    plt.spy(A, markersize=markersize)\n",
    "    plt.show()"
   ]
  },
  {
   "cell_type": "code",
   "execution_count": 3,
   "metadata": {
    "collapsed": true,
    "deletable": false,
    "editable": false,
    "nbgrader": {
     "grade": false,
     "grade_id": "display",
     "locked": true,
     "schema_version": 1,
     "solution": false
    }
   },
   "outputs": [],
   "source": [
    "from IPython.display import display, Markdown # For pretty-printing tibbles"
   ]
  },
  {
   "cell_type": "code",
   "execution_count": 4,
   "metadata": {
    "collapsed": true,
    "deletable": false,
    "editable": false,
    "nbgrader": {
     "grade": false,
     "grade_id": "tibble_stuff",
     "locked": true,
     "schema_version": 1,
     "solution": false
    }
   },
   "outputs": [],
   "source": [
    "from nb11utils import download_airport_dataset, get_data_path\n",
    "from nb11utils import canonicalize_tibble, tibbles_are_equivalent"
   ]
  },
  {
   "cell_type": "markdown",
   "metadata": {
    "deletable": false,
    "editable": false,
    "nbgrader": {
     "grade": false,
     "grade_id": "download_intro",
     "locked": true,
     "schema_version": 1,
     "solution": false
    }
   },
   "source": [
    "## Part 0: Downloading, unpacking, and exploring the data\n",
    "\n",
    "You'll need some data for this assignment. The following code cell will check for it in your local environment, and if it doesn't exist, attempt to download it."
   ]
  },
  {
   "cell_type": "code",
   "execution_count": 5,
   "metadata": {
    "scrolled": true
   },
   "outputs": [
    {
     "name": "stdout",
     "output_type": "stream",
     "text": [
      "'L_AIRPORT_ID.csv' is ready!\n",
      "'L_CITY_MARKET_ID.csv' is ready!\n",
      "'L_UNIQUE_CARRIERS.csv' is ready!\n",
      "'us-flights--2017-08.csv' is ready!\n",
      "'flights_atl_to_lax_soln.csv' is ready!\n",
      "'origins_top10_soln.csv' is ready!\n",
      "'dests_soln.csv' is ready!\n",
      "'dests_top10_soln.csv' is ready!\n",
      "'segments_soln.csv' is ready!\n",
      "'segments_outdegree_soln.csv' is ready!\n",
      "\n",
      "(All data appears to be ready.)\n"
     ]
    }
   ],
   "source": [
    "download_airport_dataset()\n",
    "print(\"\\n(All data appears to be ready.)\")"
   ]
  },
  {
   "cell_type": "markdown",
   "metadata": {
    "deletable": false,
    "editable": false,
    "nbgrader": {
     "grade": false,
     "grade_id": "cell-8e9b52d96a466a12",
     "locked": true,
     "schema_version": 1,
     "solution": false
    }
   },
   "source": [
    "**Airport codes.** Let's start with the airport codes."
   ]
  },
  {
   "cell_type": "code",
   "execution_count": 6,
   "metadata": {
    "deletable": false,
    "editable": false,
    "nbgrader": {
     "grade": false,
     "grade_id": "show_airport_codes",
     "locked": true,
     "schema_version": 1,
     "solution": false
    }
   },
   "outputs": [
    {
     "data": {
      "text/plain": [
       "'Atlanta, GA: Hartsfield-Jackson Atlanta International'"
      ]
     },
     "execution_count": 6,
     "metadata": {},
     "output_type": "execute_result"
    }
   ],
   "source": [
    "airport_codes = pd.read_csv(get_data_path('L_AIRPORT_ID.csv'))\n",
    "# airport_codes.head()\n",
    "airport_codes[airport_codes.Description.str.contains(\"Los.*\")]\n",
    "airport_codes.iloc[373]['Description']"
   ]
  },
  {
   "cell_type": "markdown",
   "metadata": {
    "deletable": false,
    "editable": false,
    "nbgrader": {
     "grade": false,
     "grade_id": "download_flight_segments_intro",
     "locked": true,
     "schema_version": 1,
     "solution": false
    }
   },
   "source": [
    "**Flight segments.** Next, let's load a file that contains all of US flights that were scheduled for August 2017."
   ]
  },
  {
   "cell_type": "code",
   "execution_count": 7,
   "metadata": {
    "deletable": false,
    "editable": false,
    "nbgrader": {
     "grade": false,
     "grade_id": "flights",
     "locked": true,
     "schema_version": 1,
     "solution": false
    }
   },
   "outputs": [
    {
     "name": "stdout",
     "output_type": "stream",
     "text": [
      "Number of flight segments: 510451 [0.5 million]\n"
     ]
    },
    {
     "data": {
      "text/html": [
       "<div>\n",
       "<style scoped>\n",
       "    .dataframe tbody tr th:only-of-type {\n",
       "        vertical-align: middle;\n",
       "    }\n",
       "\n",
       "    .dataframe tbody tr th {\n",
       "        vertical-align: top;\n",
       "    }\n",
       "\n",
       "    .dataframe thead th {\n",
       "        text-align: right;\n",
       "    }\n",
       "</style>\n",
       "<table border=\"1\" class=\"dataframe\">\n",
       "  <thead>\n",
       "    <tr style=\"text-align: right;\">\n",
       "      <th></th>\n",
       "      <th>FL_DATE</th>\n",
       "      <th>UNIQUE_CARRIER</th>\n",
       "      <th>FL_NUM</th>\n",
       "      <th>ORIGIN_AIRPORT_ID</th>\n",
       "      <th>ORIGIN_CITY_MARKET_ID</th>\n",
       "      <th>DEST_AIRPORT_ID</th>\n",
       "      <th>DEST_CITY_MARKET_ID</th>\n",
       "    </tr>\n",
       "  </thead>\n",
       "  <tbody>\n",
       "    <tr>\n",
       "      <th>0</th>\n",
       "      <td>2017-08-01</td>\n",
       "      <td>DL</td>\n",
       "      <td>2</td>\n",
       "      <td>12478</td>\n",
       "      <td>31703</td>\n",
       "      <td>14679</td>\n",
       "      <td>33570</td>\n",
       "    </tr>\n",
       "    <tr>\n",
       "      <th>1</th>\n",
       "      <td>2017-08-01</td>\n",
       "      <td>DL</td>\n",
       "      <td>4</td>\n",
       "      <td>12889</td>\n",
       "      <td>32211</td>\n",
       "      <td>12478</td>\n",
       "      <td>31703</td>\n",
       "    </tr>\n",
       "    <tr>\n",
       "      <th>2</th>\n",
       "      <td>2017-08-01</td>\n",
       "      <td>DL</td>\n",
       "      <td>6</td>\n",
       "      <td>12892</td>\n",
       "      <td>32575</td>\n",
       "      <td>14869</td>\n",
       "      <td>34614</td>\n",
       "    </tr>\n",
       "    <tr>\n",
       "      <th>3</th>\n",
       "      <td>2017-08-01</td>\n",
       "      <td>DL</td>\n",
       "      <td>7</td>\n",
       "      <td>14869</td>\n",
       "      <td>34614</td>\n",
       "      <td>12892</td>\n",
       "      <td>32575</td>\n",
       "    </tr>\n",
       "    <tr>\n",
       "      <th>4</th>\n",
       "      <td>2017-08-01</td>\n",
       "      <td>DL</td>\n",
       "      <td>10</td>\n",
       "      <td>11292</td>\n",
       "      <td>30325</td>\n",
       "      <td>13487</td>\n",
       "      <td>31650</td>\n",
       "    </tr>\n",
       "  </tbody>\n",
       "</table>\n",
       "</div>"
      ],
      "text/plain": [
       "      FL_DATE UNIQUE_CARRIER  FL_NUM  ORIGIN_AIRPORT_ID  \\\n",
       "0  2017-08-01             DL       2              12478   \n",
       "1  2017-08-01             DL       4              12889   \n",
       "2  2017-08-01             DL       6              12892   \n",
       "3  2017-08-01             DL       7              14869   \n",
       "4  2017-08-01             DL      10              11292   \n",
       "\n",
       "   ORIGIN_CITY_MARKET_ID  DEST_AIRPORT_ID  DEST_CITY_MARKET_ID  \n",
       "0                  31703            14679                33570  \n",
       "1                  32211            12478                31703  \n",
       "2                  32575            14869                34614  \n",
       "3                  34614            12892                32575  \n",
       "4                  30325            13487                31650  "
      ]
     },
     "execution_count": 7,
     "metadata": {},
     "output_type": "execute_result"
    }
   ],
   "source": [
    "flights = pd.read_csv(get_data_path('us-flights--2017-08.csv'))\n",
    "print(\"Number of flight segments: {} [{:.1f} million]\".format (len(flights), len(flights)*1e-6))\n",
    "del flights['Unnamed: 7'] # Cleanup extraneous column\n",
    "flights.head(n=5)"
   ]
  },
  {
   "cell_type": "markdown",
   "metadata": {
    "deletable": false,
    "editable": false,
    "nbgrader": {
     "grade": false,
     "grade_id": "download_time_range",
     "locked": true,
     "schema_version": 1,
     "solution": false
    }
   },
   "source": [
    "Each row of this tibble is a _(direct) flight segment_, that is, a flight that left some origin and arrived at a destination on a certain date. As noted earlier, these segments cover a one-month period (August 2017)."
   ]
  },
  {
   "cell_type": "markdown",
   "metadata": {},
   "source": [
    "**Exercise 0** (3 points). As a warmup to familiarize yourself with this dataset, complete the following exercise, which has two subparts.\n",
    "\n",
    "First, use the `airport_codes` data frame to figure out the integer airport codes (not the three-letter codes) for Atlanta's Hartsfield-Jackson International (ATL) and Los Angeles International (LAX). You do not have to write any Python code to determine these airport codes; you could do it by manually inspecting the airport codes, for instance. (Though you are welcome to try to write code to do so!) Once you've found them, store these codes in variables named `ATL_ID` and `LAX_ID`, respectively.\n",
    "\n",
    "Next, determine all direct flight segments that originated at ATL and traveled to LAX. Store the result in a dataframe named `flights_atl_to_lax`, which should be the corresponding subset of rows from `flights`."
   ]
  },
  {
   "cell_type": "code",
   "execution_count": 8,
   "metadata": {},
   "outputs": [
    {
     "name": "stdout",
     "output_type": "stream",
     "text": [
      "10397: ATL -- Atlanta, GA: Hartsfield-Jackson Atlanta International\n",
      "12892: LAX -- Los Angeles, CA: Los Angeles International\n"
     ]
    }
   ],
   "source": [
    "# PART A) Define `ATL_ID` and `LAX_ID` to correspond to the\n",
    "# codes in `airport_codes` for ATL and LAX, respectively.\n",
    "###\n",
    "### YOUR CODE HERE\n",
    "ATL_ID = airport_codes[airport_codes['Description'].str.contains('Hartsfield-Jackson')]['Code'].tolist()[0]\n",
    "LAX_ID = airport_codes[airport_codes['Description'].str.contains('Los Angeles International')]['Code'].tolist()[0]\n",
    "###\n",
    "\n",
    "# Print the descriptions of the airports with your IDs:\n",
    "ATL_DESC = airport_codes[airport_codes['Code'] == ATL_ID]['Description'].iloc[0]\n",
    "LAX_DESC = airport_codes[airport_codes['Code'] == LAX_ID]['Description'].iloc[0]\n",
    "print(\"{}: ATL -- {}\".format(ATL_ID, ATL_DESC))\n",
    "print(\"{}: LAX -- {}\".format(LAX_ID, LAX_DESC))"
   ]
  },
  {
   "cell_type": "code",
   "execution_count": 9,
   "metadata": {
    "nbgrader": {
     "grade": false,
     "grade_id": "flights_atl_to_lax",
     "locked": false,
     "schema_version": 1,
     "solution": false
    }
   },
   "outputs": [
    {
     "name": "stdout",
     "output_type": "stream",
     "text": [
      "Your code found 586 flight segments.\n"
     ]
    },
    {
     "data": {
      "text/html": [
       "<div>\n",
       "<style scoped>\n",
       "    .dataframe tbody tr th:only-of-type {\n",
       "        vertical-align: middle;\n",
       "    }\n",
       "\n",
       "    .dataframe tbody tr th {\n",
       "        vertical-align: top;\n",
       "    }\n",
       "\n",
       "    .dataframe thead th {\n",
       "        text-align: right;\n",
       "    }\n",
       "</style>\n",
       "<table border=\"1\" class=\"dataframe\">\n",
       "  <thead>\n",
       "    <tr style=\"text-align: right;\">\n",
       "      <th></th>\n",
       "      <th>FL_DATE</th>\n",
       "      <th>UNIQUE_CARRIER</th>\n",
       "      <th>FL_NUM</th>\n",
       "      <th>ORIGIN_AIRPORT_ID</th>\n",
       "      <th>ORIGIN_CITY_MARKET_ID</th>\n",
       "      <th>DEST_AIRPORT_ID</th>\n",
       "      <th>DEST_CITY_MARKET_ID</th>\n",
       "    </tr>\n",
       "  </thead>\n",
       "  <tbody>\n",
       "    <tr>\n",
       "      <th>64</th>\n",
       "      <td>2017-08-01</td>\n",
       "      <td>DL</td>\n",
       "      <td>110</td>\n",
       "      <td>10397</td>\n",
       "      <td>30397</td>\n",
       "      <td>12892</td>\n",
       "      <td>32575</td>\n",
       "    </tr>\n",
       "    <tr>\n",
       "      <th>165</th>\n",
       "      <td>2017-08-01</td>\n",
       "      <td>DL</td>\n",
       "      <td>370</td>\n",
       "      <td>10397</td>\n",
       "      <td>30397</td>\n",
       "      <td>12892</td>\n",
       "      <td>32575</td>\n",
       "    </tr>\n",
       "    <tr>\n",
       "      <th>797</th>\n",
       "      <td>2017-08-01</td>\n",
       "      <td>DL</td>\n",
       "      <td>1125</td>\n",
       "      <td>10397</td>\n",
       "      <td>30397</td>\n",
       "      <td>12892</td>\n",
       "      <td>32575</td>\n",
       "    </tr>\n",
       "    <tr>\n",
       "      <th>806</th>\n",
       "      <td>2017-08-01</td>\n",
       "      <td>DL</td>\n",
       "      <td>1133</td>\n",
       "      <td>10397</td>\n",
       "      <td>30397</td>\n",
       "      <td>12892</td>\n",
       "      <td>32575</td>\n",
       "    </tr>\n",
       "    <tr>\n",
       "      <th>858</th>\n",
       "      <td>2017-08-01</td>\n",
       "      <td>DL</td>\n",
       "      <td>1172</td>\n",
       "      <td>10397</td>\n",
       "      <td>30397</td>\n",
       "      <td>12892</td>\n",
       "      <td>32575</td>\n",
       "    </tr>\n",
       "  </tbody>\n",
       "</table>\n",
       "</div>"
      ],
      "text/plain": [
       "        FL_DATE UNIQUE_CARRIER  FL_NUM  ORIGIN_AIRPORT_ID  \\\n",
       "64   2017-08-01             DL     110              10397   \n",
       "165  2017-08-01             DL     370              10397   \n",
       "797  2017-08-01             DL    1125              10397   \n",
       "806  2017-08-01             DL    1133              10397   \n",
       "858  2017-08-01             DL    1172              10397   \n",
       "\n",
       "     ORIGIN_CITY_MARKET_ID  DEST_AIRPORT_ID  DEST_CITY_MARKET_ID  \n",
       "64                   30397            12892                32575  \n",
       "165                  30397            12892                32575  \n",
       "797                  30397            12892                32575  \n",
       "806                  30397            12892                32575  \n",
       "858                  30397            12892                32575  "
      ]
     },
     "metadata": {},
     "output_type": "display_data"
    }
   ],
   "source": [
    "# PART B) Construct `flights_atl_to_lax`\n",
    "###\n",
    "### YOUR CODE HERE\n",
    "flights_atl_to_lax = flights[(flights[\"ORIGIN_AIRPORT_ID\"] == 10397)&(flights[\"DEST_AIRPORT_ID\"] == 12892)]\n",
    "###\n",
    "\n",
    "# Displays a few of your results\n",
    "print(\"Your code found {} flight segments.\".format(len(flights_atl_to_lax)))\n",
    "display(flights_atl_to_lax.head())"
   ]
  },
  {
   "cell_type": "code",
   "execution_count": 10,
   "metadata": {
    "deletable": false,
    "editable": false,
    "nbgrader": {
     "grade": true,
     "grade_id": "ex0_flights_atl_to_lax_test",
     "locked": true,
     "points": 3,
     "schema_version": 1,
     "solution": false
    }
   },
   "outputs": [
    {
     "name": "stdout",
     "output_type": "stream",
     "text": [
      "\n",
      "(Passed!)\n"
     ]
    }
   ],
   "source": [
    "# Test cell: `ex0_flights_atl_to_lax_test` (3 points)\n",
    "\n",
    "if False:\n",
    "    flights_atl_to_lax.to_csv('flights_atl_to_lax_soln.csv', index=False)\n",
    "flights_atl_to_lax_soln = pd.read_csv(get_data_path('flights_atl_to_lax_soln.csv'))\n",
    "\n",
    "assert tibbles_are_equivalent(flights_atl_to_lax, flights_atl_to_lax_soln), \\\n",
    "       \"Sorry, your solution does not match the instructor's solution.\"\n",
    "\n",
    "print(\"\\n(Passed!)\")"
   ]
  },
  {
   "cell_type": "markdown",
   "metadata": {
    "deletable": false,
    "editable": false,
    "nbgrader": {
     "grade": false,
     "grade_id": "download_aggregation",
     "locked": true,
     "schema_version": 1,
     "solution": false
    }
   },
   "source": [
    "**Aggregation.** Observe that an (origin, destination) pair may appear many times. That's because the dataset includes a row for _every_ direct flight that occurred historically and there may have been multiple such flights on a given day.\n",
    "\n",
    "However, for the purpose of this analysis, let's simplify the problem by collapsing _all_ historical segments $i \\rightarrow j$ into a single segment. Let's also do so in a way that preserves the number of times the segment occurred (i.e., the number of rows containing the segment)."
   ]
  },
  {
   "cell_type": "markdown",
   "metadata": {
    "deletable": false,
    "editable": false,
    "nbgrader": {
     "grade": false,
     "grade_id": "download_outline_agg_task",
     "locked": true,
     "schema_version": 1,
     "solution": false
    }
   },
   "source": [
    "To accomplish this task, the following code cell uses the [`groupby()`](http://pandas.pydata.org/pandas-docs/stable/generated/pandas.DataFrame.groupby.html) function available for Pandas tables and the [`count()`](http://pandas.pydata.org/pandas-docs/stable/groupby.html) aggregator in three steps:\n",
    "\n",
    "1. It considers just the flight date, origin, and destination columns.\n",
    "2. It _logically_ groups the rows having the same origin and destination, using `groupby()`.\n",
    "3. It then aggregates the rows, counting the number of rows in each (origin, destination) group."
   ]
  },
  {
   "cell_type": "code",
   "execution_count": 11,
   "metadata": {
    "deletable": false,
    "editable": false,
    "nbgrader": {
     "grade": false,
     "grade_id": "segments",
     "locked": true,
     "schema_version": 1,
     "solution": false
    },
    "scrolled": true
   },
   "outputs": [
    {
     "data": {
      "text/html": [
       "<div>\n",
       "<style scoped>\n",
       "    .dataframe tbody tr th:only-of-type {\n",
       "        vertical-align: middle;\n",
       "    }\n",
       "\n",
       "    .dataframe tbody tr th {\n",
       "        vertical-align: top;\n",
       "    }\n",
       "\n",
       "    .dataframe thead th {\n",
       "        text-align: right;\n",
       "    }\n",
       "</style>\n",
       "<table border=\"1\" class=\"dataframe\">\n",
       "  <thead>\n",
       "    <tr style=\"text-align: right;\">\n",
       "      <th></th>\n",
       "      <th>ORIGIN_AIRPORT_ID</th>\n",
       "      <th>DEST_AIRPORT_ID</th>\n",
       "      <th>FL_COUNT</th>\n",
       "    </tr>\n",
       "  </thead>\n",
       "  <tbody>\n",
       "    <tr>\n",
       "      <th>0</th>\n",
       "      <td>10135</td>\n",
       "      <td>10397</td>\n",
       "      <td>77</td>\n",
       "    </tr>\n",
       "    <tr>\n",
       "      <th>1</th>\n",
       "      <td>10135</td>\n",
       "      <td>11433</td>\n",
       "      <td>85</td>\n",
       "    </tr>\n",
       "    <tr>\n",
       "      <th>2</th>\n",
       "      <td>10135</td>\n",
       "      <td>13930</td>\n",
       "      <td>18</td>\n",
       "    </tr>\n",
       "    <tr>\n",
       "      <th>3</th>\n",
       "      <td>10140</td>\n",
       "      <td>10397</td>\n",
       "      <td>93</td>\n",
       "    </tr>\n",
       "    <tr>\n",
       "      <th>4</th>\n",
       "      <td>10140</td>\n",
       "      <td>10423</td>\n",
       "      <td>4</td>\n",
       "    </tr>\n",
       "  </tbody>\n",
       "</table>\n",
       "</div>"
      ],
      "text/plain": [
       "   ORIGIN_AIRPORT_ID  DEST_AIRPORT_ID  FL_COUNT\n",
       "0              10135            10397        77\n",
       "1              10135            11433        85\n",
       "2              10135            13930        18\n",
       "3              10140            10397        93\n",
       "4              10140            10423         4"
      ]
     },
     "execution_count": 11,
     "metadata": {},
     "output_type": "execute_result"
    }
   ],
   "source": [
    "flights_cols_subset = flights[['FL_DATE', 'ORIGIN_AIRPORT_ID', 'DEST_AIRPORT_ID']]\n",
    "segment_groups = flights_cols_subset.groupby(['ORIGIN_AIRPORT_ID', 'DEST_AIRPORT_ID'], as_index=False)\n",
    "segments = segment_groups.count()\n",
    "segments.rename(columns={'FL_DATE': 'FL_COUNT'}, inplace=True)\n",
    "segments.head()"
   ]
  },
  {
   "cell_type": "markdown",
   "metadata": {
    "deletable": false,
    "editable": false,
    "nbgrader": {
     "grade": false,
     "grade_id": "download_segments_sanity",
     "locked": true,
     "schema_version": 1,
     "solution": false
    }
   },
   "source": [
    "As a last sanity check, let's verify that the counts are all at least 1."
   ]
  },
  {
   "cell_type": "code",
   "execution_count": 12,
   "metadata": {
    "collapsed": true,
    "deletable": false,
    "editable": false,
    "nbgrader": {
     "grade": false,
     "grade_id": "segments_check_counts",
     "locked": true,
     "schema_version": 1,
     "solution": false
    }
   },
   "outputs": [],
   "source": [
    "assert (segments['FL_COUNT'] > 0).all()"
   ]
  },
  {
   "cell_type": "markdown",
   "metadata": {
    "deletable": false,
    "editable": false,
    "nbgrader": {
     "grade": false,
     "grade_id": "download_actual_intro",
     "locked": true,
     "schema_version": 1,
     "solution": false
    }
   },
   "source": [
    "**Actual (as opposed to \"all possible\") origins and destinations.** Although there are many possible airport codes stored in the `airport_codes` dataframe (over six thousand), only a subset appear as actual origins in the data. The following code cell determines the actual origins and prints their number."
   ]
  },
  {
   "cell_type": "code",
   "execution_count": 13,
   "metadata": {
    "deletable": false,
    "editable": false,
    "nbgrader": {
     "grade": false,
     "grade_id": "origins",
     "locked": true,
     "schema_version": 1,
     "solution": false
    }
   },
   "outputs": [
    {
     "name": "stdout",
     "output_type": "stream",
     "text": [
      "Number of actual origins: 300\n"
     ]
    },
    {
     "data": {
      "text/html": [
       "<div>\n",
       "<style scoped>\n",
       "    .dataframe tbody tr th:only-of-type {\n",
       "        vertical-align: middle;\n",
       "    }\n",
       "\n",
       "    .dataframe tbody tr th {\n",
       "        vertical-align: top;\n",
       "    }\n",
       "\n",
       "    .dataframe thead th {\n",
       "        text-align: right;\n",
       "    }\n",
       "</style>\n",
       "<table border=\"1\" class=\"dataframe\">\n",
       "  <thead>\n",
       "    <tr style=\"text-align: right;\">\n",
       "      <th></th>\n",
       "      <th>ORIGIN_AIRPORT_ID</th>\n",
       "      <th>ORIGIN_COUNT</th>\n",
       "    </tr>\n",
       "  </thead>\n",
       "  <tbody>\n",
       "    <tr>\n",
       "      <th>0</th>\n",
       "      <td>10135</td>\n",
       "      <td>180</td>\n",
       "    </tr>\n",
       "    <tr>\n",
       "      <th>1</th>\n",
       "      <td>10140</td>\n",
       "      <td>1761</td>\n",
       "    </tr>\n",
       "    <tr>\n",
       "      <th>2</th>\n",
       "      <td>10141</td>\n",
       "      <td>62</td>\n",
       "    </tr>\n",
       "    <tr>\n",
       "      <th>3</th>\n",
       "      <td>10146</td>\n",
       "      <td>41</td>\n",
       "    </tr>\n",
       "    <tr>\n",
       "      <th>4</th>\n",
       "      <td>10154</td>\n",
       "      <td>176</td>\n",
       "    </tr>\n",
       "  </tbody>\n",
       "</table>\n",
       "</div>"
      ],
      "text/plain": [
       "   ORIGIN_AIRPORT_ID  ORIGIN_COUNT\n",
       "0              10135           180\n",
       "1              10140          1761\n",
       "2              10141            62\n",
       "3              10146            41\n",
       "4              10154           176"
      ]
     },
     "execution_count": 13,
     "metadata": {},
     "output_type": "execute_result"
    }
   ],
   "source": [
    "origins = segments[['ORIGIN_AIRPORT_ID', 'FL_COUNT']].groupby('ORIGIN_AIRPORT_ID', as_index=False).sum()\n",
    "origins.rename(columns={'FL_COUNT': 'ORIGIN_COUNT'}, inplace=True)\n",
    "print(\"Number of actual origins:\", len(origins))\n",
    "origins.head()"
   ]
  },
  {
   "cell_type": "markdown",
   "metadata": {
    "deletable": false,
    "editable": false,
    "nbgrader": {
     "grade": false,
     "grade_id": "download_rank_intro",
     "locked": true,
     "schema_version": 1,
     "solution": false
    }
   },
   "source": [
    "To get an idea of what airports are likely to be the most important in our Markov chain analysis, let's rank airports by the total number of _outgoing_ segments, i.e., flight segments that originate at the airport."
   ]
  },
  {
   "cell_type": "markdown",
   "metadata": {
    "deletable": false,
    "editable": false,
    "nbgrader": {
     "grade": false,
     "grade_id": "exericse_1",
     "locked": true,
     "schema_version": 1,
     "solution": false
    }
   },
   "source": [
    "**Exercise 1** (3 points). Construct a dataframe, `origins_top10`, containing the top 10 airports in descending order of outgoing segments. This dataframe should have three columns:\n",
    "\n",
    "* `ID`: The ID of the airport\n",
    "* `Count`: Number of outgoing segments.\n",
    "* `Description`: The plaintext descriptor for the airport that comes from the `airport_codes` dataframe.\n",
    "\n",
    "> _Hint_: Look up and read about `numpy.argsort()`, which you can also apply to any Pandas Series object."
   ]
  },
  {
   "cell_type": "code",
   "execution_count": 14,
   "metadata": {
    "collapsed": true,
    "nbgrader": {
     "grade": false,
     "grade_id": "origin_ranks",
     "locked": false,
     "schema_version": 1,
     "solution": true
    },
    "scrolled": false
   },
   "outputs": [],
   "source": [
    "###\n",
    "### YOUR CODE HERE\n",
    "\n",
    "origins_top = origins.sort_values(by=['ORIGIN_COUNT'], ascending=False)\n",
    "###\n",
    "\n",
    "# Prints the top 10, according to your calculation:\n",
    "top_10_ID = origins_top[:10][\"ORIGIN_AIRPORT_ID\"].tolist()\n",
    "mask = airport_codes['Code'].isin(top_10_ID)\n",
    "airport_des = airport_codes.loc[mask]\n",
    "\n",
    "origins_top10 = pd.merge(origins_top[:10], airport_des, left_on='ORIGIN_AIRPORT_ID', right_on='Code', how='left').drop('Code', axis=1)\n",
    "origins_top10.rename(columns={'ORIGIN_AIRPORT_ID': 'ID', \"ORIGIN_COUNT\":\"Count\"}, inplace=True)"
   ]
  },
  {
   "cell_type": "code",
   "execution_count": 15,
   "metadata": {
    "deletable": false,
    "editable": false,
    "nbgrader": {
     "grade": true,
     "grade_id": "ex1a_origin_ranks_test_entries",
     "locked": true,
     "points": "2",
     "solution": false
    }
   },
   "outputs": [
    {
     "name": "stdout",
     "output_type": "stream",
     "text": [
      "=== Instructor's solution ===\n"
     ]
    },
    {
     "data": {
      "text/html": [
       "<div>\n",
       "<style scoped>\n",
       "    .dataframe tbody tr th:only-of-type {\n",
       "        vertical-align: middle;\n",
       "    }\n",
       "\n",
       "    .dataframe tbody tr th {\n",
       "        vertical-align: top;\n",
       "    }\n",
       "\n",
       "    .dataframe thead th {\n",
       "        text-align: right;\n",
       "    }\n",
       "</style>\n",
       "<table border=\"1\" class=\"dataframe\">\n",
       "  <thead>\n",
       "    <tr style=\"text-align: right;\">\n",
       "      <th></th>\n",
       "      <th>ID</th>\n",
       "      <th>Count</th>\n",
       "      <th>Description</th>\n",
       "    </tr>\n",
       "  </thead>\n",
       "  <tbody>\n",
       "    <tr>\n",
       "      <th>0</th>\n",
       "      <td>10397</td>\n",
       "      <td>31899</td>\n",
       "      <td>Atlanta, GA: Hartsfield-Jackson Atlanta Intern...</td>\n",
       "    </tr>\n",
       "    <tr>\n",
       "      <th>1</th>\n",
       "      <td>13930</td>\n",
       "      <td>25757</td>\n",
       "      <td>Chicago, IL: Chicago O'Hare International</td>\n",
       "    </tr>\n",
       "    <tr>\n",
       "      <th>2</th>\n",
       "      <td>11292</td>\n",
       "      <td>20891</td>\n",
       "      <td>Denver, CO: Denver International</td>\n",
       "    </tr>\n",
       "    <tr>\n",
       "      <th>3</th>\n",
       "      <td>12892</td>\n",
       "      <td>19399</td>\n",
       "      <td>Los Angeles, CA: Los Angeles International</td>\n",
       "    </tr>\n",
       "    <tr>\n",
       "      <th>4</th>\n",
       "      <td>14771</td>\n",
       "      <td>16641</td>\n",
       "      <td>San Francisco, CA: San Francisco International</td>\n",
       "    </tr>\n",
       "    <tr>\n",
       "      <th>5</th>\n",
       "      <td>11298</td>\n",
       "      <td>15977</td>\n",
       "      <td>Dallas/Fort Worth, TX: Dallas/Fort Worth Inter...</td>\n",
       "    </tr>\n",
       "    <tr>\n",
       "      <th>6</th>\n",
       "      <td>14747</td>\n",
       "      <td>13578</td>\n",
       "      <td>Seattle, WA: Seattle/Tacoma International</td>\n",
       "    </tr>\n",
       "    <tr>\n",
       "      <th>7</th>\n",
       "      <td>12889</td>\n",
       "      <td>13367</td>\n",
       "      <td>Las Vegas, NV: McCarran International</td>\n",
       "    </tr>\n",
       "    <tr>\n",
       "      <th>8</th>\n",
       "      <td>14107</td>\n",
       "      <td>13040</td>\n",
       "      <td>Phoenix, AZ: Phoenix Sky Harbor International</td>\n",
       "    </tr>\n",
       "    <tr>\n",
       "      <th>9</th>\n",
       "      <td>13487</td>\n",
       "      <td>12808</td>\n",
       "      <td>Minneapolis, MN: Minneapolis-St Paul Internati...</td>\n",
       "    </tr>\n",
       "  </tbody>\n",
       "</table>\n",
       "</div>"
      ],
      "text/plain": [
       "      ID  Count                                        Description\n",
       "0  10397  31899  Atlanta, GA: Hartsfield-Jackson Atlanta Intern...\n",
       "1  13930  25757          Chicago, IL: Chicago O'Hare International\n",
       "2  11292  20891                   Denver, CO: Denver International\n",
       "3  12892  19399         Los Angeles, CA: Los Angeles International\n",
       "4  14771  16641     San Francisco, CA: San Francisco International\n",
       "5  11298  15977  Dallas/Fort Worth, TX: Dallas/Fort Worth Inter...\n",
       "6  14747  13578          Seattle, WA: Seattle/Tacoma International\n",
       "7  12889  13367              Las Vegas, NV: McCarran International\n",
       "8  14107  13040      Phoenix, AZ: Phoenix Sky Harbor International\n",
       "9  13487  12808  Minneapolis, MN: Minneapolis-St Paul Internati..."
      ]
     },
     "metadata": {},
     "output_type": "display_data"
    }
   ],
   "source": [
    "# Test cell: `ex1a_origin_ranks_test_entries` (2 points)\n",
    "\n",
    "if False:\n",
    "    origins_top10.to_csv('origins_top10_soln.csv', index=False)\n",
    "origins_top10_soln = pd.read_csv(get_data_path('origins_top10_soln.csv'))\n",
    "\n",
    "print(\"=== Instructor's solution ===\")\n",
    "display(origins_top10_soln)\n",
    "    \n",
    "assert tibbles_are_equivalent(origins_top10, origins_top10_soln), \\\n",
    "       \"Your table does not have the same entries as the solution.\""
   ]
  },
  {
   "cell_type": "code",
   "execution_count": 16,
   "metadata": {
    "deletable": false,
    "editable": false,
    "nbgrader": {
     "grade": true,
     "grade_id": "ex1b_origin_ranks_test_order",
     "locked": true,
     "points": "1",
     "schema_version": 1,
     "solution": false
    }
   },
   "outputs": [
    {
     "name": "stdout",
     "output_type": "stream",
     "text": [
      "\n",
      "(Passed!)\n"
     ]
    }
   ],
   "source": [
    "# Test cell: `ex1b_origin_ranks_test_order` (1 point)\n",
    "\n",
    "counts_0_9 = origins_top10['Count'].iloc[:9].values\n",
    "counts_1_10 = origins_top10['Count'].iloc[1:].values\n",
    "assert (counts_0_9 >= counts_1_10).all(), \\\n",
    "       \"Are your rows sorted in descending order?\"\n",
    "\n",
    "print(\"\\n(Passed!)\")"
   ]
  },
  {
   "cell_type": "markdown",
   "metadata": {
    "deletable": false,
    "editable": false,
    "nbgrader": {
     "grade": false,
     "grade_id": "exercise_2",
     "locked": true,
     "schema_version": 1,
     "solution": false
    }
   },
   "source": [
    "**Exercise 2** (2 points). The preceding code computed a tibble, `origins`, containing all the unique origins and their number of outgoing flights. Write some code to compute a new tibble, `dests`, which contains all unique destinations and their number of _incoming_ flights. Its columns should be named `DEST_AIRPORT_ID` (airport code) and `DEST_COUNT` (number of direct inbound segments).\n",
    "\n",
    "The test cell that follows prints the number of unique destinations and the first few rows of your result, as well as some automatic checks."
   ]
  },
  {
   "cell_type": "code",
   "execution_count": 17,
   "metadata": {
    "nbgrader": {
     "grade": false,
     "grade_id": "dests",
     "locked": false,
     "schema_version": 1,
     "solution": true
    }
   },
   "outputs": [
    {
     "name": "stdout",
     "output_type": "stream",
     "text": [
      "Number of unique destinations: 300\n"
     ]
    },
    {
     "data": {
      "text/html": [
       "<div>\n",
       "<style scoped>\n",
       "    .dataframe tbody tr th:only-of-type {\n",
       "        vertical-align: middle;\n",
       "    }\n",
       "\n",
       "    .dataframe tbody tr th {\n",
       "        vertical-align: top;\n",
       "    }\n",
       "\n",
       "    .dataframe thead th {\n",
       "        text-align: right;\n",
       "    }\n",
       "</style>\n",
       "<table border=\"1\" class=\"dataframe\">\n",
       "  <thead>\n",
       "    <tr style=\"text-align: right;\">\n",
       "      <th></th>\n",
       "      <th>DEST_AIRPORT_ID</th>\n",
       "      <th>DEST_COUNT</th>\n",
       "    </tr>\n",
       "  </thead>\n",
       "  <tbody>\n",
       "    <tr>\n",
       "      <th>0</th>\n",
       "      <td>10135</td>\n",
       "      <td>179</td>\n",
       "    </tr>\n",
       "    <tr>\n",
       "      <th>1</th>\n",
       "      <td>10140</td>\n",
       "      <td>1763</td>\n",
       "    </tr>\n",
       "    <tr>\n",
       "      <th>2</th>\n",
       "      <td>10141</td>\n",
       "      <td>62</td>\n",
       "    </tr>\n",
       "    <tr>\n",
       "      <th>3</th>\n",
       "      <td>10146</td>\n",
       "      <td>40</td>\n",
       "    </tr>\n",
       "    <tr>\n",
       "      <th>4</th>\n",
       "      <td>10154</td>\n",
       "      <td>176</td>\n",
       "    </tr>\n",
       "  </tbody>\n",
       "</table>\n",
       "</div>"
      ],
      "text/plain": [
       "   DEST_AIRPORT_ID  DEST_COUNT\n",
       "0            10135         179\n",
       "1            10140        1763\n",
       "2            10141          62\n",
       "3            10146          40\n",
       "4            10154         176"
      ]
     },
     "execution_count": 17,
     "metadata": {},
     "output_type": "execute_result"
    }
   ],
   "source": [
    "###\n",
    "### YOUR CODE HERE\n",
    "dests = segments[['DEST_AIRPORT_ID', 'FL_COUNT']].groupby('DEST_AIRPORT_ID', as_index=False).sum()\n",
    "dests.rename(columns={'FL_COUNT': 'DEST_COUNT'}, inplace=True)\n",
    "###\n",
    "\n",
    "print(\"Number of unique destinations:\", len(dests))\n",
    "dests.head()"
   ]
  },
  {
   "cell_type": "code",
   "execution_count": 18,
   "metadata": {
    "deletable": false,
    "editable": false,
    "nbgrader": {
     "grade": true,
     "grade_id": "ex2_dests_test",
     "locked": true,
     "points": 2,
     "schema_version": 1,
     "solution": false
    }
   },
   "outputs": [
    {
     "name": "stdout",
     "output_type": "stream",
     "text": [
      "\n",
      "(Passed!)\n"
     ]
    }
   ],
   "source": [
    "# Test cell: `ex2_dests_test`\n",
    "\n",
    "if False:\n",
    "    dests.to_csv('dests_soln.csv', index=False)\n",
    "dests_soln = pd.read_csv(get_data_path('dests_soln.csv'))\n",
    "\n",
    "assert tibbles_are_equivalent(dests, dests_soln), \"Your solution does not match the instructors'.\"\n",
    "\n",
    "print(\"\\n(Passed!)\")"
   ]
  },
  {
   "cell_type": "markdown",
   "metadata": {
    "deletable": false,
    "editable": false,
    "nbgrader": {
     "grade": false,
     "grade_id": "exercise_3",
     "locked": true,
     "schema_version": 1,
     "solution": false
    }
   },
   "source": [
    "**Exercise 3** (2 points). Compute a tibble, `dests_top10`, containing the top 10 destinations (i.e., rows of `dests`) by inbound flight count. The column names should be the same as `origins_top10` and the rows should be sorted in decreasing order by count."
   ]
  },
  {
   "cell_type": "code",
   "execution_count": 19,
   "metadata": {
    "nbgrader": {
     "grade": false,
     "grade_id": "dests_top10",
     "locked": false,
     "schema_version": 1,
     "solution": true
    }
   },
   "outputs": [
    {
     "name": "stdout",
     "output_type": "stream",
     "text": [
      "Your computed top 10 destinations:\n"
     ]
    },
    {
     "data": {
      "text/html": [
       "<div>\n",
       "<style scoped>\n",
       "    .dataframe tbody tr th:only-of-type {\n",
       "        vertical-align: middle;\n",
       "    }\n",
       "\n",
       "    .dataframe tbody tr th {\n",
       "        vertical-align: top;\n",
       "    }\n",
       "\n",
       "    .dataframe thead th {\n",
       "        text-align: right;\n",
       "    }\n",
       "</style>\n",
       "<table border=\"1\" class=\"dataframe\">\n",
       "  <thead>\n",
       "    <tr style=\"text-align: right;\">\n",
       "      <th></th>\n",
       "      <th>ID</th>\n",
       "      <th>Count</th>\n",
       "      <th>Description</th>\n",
       "    </tr>\n",
       "  </thead>\n",
       "  <tbody>\n",
       "    <tr>\n",
       "      <th>0</th>\n",
       "      <td>10397</td>\n",
       "      <td>31901</td>\n",
       "      <td>Atlanta, GA: Hartsfield-Jackson Atlanta Intern...</td>\n",
       "    </tr>\n",
       "    <tr>\n",
       "      <th>1</th>\n",
       "      <td>13930</td>\n",
       "      <td>25778</td>\n",
       "      <td>Chicago, IL: Chicago O'Hare International</td>\n",
       "    </tr>\n",
       "    <tr>\n",
       "      <th>2</th>\n",
       "      <td>11292</td>\n",
       "      <td>20897</td>\n",
       "      <td>Denver, CO: Denver International</td>\n",
       "    </tr>\n",
       "    <tr>\n",
       "      <th>3</th>\n",
       "      <td>12892</td>\n",
       "      <td>19387</td>\n",
       "      <td>Los Angeles, CA: Los Angeles International</td>\n",
       "    </tr>\n",
       "    <tr>\n",
       "      <th>4</th>\n",
       "      <td>14771</td>\n",
       "      <td>16651</td>\n",
       "      <td>San Francisco, CA: San Francisco International</td>\n",
       "    </tr>\n",
       "    <tr>\n",
       "      <th>5</th>\n",
       "      <td>11298</td>\n",
       "      <td>15978</td>\n",
       "      <td>Dallas/Fort Worth, TX: Dallas/Fort Worth Inter...</td>\n",
       "    </tr>\n",
       "    <tr>\n",
       "      <th>6</th>\n",
       "      <td>14747</td>\n",
       "      <td>13582</td>\n",
       "      <td>Seattle, WA: Seattle/Tacoma International</td>\n",
       "    </tr>\n",
       "    <tr>\n",
       "      <th>7</th>\n",
       "      <td>12889</td>\n",
       "      <td>13374</td>\n",
       "      <td>Las Vegas, NV: McCarran International</td>\n",
       "    </tr>\n",
       "    <tr>\n",
       "      <th>8</th>\n",
       "      <td>14107</td>\n",
       "      <td>13039</td>\n",
       "      <td>Phoenix, AZ: Phoenix Sky Harbor International</td>\n",
       "    </tr>\n",
       "    <tr>\n",
       "      <th>9</th>\n",
       "      <td>13487</td>\n",
       "      <td>12800</td>\n",
       "      <td>Minneapolis, MN: Minneapolis-St Paul Internati...</td>\n",
       "    </tr>\n",
       "  </tbody>\n",
       "</table>\n",
       "</div>"
      ],
      "text/plain": [
       "      ID  Count                                        Description\n",
       "0  10397  31901  Atlanta, GA: Hartsfield-Jackson Atlanta Intern...\n",
       "1  13930  25778          Chicago, IL: Chicago O'Hare International\n",
       "2  11292  20897                   Denver, CO: Denver International\n",
       "3  12892  19387         Los Angeles, CA: Los Angeles International\n",
       "4  14771  16651     San Francisco, CA: San Francisco International\n",
       "5  11298  15978  Dallas/Fort Worth, TX: Dallas/Fort Worth Inter...\n",
       "6  14747  13582          Seattle, WA: Seattle/Tacoma International\n",
       "7  12889  13374              Las Vegas, NV: McCarran International\n",
       "8  14107  13039      Phoenix, AZ: Phoenix Sky Harbor International\n",
       "9  13487  12800  Minneapolis, MN: Minneapolis-St Paul Internati..."
      ]
     },
     "execution_count": 19,
     "metadata": {},
     "output_type": "execute_result"
    }
   ],
   "source": [
    "###\n",
    "### YOUR CODE HERE\n",
    "\n",
    "\n",
    "dests_top = dests.sort_values(by=['DEST_COUNT'], ascending=False)\n",
    "###\n",
    "\n",
    "# Prints the top 10, according to your calculation:\n",
    "top_10_ID = dests_top[:10][\"DEST_AIRPORT_ID\"].tolist()\n",
    "mask = airport_codes['Code'].isin(top_10_ID)\n",
    "airport_des = airport_codes.loc[mask]\n",
    "\n",
    "dests_top10 = pd.merge(dests_top[:10], airport_des, left_on='DEST_AIRPORT_ID', right_on='Code', how='left').drop('Code', axis=1)\n",
    "dests_top10.rename(columns={'DEST_AIRPORT_ID': 'ID', \"DEST_COUNT\":\"Count\"}, inplace=True)\n",
    "###\n",
    "\n",
    "print(\"Your computed top 10 destinations:\")\n",
    "dests_top10"
   ]
  },
  {
   "cell_type": "code",
   "execution_count": 20,
   "metadata": {
    "deletable": false,
    "editable": false,
    "nbgrader": {
     "grade": true,
     "grade_id": "ex3a_dests_top10_test_entries",
     "locked": true,
     "points": "1",
     "solution": false
    }
   },
   "outputs": [
    {
     "name": "stdout",
     "output_type": "stream",
     "text": [
      "=== Instructor's solution ===\n"
     ]
    },
    {
     "data": {
      "text/html": [
       "<div>\n",
       "<style scoped>\n",
       "    .dataframe tbody tr th:only-of-type {\n",
       "        vertical-align: middle;\n",
       "    }\n",
       "\n",
       "    .dataframe tbody tr th {\n",
       "        vertical-align: top;\n",
       "    }\n",
       "\n",
       "    .dataframe thead th {\n",
       "        text-align: right;\n",
       "    }\n",
       "</style>\n",
       "<table border=\"1\" class=\"dataframe\">\n",
       "  <thead>\n",
       "    <tr style=\"text-align: right;\">\n",
       "      <th></th>\n",
       "      <th>ID</th>\n",
       "      <th>Count</th>\n",
       "      <th>Description</th>\n",
       "    </tr>\n",
       "  </thead>\n",
       "  <tbody>\n",
       "    <tr>\n",
       "      <th>0</th>\n",
       "      <td>10397</td>\n",
       "      <td>31901</td>\n",
       "      <td>Atlanta, GA: Hartsfield-Jackson Atlanta Intern...</td>\n",
       "    </tr>\n",
       "    <tr>\n",
       "      <th>1</th>\n",
       "      <td>13930</td>\n",
       "      <td>25778</td>\n",
       "      <td>Chicago, IL: Chicago O'Hare International</td>\n",
       "    </tr>\n",
       "    <tr>\n",
       "      <th>2</th>\n",
       "      <td>11292</td>\n",
       "      <td>20897</td>\n",
       "      <td>Denver, CO: Denver International</td>\n",
       "    </tr>\n",
       "    <tr>\n",
       "      <th>3</th>\n",
       "      <td>12892</td>\n",
       "      <td>19387</td>\n",
       "      <td>Los Angeles, CA: Los Angeles International</td>\n",
       "    </tr>\n",
       "    <tr>\n",
       "      <th>4</th>\n",
       "      <td>14771</td>\n",
       "      <td>16651</td>\n",
       "      <td>San Francisco, CA: San Francisco International</td>\n",
       "    </tr>\n",
       "    <tr>\n",
       "      <th>5</th>\n",
       "      <td>11298</td>\n",
       "      <td>15978</td>\n",
       "      <td>Dallas/Fort Worth, TX: Dallas/Fort Worth Inter...</td>\n",
       "    </tr>\n",
       "    <tr>\n",
       "      <th>6</th>\n",
       "      <td>14747</td>\n",
       "      <td>13582</td>\n",
       "      <td>Seattle, WA: Seattle/Tacoma International</td>\n",
       "    </tr>\n",
       "    <tr>\n",
       "      <th>7</th>\n",
       "      <td>12889</td>\n",
       "      <td>13374</td>\n",
       "      <td>Las Vegas, NV: McCarran International</td>\n",
       "    </tr>\n",
       "    <tr>\n",
       "      <th>8</th>\n",
       "      <td>14107</td>\n",
       "      <td>13039</td>\n",
       "      <td>Phoenix, AZ: Phoenix Sky Harbor International</td>\n",
       "    </tr>\n",
       "    <tr>\n",
       "      <th>9</th>\n",
       "      <td>13487</td>\n",
       "      <td>12800</td>\n",
       "      <td>Minneapolis, MN: Minneapolis-St Paul Internati...</td>\n",
       "    </tr>\n",
       "  </tbody>\n",
       "</table>\n",
       "</div>"
      ],
      "text/plain": [
       "      ID  Count                                        Description\n",
       "0  10397  31901  Atlanta, GA: Hartsfield-Jackson Atlanta Intern...\n",
       "1  13930  25778          Chicago, IL: Chicago O'Hare International\n",
       "2  11292  20897                   Denver, CO: Denver International\n",
       "3  12892  19387         Los Angeles, CA: Los Angeles International\n",
       "4  14771  16651     San Francisco, CA: San Francisco International\n",
       "5  11298  15978  Dallas/Fort Worth, TX: Dallas/Fort Worth Inter...\n",
       "6  14747  13582          Seattle, WA: Seattle/Tacoma International\n",
       "7  12889  13374              Las Vegas, NV: McCarran International\n",
       "8  14107  13039      Phoenix, AZ: Phoenix Sky Harbor International\n",
       "9  13487  12800  Minneapolis, MN: Minneapolis-St Paul Internati..."
      ]
     },
     "metadata": {},
     "output_type": "display_data"
    }
   ],
   "source": [
    "# Test cell: `ex3a_dests_top10_test_entries` (1 point)\n",
    "\n",
    "if False:\n",
    "    dests_top10.to_csv('dests_top10_soln.csv', index=False)\n",
    "dests_top10_soln = pd.read_csv(get_data_path('dests_top10_soln.csv'))\n",
    "\n",
    "print(\"=== Instructor's solution ===\")\n",
    "display(dests_top10_soln)\n",
    "    \n",
    "assert tibbles_are_equivalent(dests_top10, dests_top10_soln), \\\n",
    "       \"Your table does not have the same entries as the solution.\""
   ]
  },
  {
   "cell_type": "code",
   "execution_count": 21,
   "metadata": {
    "deletable": false,
    "editable": false,
    "nbgrader": {
     "grade": true,
     "grade_id": "ex3b_dests_top10_test_order",
     "locked": true,
     "points": "1",
     "schema_version": 1,
     "solution": false
    },
    "scrolled": true
   },
   "outputs": [
    {
     "name": "stdout",
     "output_type": "stream",
     "text": [
      "\n",
      "(Passed!)\n"
     ]
    }
   ],
   "source": [
    "# Test cell: `ex3b_dests_top10_test_order` (1 point)\n",
    "\n",
    "counts_0_9 = dests_top10['Count'].iloc[:9].values\n",
    "counts_1_10 = dests_top10['Count'].iloc[1:].values\n",
    "assert (counts_0_9 >= counts_1_10).all(), \\\n",
    "       \"Are your rows sorted in descending order?\"\n",
    "\n",
    "print(\"\\n(Passed!)\")"
   ]
  },
  {
   "cell_type": "markdown",
   "metadata": {
    "deletable": false,
    "editable": false,
    "nbgrader": {
     "grade": false,
     "grade_id": "n_actual_intro",
     "locked": true,
     "schema_version": 1,
     "solution": false
    }
   },
   "source": [
    "The number of actual origins does equal the number of actual destinations. Let's store this value for later use."
   ]
  },
  {
   "cell_type": "code",
   "execution_count": 22,
   "metadata": {
    "deletable": false,
    "editable": false,
    "nbgrader": {
     "grade": false,
     "grade_id": "n_actual",
     "locked": true,
     "schema_version": 1,
     "solution": false
    }
   },
   "outputs": [
    {
     "name": "stdout",
     "output_type": "stream",
     "text": [
      "Number of actual locations (whether origin or destination): 300\n"
     ]
    }
   ],
   "source": [
    "n_actual = len(set(origins['ORIGIN_AIRPORT_ID']) | set(dests['DEST_AIRPORT_ID']))\n",
    "print(\"Number of actual locations (whether origin or destination):\", n_actual)"
   ]
  },
  {
   "cell_type": "markdown",
   "metadata": {
    "deletable": false,
    "editable": false,
    "nbgrader": {
     "grade": false,
     "grade_id": "preprocess_intro",
     "locked": true,
     "schema_version": 1,
     "solution": false
    }
   },
   "source": [
    "## Part 1: Constructing the state-transition matrix\n",
    "\n",
    "Now that you have cleaned up the data, let's prepare it for subsequent analysis. Start by constructing the _probability state-transition matrix_ for the airport network. Denote this matrix by $P \\equiv [p_{ij}]$, where $p_{ij}$ is the conditional probability that a random flyer departs from airport $i$ and arrives at airport $j$ given that he or she is currently at airport $i$."
   ]
  },
  {
   "cell_type": "markdown",
   "metadata": {
    "deletable": false,
    "editable": false,
    "nbgrader": {
     "grade": false,
     "grade_id": "preprocess_outline_tasks",
     "locked": true,
     "schema_version": 1,
     "solution": false
    }
   },
   "source": [
    "To build $P$, let's use SciPy's sparse matrix facilities. To do so, you will need to carry out the following two steps:\n",
    "\n",
    "1. _Map airport codes to matrix indices._ An `m`-by-`n` sparse matrix in SciPy uses the zero-based values 0, 1, ..., `m`-1 and 0, ..., `n`-1 to refer to row and column indices. Therefore, you will need to map the airport codes to such index values.\n",
    "2. _Derive weights, $p_{ij}$._ You will need to decide how to determine $p_{ij}$.\n",
    "\n",
    "Let's walk through each of these steps next."
   ]
  },
  {
   "cell_type": "markdown",
   "metadata": {
    "deletable": false,
    "editable": false,
    "nbgrader": {
     "grade": false,
     "grade_id": "preprocess_step_1",
     "locked": true,
     "schema_version": 1,
     "solution": false
    }
   },
   "source": [
    "**Step 1: Mapping airport codes to integers.** Luckily, you already have a code-to-integer mapping, which is in the column `airport_codes['Code']` mapped to the dataframe's `index`.\n",
    "\n",
    "As a first step, let's make note of the number of airports, which is nothing more than the largest index value."
   ]
  },
  {
   "cell_type": "code",
   "execution_count": 23,
   "metadata": {
    "deletable": false,
    "editable": false,
    "nbgrader": {
     "grade": false,
     "grade_id": "n_airports",
     "locked": true,
     "schema_version": 1,
     "solution": false
    }
   },
   "outputs": [
    {
     "name": "stdout",
     "output_type": "stream",
     "text": [
      "Note: There are 6436 airports.\n"
     ]
    }
   ],
   "source": [
    "n_airports = airport_codes.index.max() + 1\n",
    "print(\"Note: There are\", n_airports, \"airports.\")"
   ]
  },
  {
   "cell_type": "markdown",
   "metadata": {
    "deletable": false,
    "editable": false,
    "nbgrader": {
     "grade": false,
     "grade_id": "preprocess_add_origin_id",
     "locked": true,
     "schema_version": 1,
     "solution": false
    }
   },
   "source": [
    "Next, let's add another column to `segments` called `ORIGIN_INDEX`, which will hold the id corresponding to the origin:"
   ]
  },
  {
   "cell_type": "code",
   "execution_count": 24,
   "metadata": {},
   "outputs": [
    {
     "data": {
      "text/plain": [
       "Index(['ORIGIN_AIRPORT_ID', 'DEST_AIRPORT_ID', 'FL_COUNT'], dtype='object')"
      ]
     },
     "execution_count": 24,
     "metadata": {},
     "output_type": "execute_result"
    }
   ],
   "source": [
    "# Recall:\n",
    "segments.columns"
   ]
  },
  {
   "cell_type": "code",
   "execution_count": 25,
   "metadata": {
    "deletable": false,
    "editable": false,
    "nbgrader": {
     "grade": false,
     "grade_id": "origin_ids",
     "locked": true,
     "schema_version": 1,
     "solution": false
    }
   },
   "outputs": [
    {
     "data": {
      "text/html": [
       "<div>\n",
       "<style scoped>\n",
       "    .dataframe tbody tr th:only-of-type {\n",
       "        vertical-align: middle;\n",
       "    }\n",
       "\n",
       "    .dataframe tbody tr th {\n",
       "        vertical-align: top;\n",
       "    }\n",
       "\n",
       "    .dataframe thead th {\n",
       "        text-align: right;\n",
       "    }\n",
       "</style>\n",
       "<table border=\"1\" class=\"dataframe\">\n",
       "  <thead>\n",
       "    <tr style=\"text-align: right;\">\n",
       "      <th></th>\n",
       "      <th>ORIGIN_AIRPORT_ID</th>\n",
       "      <th>DEST_AIRPORT_ID</th>\n",
       "      <th>FL_COUNT</th>\n",
       "      <th>ORIGIN_INDEX</th>\n",
       "    </tr>\n",
       "  </thead>\n",
       "  <tbody>\n",
       "    <tr>\n",
       "      <th>0</th>\n",
       "      <td>10135</td>\n",
       "      <td>10397</td>\n",
       "      <td>77</td>\n",
       "      <td>119</td>\n",
       "    </tr>\n",
       "    <tr>\n",
       "      <th>1</th>\n",
       "      <td>10135</td>\n",
       "      <td>11433</td>\n",
       "      <td>85</td>\n",
       "      <td>119</td>\n",
       "    </tr>\n",
       "    <tr>\n",
       "      <th>2</th>\n",
       "      <td>10135</td>\n",
       "      <td>13930</td>\n",
       "      <td>18</td>\n",
       "      <td>119</td>\n",
       "    </tr>\n",
       "    <tr>\n",
       "      <th>3</th>\n",
       "      <td>10140</td>\n",
       "      <td>10397</td>\n",
       "      <td>93</td>\n",
       "      <td>124</td>\n",
       "    </tr>\n",
       "    <tr>\n",
       "      <th>4</th>\n",
       "      <td>10140</td>\n",
       "      <td>10423</td>\n",
       "      <td>4</td>\n",
       "      <td>124</td>\n",
       "    </tr>\n",
       "  </tbody>\n",
       "</table>\n",
       "</div>"
      ],
      "text/plain": [
       "   ORIGIN_AIRPORT_ID  DEST_AIRPORT_ID  FL_COUNT  ORIGIN_INDEX\n",
       "0              10135            10397        77           119\n",
       "1              10135            11433        85           119\n",
       "2              10135            13930        18           119\n",
       "3              10140            10397        93           124\n",
       "4              10140            10423         4           124"
      ]
     },
     "execution_count": 25,
     "metadata": {},
     "output_type": "execute_result"
    }
   ],
   "source": [
    "# Extract the `Code` column and index from `airport_codes`, storing them in\n",
    "# a temporary tibble with new names, `ORIGIN_AIRPORT_ID` and `ORIGIN_INDEX`.\n",
    "origin_indices = airport_codes[['Code']].rename(columns={'Code': 'ORIGIN_AIRPORT_ID'})\n",
    "origin_indices['ORIGIN_INDEX'] = airport_codes.index\n",
    "                               \n",
    "# Since you might run this code cell multiple times, the following\n",
    "# check prevents `ORIGIN_ID` from appearing more than once.\n",
    "if 'ORIGIN_INDEX' in segments.columns:\n",
    "    del segments['ORIGIN_INDEX']\n",
    "    \n",
    "# Perform the merge as a left-join of `segments` and `origin_ids`.\n",
    "segments = segments.merge(origin_indices, on='ORIGIN_AIRPORT_ID', how='left')\n",
    "segments.head()"
   ]
  },
  {
   "cell_type": "markdown",
   "metadata": {
    "deletable": false,
    "editable": false,
    "nbgrader": {
     "grade": false,
     "grade_id": "exercise_4",
     "locked": true,
     "schema_version": 1,
     "solution": false
    }
   },
   "source": [
    "**Exercise 4** (1 point). Analogous to the preceding procedure, create a new column called `segments['DEST_INDEX']` to hold the integer index of each segment's _destination_."
   ]
  },
  {
   "cell_type": "code",
   "execution_count": 26,
   "metadata": {
    "nbgrader": {
     "grade": false,
     "grade_id": "dest_id",
     "locked": false,
     "schema_version": 1,
     "solution": true
    }
   },
   "outputs": [
    {
     "data": {
      "text/html": [
       "<div>\n",
       "<style scoped>\n",
       "    .dataframe tbody tr th:only-of-type {\n",
       "        vertical-align: middle;\n",
       "    }\n",
       "\n",
       "    .dataframe tbody tr th {\n",
       "        vertical-align: top;\n",
       "    }\n",
       "\n",
       "    .dataframe thead th {\n",
       "        text-align: right;\n",
       "    }\n",
       "</style>\n",
       "<table border=\"1\" class=\"dataframe\">\n",
       "  <thead>\n",
       "    <tr style=\"text-align: right;\">\n",
       "      <th></th>\n",
       "      <th>ORIGIN_AIRPORT_ID</th>\n",
       "      <th>DEST_AIRPORT_ID</th>\n",
       "      <th>FL_COUNT</th>\n",
       "      <th>ORIGIN_INDEX</th>\n",
       "      <th>DEST_INDEX</th>\n",
       "    </tr>\n",
       "  </thead>\n",
       "  <tbody>\n",
       "    <tr>\n",
       "      <th>0</th>\n",
       "      <td>10135</td>\n",
       "      <td>10397</td>\n",
       "      <td>77</td>\n",
       "      <td>119</td>\n",
       "      <td>373</td>\n",
       "    </tr>\n",
       "    <tr>\n",
       "      <th>1</th>\n",
       "      <td>10135</td>\n",
       "      <td>11433</td>\n",
       "      <td>85</td>\n",
       "      <td>119</td>\n",
       "      <td>1375</td>\n",
       "    </tr>\n",
       "    <tr>\n",
       "      <th>2</th>\n",
       "      <td>10135</td>\n",
       "      <td>13930</td>\n",
       "      <td>18</td>\n",
       "      <td>119</td>\n",
       "      <td>3770</td>\n",
       "    </tr>\n",
       "    <tr>\n",
       "      <th>3</th>\n",
       "      <td>10140</td>\n",
       "      <td>10397</td>\n",
       "      <td>93</td>\n",
       "      <td>124</td>\n",
       "      <td>373</td>\n",
       "    </tr>\n",
       "    <tr>\n",
       "      <th>4</th>\n",
       "      <td>10140</td>\n",
       "      <td>10423</td>\n",
       "      <td>4</td>\n",
       "      <td>124</td>\n",
       "      <td>399</td>\n",
       "    </tr>\n",
       "  </tbody>\n",
       "</table>\n",
       "</div>"
      ],
      "text/plain": [
       "   ORIGIN_AIRPORT_ID  DEST_AIRPORT_ID  FL_COUNT  ORIGIN_INDEX  DEST_INDEX\n",
       "0              10135            10397        77           119         373\n",
       "1              10135            11433        85           119        1375\n",
       "2              10135            13930        18           119        3770\n",
       "3              10140            10397        93           124         373\n",
       "4              10140            10423         4           124         399"
      ]
     },
     "execution_count": 26,
     "metadata": {},
     "output_type": "execute_result"
    }
   ],
   "source": [
    "###\n",
    "### YOUR CODE HERE\n",
    "\n",
    "dest_indices = airport_codes[['Code']].rename(columns={'Code': 'DEST_AIRPORT_ID'})\n",
    "dest_indices['DEST_INDEX'] = airport_codes.index\n",
    "                               \n",
    "# Since you might run this code cell multiple times, the following\n",
    "# check prevents `ORIGIN_ID` from appearing more than once.\n",
    "if 'DEST_INDEX' in segments.columns:\n",
    "    del segments['DEST_INDEX']\n",
    "    \n",
    "# Perform the merge as a left-join of `segments` and `origin_ids`.\n",
    "segments = segments.merge(dest_indices, on='DEST_AIRPORT_ID', how='left')\n",
    "segments.head()\n",
    "###\n",
    "\n",
    "# Visually inspect your result:\n",
    "segments.head()"
   ]
  },
  {
   "cell_type": "code",
   "execution_count": 27,
   "metadata": {
    "deletable": false,
    "editable": false,
    "nbgrader": {
     "grade": true,
     "grade_id": "ex4_dest_id_test",
     "locked": true,
     "points": 1,
     "schema_version": 1,
     "solution": false
    }
   },
   "outputs": [
    {
     "name": "stdout",
     "output_type": "stream",
     "text": [
      "\n",
      "(Passed!)\n"
     ]
    }
   ],
   "source": [
    "# Test cell: `ex4_dest_id_test`\n",
    "\n",
    "if False:\n",
    "    segments.to_csv('segments_soln.csv', index=False)\n",
    "segments_soln = pd.read_csv(get_data_path('segments_soln.csv'))\n",
    "\n",
    "assert tibbles_are_equivalent(segments, segments_soln), \\\n",
    "       \"Your solution does not match the instructors'.\"\n",
    "    \n",
    "print(\"\\n(Passed!)\")"
   ]
  },
  {
   "cell_type": "markdown",
   "metadata": {
    "deletable": false,
    "editable": false,
    "nbgrader": {
     "grade": false,
     "grade_id": "preprocess_step_2",
     "locked": true,
     "schema_version": 1,
     "solution": false
    }
   },
   "source": [
    "**Step 2: Computing edge weights.** Armed with the preceding mapping, let's next determine each segment's transition probability, or \"weight,\" $p_{ij}$.\n",
    "\n",
    "For each origin $i$, let $d_i$ be the number of outgoing edges, or _outdegree_. Note that this value is *not* the same as the total number of (historical) outbound _segments_; rather, let's take $d_i$ to be just the number of airports reachable directly from $i$. For instance, consider all flights departing the airport whose airport code is 10135:"
   ]
  },
  {
   "cell_type": "code",
   "execution_count": 28,
   "metadata": {
    "deletable": false,
    "editable": false,
    "nbgrader": {
     "grade": false,
     "grade_id": "abe_departures",
     "locked": true,
     "schema_version": 1,
     "solution": false
    }
   },
   "outputs": [
    {
     "data": {
      "text/html": [
       "<div>\n",
       "<style scoped>\n",
       "    .dataframe tbody tr th:only-of-type {\n",
       "        vertical-align: middle;\n",
       "    }\n",
       "\n",
       "    .dataframe tbody tr th {\n",
       "        vertical-align: top;\n",
       "    }\n",
       "\n",
       "    .dataframe thead th {\n",
       "        text-align: right;\n",
       "    }\n",
       "</style>\n",
       "<table border=\"1\" class=\"dataframe\">\n",
       "  <thead>\n",
       "    <tr style=\"text-align: right;\">\n",
       "      <th></th>\n",
       "      <th>Code</th>\n",
       "      <th>Description</th>\n",
       "    </tr>\n",
       "  </thead>\n",
       "  <tbody>\n",
       "    <tr>\n",
       "      <th>119</th>\n",
       "      <td>10135</td>\n",
       "      <td>Allentown/Bethlehem/Easton, PA: Lehigh Valley ...</td>\n",
       "    </tr>\n",
       "  </tbody>\n",
       "</table>\n",
       "</div>"
      ],
      "text/plain": [
       "      Code                                        Description\n",
       "119  10135  Allentown/Bethlehem/Easton, PA: Lehigh Valley ..."
      ]
     },
     "metadata": {},
     "output_type": "display_data"
    },
    {
     "data": {
      "text/html": [
       "<div>\n",
       "<style scoped>\n",
       "    .dataframe tbody tr th:only-of-type {\n",
       "        vertical-align: middle;\n",
       "    }\n",
       "\n",
       "    .dataframe tbody tr th {\n",
       "        vertical-align: top;\n",
       "    }\n",
       "\n",
       "    .dataframe thead th {\n",
       "        text-align: right;\n",
       "    }\n",
       "</style>\n",
       "<table border=\"1\" class=\"dataframe\">\n",
       "  <thead>\n",
       "    <tr style=\"text-align: right;\">\n",
       "      <th></th>\n",
       "      <th>ORIGIN_AIRPORT_ID</th>\n",
       "      <th>DEST_AIRPORT_ID</th>\n",
       "      <th>FL_COUNT</th>\n",
       "      <th>ORIGIN_INDEX</th>\n",
       "      <th>DEST_INDEX</th>\n",
       "    </tr>\n",
       "  </thead>\n",
       "  <tbody>\n",
       "    <tr>\n",
       "      <th>0</th>\n",
       "      <td>10135</td>\n",
       "      <td>10397</td>\n",
       "      <td>77</td>\n",
       "      <td>119</td>\n",
       "      <td>373</td>\n",
       "    </tr>\n",
       "    <tr>\n",
       "      <th>1</th>\n",
       "      <td>10135</td>\n",
       "      <td>11433</td>\n",
       "      <td>85</td>\n",
       "      <td>119</td>\n",
       "      <td>1375</td>\n",
       "    </tr>\n",
       "    <tr>\n",
       "      <th>2</th>\n",
       "      <td>10135</td>\n",
       "      <td>13930</td>\n",
       "      <td>18</td>\n",
       "      <td>119</td>\n",
       "      <td>3770</td>\n",
       "    </tr>\n",
       "  </tbody>\n",
       "</table>\n",
       "</div>"
      ],
      "text/plain": [
       "   ORIGIN_AIRPORT_ID  DEST_AIRPORT_ID  FL_COUNT  ORIGIN_INDEX  DEST_INDEX\n",
       "0              10135            10397        77           119         373\n",
       "1              10135            11433        85           119        1375\n",
       "2              10135            13930        18           119        3770"
      ]
     },
     "metadata": {},
     "output_type": "display_data"
    },
    {
     "name": "stdout",
     "output_type": "stream",
     "text": [
      "Total outgoing segments: 180\n"
     ]
    }
   ],
   "source": [
    "display(airport_codes[airport_codes['Code'] == 10135])\n",
    "\n",
    "abe_segments = segments[segments['ORIGIN_AIRPORT_ID'] == 10135]\n",
    "display(abe_segments)\n",
    "\n",
    "print(\"Total outgoing segments:\", abe_segments['FL_COUNT'].sum())"
   ]
  },
  {
   "cell_type": "code",
   "execution_count": 29,
   "metadata": {
    "deletable": false,
    "editable": false,
    "nbgrader": {
     "grade": false,
     "grade_id": "display_p_i_j_example",
     "locked": true,
     "schema_version": 1,
     "solution": false
    }
   },
   "outputs": [
    {
     "data": {
      "text/markdown": [
       "\n",
       "Though `ABE` has 180 outgoing segments,\n",
       "its outdegree or number of outgoing edges is just 3.\n",
       "Thus, `ABE`, whose airport id is $i=10135$, has $d_{10135} = 3$.\n"
      ],
      "text/plain": [
       "<IPython.core.display.Markdown object>"
      ]
     },
     "metadata": {},
     "output_type": "display_data"
    }
   ],
   "source": [
    "k_ABE = abe_segments['FL_COUNT'].sum()\n",
    "d_ABE = len(abe_segments)\n",
    "i_ABE = abe_segments['ORIGIN_AIRPORT_ID'].values[0]\n",
    "\n",
    "display(Markdown('''\n",
    "Though `ABE` has {} outgoing segments,\n",
    "its outdegree or number of outgoing edges is just {}.\n",
    "Thus, `ABE`, whose airport id is $i={}$, has $d_{{{}}} = {}$.\n",
    "'''.format(k_ABE, d_ABE, i_ABE, i_ABE, d_ABE)))"
   ]
  },
  {
   "cell_type": "markdown",
   "metadata": {
    "deletable": false,
    "editable": false,
    "nbgrader": {
     "grade": false,
     "grade_id": "exercise_5",
     "locked": true,
     "schema_version": 1,
     "solution": false
    }
   },
   "source": [
    "**Exercise 5** (3 points). Add a new column named `OUTDEGREE` to the `segments` tibble that holds the outdegrees, $\\{d_i\\}$. That is, for each row whose airport _index_ (as opposed to code) is $i$, its entry of `OUTDEGREE` should be $d_i$.\n",
    "\n",
    "For instance, the rows of segments corresponding to airport ABE (code 10135 and matrix index 119) would look like this:\n",
    "\n",
    "ORIGIN_AIRPORT_ID | DEST_AIRPORT_ID | FL_COUNT | ORIGIN_INDEX | DEST_INDEX | OUTDEGREE\n",
    "------------------|-----------------|----------|--------------|------------|----------\n",
    "10135             | 10397           | 77       | 119          | 373        | 3\n",
    "10135             | 11433           | 85       | 119          | 1375       | 3\n",
    "10135             | 13930           | 18       | 119          | 3770       | 3"
   ]
  },
  {
   "cell_type": "code",
   "execution_count": 68,
   "metadata": {
    "nbgrader": {
     "grade": false,
     "grade_id": "weights",
     "locked": false,
     "schema_version": 1,
     "solution": true
    },
    "scrolled": true
   },
   "outputs": [
    {
     "data": {
      "text/html": [
       "<div>\n",
       "<style scoped>\n",
       "    .dataframe tbody tr th:only-of-type {\n",
       "        vertical-align: middle;\n",
       "    }\n",
       "\n",
       "    .dataframe tbody tr th {\n",
       "        vertical-align: top;\n",
       "    }\n",
       "\n",
       "    .dataframe thead th {\n",
       "        text-align: right;\n",
       "    }\n",
       "</style>\n",
       "<table border=\"1\" class=\"dataframe\">\n",
       "  <thead>\n",
       "    <tr style=\"text-align: right;\">\n",
       "      <th></th>\n",
       "      <th>ORIGIN_AIRPORT_ID</th>\n",
       "      <th>DEST_AIRPORT_ID</th>\n",
       "      <th>FL_COUNT</th>\n",
       "      <th>ORIGIN_INDEX</th>\n",
       "      <th>DEST_INDEX</th>\n",
       "      <th>OUTDEGREE</th>\n",
       "    </tr>\n",
       "  </thead>\n",
       "  <tbody>\n",
       "    <tr>\n",
       "      <th>0</th>\n",
       "      <td>10135</td>\n",
       "      <td>10397</td>\n",
       "      <td>77</td>\n",
       "      <td>119</td>\n",
       "      <td>373</td>\n",
       "      <td>3</td>\n",
       "    </tr>\n",
       "    <tr>\n",
       "      <th>1</th>\n",
       "      <td>10135</td>\n",
       "      <td>11433</td>\n",
       "      <td>85</td>\n",
       "      <td>119</td>\n",
       "      <td>1375</td>\n",
       "      <td>3</td>\n",
       "    </tr>\n",
       "    <tr>\n",
       "      <th>2</th>\n",
       "      <td>10135</td>\n",
       "      <td>13930</td>\n",
       "      <td>18</td>\n",
       "      <td>119</td>\n",
       "      <td>3770</td>\n",
       "      <td>3</td>\n",
       "    </tr>\n",
       "    <tr>\n",
       "      <th>3</th>\n",
       "      <td>10140</td>\n",
       "      <td>10397</td>\n",
       "      <td>93</td>\n",
       "      <td>124</td>\n",
       "      <td>373</td>\n",
       "      <td>23</td>\n",
       "    </tr>\n",
       "    <tr>\n",
       "      <th>4</th>\n",
       "      <td>10140</td>\n",
       "      <td>10423</td>\n",
       "      <td>4</td>\n",
       "      <td>124</td>\n",
       "      <td>399</td>\n",
       "      <td>23</td>\n",
       "    </tr>\n",
       "    <tr>\n",
       "      <th>5</th>\n",
       "      <td>10140</td>\n",
       "      <td>10821</td>\n",
       "      <td>64</td>\n",
       "      <td>124</td>\n",
       "      <td>792</td>\n",
       "      <td>23</td>\n",
       "    </tr>\n",
       "    <tr>\n",
       "      <th>6</th>\n",
       "      <td>10140</td>\n",
       "      <td>11259</td>\n",
       "      <td>143</td>\n",
       "      <td>124</td>\n",
       "      <td>1214</td>\n",
       "      <td>23</td>\n",
       "    </tr>\n",
       "    <tr>\n",
       "      <th>7</th>\n",
       "      <td>10140</td>\n",
       "      <td>11292</td>\n",
       "      <td>127</td>\n",
       "      <td>124</td>\n",
       "      <td>1245</td>\n",
       "      <td>23</td>\n",
       "    </tr>\n",
       "    <tr>\n",
       "      <th>8</th>\n",
       "      <td>10140</td>\n",
       "      <td>11298</td>\n",
       "      <td>150</td>\n",
       "      <td>124</td>\n",
       "      <td>1250</td>\n",
       "      <td>23</td>\n",
       "    </tr>\n",
       "    <tr>\n",
       "      <th>9</th>\n",
       "      <td>10140</td>\n",
       "      <td>12191</td>\n",
       "      <td>89</td>\n",
       "      <td>124</td>\n",
       "      <td>2106</td>\n",
       "      <td>23</td>\n",
       "    </tr>\n",
       "  </tbody>\n",
       "</table>\n",
       "</div>"
      ],
      "text/plain": [
       "   ORIGIN_AIRPORT_ID  DEST_AIRPORT_ID  FL_COUNT  ORIGIN_INDEX  DEST_INDEX  \\\n",
       "0              10135            10397        77           119         373   \n",
       "1              10135            11433        85           119        1375   \n",
       "2              10135            13930        18           119        3770   \n",
       "3              10140            10397        93           124         373   \n",
       "4              10140            10423         4           124         399   \n",
       "5              10140            10821        64           124         792   \n",
       "6              10140            11259       143           124        1214   \n",
       "7              10140            11292       127           124        1245   \n",
       "8              10140            11298       150           124        1250   \n",
       "9              10140            12191        89           124        2106   \n",
       "\n",
       "   OUTDEGREE  \n",
       "0          3  \n",
       "1          3  \n",
       "2          3  \n",
       "3         23  \n",
       "4         23  \n",
       "5         23  \n",
       "6         23  \n",
       "7         23  \n",
       "8         23  \n",
       "9         23  "
      ]
     },
     "execution_count": 68,
     "metadata": {},
     "output_type": "execute_result"
    }
   ],
   "source": [
    "# This `if` removes an existing `OUTDEGREE` column\n",
    "# in case you run this cell more than once.\n",
    "if 'OUTDEGREE' in segments.columns:\n",
    "    del segments['OUTDEGREE']\n",
    "\n",
    "###\n",
    "### YOUR CODE HERE\n",
    "\n",
    "segments['OUTDEGREE'] = segments['ORIGIN_AIRPORT_ID'].apply(lambda x:len(segments[segments['ORIGIN_AIRPORT_ID'] == x]))\n",
    "###\n",
    "\n",
    "# Visually inspect the first ten rows of your result:\n",
    "segments.head(10)"
   ]
  },
  {
   "cell_type": "code",
   "execution_count": 69,
   "metadata": {
    "deletable": false,
    "editable": false,
    "nbgrader": {
     "grade": true,
     "grade_id": "ex5_weights_test",
     "locked": true,
     "points": 3,
     "schema_version": 1,
     "solution": false
    }
   },
   "outputs": [
    {
     "name": "stdout",
     "output_type": "stream",
     "text": [
      "\n",
      "(Passed!)\n"
     ]
    }
   ],
   "source": [
    "# Test cell: `ex5_weights_test`\n",
    "\n",
    "if False:\n",
    "    segments.to_csv('segments_outdegree_soln.csv', index=False)\n",
    "    \n",
    "segments_outdegree_soln = pd.read_csv(get_data_path('segments_outdegree_soln.csv'))\n",
    "\n",
    "assert tibbles_are_equivalent(segments, segments_outdegree_soln), \\\n",
    "       \"Your solution does not appear to match the instructors'.\"\n",
    "\n",
    "print(\"\\n(Passed!)\")"
   ]
  },
  {
   "cell_type": "markdown",
   "metadata": {
    "deletable": false,
    "editable": false,
    "nbgrader": {
     "grade": false,
     "grade_id": "cell-ef03209a290ef1d1",
     "locked": true,
     "schema_version": 1,
     "solution": false
    }
   },
   "source": [
    "**From outdegree to weight.** Given the outdegree $d_i$, let $p_{ij} = \\frac{1}{d_i}$. In other words, suppose that a random flyer at airport $i$ is _equally likely_ to pick any of the destinations directly reachable from $i$. The following code cell stores that value in a new column, `WEIGHT`."
   ]
  },
  {
   "cell_type": "code",
   "execution_count": 70,
   "metadata": {
    "deletable": false,
    "editable": false,
    "nbgrader": {
     "grade": false,
     "grade_id": "cell-03271168175f9c17",
     "locked": true,
     "schema_version": 1,
     "solution": false
    }
   },
   "outputs": [
    {
     "data": {
      "text/html": [
       "<div>\n",
       "<style scoped>\n",
       "    .dataframe tbody tr th:only-of-type {\n",
       "        vertical-align: middle;\n",
       "    }\n",
       "\n",
       "    .dataframe tbody tr th {\n",
       "        vertical-align: top;\n",
       "    }\n",
       "\n",
       "    .dataframe thead th {\n",
       "        text-align: right;\n",
       "    }\n",
       "</style>\n",
       "<table border=\"1\" class=\"dataframe\">\n",
       "  <thead>\n",
       "    <tr style=\"text-align: right;\">\n",
       "      <th></th>\n",
       "      <th>ORIGIN_AIRPORT_ID</th>\n",
       "      <th>DEST_AIRPORT_ID</th>\n",
       "      <th>FL_COUNT</th>\n",
       "      <th>ORIGIN_INDEX</th>\n",
       "      <th>DEST_INDEX</th>\n",
       "      <th>OUTDEGREE</th>\n",
       "      <th>WEIGHT</th>\n",
       "    </tr>\n",
       "  </thead>\n",
       "  <tbody>\n",
       "    <tr>\n",
       "      <th>0</th>\n",
       "      <td>10135</td>\n",
       "      <td>10397</td>\n",
       "      <td>77</td>\n",
       "      <td>119</td>\n",
       "      <td>373</td>\n",
       "      <td>3</td>\n",
       "      <td>0.333333</td>\n",
       "    </tr>\n",
       "    <tr>\n",
       "      <th>1</th>\n",
       "      <td>10135</td>\n",
       "      <td>11433</td>\n",
       "      <td>85</td>\n",
       "      <td>119</td>\n",
       "      <td>1375</td>\n",
       "      <td>3</td>\n",
       "      <td>0.333333</td>\n",
       "    </tr>\n",
       "    <tr>\n",
       "      <th>2</th>\n",
       "      <td>10135</td>\n",
       "      <td>13930</td>\n",
       "      <td>18</td>\n",
       "      <td>119</td>\n",
       "      <td>3770</td>\n",
       "      <td>3</td>\n",
       "      <td>0.333333</td>\n",
       "    </tr>\n",
       "    <tr>\n",
       "      <th>3</th>\n",
       "      <td>10140</td>\n",
       "      <td>10397</td>\n",
       "      <td>93</td>\n",
       "      <td>124</td>\n",
       "      <td>373</td>\n",
       "      <td>23</td>\n",
       "      <td>0.043478</td>\n",
       "    </tr>\n",
       "    <tr>\n",
       "      <th>4</th>\n",
       "      <td>10140</td>\n",
       "      <td>10423</td>\n",
       "      <td>4</td>\n",
       "      <td>124</td>\n",
       "      <td>399</td>\n",
       "      <td>23</td>\n",
       "      <td>0.043478</td>\n",
       "    </tr>\n",
       "    <tr>\n",
       "      <th>5</th>\n",
       "      <td>10140</td>\n",
       "      <td>10821</td>\n",
       "      <td>64</td>\n",
       "      <td>124</td>\n",
       "      <td>792</td>\n",
       "      <td>23</td>\n",
       "      <td>0.043478</td>\n",
       "    </tr>\n",
       "    <tr>\n",
       "      <th>6</th>\n",
       "      <td>10140</td>\n",
       "      <td>11259</td>\n",
       "      <td>143</td>\n",
       "      <td>124</td>\n",
       "      <td>1214</td>\n",
       "      <td>23</td>\n",
       "      <td>0.043478</td>\n",
       "    </tr>\n",
       "    <tr>\n",
       "      <th>7</th>\n",
       "      <td>10140</td>\n",
       "      <td>11292</td>\n",
       "      <td>127</td>\n",
       "      <td>124</td>\n",
       "      <td>1245</td>\n",
       "      <td>23</td>\n",
       "      <td>0.043478</td>\n",
       "    </tr>\n",
       "    <tr>\n",
       "      <th>8</th>\n",
       "      <td>10140</td>\n",
       "      <td>11298</td>\n",
       "      <td>150</td>\n",
       "      <td>124</td>\n",
       "      <td>1250</td>\n",
       "      <td>23</td>\n",
       "      <td>0.043478</td>\n",
       "    </tr>\n",
       "    <tr>\n",
       "      <th>9</th>\n",
       "      <td>10140</td>\n",
       "      <td>12191</td>\n",
       "      <td>89</td>\n",
       "      <td>124</td>\n",
       "      <td>2106</td>\n",
       "      <td>23</td>\n",
       "      <td>0.043478</td>\n",
       "    </tr>\n",
       "  </tbody>\n",
       "</table>\n",
       "</div>"
      ],
      "text/plain": [
       "   ORIGIN_AIRPORT_ID  DEST_AIRPORT_ID  FL_COUNT  ORIGIN_INDEX  DEST_INDEX  \\\n",
       "0              10135            10397        77           119         373   \n",
       "1              10135            11433        85           119        1375   \n",
       "2              10135            13930        18           119        3770   \n",
       "3              10140            10397        93           124         373   \n",
       "4              10140            10423         4           124         399   \n",
       "5              10140            10821        64           124         792   \n",
       "6              10140            11259       143           124        1214   \n",
       "7              10140            11292       127           124        1245   \n",
       "8              10140            11298       150           124        1250   \n",
       "9              10140            12191        89           124        2106   \n",
       "\n",
       "   OUTDEGREE    WEIGHT  \n",
       "0          3  0.333333  \n",
       "1          3  0.333333  \n",
       "2          3  0.333333  \n",
       "3         23  0.043478  \n",
       "4         23  0.043478  \n",
       "5         23  0.043478  \n",
       "6         23  0.043478  \n",
       "7         23  0.043478  \n",
       "8         23  0.043478  \n",
       "9         23  0.043478  "
      ]
     },
     "metadata": {},
     "output_type": "display_data"
    }
   ],
   "source": [
    "if 'WEIGHT' in segments:\n",
    "    del segments['WEIGHT']\n",
    "    \n",
    "segments['WEIGHT'] = 1.0 / segments['OUTDEGREE']\n",
    "display(segments.head(10))\n",
    "\n",
    "# These should sum to 1.0!\n",
    "origin_groups = segments[['ORIGIN_INDEX', 'WEIGHT']].groupby('ORIGIN_INDEX')\n",
    "assert np.allclose(origin_groups.sum(), 1.0, atol=10*n_actual*np.finfo(float).eps), \"Rows of $P$ do not sum to 1.0\""
   ]
  },
  {
   "cell_type": "markdown",
   "metadata": {
    "deletable": false,
    "editable": false,
    "nbgrader": {
     "grade": false,
     "grade_id": "exercise_6",
     "locked": true,
     "schema_version": 1,
     "solution": false
    }
   },
   "source": [
    "**Exercise 6** (1 point). With your updated `segments` tibble, construct a sparse matrix, `P`, corresponding to the state-transition matrix $P$. Use SciPy's [scipy.sparse.coo_matrix()](https://docs.scipy.org/doc/scipy/reference/generated/scipy.sparse.coo_matrix.html) function to construct this matrix.\n",
    "\n",
    "The dimension of the matrix should be `n_airports` by `n_airports`. If an airport does not have any outgoing segments in the data, it should appear as a row of zeroes.\n",
    "\n",
    "> _Note 0:_ You are asked to construct the matrix $P$ as explained in the accompanying videos. Later, when you _apply_ this matrix, you will apply $P^T$ (e.g., `P.T` in Scipy if `P` is the Scipy sparse matrix object).\n",
    ">\n",
    "> _Note 1:_ The calling convention for `coo_matrix()` can be a bit confusing. Pay careful attention to the documentation; the form you want looks like `coo_matrix((data, (i, j)), [shape=(M, N)])` (take note of the numerous parentheses!)."
   ]
  },
  {
   "cell_type": "code",
   "execution_count": 88,
   "metadata": {
    "nbgrader": {
     "grade": false,
     "grade_id": "P",
     "locked": false,
     "schema_version": 1,
     "solution": true
    }
   },
   "outputs": [
    {
     "data": {
      "image/png": "[encoded data removed]",
      "text/plain": [
       "<Figure size 432x432 with 1 Axes>"
      ]
     },
     "metadata": {
      "needs_background": "light"
     },
     "output_type": "display_data"
    }
   ],
   "source": [
    "###\n",
    "### YOUR CODE HERE\n",
    "from scipy.sparse import coo_matrix\n",
    "###\n",
    "# YOUR CODE HERE\n",
    "\n",
    "row = np.array(segments['ORIGIN_INDEX'])\n",
    "col = np.array(segments['DEST_INDEX'])\n",
    "data = np.array(segments['WEIGHT'])\n",
    "n_airports = len(airport_codes)\n",
    "P = coo_matrix((data, (row, col)), shape=(n_airports, n_airports))\n",
    "\n",
    "# Visually inspect your result:\n",
    "spy(P)"
   ]
  },
  {
   "cell_type": "code",
   "execution_count": 89,
   "metadata": {
    "deletable": false,
    "editable": false,
    "nbgrader": {
     "grade": true,
     "grade_id": "ex6_P_test",
     "locked": true,
     "points": 1,
     "schema_version": 1,
     "solution": false
    }
   },
   "outputs": [
    {
     "name": "stdout",
     "output_type": "stream",
     "text": [
      "\n",
      "(Passed!)\n"
     ]
    }
   ],
   "source": [
    "# Test cell: `ex6_P_test`\n",
    "\n",
    "assert type(P) is sp.sparse.coo.coo_matrix, \\\n",
    "       \"Matrix object has type {}, and is not a Numpy COO sparse matrix.\".format(type(P))\n",
    "assert P.shape == (n_airports, n_airports), \"Matrix has the wrong shape: it is {} x {} instead of {} x {}\".format(P.shape[0], P.shape[1], n_airports, n_airports)\n",
    "\n",
    "# Check row sums, which must be either 0 or 1\n",
    "n = P.shape[0]\n",
    "u = np.ones(n)\n",
    "row_sums = P.dot(u)\n",
    "is_near_zero = np.isclose(row_sums, 0.0, atol=10*n*np.finfo(float).eps)\n",
    "is_near_one = np.isclose(row_sums, 1.0, atol=10*n*np.finfo(float).eps)\n",
    "assert (is_near_zero | is_near_one).all()\n",
    "assert sum(is_near_one) == n_actual\n",
    "\n",
    "print(\"\\n(Passed!)\")"
   ]
  },
  {
   "cell_type": "markdown",
   "metadata": {
    "deletable": false,
    "editable": false,
    "nbgrader": {
     "grade": false,
     "grade_id": "note_coo_csr",
     "locked": true,
     "schema_version": 1,
     "solution": false
    }
   },
   "source": [
    "> **Note: Other formats.** The preceding code asked you to use coordinate (\"COO\") format to store the matrix. However, you may sometimes need to convert or use other formats. For example, SciPy provides many general graph processing algorithms in its [`csgraph` submodule](https://docs.scipy.org/doc/scipy/reference/sparse.csgraph.html). These routines expect the input graph as a sparse matrix, but one stored in compressed sparse row (\"CSR\") format rather than COO."
   ]
  },
  {
   "cell_type": "markdown",
   "metadata": {
    "deletable": false,
    "editable": false,
    "nbgrader": {
     "grade": false,
     "grade_id": "steady_state",
     "locked": true,
     "schema_version": 1,
     "solution": false
    }
   },
   "source": [
    "## Part 2, analysis: Computing the steady-state distribution\n",
    "\n",
    "Armed with the state-transition matrix $P$, you can now compute the steady-state distribution."
   ]
  },
  {
   "cell_type": "markdown",
   "metadata": {
    "deletable": false,
    "editable": false,
    "nbgrader": {
     "grade": false,
     "grade_id": "exercise_7",
     "locked": true,
     "schema_version": 1,
     "solution": false
    }
   },
   "source": [
    "**Exercise 7** (1 point). At time $t=0$, suppose the random flyer is equally likely to be at any airport with an outbound segment, i.e., the flyer is at one of the \"actual\" origins. Create a NumPy vector `x0[:]` such that `x0[i]` equals this initial probability of being at airport `i`.\n",
    "\n",
    "> Note: If some airport $i$ has _no_ outbound flights, then be sure that $x_i(0) = 0$. That is, the vector you should construct ought to have length `n_airports` and have entries for _all_ airports, not just the ones with outbound segments."
   ]
  },
  {
   "cell_type": "code",
   "execution_count": 101,
   "metadata": {
    "nbgrader": {
     "grade": false,
     "grade_id": "x0",
     "locked": false,
     "schema_version": 1,
     "solution": true
    }
   },
   "outputs": [
    {
     "data": {
      "text/html": [
       "<div>\n",
       "<style scoped>\n",
       "    .dataframe tbody tr th:only-of-type {\n",
       "        vertical-align: middle;\n",
       "    }\n",
       "\n",
       "    .dataframe tbody tr th {\n",
       "        vertical-align: top;\n",
       "    }\n",
       "\n",
       "    .dataframe thead th {\n",
       "        text-align: right;\n",
       "    }\n",
       "</style>\n",
       "<table border=\"1\" class=\"dataframe\">\n",
       "  <thead>\n",
       "    <tr style=\"text-align: right;\">\n",
       "      <th></th>\n",
       "      <th>i</th>\n",
       "      <th>x0[i] (non-zero only)</th>\n",
       "    </tr>\n",
       "  </thead>\n",
       "  <tbody>\n",
       "    <tr>\n",
       "      <th>0</th>\n",
       "      <td>119</td>\n",
       "      <td>0.003333</td>\n",
       "    </tr>\n",
       "    <tr>\n",
       "      <th>1</th>\n",
       "      <td>124</td>\n",
       "      <td>0.003333</td>\n",
       "    </tr>\n",
       "    <tr>\n",
       "      <th>2</th>\n",
       "      <td>125</td>\n",
       "      <td>0.003333</td>\n",
       "    </tr>\n",
       "    <tr>\n",
       "      <th>3</th>\n",
       "      <td>130</td>\n",
       "      <td>0.003333</td>\n",
       "    </tr>\n",
       "    <tr>\n",
       "      <th>4</th>\n",
       "      <td>138</td>\n",
       "      <td>0.003333</td>\n",
       "    </tr>\n",
       "  </tbody>\n",
       "</table>\n",
       "</div>"
      ],
      "text/plain": [
       "     i  x0[i] (non-zero only)\n",
       "0  119               0.003333\n",
       "1  124               0.003333\n",
       "2  125               0.003333\n",
       "3  130               0.003333\n",
       "4  138               0.003333"
      ]
     },
     "metadata": {},
     "output_type": "display_data"
    },
    {
     "name": "stdout",
     "output_type": "stream",
     "text": [
      "...\n"
     ]
    },
    {
     "data": {
      "text/html": [
       "<div>\n",
       "<style scoped>\n",
       "    .dataframe tbody tr th:only-of-type {\n",
       "        vertical-align: middle;\n",
       "    }\n",
       "\n",
       "    .dataframe tbody tr th {\n",
       "        vertical-align: top;\n",
       "    }\n",
       "\n",
       "    .dataframe thead th {\n",
       "        text-align: right;\n",
       "    }\n",
       "</style>\n",
       "<table border=\"1\" class=\"dataframe\">\n",
       "  <thead>\n",
       "    <tr style=\"text-align: right;\">\n",
       "      <th></th>\n",
       "      <th>i</th>\n",
       "      <th>x0[i] (non-zero only)</th>\n",
       "    </tr>\n",
       "  </thead>\n",
       "  <tbody>\n",
       "    <tr>\n",
       "      <th>295</th>\n",
       "      <td>5565</td>\n",
       "      <td>0.003333</td>\n",
       "    </tr>\n",
       "    <tr>\n",
       "      <th>296</th>\n",
       "      <td>5612</td>\n",
       "      <td>0.003333</td>\n",
       "    </tr>\n",
       "    <tr>\n",
       "      <th>297</th>\n",
       "      <td>5630</td>\n",
       "      <td>0.003333</td>\n",
       "    </tr>\n",
       "    <tr>\n",
       "      <th>298</th>\n",
       "      <td>5685</td>\n",
       "      <td>0.003333</td>\n",
       "    </tr>\n",
       "    <tr>\n",
       "      <th>299</th>\n",
       "      <td>5908</td>\n",
       "      <td>0.003333</td>\n",
       "    </tr>\n",
       "  </tbody>\n",
       "</table>\n",
       "</div>"
      ],
      "text/plain": [
       "        i  x0[i] (non-zero only)\n",
       "295  5565               0.003333\n",
       "296  5612               0.003333\n",
       "297  5630               0.003333\n",
       "298  5685               0.003333\n",
       "299  5908               0.003333"
      ]
     },
     "metadata": {},
     "output_type": "display_data"
    }
   ],
   "source": [
    "# Your task: Create `x0` as directed above.\n",
    "\n",
    "###\n",
    "### YOUR CODE HERE\n",
    "x0 = []\n",
    "\n",
    "unique_origin = segments[['ORIGIN_AIRPORT_ID','OUTDEGREE', 'WEIGHT']].drop_duplicates()\n",
    "\n",
    "for code in airport_codes['Code']:\n",
    "    if code not in segments['ORIGIN_AIRPORT_ID'].tolist():\n",
    "        x0.append(0.)\n",
    "    \n",
    "    else:\n",
    "        for i, row in unique_origin.iterrows():\n",
    "            if row['ORIGIN_AIRPORT_ID'] == code:\n",
    "                x0.append((row['OUTDEGREE']*row['WEIGHT']) / n_actual)\n",
    "\n",
    "x0 = np.array(x0)\n",
    "###\n",
    "\n",
    "# Visually inspect your result:\n",
    "def display_vec_sparsely(x, name='x'):\n",
    "    i_nz = np.argwhere(x).flatten()\n",
    "    df_x_nz = pd.DataFrame({'i': i_nz, '{}[i] (non-zero only)'.format(name): x[i_nz]})\n",
    "    display(df_x_nz.head())\n",
    "    print(\"...\")\n",
    "    display(df_x_nz.tail())\n",
    "    \n",
    "display_vec_sparsely(x0, name='x0')"
   ]
  },
  {
   "cell_type": "code",
   "execution_count": 102,
   "metadata": {
    "deletable": false,
    "editable": false,
    "nbgrader": {
     "grade": true,
     "grade_id": "ex7_x0_test",
     "locked": true,
     "points": 1,
     "schema_version": 1,
     "solution": false
    }
   },
   "outputs": [
    {
     "name": "stdout",
     "output_type": "stream",
     "text": [
      "\n",
      "(Passed!)\n"
     ]
    }
   ],
   "source": [
    "# Test cell: `ex7_x0_test`\n",
    "\n",
    "assert type(x0) is np.ndarray, \"`x0` does not appear to be a Numpy array.\"\n",
    "assert np.isclose(x0.sum(), 1.0, atol=10*n*np.finfo(float).eps), \"`x0` does not sum to 1.0, but it should.\"\n",
    "assert np.isclose(x0.max(), 1.0/n_actual, atol=10*n*np.finfo(float).eps), \"`x0` values seem off...\"\n",
    "\n",
    "print(\"\\n(Passed!)\")"
   ]
  },
  {
   "cell_type": "markdown",
   "metadata": {
    "deletable": false,
    "editable": false,
    "nbgrader": {
     "grade": false,
     "grade_id": "exercise_8",
     "locked": true,
     "schema_version": 1,
     "solution": false
    }
   },
   "source": [
    "**Exercise 8** (2 points). Given the state-transition matrix `P`, an initial vector `x0`, and the number of time steps `t_max`, complete the function `eval_markov_chain(P, x0, t_max)` so that it computes and returns $x(t_{\\textrm{max}})$.\n",
    "\n",
    "> _Note:_ A common pitfall in this problem is implementing a `eval_markov_chain()` in a way that _modifies_ the input, `x0`. Don't do that!"
   ]
  },
  {
   "cell_type": "code",
   "execution_count": null,
   "metadata": {
    "collapsed": true
   },
   "outputs": [],
   "source": [
    "# Reminder:\n",
    "x0.shape"
   ]
  },
  {
   "cell_type": "code",
   "execution_count": 115,
   "metadata": {
    "nbgrader": {
     "grade": false,
     "grade_id": "eval_markov_chain",
     "locked": false,
     "schema_version": 1,
     "solution": true
    }
   },
   "outputs": [
    {
     "data": {
      "text/html": [
       "<div>\n",
       "<style scoped>\n",
       "    .dataframe tbody tr th:only-of-type {\n",
       "        vertical-align: middle;\n",
       "    }\n",
       "\n",
       "    .dataframe tbody tr th {\n",
       "        vertical-align: top;\n",
       "    }\n",
       "\n",
       "    .dataframe thead th {\n",
       "        text-align: right;\n",
       "    }\n",
       "</style>\n",
       "<table border=\"1\" class=\"dataframe\">\n",
       "  <thead>\n",
       "    <tr style=\"text-align: right;\">\n",
       "      <th></th>\n",
       "      <th>i</th>\n",
       "      <th>x[i] (non-zero only)</th>\n",
       "    </tr>\n",
       "  </thead>\n",
       "  <tbody>\n",
       "    <tr>\n",
       "      <th>0</th>\n",
       "      <td>119</td>\n",
       "      <td>0.000721</td>\n",
       "    </tr>\n",
       "    <tr>\n",
       "      <th>1</th>\n",
       "      <td>124</td>\n",
       "      <td>0.005492</td>\n",
       "    </tr>\n",
       "    <tr>\n",
       "      <th>2</th>\n",
       "      <td>125</td>\n",
       "      <td>0.000237</td>\n",
       "    </tr>\n",
       "    <tr>\n",
       "      <th>3</th>\n",
       "      <td>130</td>\n",
       "      <td>0.000238</td>\n",
       "    </tr>\n",
       "    <tr>\n",
       "      <th>4</th>\n",
       "      <td>138</td>\n",
       "      <td>0.000715</td>\n",
       "    </tr>\n",
       "  </tbody>\n",
       "</table>\n",
       "</div>"
      ],
      "text/plain": [
       "     i  x[i] (non-zero only)\n",
       "0  119              0.000721\n",
       "1  124              0.005492\n",
       "2  125              0.000237\n",
       "3  130              0.000238\n",
       "4  138              0.000715"
      ]
     },
     "metadata": {},
     "output_type": "display_data"
    },
    {
     "name": "stdout",
     "output_type": "stream",
     "text": [
      "...\n"
     ]
    },
    {
     "data": {
      "text/html": [
       "<div>\n",
       "<style scoped>\n",
       "    .dataframe tbody tr th:only-of-type {\n",
       "        vertical-align: middle;\n",
       "    }\n",
       "\n",
       "    .dataframe tbody tr th {\n",
       "        vertical-align: top;\n",
       "    }\n",
       "\n",
       "    .dataframe thead th {\n",
       "        text-align: right;\n",
       "    }\n",
       "</style>\n",
       "<table border=\"1\" class=\"dataframe\">\n",
       "  <thead>\n",
       "    <tr style=\"text-align: right;\">\n",
       "      <th></th>\n",
       "      <th>i</th>\n",
       "      <th>x[i] (non-zero only)</th>\n",
       "    </tr>\n",
       "  </thead>\n",
       "  <tbody>\n",
       "    <tr>\n",
       "      <th>295</th>\n",
       "      <td>5565</td>\n",
       "      <td>0.000472</td>\n",
       "    </tr>\n",
       "    <tr>\n",
       "      <th>296</th>\n",
       "      <td>5612</td>\n",
       "      <td>0.000239</td>\n",
       "    </tr>\n",
       "    <tr>\n",
       "      <th>297</th>\n",
       "      <td>5630</td>\n",
       "      <td>0.001889</td>\n",
       "    </tr>\n",
       "    <tr>\n",
       "      <th>298</th>\n",
       "      <td>5685</td>\n",
       "      <td>0.000465</td>\n",
       "    </tr>\n",
       "    <tr>\n",
       "      <th>299</th>\n",
       "      <td>5908</td>\n",
       "      <td>0.000239</td>\n",
       "    </tr>\n",
       "  </tbody>\n",
       "</table>\n",
       "</div>"
      ],
      "text/plain": [
       "        i  x[i] (non-zero only)\n",
       "295  5565              0.000472\n",
       "296  5612              0.000239\n",
       "297  5630              0.001889\n",
       "298  5685              0.000465\n",
       "299  5908              0.000239"
      ]
     },
     "metadata": {},
     "output_type": "display_data"
    },
    {
     "name": "stdout",
     "output_type": "stream",
     "text": [
      "\n",
      "=== Top 10 airports ===\n",
      "\n"
     ]
    },
    {
     "data": {
      "text/html": [
       "<div>\n",
       "<style scoped>\n",
       "    .dataframe tbody tr th:only-of-type {\n",
       "        vertical-align: middle;\n",
       "    }\n",
       "\n",
       "    .dataframe tbody tr th {\n",
       "        vertical-align: top;\n",
       "    }\n",
       "\n",
       "    .dataframe thead th {\n",
       "        text-align: right;\n",
       "    }\n",
       "</style>\n",
       "<table border=\"1\" class=\"dataframe\">\n",
       "  <thead>\n",
       "    <tr style=\"text-align: right;\">\n",
       "      <th></th>\n",
       "      <th>x(t)</th>\n",
       "      <th>Rank</th>\n",
       "      <th>Code</th>\n",
       "      <th>Description</th>\n",
       "    </tr>\n",
       "  </thead>\n",
       "  <tbody>\n",
       "    <tr>\n",
       "      <th>373</th>\n",
       "      <td>0.037384</td>\n",
       "      <td>1</td>\n",
       "      <td>10397</td>\n",
       "      <td>Atlanta, GA: Hartsfield-Jackson Atlanta Intern...</td>\n",
       "    </tr>\n",
       "    <tr>\n",
       "      <th>3770</th>\n",
       "      <td>0.036042</td>\n",
       "      <td>2</td>\n",
       "      <td>13930</td>\n",
       "      <td>Chicago, IL: Chicago O'Hare International</td>\n",
       "    </tr>\n",
       "    <tr>\n",
       "      <th>1245</th>\n",
       "      <td>0.031214</td>\n",
       "      <td>3</td>\n",
       "      <td>11292</td>\n",
       "      <td>Denver, CO: Denver International</td>\n",
       "    </tr>\n",
       "    <tr>\n",
       "      <th>3347</th>\n",
       "      <td>0.026761</td>\n",
       "      <td>4</td>\n",
       "      <td>13487</td>\n",
       "      <td>Minneapolis, MN: Minneapolis-St Paul Internati...</td>\n",
       "    </tr>\n",
       "    <tr>\n",
       "      <th>2177</th>\n",
       "      <td>0.024809</td>\n",
       "      <td>5</td>\n",
       "      <td>12266</td>\n",
       "      <td>Houston, TX: George Bush Intercontinental/Houston</td>\n",
       "    </tr>\n",
       "    <tr>\n",
       "      <th>1250</th>\n",
       "      <td>0.024587</td>\n",
       "      <td>6</td>\n",
       "      <td>11298</td>\n",
       "      <td>Dallas/Fort Worth, TX: Dallas/Fort Worth Inter...</td>\n",
       "    </tr>\n",
       "    <tr>\n",
       "      <th>1375</th>\n",
       "      <td>0.024483</td>\n",
       "      <td>7</td>\n",
       "      <td>11433</td>\n",
       "      <td>Detroit, MI: Detroit Metro Wayne County</td>\n",
       "    </tr>\n",
       "    <tr>\n",
       "      <th>3941</th>\n",
       "      <td>0.021018</td>\n",
       "      <td>8</td>\n",
       "      <td>14107</td>\n",
       "      <td>Phoenix, AZ: Phoenix Sky Harbor International</td>\n",
       "    </tr>\n",
       "    <tr>\n",
       "      <th>4646</th>\n",
       "      <td>0.020037</td>\n",
       "      <td>9</td>\n",
       "      <td>14869</td>\n",
       "      <td>Salt Lake City, UT: Salt Lake City International</td>\n",
       "    </tr>\n",
       "    <tr>\n",
       "      <th>1552</th>\n",
       "      <td>0.019544</td>\n",
       "      <td>10</td>\n",
       "      <td>11618</td>\n",
       "      <td>Newark, NJ: Newark Liberty International</td>\n",
       "    </tr>\n",
       "  </tbody>\n",
       "</table>\n",
       "</div>"
      ],
      "text/plain": [
       "          x(t)  Rank   Code                                        Description\n",
       "373   0.037384     1  10397  Atlanta, GA: Hartsfield-Jackson Atlanta Intern...\n",
       "3770  0.036042     2  13930          Chicago, IL: Chicago O'Hare International\n",
       "1245  0.031214     3  11292                   Denver, CO: Denver International\n",
       "3347  0.026761     4  13487  Minneapolis, MN: Minneapolis-St Paul Internati...\n",
       "2177  0.024809     5  12266  Houston, TX: George Bush Intercontinental/Houston\n",
       "1250  0.024587     6  11298  Dallas/Fort Worth, TX: Dallas/Fort Worth Inter...\n",
       "1375  0.024483     7  11433            Detroit, MI: Detroit Metro Wayne County\n",
       "3941  0.021018     8  14107      Phoenix, AZ: Phoenix Sky Harbor International\n",
       "4646  0.020037     9  14869   Salt Lake City, UT: Salt Lake City International\n",
       "1552  0.019544    10  11618           Newark, NJ: Newark Liberty International"
      ]
     },
     "execution_count": 115,
     "metadata": {},
     "output_type": "execute_result"
    }
   ],
   "source": [
    "def eval_markov_chain(P, x0, t_max):\n",
    "    ###\n",
    "    ### YOUR CODE HERE\n",
    "    x_tmax = x0\n",
    "    Pt = P.transpose()\n",
    "    for i in range(0, t_max):\n",
    "        x_tmax = x_tmax * P\n",
    "    return x_tmax\n",
    "    ###\n",
    "\n",
    "T_MAX = 50\n",
    "x0_copy = x0.copy()\n",
    "x = eval_markov_chain(P, x0, T_MAX)\n",
    "display_vec_sparsely(x)\n",
    "assert all(x0 == x0_copy), \"Did your implementation modify `x0`? It shouldn't do that!\"\n",
    "\n",
    "print(\"\\n=== Top 10 airports ===\\n\")\n",
    "ranks = np.argsort(-x)\n",
    "top10 = pd.DataFrame({'Rank': np.arange(1, 11),\n",
    "                      'Code': airport_codes.iloc[ranks[:10]]['Code'],\n",
    "                      'Description': airport_codes.iloc[ranks[:10]]['Description'],\n",
    "                      'x(t)': x[ranks[:10]]})\n",
    "top10[['x(t)', 'Rank', 'Code', 'Description']]"
   ]
  },
  {
   "cell_type": "code",
   "execution_count": 116,
   "metadata": {
    "deletable": false,
    "editable": false,
    "nbgrader": {
     "grade": true,
     "grade_id": "ex8_eval_markov_chain_test",
     "locked": true,
     "points": 2,
     "schema_version": 1,
     "solution": false
    }
   },
   "outputs": [
    {
     "name": "stdout",
     "output_type": "stream",
     "text": [
      "0.9999999999999994\n",
      "\n",
      "Top 10 airports by Markov chain analysis:\n",
      " [10397, 13930, 11292, 13487, 12266, 11298, 11433, 14107, 14869, 11618]\n",
      "\n",
      "Compare that to the Top 10 by (historical) outbound segments:\n",
      " [10397, 13930, 11292, 12892, 14771, 11298, 14747, 12889, 14107, 13487]\n",
      "\n",
      "Airports that appear in one list but not the other:\n",
      "{11618, 11433, 12266, 14771, 14869, 12889, 14747, 12892}\n",
      "\n",
      "(Passed!)\n"
     ]
    }
   ],
   "source": [
    "# Test cell: `ex8_eval_markov_chain_test`\n",
    "\n",
    "print(x.sum())\n",
    "assert np.isclose(x.sum(), 1.0, atol=T_MAX*n_actual*np.finfo(float).eps)\n",
    "\n",
    "print(\"\\nTop 10 airports by Markov chain analysis:\\n\", list(top10['Code']))\n",
    "print(\"\\nCompare that to the Top 10 by (historical) outbound segments:\\n\", list(origins_top10['ID']))\n",
    "\n",
    "A = set(top10['Code'])\n",
    "B = set(origins_top10['ID'])\n",
    "C = (A - B) | (B - A)\n",
    "print(\"\\nAirports that appear in one list but not the other:\\n{}\".format(C))\n",
    "assert C == {11618, 11433, 12266, 14771, 14869, 12889, 14747, 12892}\n",
    "\n",
    "print(\"\\n(Passed!)\")"
   ]
  },
  {
   "cell_type": "markdown",
   "metadata": {},
   "source": [
    "**Comparing the two rankings.** Before ending this notebook, let's create a table that compares our two rankings, side-by-side, where the first ranking is the result of the Markov chain analysis and the second from a ranking based solely on number of segments."
   ]
  },
  {
   "cell_type": "code",
   "execution_count": 117,
   "metadata": {
    "deletable": false,
    "editable": false,
    "nbgrader": {
     "grade": false,
     "grade_id": "compare_top10s",
     "locked": true,
     "schema_version": 1,
     "solution": false
    }
   },
   "outputs": [
    {
     "data": {
      "text/html": [
       "<div>\n",
       "<style scoped>\n",
       "    .dataframe tbody tr th:only-of-type {\n",
       "        vertical-align: middle;\n",
       "    }\n",
       "\n",
       "    .dataframe tbody tr th {\n",
       "        vertical-align: top;\n",
       "    }\n",
       "\n",
       "    .dataframe thead th {\n",
       "        text-align: right;\n",
       "    }\n",
       "</style>\n",
       "<table border=\"1\" class=\"dataframe\">\n",
       "  <thead>\n",
       "    <tr style=\"text-align: right;\">\n",
       "      <th></th>\n",
       "      <th>Code</th>\n",
       "      <th>Rank_MC</th>\n",
       "      <th>Description_MC</th>\n",
       "      <th>Rank_Seg</th>\n",
       "      <th>Description_Seg</th>\n",
       "    </tr>\n",
       "  </thead>\n",
       "  <tbody>\n",
       "    <tr>\n",
       "      <th>0</th>\n",
       "      <td>10397</td>\n",
       "      <td>1.0</td>\n",
       "      <td>Atlanta, GA: Hartsfield-Jackson Atlanta Intern...</td>\n",
       "      <td>1.0</td>\n",
       "      <td>Atlanta, GA: Hartsfield-Jackson Atlanta Intern...</td>\n",
       "    </tr>\n",
       "    <tr>\n",
       "      <th>1</th>\n",
       "      <td>13930</td>\n",
       "      <td>2.0</td>\n",
       "      <td>Chicago, IL: Chicago O'Hare International</td>\n",
       "      <td>2.0</td>\n",
       "      <td>Chicago, IL: Chicago O'Hare International</td>\n",
       "    </tr>\n",
       "    <tr>\n",
       "      <th>2</th>\n",
       "      <td>11292</td>\n",
       "      <td>3.0</td>\n",
       "      <td>Denver, CO: Denver International</td>\n",
       "      <td>3.0</td>\n",
       "      <td>Denver, CO: Denver International</td>\n",
       "    </tr>\n",
       "    <tr>\n",
       "      <th>3</th>\n",
       "      <td>13487</td>\n",
       "      <td>4.0</td>\n",
       "      <td>Minneapolis, MN: Minneapolis-St Paul Internati...</td>\n",
       "      <td>10.0</td>\n",
       "      <td>Minneapolis, MN: Minneapolis-St Paul Internati...</td>\n",
       "    </tr>\n",
       "    <tr>\n",
       "      <th>4</th>\n",
       "      <td>12266</td>\n",
       "      <td>5.0</td>\n",
       "      <td>Houston, TX: George Bush Intercontinental/Houston</td>\n",
       "      <td>NaN</td>\n",
       "      <td>NaN</td>\n",
       "    </tr>\n",
       "    <tr>\n",
       "      <th>5</th>\n",
       "      <td>11298</td>\n",
       "      <td>6.0</td>\n",
       "      <td>Dallas/Fort Worth, TX: Dallas/Fort Worth Inter...</td>\n",
       "      <td>6.0</td>\n",
       "      <td>Dallas/Fort Worth, TX: Dallas/Fort Worth Inter...</td>\n",
       "    </tr>\n",
       "    <tr>\n",
       "      <th>6</th>\n",
       "      <td>11433</td>\n",
       "      <td>7.0</td>\n",
       "      <td>Detroit, MI: Detroit Metro Wayne County</td>\n",
       "      <td>NaN</td>\n",
       "      <td>NaN</td>\n",
       "    </tr>\n",
       "    <tr>\n",
       "      <th>7</th>\n",
       "      <td>14107</td>\n",
       "      <td>8.0</td>\n",
       "      <td>Phoenix, AZ: Phoenix Sky Harbor International</td>\n",
       "      <td>9.0</td>\n",
       "      <td>Phoenix, AZ: Phoenix Sky Harbor International</td>\n",
       "    </tr>\n",
       "    <tr>\n",
       "      <th>8</th>\n",
       "      <td>14869</td>\n",
       "      <td>9.0</td>\n",
       "      <td>Salt Lake City, UT: Salt Lake City International</td>\n",
       "      <td>NaN</td>\n",
       "      <td>NaN</td>\n",
       "    </tr>\n",
       "    <tr>\n",
       "      <th>9</th>\n",
       "      <td>11618</td>\n",
       "      <td>10.0</td>\n",
       "      <td>Newark, NJ: Newark Liberty International</td>\n",
       "      <td>NaN</td>\n",
       "      <td>NaN</td>\n",
       "    </tr>\n",
       "    <tr>\n",
       "      <th>10</th>\n",
       "      <td>12892</td>\n",
       "      <td>NaN</td>\n",
       "      <td>NaN</td>\n",
       "      <td>4.0</td>\n",
       "      <td>Los Angeles, CA: Los Angeles International</td>\n",
       "    </tr>\n",
       "    <tr>\n",
       "      <th>11</th>\n",
       "      <td>14771</td>\n",
       "      <td>NaN</td>\n",
       "      <td>NaN</td>\n",
       "      <td>5.0</td>\n",
       "      <td>San Francisco, CA: San Francisco International</td>\n",
       "    </tr>\n",
       "    <tr>\n",
       "      <th>12</th>\n",
       "      <td>14747</td>\n",
       "      <td>NaN</td>\n",
       "      <td>NaN</td>\n",
       "      <td>7.0</td>\n",
       "      <td>Seattle, WA: Seattle/Tacoma International</td>\n",
       "    </tr>\n",
       "    <tr>\n",
       "      <th>13</th>\n",
       "      <td>12889</td>\n",
       "      <td>NaN</td>\n",
       "      <td>NaN</td>\n",
       "      <td>8.0</td>\n",
       "      <td>Las Vegas, NV: McCarran International</td>\n",
       "    </tr>\n",
       "  </tbody>\n",
       "</table>\n",
       "</div>"
      ],
      "text/plain": [
       "     Code  Rank_MC                                     Description_MC  \\\n",
       "0   10397      1.0  Atlanta, GA: Hartsfield-Jackson Atlanta Intern...   \n",
       "1   13930      2.0          Chicago, IL: Chicago O'Hare International   \n",
       "2   11292      3.0                   Denver, CO: Denver International   \n",
       "3   13487      4.0  Minneapolis, MN: Minneapolis-St Paul Internati...   \n",
       "4   12266      5.0  Houston, TX: George Bush Intercontinental/Houston   \n",
       "5   11298      6.0  Dallas/Fort Worth, TX: Dallas/Fort Worth Inter...   \n",
       "6   11433      7.0            Detroit, MI: Detroit Metro Wayne County   \n",
       "7   14107      8.0      Phoenix, AZ: Phoenix Sky Harbor International   \n",
       "8   14869      9.0   Salt Lake City, UT: Salt Lake City International   \n",
       "9   11618     10.0           Newark, NJ: Newark Liberty International   \n",
       "10  12892      NaN                                                NaN   \n",
       "11  14771      NaN                                                NaN   \n",
       "12  14747      NaN                                                NaN   \n",
       "13  12889      NaN                                                NaN   \n",
       "\n",
       "    Rank_Seg                                    Description_Seg  \n",
       "0        1.0  Atlanta, GA: Hartsfield-Jackson Atlanta Intern...  \n",
       "1        2.0          Chicago, IL: Chicago O'Hare International  \n",
       "2        3.0                   Denver, CO: Denver International  \n",
       "3       10.0  Minneapolis, MN: Minneapolis-St Paul Internati...  \n",
       "4        NaN                                                NaN  \n",
       "5        6.0  Dallas/Fort Worth, TX: Dallas/Fort Worth Inter...  \n",
       "6        NaN                                                NaN  \n",
       "7        9.0      Phoenix, AZ: Phoenix Sky Harbor International  \n",
       "8        NaN                                                NaN  \n",
       "9        NaN                                                NaN  \n",
       "10       4.0         Los Angeles, CA: Los Angeles International  \n",
       "11       5.0     San Francisco, CA: San Francisco International  \n",
       "12       7.0          Seattle, WA: Seattle/Tacoma International  \n",
       "13       8.0              Las Vegas, NV: McCarran International  "
      ]
     },
     "execution_count": 117,
     "metadata": {},
     "output_type": "execute_result"
    }
   ],
   "source": [
    "top10_with_ranks = top10[['Code', 'Rank', 'Description']].copy()\n",
    "\n",
    "origins_top10_with_ranks = origins_top10[['ID', 'Description']].copy()\n",
    "origins_top10_with_ranks.rename(columns={'ID': 'Code'}, inplace=True)\n",
    "origins_top10_with_ranks['Rank'] = origins_top10.index + 1\n",
    "origins_top10_with_ranks = origins_top10_with_ranks[['Code', 'Rank', 'Description']]\n",
    "\n",
    "top10_compare = top10_with_ranks.merge(origins_top10_with_ranks, how='outer', on='Code',\n",
    "                                       suffixes=['_MC', '_Seg'])\n",
    "top10_compare"
   ]
  },
  {
   "cell_type": "markdown",
   "metadata": {
    "collapsed": true,
    "deletable": false,
    "editable": false,
    "nbgrader": {
     "grade": false,
     "grade_id": "fin",
     "locked": true,
     "schema_version": 1,
     "solution": false
    }
   },
   "source": [
    "**Fin!** That's it! You've determined the top 10 airports at which a random flyer ends up, assuming he or she randomly selects directly reachable destinations. How does it compare, qualitatively, to a ranking based instead on (historical) outbound segments? Which ranking is a better measure of importance to the overall airport network?\n",
    "\n",
    "Be sure to submit this notebook to get credit for it."
   ]
  }
 ],
 "metadata": {
  "celltoolbar": "Create Assignment",
  "kernelspec": {
   "display_name": "Python 3.7",
   "language": "python",
   "name": "python37"
  },
  "language_info": {
   "codemirror_mode": {
    "name": "ipython",
    "version": 3
   },
   "file_extension": ".py",
   "mimetype": "text/x-python",
   "name": "python",
   "nbconvert_exporter": "python",
   "pygments_lexer": "ipython3",
   "version": "3.7.5"
  }
 },
 "nbformat": 4,
 "nbformat_minor": 1
}

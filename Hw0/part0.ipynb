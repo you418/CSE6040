{
    "cells": [
        {
            "cell_type": "markdown",
            "metadata": {
                "nbgrader": {
                    "grade": false,
                    "grade_id": "cell-d9da995b9796eee6",
                    "locked": true,
                    "schema_version": 1,
                    "solution": false
                },
                "editable": false,
                "deletable": false
            },
            "source": [
                "# Sample notebook: Part 0\n",
                "\n",
                "This notebook is Part 0 of two parts (Parts 0 and 1): in the computer science tradition, we will try to number beginning at 0. Together, the two parts comprise your first graded *lab notebook assignment* (or just *notebook*, *lab*, or *assignment*). Please use it to familiarize yourself with how to complete and submit your work."
            ]
        },
        {
            "cell_type": "markdown",
            "metadata": {
                "nbgrader": {
                    "grade": false,
                    "grade_id": "cell-4471a63327d7bf4e",
                    "locked": true,
                    "schema_version": 1,
                    "solution": false
                },
                "editable": false,
                "deletable": false
            },
            "source": [
                "## Python code cells\n",
                "\n",
                "Run the following code cell to determine the version of Python running in this environment. Make a mental note of the Python version. Since the language is continually evolving, constructs that work in earlier or later versions might not work in this version.\n",
                "\n",
                "> **Note:** In our class, you will not receive any credit for a notebook that does not pass the autograder inside Vocareum. Refer back to the course syllabus for more information."
            ]
        },
        {
            "cell_type": "code",
            "execution_count": null,
            "metadata": {
                "nbgrader": {
                    "grade": false,
                    "grade_id": "cell-5861593650969326",
                    "locked": true,
                    "schema_version": 1,
                    "solution": false
                },
                "editable": false,
                "deletable": false
            },
            "outputs": [],
            "source": [
                "import sys\n",
                "print(sys.version)\n",
                "py_ver = sys.version.split()[0]\n",
                "print(\"\\n** You appear to be running Python version {}**\".format(py_ver))"
            ]
        },
        {
            "cell_type": "markdown",
            "metadata": {
                "nbgrader": {
                    "grade": false,
                    "locked": true,
                    "solution": false
                },
                "editable": false,
                "deletable": false
            },
            "source": [
                "In this course, notebook assignments will consist mainly of exercises like the following. You'll see a question, its point value, and a \"code cell,\" which is placeholder cell for coding up your solution. Following that code cell will typically be another code cell to help you *test and debug* your code. Indeed, the autograder works by verifying that these test cells pass.\n",
                "\n",
                "> The autograder may also test other cases that you do *not* get to see, so when writing up your solution be sure to follow the specifications of the problem carefully."
            ]
        },
        {
            "cell_type": "markdown",
            "metadata": {
                "nbgrader": {
                    "grade": false,
                    "grade_id": "cell-a338cae2f04262e7",
                    "locked": true,
                    "schema_version": 1,
                    "solution": false
                },
                "editable": false,
                "deletable": false
            },
            "source": [
                "**Exercise 0** (`x_test`: 1 point). Create a variable named `x` and assign it the integer value of 1."
            ]
        },
        {
            "cell_type": "code",
            "execution_count": null,
            "metadata": {
                "collapsed": true,
                "nbgrader": {
                    "grade": false,
                    "locked": false,
                    "schema_version": 1,
                    "solution": true
                }
            },
            "outputs": [],
            "source": [
                "###\n",
                "### YOUR CODE HERE\n",
                "###\n"
            ]
        },
        {
            "cell_type": "code",
            "execution_count": null,
            "metadata": {
                "nbgrader": {
                    "grade": true,
                    "grade_id": "x_test",
                    "locked": true,
                    "points": 1,
                    "schema_version": 1,
                    "solution": false
                },
                "editable": false,
                "deletable": false
            },
            "outputs": [],
            "source": [
                "# x_test: This cell tests your code from above.\n",
                "\n",
                "print(\"Your x:\", x)\n",
                "assert x == 1\n",
                "\n",
                "print(\"\\nPassed!\")"
            ]
        },
        {
            "cell_type": "markdown",
            "metadata": {
                "nbgrader": {
                    "grade": false,
                    "locked": true,
                    "solution": false
                },
                "editable": false,
                "deletable": false
            },
            "source": [
                "## Markdown cells\n",
                "\n",
                "Besides cells for code, you can edit or create cells intended to contain *formatted* text. The \"language\" used for such cells is called *Markdown*, which you can read a little more about [here](http:\/\/jupyter-notebook.readthedocs.io\/en\/latest\/examples\/Notebook\/Working%20With%20Markdown%20Cells.html). It's like a simplified HTML designed to be readable both as plain text but also rendered as formatted text.\n",
                "\n",
                "Unfortunately, there are many flavors of Markdown and it is not always clearly documented what features are available in any particular environment. You may need to do some experimenting to figure out how to get text look the way you want, so just do your best when required."
            ]
        },
        {
            "cell_type": "markdown",
            "metadata": {
                "nbgrader": {
                    "grade": false,
                    "grade_id": "cell-e4a87946c4cd6859",
                    "locked": true,
                    "schema_version": 1,
                    "solution": false
                },
                "editable": false,
                "deletable": false
            },
            "source": [
                "**Exercise 1** (ungraded). The cell below has been set up to accept Markdown text. Edit it so that it displays the image at this URL: http:\/\/cse6040.gatech.edu\/datasets\/mystery-image.jpg\n",
                "\n",
                "> For the Markdown syntax to embed an image, refer to this page: https:\/\/daringfireball.net\/projects\/markdown\/basics"
            ]
        },
        {
            "cell_type": "markdown",
            "metadata": {
                "collapsed": true
            },
            "source": []
        },
        {
            "cell_type": "markdown",
            "metadata": {
                "nbgrader": {
                    "grade": false,
                    "grade_id": "cell-7b5dfffc0f015b87",
                    "locked": true,
                    "schema_version": 1,
                    "solution": false
                },
                "editable": false,
                "deletable": false
            },
            "source": [
                "This is the end of Part 0. If everything seems to have worked, try submitting it!\n",
                "\n",
                "> **Tip 1.** Before submitting, make sure you save your notebook first. (`File` $\\rightarrow$ `Save and checkpoint`)\n",
                "\n",
                "> **Tip 2.** Also, remember to run everything from the top! That is, just before submitting, we recommend that you first restart the kernel and clear outputs (`Kernel` $\\rightarrow$ `Restart & Clear Output`) and then run all cells (`Cell` $\\rightarrow$ `Run All`)."
            ]
        }
    ],
    "metadata": {
        "celltoolbar": "Create Assignment",
        "kernelspec": {
            "display_name": "Python 3.7",
            "language": "python",
            "name": "python37"
        },
        "language_info": {
            "codemirror_mode": {
                "name": "ipython",
                "version": 3
            },
            "file_extension": ".py",
            "mimetype": "text\/x-python",
            "name": "python",
            "nbconvert_exporter": "python",
            "pygments_lexer": "ipython3",
            "version": "3.7.5"
        }
    },
    "nbformat": 4,
    "nbformat_minor": 2
}
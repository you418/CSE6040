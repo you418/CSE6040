{
 "cells": [
  {
   "cell_type": "markdown",
   "metadata": {},
   "source": [
    "| &nbsp; | &nbsp; | &nbsp; |\n",
    "|--------|--------|--------|\n",
    "| [Return to Index Notebook](./index.ipynb) | [View on GitHub](https://github.com/hpcgarage/prymer) | [![Open in Colab](https://colab.research.google.com/assets/colab-badge.svg)](https://colab.research.google.com/github/hpcgarage/prymer/blob/master/004-modules.ipynb) |"
   ]
  },
  {
   "cell_type": "markdown",
   "metadata": {},
   "source": [
    "# Modules and Packages"
   ]
  },
  {
   "cell_type": "markdown",
   "metadata": {},
   "source": [
    "Beyond the basic language features covered in earlier notebooks, Python has a rich ecosystem of third-party modules. Think of a module as code someone else has written and packaged up for others to reuse; Python's modules are sometimes called \"libraries\" in other languages."
   ]
  },
  {
   "cell_type": "markdown",
   "metadata": {},
   "source": [
    "You've already seen one example in a previous notebook, namely, the `math` module [docs](https://docs.python.org/3/library/math.html), which defines basic numerical constants and primitives, like the constant $\\pi$ or the transcendental functions (e.g., $\\cos$). You access these functions by first importing the `math` module and then referencing the functions you need using `module.object` syntax:"
   ]
  },
  {
   "cell_type": "code",
   "execution_count": null,
   "metadata": {
    "collapsed": true
   },
   "outputs": [],
   "source": [
    "import math\n",
    "math.cos(math.pi)"
   ]
  },
  {
   "cell_type": "markdown",
   "metadata": {},
   "source": [
    "**Import by alias.** Sometimes a module has a long name, so there are other ways to import it to save a bit of typing."
   ]
  },
  {
   "cell_type": "code",
   "execution_count": null,
   "metadata": {
    "collapsed": true
   },
   "outputs": [],
   "source": [
    "import numpy as np  # You'll use this module a lot more later in the course!\n",
    "np.cos(np.pi)"
   ]
  },
  {
   "cell_type": "markdown",
   "metadata": {},
   "source": [
    "**Importing module contents.** You can also import the contents of a module directly into the current \"namespace,\" so that they are visible as if they were defined locally."
   ]
  },
  {
   "cell_type": "code",
   "execution_count": null,
   "metadata": {
    "collapsed": true
   },
   "outputs": [],
   "source": [
    "from math import cos, pi\n",
    "cos(pi)"
   ]
  },
  {
   "cell_type": "markdown",
   "metadata": {},
   "source": [
    "It is also possible to import _all_ of a module's contents into the current namespace, that is, without having to name each item individually. However, this practice is strongly discouraged; refer to the \"Whirlwind Tour\" book for an explanation of why not."
   ]
  },
  {
   "cell_type": "markdown",
   "metadata": {},
   "source": [
    "## Importing from Python's Standard Library\n",
    "\n",
    "Every Python installation will include the \"standard library,\" which is one collection of handy modules [standard library docs](https://docs.python.org/3/library/). Here are some examples, and you'll see these and others pop up throughout the course.\n",
    "\n",
    "- ``os`` and ``sys``: Tools for interfacing with the operating system, including navigating file directory structures and executing shell commands\n",
    "- ``math`` and ``cmath``: Mathematical functions and operations on real and complex numbers\n",
    "- ``itertools``: Tools for constructing and interacting with iterators and generators\n",
    "- ``functools``: Tools that assist with functional programming\n",
    "- ``random``: Tools for generating pseudorandom numbers\n",
    "- ``json`` and ``csv``: Tools for reading JSON-formatted and CSV-formatted files."
   ]
  },
  {
   "cell_type": "markdown",
   "metadata": {},
   "source": [
    "**Third-party modules.** Besides the standard library, there are many more \"third-party\" modules developed by independent developers and organizations. These include the core data science stack in Python, which includes [Numpy/Scipy](https://www.scipy.org) and [pandas](https://pandas.pydata.org), among others we'll be using. In many cases, to use a particular third-party module you may need to install it first; we won't cover how to do that since in our class you'll be using a particular standard environment."
   ]
  }
 ],
 "metadata": {
  "anaconda-cloud": {},
  "kernelspec": {
   "display_name": "Python 3.7",
   "language": "python",
   "name": "python37"
  },
  "language_info": {
   "codemirror_mode": {
    "name": "ipython",
    "version": 3
   },
   "file_extension": ".py",
   "mimetype": "text/x-python",
   "name": "python",
   "nbconvert_exporter": "python",
   "pygments_lexer": "ipython3",
   "version": "3.6.4"
  }
 },
 "nbformat": 4,
 "nbformat_minor": 1
}

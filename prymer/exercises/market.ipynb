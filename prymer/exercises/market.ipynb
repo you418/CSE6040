{
 "cells": [
  {
   "cell_type": "markdown",
   "metadata": {
    "inputHidden": false,
    "nbgrader": {
     "grade": false,
     "locked": true,
     "solution": false
    },
    "outputHidden": false
   },
   "source": [
    "[![Open in Colab](https://colab.research.google.com/assets/colab-badge.svg)](https://colab.research.google.com/github/hpcgarage/pyboot-g2s3/blob/master/supplemental/market.ipynb)\n",
    "\n",
    "# Exercises: Market-clearing prices\n",
    "\n",
    "## (Sample solutions)\n",
    "\n",
    "In this problem, you will simulate a simple economic market of buyers and sellers who wish to trade a certain product. This problem assesses your ability to translate a procedure into efficient code using elementary Python. There are two (2) exercises worth a total of ten (10) points."
   ]
  },
  {
   "cell_type": "markdown",
   "metadata": {
    "nbgrader": {
     "grade": false,
     "locked": true,
     "solution": false
    }
   },
   "source": [
    "This notebook includes some simple plots to help you understand and debug the output. Run the cell below now, which will define the plotting routines. (You do not need to understand the code inside this cell.)\n",
    "\n",
    "> The test cells in this file compare against data that is included in the repository containing this code. If you are running in some environment (e.g., Google Colab) and need this data, it is available here: https://cse6040.gatech.edu/datasets/market.zip"
   ]
  },
  {
   "cell_type": "code",
   "execution_count": null,
   "metadata": {
    "collapsed": true,
    "inputHidden": false,
    "nbgrader": {
     "grade": false,
     "locked": true,
     "solution": false
    },
    "outputHidden": false
   },
   "outputs": [],
   "source": [
    "import matplotlib.pyplot as plt\n",
    "%matplotlib inline\n",
    "\n",
    "# Adapted from: https://matplotlib.org/gallery/lines_bars_and_markers/barchart.html\n",
    "def autolabel(rects, xpos='center', ax=None):\n",
    "    if ax is None:\n",
    "        ax = plt.gca()\n",
    "    xpos = xpos.lower()  # normalize the case of the parameter\n",
    "    ha = {'center': 'center', 'right': 'left', 'left': 'right'}\n",
    "    offset = {'center': 0.5, 'right': 0.57, 'left': 0.43}  # x_txt = x + w*off\n",
    "    for rect in rects:\n",
    "        height = rect.get_height()\n",
    "        ax.text(rect.get_x() + rect.get_width()*offset[xpos], 1.01*height,\n",
    "                '{}'.format(height), ha=ha[xpos], va='bottom')\n",
    "\n",
    "def viz_market(market):\n",
    "    x = range(len(market))\n",
    "    y = [p for _, p in market]\n",
    "    is_buyer = [t == 'buyer' for t, _ in market]\n",
    "    colors = ['blue' if is_blue else 'gray' for is_blue in is_buyer]\n",
    "\n",
    "    def split_filter(x, f):\n",
    "        x_true = [xi for xi, fi in zip(x, f) if fi]    \n",
    "        x_false = [xi for xi, fi in zip(x, f) if not fi]\n",
    "        return x_true, x_false\n",
    "\n",
    "    x_buyers, x_sellers = split_filter(x, is_buyer)\n",
    "    y_buyers, y_sellers = split_filter(y, is_buyer)\n",
    "\n",
    "    buyer_bars = plt.bar(x_buyers, y_buyers, color='blue', label='buyers')\n",
    "    seller_bars = plt.bar(x_sellers, y_sellers, color='lightgray', label='sellers')\n",
    "    plt.xlabel('Person ID')\n",
    "    plt.title('Price ($)')\n",
    "    plt.legend()\n",
    "    autolabel(buyer_bars)\n",
    "    autolabel(seller_bars)\n",
    "    \n",
    "def fn(fn_base, dirname='./market-data/'):\n",
    "    from os.path import isdir\n",
    "    assert isdir(dirname)\n",
    "    return '{}{}'.format(dirname, fn_base)"
   ]
  },
  {
   "cell_type": "markdown",
   "metadata": {
    "nbgrader": {
     "grade": false,
     "locked": true,
     "solution": false
    }
   },
   "source": [
    "## A simple economic market\n",
    "\n",
    "Consider the following model of an **_(economic) market_**.\n",
    "\n",
    "**Sellers and buyers.** Suppose there are $n$ people, who wish to trade some product, like coffee mugs. The people come in two types: **_sellers_**, who have a coffee mug and wish to sell it, and **_buyers_**, who do not have coffee mugs but wish to acquire one.\n",
    "\n",
    "**Product values and prices.** Each person values a coffee mug differently. That means each seller wants to sell his or her coffee mug at one price, while each buyer wants to buy at (possibly) some other price. These prices might differ from person to person, that is, different sellers want to sell at different prices, and similarly for buyers."
   ]
  },
  {
   "cell_type": "markdown",
   "metadata": {
    "nbgrader": {
     "grade": false,
     "locked": true,
     "solution": false
    }
   },
   "source": [
    "**Example.** Suppose $n=13$ people, of whom $n_s=9$ are sellers and $n_b=4$ buyers. Each seller and buyer values the product, a single coffee mug, at some price.\n",
    "\n",
    "The code cell below defines this market, which is stored in a list named `market_demo`. Each person `i` is represented by `market_demo[i] = (who_i, price_i)`, a tuple where `who_i` is either `'seller'` or `'buyer'`, and `price_i` is the value that person `i` has assigned to a coffee mug that he or she wishes to sell or buy.\n",
    "\n",
    "Run this code cell now to \"create\" this market."
   ]
  },
  {
   "cell_type": "code",
   "execution_count": null,
   "metadata": {
    "collapsed": true,
    "inputHidden": false,
    "nbgrader": {
     "grade": false,
     "locked": true,
     "solution": false
    },
    "outputHidden": false
   },
   "outputs": [],
   "source": [
    "market_demo = [('seller', 1.5), ('seller', 2.0), ('seller', 1.0),\n",
    "               ('seller', 1.5), ('seller', 4.5), ('seller', 1.0),\n",
    "               ('seller', 3.5), ('seller', 3.0), ('buyer', 2.0),\n",
    "               ('buyer', 2.0), ('buyer', 3.5), ('seller', 2.5),\n",
    "               ('buyer', 1.0)]\n",
    "\n",
    "print(market_demo)\n",
    "plt.figure(figsize=(10, 5))\n",
    "viz_market(market_demo)"
   ]
  },
  {
   "cell_type": "markdown",
   "metadata": {
    "nbgrader": {
     "grade": false,
     "locked": true,
     "solution": false
    }
   },
   "source": [
    "Observe that there are 9 sellers, shown as light gray bars, and 4 buyers, shown as darker blue bars. Each bar is labeled by the corresponding person's price. For example, persons 0 and 3 wish to sell their coffee mugs for `$1.50`, whereas person 10 is willing to pay `$3.50`, while person 12 is only willing to pay `$1.00`."
   ]
  },
  {
   "cell_type": "markdown",
   "metadata": {
    "nbgrader": {
     "grade": false,
     "locked": true,
     "solution": false
    }
   },
   "source": [
    "## The market-clearing price\n",
    "\n",
    "Now suppose buyers and sellers start trading their coffee mugs, according to the following procedure:\n",
    "\n",
    "1. Initially, all buyers and sellers are \"unmatched.\"\n",
    "2. Pick any unmatched buyer with the highest price. Similarly, pick any unmatched seller with the lowest price.\n",
    "3. A **_match_** occurs between these two **if** the buyer's price is at least as large as the seller's price. If there is a match, they exchange coffee mugs. This transaction is also called a **_trade_**. Once these two people have executed this trade, they are no longer part of the market.\n",
    "4. Repeat this matching process (steps 2 and 3) among the remaining buyers and sellers, until no matches remain.\n",
    "\n",
    "> What if there is a tie, meaning there are multiple unmatched buyers with the same highest price or multiple unmatched sellers with the same lowest price? In this case, the buyer or seller is selected arbitrarily.\n",
    "\n",
    "For instance, go back to the `market_demo` example.\n",
    "- Initially, there are no matches.\n",
    "- The buyer with the highest price is Person 10, whose value is `$3.50`.\n",
    "- There are two sellers with the same lowest price, Persons 2 and 5, who both value coffee mugs at `$1.00`. Pick either one; let's say, Person 2. Thus, Persons 10 and 2 are \"matched.\" They drop out of the market.\n",
    "- Among remaining buyers, both Persons 8 and 9 have the highest price, who each have a value of `$2.00`. So one of these will be matched against Person 5; let's say it's Person 8. Persons 5 and 8 are matched and drop out.\n",
    "- Then Person 9 will be matched against either Persons 0 or 3, who have the same price of `$1.50`; let's say it's Person 0.\n",
    "\n",
    "Here is what we have so far:\n",
    "\n",
    "| Buyer \\$ | Seller \\$ |        Who?        |\n",
    "|:--------:|:---------:|:------------------:|\n",
    "|   3.5    |    1.0    | $10 \\Leftarrow 2$  |\n",
    "|   2.0    |    1.0    |  $8 \\Leftarrow 5$  |\n",
    "|   2.0    |    1.5    |  $9 \\Leftarrow 0$  |"
   ]
  },
  {
   "cell_type": "markdown",
   "metadata": {
    "inputHidden": false,
    "nbgrader": {
     "grade": false,
     "locked": true,
     "solution": false
    },
    "outputHidden": false
   },
   "source": [
    "As it happens, that is the last possible trade in this market! Person 12 is the only unmatched buyer, but his or her value is only `$1.00`. By contrast, the next unmatched seller is Person 3 with a value of `$1.50`. Since the asking price of `$1.50` exceeds the buyer's price of `$1.00`, they cannot trade. We say the market has **reached equilibrium.**"
   ]
  },
  {
   "cell_type": "markdown",
   "metadata": {
    "inputHidden": false,
    "nbgrader": {
     "grade": false,
     "locked": true,
     "solution": false
    },
    "outputHidden": false
   },
   "source": [
    "**The (market-)clearing price**. Looking at the trades, consider the highest selling price, which in the preceding example was `$1.50`. We refer to this value as the **_market-clearing price_**, or just **_clearing price_**: it is the selling price at which the market has reached an equilibrium and no further trades are possible.\n",
    "\n",
    "> There are other possible definitions of clearing price, but for this problem, please use this one."
   ]
  },
  {
   "cell_type": "markdown",
   "metadata": {
    "nbgrader": {
     "grade": false,
     "locked": true,
     "solution": false
    }
   },
   "source": [
    "## Exercises"
   ]
  },
  {
   "cell_type": "markdown",
   "metadata": {
    "nbgrader": {
     "grade": false,
     "locked": true,
     "solution": false
    }
   },
   "source": [
    "**Exercise 0** (2 points). You do not need to write any code in this exercise. However, you do need to read some code, for which you get a \"almost-free\" 2 points! (You **must** submit the problem to the autograder to get these two points.)\n",
    "\n",
    "To help you get started, we are giving you one function called `p, n = analyze_market(m)` that implements the procedure above. Given a market `m`, it returns two values: the clearing price `p` and the number of trades `t`. If no trades are possible at all, it returns `p=0` and `t=0` (both integers, even though `p` could be fractional in general).\n",
    "\n",
    "Read the code for `analyze_market()` and convince yourself that it implements the trading procedure described previously. As a reminder (and to save you some scrolling), here is that trading procedure, repeated verbatim:\n",
    "\n",
    "1. Initially, all buyers and sellers are \"unmatched.\"\n",
    "2. Pick any unmatched buyer with the highest price. Similarly, pick any unmatched seller with the lowest price.\n",
    "3. A **_match_** occurs between these two **if** the buyer's price is at least as large as the seller's price. If there is a match, they exchange coffee mugs. This transaction is also called a **_trade_**. Once these two people have executed this trade, they are no longer part of the market.\n",
    "4. Repeat this matching process (steps 2 and 3) among the remaining buyers and sellers, until no matches remain.\n",
    "\n",
    "> What if there is a tie, meaning there are multiple unmatched buyers with the same highest price or multiple unmatched sellers with the same lowest price? In this case, the buyer or seller is selected arbitrarily."
   ]
  },
  {
   "cell_type": "code",
   "execution_count": null,
   "metadata": {
    "collapsed": true,
    "inputHidden": false,
    "nbgrader": {
     "grade": true,
     "grade_id": "ex0_freebie",
     "locked": true,
     "points": "2",
     "solution": false
    },
    "outputHidden": false
   },
   "outputs": [],
   "source": [
    "# Test cell: `ex0_freebie` (2 points)\n",
    "\n",
    "def analyze_market(market, verbose=False):\n",
    "    buy_prices = [price for who, price in market if who == 'buyer']\n",
    "    sell_prices = [price for who, price in market if who == 'seller']\n",
    "    trades = [] # Tracks trades\n",
    "    unmatched = buy_prices and sell_prices\n",
    "    while unmatched:\n",
    "        i_buyer = buy_prices.index(max(buy_prices))\n",
    "        i_seller = sell_prices.index(min(sell_prices))\n",
    "        if buy_prices[i_buyer] >= sell_prices[i_seller]: # A match!\n",
    "            trades.append((buy_prices[i_buyer], sell_prices[i_seller]))\n",
    "            del buy_prices[i_buyer]\n",
    "            del sell_prices[i_seller]\n",
    "            unmatched = buy_prices and sell_prices\n",
    "        else:\n",
    "            unmatched = False # Stops trading\n",
    "    if verbose: print(trades)\n",
    "    if trades:\n",
    "        return trades[-1][1], len(trades)\n",
    "    return int(0), int(0)\n",
    "\n",
    "clearing_price_demo, num_trades_demo = analyze_market(market_demo, verbose=True)\n",
    "print(\"The clearing price is ${:.2f}.\".format(clearing_price_demo))\n",
    "print(\"There were {} trades.\".format(num_trades_demo))\n",
    "\n",
    "print(\"\\n(Passed!)\")"
   ]
  },
  {
   "cell_type": "markdown",
   "metadata": {
    "nbgrader": {
     "grade": false,
     "locked": true,
     "solution": false
    }
   },
   "source": [
    "**Creating a random market.** For the next few exercises, we'll need a function that can create a random market.\n",
    "\n",
    "The function `create_random_market(num_people, prob_buyer, max_price)` will randomly generate a market in the form of a list of tuples formatted just like `market_demo`, above. Its parameters are:\n",
    "\n",
    "- `num_people`: The number of people in the market\n",
    "- `prob_buyer`: The probability that a given person should be a buyer, rather than a seller.\n",
    "- `max_price`: The maximum value that can be assigned to any buyer or seller.\n",
    "\n",
    "Each value (price) will be an integer drawn uniformly at random from the _closed_ interval `[1, max_price]`, that is, inclusive of 1 and `max_price`.\n",
    "\n",
    "Recall that `market_demo` looked like the following (run the next cell):"
   ]
  },
  {
   "cell_type": "code",
   "execution_count": null,
   "metadata": {
    "collapsed": true,
    "inputHidden": false,
    "nbgrader": {
     "grade": false,
     "locked": true,
     "solution": false
    },
    "outputHidden": false
   },
   "outputs": [],
   "source": [
    "print(market_demo)"
   ]
  },
  {
   "cell_type": "markdown",
   "metadata": {
    "nbgrader": {
     "grade": false,
     "locked": true,
     "solution": false
    }
   },
   "source": [
    "And here is the `create_random_market` function; as a quick demo, run it a few times."
   ]
  },
  {
   "cell_type": "code",
   "execution_count": null,
   "metadata": {
    "collapsed": true,
    "inputHidden": false,
    "nbgrader": {
     "grade": false,
     "locked": true,
     "solution": false
    },
    "outputHidden": false
   },
   "outputs": [],
   "source": [
    "def random_person(prob_buyer, max_price):\n",
    "    from random import uniform, randrange\n",
    "    who = 'buyer' if uniform(0, 1) < prob_buyer else 'seller'\n",
    "    price = randrange(1, max_price+1)\n",
    "    return (who, price)\n",
    "\n",
    "def create_random_market(num_people, prob_buyer, max_price):\n",
    "    return [random_person(prob_buyer, max_price) for _ in range(num_people)]\n",
    "\n",
    "# Demo:\n",
    "market_demo2 = create_random_market(8, 0.3, 10)\n",
    "viz_market(market_demo2)"
   ]
  },
  {
   "cell_type": "markdown",
   "metadata": {
    "inputHidden": false,
    "nbgrader": {
     "grade": false,
     "locked": true,
     "solution": false
    },
    "outputHidden": false
   },
   "source": [
    "**Exercise 1** (2 points). Next, you will implement a function that simulates market trading.\n",
    "\n",
    "In particular, you will define this function:\n",
    "\n",
    "```python\n",
    "def simulate(prob_buyer, num_people, max_price, num_trials):\n",
    "    ...\n",
    "```\n",
    "\n",
    "One input is `num_trials`, which is the number of simulation trials to run. In each trial, your code should:\n",
    "\n",
    "- Randomly generate a market with `num_people` people, where the probability of being a buyer is `prob_buyer` and the maximum price for any buyer or seller is `max_price`, drawn uniformly at random from 1 to `max_price`, inclusive. _Hint: Use a function that appears earlier in this notebook._\n",
    "- Call `analyze_market()` to analyze that market.\n",
    "- Record the clearing price and number of trades as a tuple (pair).\n",
    "- Return all of these pairs in a list.\n",
    "\n",
    "For example,\n",
    "\n",
    "```python\n",
    "    simulate(0.5, 8, 10, 5)\n",
    "```\n",
    "\n",
    "might return the list of pairs, `[(10, 2), (3, 3), (10, 2), (9, 1), (15, 2)]`, which has one entry per trial and 5 trials in all, and each entry is a (clearing price, number of trades) pair. (This is just an example of the format of the output; since the markets will be generated randomly, you will see different values.)\n",
    "\n",
    "There are two test cells, so you can get partial credit. The first is just a quick demo; if your simulation is on the right track, you should see that when there are many more sellers than buyers, then the clearing price is low; and in the opposite scenario, the clearing price will be high."
   ]
  },
  {
   "cell_type": "code",
   "execution_count": null,
   "metadata": {
    "collapsed": true,
    "inputHidden": false,
    "outputHidden": false
   },
   "outputs": [],
   "source": [
    "def simulate(prob_buyer, num_people, max_price, num_trials):\n",
    "    ###\n",
    "    ### YOUR CODE HERE\n",
    "    ###"
   ]
  },
  {
   "cell_type": "code",
   "execution_count": null,
   "metadata": {
    "collapsed": true,
    "inputHidden": false,
    "nbgrader": {
     "grade": true,
     "grade_id": "ex1_0_quick_run",
     "locked": true,
     "points": "1",
     "solution": false
    },
    "outputHidden": false
   },
   "outputs": [],
   "source": [
    "# Test cell 0: `ex1_0_quick_run` (1 point)\n",
    "\n",
    "def avg_clearing_price(sim_results):\n",
    "    return sum([price for price, _ in sim_results]) / len(sim_results)\n",
    "\n",
    "def avg_trades(sim_results):\n",
    "    return sum([trades for _, trades in sim_results]) / len(sim_results)\n",
    "\n",
    "def viz_counts(values, counts, norm=True, ax=None, title=''):\n",
    "    if ax is None: ax = plt.gca()\n",
    "    if norm:\n",
    "        s = sum(counts)\n",
    "        y = [c/s for c in counts]\n",
    "    else:\n",
    "        y = counts\n",
    "    bars = ax.bar(values, y)\n",
    "    ax.set_xlabel('Values')\n",
    "    ax.set_ylabel('Fraction ({} trials)'.format(s) if norm else 'Counts')\n",
    "    ax.set_title(title)\n",
    "    return bars\n",
    "\n",
    "def get_counts_sorted_by_value(x, values=None):\n",
    "    from collections import Counter\n",
    "    counts_table = Counter(x)\n",
    "    if values is None:\n",
    "        pairs = sorted(counts_table.items(), key=lambda x: x[0])\n",
    "        values = [v for v, _ in pairs]\n",
    "        counts = [c for _, c in pairs]\n",
    "    else:\n",
    "        values = list(values)\n",
    "        counts = [counts_table.get(v, 0) for v in values]\n",
    "    return values, counts\n",
    "    \n",
    "NUM_PEOPLE = 100\n",
    "MAX_PRICE = 10\n",
    "NUM_TRIALS = 1000\n",
    "CASES__AVG_BUYERS = [10, 90, 50]\n",
    "all_results = []\n",
    "for avg_buyers in CASES__AVG_BUYERS:\n",
    "    results = simulate(avg_buyers/NUM_PEOPLE, NUM_PEOPLE, MAX_PRICE, NUM_TRIALS)\n",
    "    print(\"\"\"\n",
    "==================================================\n",
    "Consider a market of {} people, of whom about {} are buyers on average.\n",
    "Suppose a given product is worth at most ${} to any buyer or seller.\n",
    "Then, {} trials of your simulation suggests that ...\n",
    "\"\"\".format(NUM_PEOPLE, avg_buyers, MAX_PRICE, NUM_TRIALS))\n",
    "    print(\"* the average clearing price is ${}; and\".format(avg_clearing_price(results)))\n",
    "    print(\"* the average number of trades is {}.\".format(avg_trades(results)))\n",
    "    all_results.append(results)\n",
    "    price_values, price_counts = get_counts_sorted_by_value([p for p, _ in results],\n",
    "                                                            values=range(0, MAX_PRICE+1))\n",
    "    trade_values, trade_counts = get_counts_sorted_by_value([t for _, t in results],\n",
    "                                                            values=range(0, (NUM_PEOPLE+2)//2))\n",
    "\n",
    "    fig, ax = plt.subplots(1, 2, figsize=(12, 4))\n",
    "    subtitle = '\\nn={} people, b={} buyers (expected), max price={}'.format(NUM_PEOPLE, avg_buyers, MAX_PRICE)\n",
    "    viz_counts(price_values, price_counts, ax=ax[0], title='Prices{}'.format(subtitle))\n",
    "    viz_counts(trade_values, trade_counts, ax=ax[1], title='Trades{}'.format(subtitle))\n",
    "    \n",
    "print(\"\\n(Passed!)\")"
   ]
  },
  {
   "cell_type": "code",
   "execution_count": null,
   "metadata": {
    "collapsed": true,
    "inputHidden": false,
    "nbgrader": {
     "grade": true,
     "grade_id": "ex1_1_random_tests",
     "locked": true,
     "points": "1",
     "solution": false
    },
    "outputHidden": false
   },
   "outputs": [],
   "source": [
    "# Test cell: `ex1_1_random_tests` (1 point)\n",
    "\n",
    "def check_dist(dist, obs, title=None):\n",
    "    from scipy.stats import kstest, ks_2samp\n",
    "    from numpy import array\n",
    "    exp_obs = []\n",
    "    for v, c in zip(dist.index, dist['freq']):\n",
    "        exp_obs += [v] * int(c * len(obs))\n",
    "    D, p = ks_2samp(obs, array(exp_obs))\n",
    "    if title is not None: # Verbose mode\n",
    "        print(\"{}: D={}, p={}\".format(title, D, p))\n",
    "    assert p > 0.1, \"There is something fishy about the values produced by your simulation. Keep trying! (D={}, p={})\".format(D, p)\n",
    "    \n",
    "def read_dist(filepath):\n",
    "    from pandas import read_csv\n",
    "    pmf = read_csv(filepath)\n",
    "    cdf = pmf.set_index('value')\n",
    "    cdf['cfreq'] = cdf['freq'].cumsum()\n",
    "    return cdf\n",
    "\n",
    "def check_sim_results(avg_buyers, results, title=None):\n",
    "    prices_dist = read_dist(fn('prices--n{}--eb{}--p{}.csv'.format(NUM_PEOPLE, avg_buyers, MAX_PRICE)))\n",
    "    prices_obs = [p for p, _ in results]\n",
    "    check_dist(prices_dist, prices_obs, title)\n",
    "    \n",
    "    trades_dist = read_dist(fn('trades--n{}--eb{}--p{}.csv'.format(NUM_PEOPLE, avg_buyers, MAX_PRICE)))\n",
    "    trades_obs = [t for _, t in results]\n",
    "    check_dist(trades_dist, trades_obs, title)\n",
    "\n",
    "NUM_PEOPLE = 100\n",
    "MAX_PRICE = 10\n",
    "NUM_TRIALS = 1000\n",
    "CASES__AVG_BUYERS = [10, 90, 50]\n",
    "    \n",
    "for avg_buyers in CASES__AVG_BUYERS:\n",
    "    results = simulate(avg_buyers/NUM_PEOPLE, NUM_PEOPLE, MAX_PRICE, NUM_TRIALS)\n",
    "    assert len(results) == NUM_TRIALS, \"Did not return the correct number of results.\"\n",
    "    check_sim_results(avg_buyers, results, title='avg_buyers={}'.format(avg_buyers))\n",
    "    \n",
    "print(\"\\n(Passed!)\")"
   ]
  },
  {
   "cell_type": "markdown",
   "metadata": {
    "nbgrader": {
     "grade": false,
     "locked": true,
     "solution": false
    }
   },
   "source": [
    "**Timing.** Let's measure how long it takes to run `analyze_market()` for a \"large\" market, i.e., one with many people."
   ]
  },
  {
   "cell_type": "code",
   "execution_count": null,
   "metadata": {
    "collapsed": true,
    "inputHidden": false,
    "nbgrader": {
     "grade": false,
     "locked": false,
     "solution": false
    },
    "outputHidden": false
   },
   "outputs": [],
   "source": [
    "market_for_timing = create_random_market(20000, 0.5, 100)\n",
    "%timeit analyze_market(market_for_timing)"
   ]
  },
  {
   "cell_type": "markdown",
   "metadata": {
    "inputHidden": false,
    "nbgrader": {
     "grade": false,
     "locked": true,
     "solution": false
    },
    "outputHidden": false
   },
   "source": [
    "**Exercise 2** (6 points). The `analyze_market()` function is slow. Come up with a more efficient implementation.\n",
    "\n",
    "There will be both a correctness test (1 point) and a timing test (5 points). The timing test below will check that your implementation is at least **50 times faster** than `analyze_market()` on an input comparable to `market_for_timing`, as generated above. There is no partial credit for anything that does not beat this threshold.\n",
    "\n",
    "> _Hint._ You may be tempted to start with the `analyze_market()` but replace lists with Numpy arrays. While that may work (we didn't try it), our sample solution handily beats the target threshold using only standard Python (no Numpy!) but with a better algorithm. In particular, rather than literally implementing the trading procedure, as `analyze_market()` does, see if you can find a different way to perform the same analysis."
   ]
  },
  {
   "cell_type": "code",
   "execution_count": null,
   "metadata": {
    "collapsed": true,
    "inputHidden": false,
    "outputHidden": false
   },
   "outputs": [],
   "source": [
    "def analyze_market_faster(market, verbose=False):\n",
    "    ###\n",
    "    ### YOUR CODE HERE\n",
    "    ###\n",
    "    \n",
    "clearing_price0, trades0 = analyze_market(market_demo, verbose=True)\n",
    "clearing_price1, trades1 = analyze_market_faster(market_demo, verbose=True)\n",
    "print(\"Baseline: The clearing price is ${} with {} trades.\".format(clearing_price0, trades0))\n",
    "print(\"Your method: The clearing price is ${} with {} trades.\".format(clearing_price1, trades1))"
   ]
  },
  {
   "cell_type": "code",
   "execution_count": null,
   "metadata": {
    "collapsed": true,
    "nbgrader": {
     "grade": false,
     "locked": false,
     "solution": false
    }
   },
   "outputs": [],
   "source": [
    "# This code cell times your method and is here for debugging purposes\n",
    "%timeit analyze_market_faster(market_for_timing)"
   ]
  },
  {
   "cell_type": "markdown",
   "metadata": {
    "nbgrader": {
     "grade": false,
     "locked": true,
     "solution": false
    }
   },
   "source": [
    "The following two cells are the tests for Exercise 2 that you must pass to get points."
   ]
  },
  {
   "cell_type": "code",
   "execution_count": null,
   "metadata": {
    "collapsed": true,
    "inputHidden": false,
    "nbgrader": {
     "grade": true,
     "grade_id": "analyze_market_faster_correctness",
     "locked": true,
     "points": "1",
     "solution": false
    },
    "outputHidden": false
   },
   "outputs": [],
   "source": [
    "# Test cell 0: `analyze_market_faster_correctness` (1 point)\n",
    "import random\n",
    "\n",
    "print(\"Checking corner cases...\")\n",
    "assert analyze_market([]) == analyze_market_faster([])\n",
    "assert analyze_market([(1, 'buyer')]) == analyze_market_faster([(1, 'buyer')])\n",
    "assert analyze_market([(1, 'seller')]) == analyze_market_faster([(1, 'seller')])\n",
    "\n",
    "print(\"Checking random cases...\")\n",
    "for trial_num in range(1, 11): # 10 random trials\n",
    "    num_people_for_testing = random.randrange(1, 10)\n",
    "    avg_buyers_for_testing = random.randrange(num_people_for_testing+1)\n",
    "    prob_buyer_for_testing = avg_buyers_for_testing / num_people_for_testing\n",
    "    max_price_for_testing = random.randrange(5, 20)\n",
    "    print(\"Trial {}: {} people, {} buyers (expected; prob={}), max price of ${}\".format(trial_num,\n",
    "                                                                                        num_people_for_testing,\n",
    "                                                                                        avg_buyers_for_testing,\n",
    "                                                                                        prob_buyer_for_testing,\n",
    "                                                                                        max_price_for_testing))\n",
    "    market_for_testing = create_random_market(num_people_for_testing, prob_buyer_for_testing, max_price_for_testing)\n",
    "    naive_result = analyze_market(market_for_testing)\n",
    "    your_result = analyze_market_faster(market_for_testing)\n",
    "    assert your_result == naive_result, \"Results do not match on this market (`market_for_testing`):\\n\\t{}.\\nYour result is {} while the baseline produces {}.\".format(market_for_testing, your_result, naive_result)\n",
    "    \n",
    "print(\"\\n(Passed!)\")"
   ]
  },
  {
   "cell_type": "code",
   "execution_count": null,
   "metadata": {
    "collapsed": true,
    "inputHidden": false,
    "nbgrader": {
     "grade": true,
     "grade_id": "analyze_market_faster_speed",
     "locked": true,
     "points": "5",
     "solution": false
    },
    "outputHidden": false
   },
   "outputs": [],
   "source": [
    "# Test cell 1: `analyze_market_faster_speed` (5 points)\n",
    "\n",
    "print(\"Checking random cases again...\")\n",
    "for trial_num in range(1, 11): # 10 random trials\n",
    "    num_people_for_testing = random.randrange(1, 10)\n",
    "    avg_buyers_for_testing = random.randrange(num_people_for_testing+1)\n",
    "    prob_buyer_for_testing = avg_buyers_for_testing / num_people_for_testing\n",
    "    max_price_for_testing = random.randrange(5, 20)\n",
    "    print(\"Trial {}: {} people, {} buyers (expected; prob={}), max price of ${}\".format(trial_num,\n",
    "                                                                                        num_people_for_testing,\n",
    "                                                                                        avg_buyers_for_testing,\n",
    "                                                                                        prob_buyer_for_testing,\n",
    "                                                                                        max_price_for_testing))\n",
    "    market_for_testing = create_random_market(num_people_for_testing, prob_buyer_for_testing, max_price_for_testing)\n",
    "    naive_result = analyze_market(market_for_testing)\n",
    "    your_result = analyze_market_faster(market_for_testing)\n",
    "    assert your_result == naive_result, \"Results do not match on this market (`market_for_testing`):\\n\\t{}.\\nYour result is {} while the baseline produces {}.\".format(market_for_testing, your_result, naive_result)\n",
    "\n",
    "market_for_timing2 = create_random_market(20000, 0.5, 100)\n",
    "\n",
    "print(\"Timing the naive method...\")\n",
    "t_naive = %timeit -o analyze_market(market_for_timing2)\n",
    "\n",
    "print(\"\\nTiming your method...\")\n",
    "t_you = %timeit -o analyze_market_faster(market_for_timing2)\n",
    "\n",
    "speedup = t_naive.average / t_you.average\n",
    "print(\"\\nYour method is {:.1f}x faster than the baseline.\".format(speedup))\n",
    "assert speedup >= 50, \"Sorry, not yet fast enough!\"\n",
    "\n",
    "print(\"\\n(Passed!)\")"
   ]
  },
  {
   "cell_type": "markdown",
   "metadata": {
    "nbgrader": {
     "grade": false,
     "locked": true,
     "solution": false
    }
   },
   "source": [
    "**Fin!** That's the end of this problem. Don't forget to try running it from top-to-bottom to make sure that it works, and then be sure to submit it and verify that it also passes the autograder."
   ]
  }
 ],
 "metadata": {
  "kernel_info": {
   "name": "python3"
  },
  "kernelspec": {
   "display_name": "Python 3.7",
   "language": "python",
   "name": "python37"
  },
  "language_info": {
   "codemirror_mode": {
    "name": "ipython",
    "version": 3
   },
   "file_extension": ".py",
   "mimetype": "text/x-python",
   "name": "python",
   "nbconvert_exporter": "python",
   "pygments_lexer": "ipython3",
   "version": "3.7.5"
  },
  "nteract": {
   "version": "0.12.3"
  }
 },
 "nbformat": 4,
 "nbformat_minor": 4
}

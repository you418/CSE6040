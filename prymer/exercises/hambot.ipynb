{
 "cells": [
  {
   "cell_type": "markdown",
   "metadata": {},
   "source": [
    "[![Open in Colab](https://colab.research.google.com/assets/colab-badge.svg)](https://colab.research.google.com/github/hpcgarage/pyboot-g2s3/blob/master/supplemental/hambot.ipynb)\n",
    "\n",
    "# Exercises: Hamlet Sentence Generator\n",
    "\n",
    "Who needs Shakespeare when we've got Python? In the following series of exercises, we will create a function that will generate Shakesepearan-sounding phrases. All of the words in our phrase generator come from Act 3, Scene 1 of Shakespeare's Hamlet. \n",
    "\n",
    "But we won't just be stringing random words together. To make our phrases sound (slightly) coherent, every new word in our phrase will be a word that followed the previous word in the original Shakespearean text.\n",
    "\n",
    "We will accomplish this in three steps. First, we will tidy the text of the scene, breaking each sentence into an ordered list of the words in that sentence. Second, we will create a dictionary where the keys are words from the text, and the values are lists of the words that immediately follow the key words in the dialogue. Finally,  we will create a phrase generator that will use that dictionary by starting with a key word, randomly selecting a word from the list of words that follows it, adding that word to our phrase, and repeating the process."
   ]
  },
  {
   "cell_type": "markdown",
   "metadata": {},
   "source": [
    "Here's the text of Hamlet Act 3, Scene 1. Run the next code cell"
   ]
  },
  {
   "cell_type": "code",
   "execution_count": null,
   "metadata": {
    "collapsed": true
   },
   "outputs": [],
   "source": [
    "hamlet_text = \"\"\"\n",
    "\n",
    "And can you by no drift of circumstance Get from him why he puts on this confusion Grating so harshly all his days of \n",
    "quiet With turbulent and dangerous lunacy? He does confess he feels himself distracted. But from what cause he will by \n",
    "no means speak. Nor do we find him forward to be sounded But with a crafty madness keeps aloof When we would bring \n",
    "him on to some confession Of his true state. Did he receive you well? Most like a gentleman. But with much forcing of \n",
    "his disposition. Niggard of question. but of our demands Most free in his reply. Did you assay him? To any pastime? \n",
    "Madam it so fell out that certain players We o'er-raught on the way. of these we told him. And there did seem in him a \n",
    "kind of joy To hear of it. they are about the court And as I think they have already order This night to play before \n",
    "him. 'Tis most true. And he beseech'd me to entreat your majesties To hear and see the matter. With all my heart. and \n",
    "it doth much content me To hear him so inclined. Good gentlemen give him a further edge And drive his purpose on to \n",
    "these delights. We shall my lord. Sweet Gertrude leave us too. For we have closely sent for Hamlet hither That he as \n",
    "'twere by accident may here Affront Ophelia. Her father and myself lawful espials Will so bestow ourselves that seeing \n",
    "unseen We may of their encounter frankly judge And gather by him as he is behaved If 't be the affliction of his love \n",
    "or no That thus he suffers for. I shall obey you. And for your part Ophelia I do wish That your good beauties be the \n",
    "happy cause Of Hamlet's wildness. so shall I hope your virtues Will bring him to his wonted way again To both your \n",
    "honours. Madam I wish it may. Ophelia walk you here. Gracious so please you We will bestow ourselves. Read on this \n",
    "book. That show of such an exercise may colour Your loneliness. We are oft to blame in this 'Tis too much proved that \n",
    "with devotion's visage And pious action we do sugar o'er The devil himself. O 'tis too true! How smart a lash that \n",
    "speech doth give my conscience! The harlot's cheek beautied with plastering art Is not more ugly to the thing that \n",
    "helps it Than is my deed to my most painted word. O heavy burthen! I hear him coming. let's withdraw my lord. To be \n",
    "or not to be. that is the question. Whether 'tis nobler in the mind to suffer The slings and arrows of outrageous \n",
    "fortune Or to take arms against a sea of troubles And by opposing end them? To die. to sleep. No more. and by a sleep \n",
    "to say we end The heart-ache and the thousand natural shocks That flesh is heir to 'tis a consummation Devoutly to be \n",
    "wish'd. To die to sleep. To sleep. perchance to dream. ay there's the rub. For in that sleep of death what dreams may \n",
    "come When we have shuffled off this mortal coil Must give us pause. there's the respect That makes calamity of so long \n",
    "life. For who would bear the whips and scorns of time The oppressor's wrong the proud man's contumely The pangs of \n",
    "despised love the law's delay The insolence of office and the spurns That patient merit of the unworthy takes When he \n",
    "himself might his quietus make With a bare bodkin? who would fardels bear To grunt and sweat under a weary life But \n",
    "that the dread of something after death The undiscover'd country from whose bourn No traveller returns puzzles the \n",
    "will And makes us rather bear those ills we have Than fly to others that we know not of? Thus conscience does make \n",
    "cowards of us all. And thus the native hue of resolution Is sicklied o'er with the pale cast of thought And \n",
    "enterprises of great pith and moment With this regard their currents turn awry And lose the name of action. Soft you \n",
    "now! The fair Ophelia! Nymph in thy orisons Be all my sins remember'd. Good my lord How does your honour for this \n",
    "many a day? I humbly thank you. well well well. My lord I have remembrances of yours That I have longed long to \n",
    "re-deliver. I pray you now receive them. No not I. I never gave you aught. My honour'd lord you know right well you \n",
    "did. And with them words of so sweet breath composed As made the things more rich. their perfume lost Take these \n",
    "again. for to the noble mind Rich gifts wax poor when givers prove unkind. There my lord. Ha ha! are you honest? My \n",
    "lord? Are you fair? What means your lordship? That if you be honest and fair your honesty should admit no discourse \n",
    "to your beauty. Could beauty my lord have better commerce than with honesty? Ay truly. for the power of beauty will \n",
    "sooner transform honesty from what it is to a bawd than the force of honesty can translate beauty into his likeness. \n",
    "this was sometime a paradox but now the time gives it proof. I did love you once. Indeed my lord you made me believe \n",
    "so. You should not have believed me. for virtue cannot so inoculate our old stock but we shall relish of it. I loved \n",
    "you not. I was the more deceived. Get thee to a nunnery. why wouldst thou be a breeder of sinners? I am myself \n",
    "indifferent honest. but yet I could accuse me of such things that it were better my mother had not borne me. I am \n",
    "very proud revengeful ambitious with more offences at my beck than I have thoughts to put them in imagination to give \n",
    "them shape or time to act them in. What should such fellows as I do crawling between earth and heaven? We are arrant \n",
    "knaves all. believe none of us. Go thy ways to a nunnery. Where's your father? At home my lord. Let the doors be shut \n",
    "upon him that he may play the fool no where but in's own house. Farewell. O help him you sweet heavens! If thou dost \n",
    "marry I'll give thee this plague for thy dowry. be thou as chaste as ice as pure as snow thou shalt not escape \n",
    "calumny. Get thee to a nunnery go. farewell. Or if thou wilt needs marry marry a fool. for wise men know well enough \n",
    "what monsters you make of them. To a nunnery go and quickly too. Farewell. O heavenly powers restore him! I have \n",
    "heard of your paintings too well enough. God has given you one face and you make yourselves another. you jig you \n",
    "amble and you lisp and nick-name God's creatures and make your wantonness your ignorance. Go to I'll no more on't. \n",
    "it hath made me mad. I say we will have no more marriages. those that are married already all but one shall live. the \n",
    "rest shall keep as they are. To a nunnery go. O what a noble mind is here o'erthrown! The courtier's soldier's \n",
    "scholar's eye tongue sword. The expectancy and rose of the fair state The glass of fashion and the mould of form The \n",
    "observed of all observers quite quite down! And I of ladies most deject and wretched That suck'd the honey of his \n",
    "music vows Now see that noble and most sovereign reason Like sweet bells jangled out of tune and harsh. That \n",
    "unmatch'd form and feature of blown youth Blasted with ecstasy. O woe is me To have seen what I have seen see what I \n",
    "see! Love! his affections do not that way tend. Nor what he spake though it lack'd form a little Was not like madness. \n",
    "There's something in his soul O'er which his melancholy sits on brood. And I do doubt the hatch and the disclose Will \n",
    "be some danger. which for to prevent I have in quick determination Thus set it down. he shall with speed to England \n",
    "For the demand of our neglected tribute Haply the seas and countries different With variable objects shall expel \n",
    "This something-settled matter in his heart Whereon his brains still beating puts him thus From fashion of himself. \n",
    "What think you on't? It shall do well. but yet do I believe The origin and commencement of his grief Sprung from \n",
    "neglected love. How now Ophelia! You need not tell us what Lord Hamlet said. We heard it all. My lord do as you \n",
    "please. But if you hold it fit after the play Let his queen mother all alone entreat him To show his grief. let her \n",
    "be round with him. And I'll be placed so please you in the ear Of all their conference. If she find him not To England \n",
    "send him or confine him where Your wisdom best shall think. It shall be so. Madness in great ones must not unwatch'd \n",
    "go.\n",
    "\n",
    "\"\"\""
   ]
  },
  {
   "cell_type": "markdown",
   "metadata": {},
   "source": [
    "**Exercise 0 (3 pts)**: Create a list of lists, named `hamsplits`, such that `hamsplits[i]` is a list of all the words in the `i`-th sentence of the text. The sentences should be stored in the order that they appear, and so should the words within each sentence.\n",
    "\n",
    "Regarding how to break up the text into sentences and how to store the words, the guidelines are as follows:\n",
    "\n",
    "* Sentences end with `'.'`, `'?'`, and `'!'`.\n",
    "* You should convert all letters to lowercase.\n",
    "* For each word, strip out any punctuation.\n",
    "\n",
    "For instance, in the text above, the first and last sentences would be:\n",
    "\n",
    "```python\n",
    "hamsplits[0] == ['and', 'can', 'you', 'by', ..., 'dangerous', 'lunacy']\n",
    "hamsplits[-1] == ['madness', 'in', 'great', ..., 'not', 'unwatchd', 'go']\n",
    "```"
   ]
  },
  {
   "cell_type": "code",
   "execution_count": null,
   "metadata": {
    "collapsed": true
   },
   "outputs": [],
   "source": [
    "hamsplits = []\n",
    "\n",
    "###\n",
    "### YOUR CODE HERE\n",
    "###"
   ]
  },
  {
   "cell_type": "code",
   "execution_count": null,
   "metadata": {
    "collapsed": true,
    "nbgrader": {
     "grade": true,
     "grade_id": "hamsplit",
     "locked": true,
     "points": "3",
     "solution": false
    }
   },
   "outputs": [],
   "source": [
    "#  Hamsplit test Cell\n",
    "\n",
    "assert type(hamsplits) is list\n",
    "assert len(hamsplits) == 145, \"You found {} sentences instead of 145.\".format(len(hamsplits))\n",
    "for i, w in [(4, ['did', 'he', 'receive', 'you', 'well']),\n",
    "             (5, ['most', 'like', 'a', 'gentleman']),\n",
    "             (21, ['sweet', 'gertrude', 'leave', 'us', 'too'])]:\n",
    "    print('Sentence {} has the words {}'.format(i, w), \"-->\", 'Your hamsplits says {}'.format(hamsplits[i]))\n",
    "    assert hamsplits[i] == w\n",
    "    \n",
    "print(\"\\n(Passed!)\")"
   ]
  },
  {
   "cell_type": "markdown",
   "metadata": {},
   "source": [
    "**Exercise 1 (3 pts)**: Now create a sequential pairs dictionary, called `hamdict`, with `key` being each word in `hamsplits` and `value` being the list of words that immediately following it. If no words ever follow the given word, then it should not appear as a key in `hamdict`.\n",
    "\n",
    "For example, if `hamsplits == [ ['i', 'love', 'georgia', 'tech'], ['gotta', 'love', 'python'] ]`, then\n",
    "\n",
    "```python\n",
    "    hamdict == {'i': ['love'], 'love': ['georgia', 'python'], 'georgia': ['tech'], 'gotta': ['love']}\n",
    "```\n",
    "\n",
    "Notice that no words ever follow `'tech'` nor `'python'`; therefore, they do not appear as keys in `hamdict`."
   ]
  },
  {
   "cell_type": "code",
   "execution_count": null,
   "metadata": {
    "collapsed": true
   },
   "outputs": [],
   "source": [
    "# We now want to make a sequential pairs dictionary. \n",
    "hamdict = {}\n",
    "\n",
    "###\n",
    "### YOUR CODE HERE\n",
    "###"
   ]
  },
  {
   "cell_type": "code",
   "execution_count": null,
   "metadata": {
    "collapsed": true,
    "nbgrader": {
     "grade": true,
     "grade_id": "hamdict",
     "locked": true,
     "points": "3",
     "solution": false
    },
    "scrolled": true
   },
   "outputs": [],
   "source": [
    "# Hamdict test cell\n",
    "assert type(hamdict) is dict\n",
    "assert len(hamdict) == 552\n",
    "\n",
    "ans_key = {'some': ['confession', 'danger'],\n",
    "           'thou': ['be', 'dost', 'as', 'shalt', 'wilt'],\n",
    "           'should': ['admit', 'not', 'such']}\n",
    "\n",
    "for k, v in ans_key.items():\n",
    "    assert hamdict[k] == v\n",
    "\n",
    "print (\"\\n(Passed!)\")"
   ]
  },
  {
   "cell_type": "markdown",
   "metadata": {
    "collapsed": true
   },
   "source": [
    "**Exercise 2 (4 pts)**: Now it's time to build your folio! \n",
    "\n",
    "Below, write a function, `hambot`, that takes a starter word from your dictionary and builds a Shakespearean-sounding phrase, returning it as a string. \n",
    "\n",
    "Your function should randomly select one of the words that follows your starter word, add it to your phrase, and then repeat the process with this new word. This process should continue until either your function reaches a word that is not a key in your dictionary, or the phrase reaches the specified length. Your function should then return this phrase as a string (all lowercase, with no punctuation).\n",
    "\n",
    "The function takes two optional parameters, `length` and `starter`. `length` is an integer which is the number of words long your output phrase should be. If the `length` parameter is not supplied, your function should default to attempting to produce a 5-word phrase.\n",
    "\n",
    "`starter` is the first word to start your phrase.  If `starter` is not supplied, your function should choose a word at random from among the keys in your dictionary.\n",
    "\n",
    "As an example, if your function starts with the word \"some,\" the second word in your phrase would be either \"confession\" or \"danger,\" the two words that follow \"some.\" If it selected \"confession,\" the third word would be \"of,\" which is the only word that follows \"confession.\" The fourth word would be randomly chosen from the 38 words that follow \"of.\" In other words,\n",
    "\n",
    "```python\n",
    "hambot(4, \"some\")\n",
    "```\n",
    "\n",
    ".... should return a string like, `\"some confession of circumstance\"`.\n",
    "\n",
    "> Note: A useful Python function for choosing a random element of a list is `random.choice()`."
   ]
  },
  {
   "cell_type": "code",
   "execution_count": null,
   "metadata": {
    "collapsed": true
   },
   "outputs": [],
   "source": [
    "import random\n",
    "\n",
    "def hambot(length = 5, starter = False):\n",
    "    ###\n",
    "    ### YOUR CODE HERE\n",
    "    ###"
   ]
  },
  {
   "cell_type": "code",
   "execution_count": null,
   "metadata": {
    "collapsed": true,
    "nbgrader": {
     "grade": true,
     "grade_id": "hambot0",
     "locked": true,
     "points": "2",
     "solution": false
    }
   },
   "outputs": [],
   "source": [
    "## hambot0 test Cell\n",
    "\n",
    "print(\"\\nFirst let's see if your function is getting random starter words:\")\n",
    "\n",
    "randomham1 = hambot().split()[0]\n",
    "randomham2 = hambot().split()[0]\n",
    "\n",
    "print(\"Starter word 1:\", randomham1)\n",
    "print(\"Starter word 2:\", randomham2)\n",
    "\n",
    "if randomham1 == randomham2:\n",
    "    randomham1 = hambot().split()[0]\n",
    "    randomham2 = hambot().split()[0]\n",
    "    \n",
    "    assert randomham1 != randomham2, \"Alas, it doesn't appear your function is producing randomized starting words!\"\n",
    "\n",
    "print(\"\\nForsooth, your function looks to be correctly choosing random words. Now let's test a few non-random phrases....\")\n",
    "    \n",
    "hambot_test1 = hambot(4, \"harlots\")\n",
    "hambot_test2 = hambot(4, \"encounter\")\n",
    "hambot_test3 = hambot(4, \"thousand\")\n",
    "hambot_test4 = hambot(starter = \"rich\")\n",
    "\n",
    "hamanswer1 = 'harlots cheek beautied with'\n",
    "hamanswer2 = 'encounter frankly judge and'\n",
    "hamanswer3 = 'thousand natural shocks that'\n",
    "hamanswer4 = 'rich gifts wax poor when'\n",
    "\n",
    "assert hambot_test1 == hamanswer1, \"Fie, hambot(4, 'harlots') should have produced '\" + hamanswer1 + \"' but produced '\" + str(hambot_test1) + \"' instead.\"\n",
    "assert hambot_test2 == hamanswer2, \"Fie, hambot(4, 'encounter') should have produced '\" + hamanswer2 + \"' but produced '\" + str(hambot_test2) + \"' instead.\"\n",
    "assert hambot_test3 == hamanswer3, \"Fie, hambot(4, 'thousand') should have produced '\" + hamanswer3 + \"' but produced '\" + str(hambot_test3) + \"' instead.\"\n",
    "assert hambot_test4 == hamanswer4, \"Fie, hambot(5, 'rich') should have produced '\" + hamanswer4 + \"' but produced '\" + str(hambot_test4) + \"' instead.\"\n",
    "\n",
    "print('\\nHuzzah, your function correctly assembled the test phrases.')"
   ]
  },
  {
   "cell_type": "code",
   "execution_count": null,
   "metadata": {
    "collapsed": true,
    "nbgrader": {
     "grade": true,
     "grade_id": "hambot1",
     "locked": true,
     "points": "2",
     "solution": false
    }
   },
   "outputs": [],
   "source": [
    "## hambot1 test Cell\n",
    "\n",
    "rand_ham = hambot(50)\n",
    "\n",
    "print('\\nAs Shakespeare once said, \\n\\n\"' + rand_ham +'.\"')\n",
    "\n",
    "rand_ham_words = rand_ham.split()\n",
    "\n",
    "assert len(rand_ham_words) <= 50, \"Alas! Your verbosity doth be too much. (You generated more than 50 words.)\"\n",
    "if len(rand_ham_words) < 50:\n",
    "    last_word = rand_ham_words[-1]\n",
    "    assert last_word not in hamdict, \"Your sentence be too short! Valid words, be they any of {}, can follow your last ('{}')\".format(hamdict[last_word], last_word)\n",
    "    \n",
    "if len(rand_ham_words) >= 2:\n",
    "    for word0, word1 in zip(rand_ham_words[:-1], rand_ham_words[1:]):\n",
    "        valid = hamdict[word0]\n",
    "        assert word1 in valid, \"Zounds! {} mustn't follow {}; only these be allowed: {}\".format(word1, word0, valid)    \n",
    "\n",
    "print(\"\\n(Thou has't most verily passed!)\")"
   ]
  },
  {
   "cell_type": "markdown",
   "metadata": {
    "collapsed": true
   },
   "source": [
    "**Fin**. You've reached the end of this problem. Don't forget to restart the\n",
    "kernel and run the entire notebook from top-to-bottom to make sure you did\n",
    "everything correctly."
   ]
  }
 ],
 "metadata": {
  "kernelspec": {
   "display_name": "Python 3.7",
   "language": "python",
   "name": "python37"
  },
  "language_info": {
   "codemirror_mode": {
    "name": "ipython",
    "version": 3
   },
   "file_extension": ".py",
   "mimetype": "text/x-python",
   "name": "python",
   "nbconvert_exporter": "python",
   "pygments_lexer": "ipython3",
   "version": "3.7.5"
  }
 },
 "nbformat": 4,
 "nbformat_minor": 2
}

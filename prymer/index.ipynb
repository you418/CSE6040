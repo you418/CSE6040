{
 "cells": [
  {
   "cell_type": "markdown",
   "metadata": {},
   "source": [
    "| &nbsp; | &nbsp; |\n",
    "|--------|--------|\n",
    "| [View on GitHub](https://github.com/hpcgarage/prymer) | [![Open in Colab](https://colab.research.google.com/assets/colab-badge.svg)](https://colab.research.google.com/github/hpcgarage/prymer/blob/master/index.ipynb) |"
   ]
  },
  {
   "cell_type": "markdown",
   "metadata": {
    "colab_type": "text",
    "id": "view-in-github"
   },
   "source": [
    "# A Python Primer (Prymer) #\n",
    "\n",
    "These materials are part of an in-class overview of Python given in [Georgia Tech's CSE 6040](https://cse6040.gatech.edu). They borrow liberally from [Jake Vanderplas's \"Whirlwind Tour of Python\"](https://jakevdp.github.io/WhirlwindTourOfPython/), which is highly recommended reading!\n",
    "\n",
    "1. [Primitive values, variables, and types](./001-values.ipynb)\n",
    "2. [Basic collections](./002-collections.ipynb): lists, tuples, dictionaries, sets\n",
    "3. [Control flow](./003-control-flow.ipynb): conditionals, loops, functions\n",
    "4. [Modules and packages](./004-modules.ipynb): importing and aliasing\n",
    "\n",
    "Once you've gone through these materials, try these [exercises](./exercises), which were Midterm 1 problems in previous editions of the course. (For each problem notebook, there is an accompanying sample solutions notebook; if the problem notebook is `xxx.ipynb`, the solutions are in `xxx--solns.ipynb`.)"
   ]
  },
  {
   "cell_type": "markdown",
   "metadata": {},
   "source": [
    "We'll use the cells below as dummy cells to help us get familiar with [Jupyter](https://jupyter.org/). More information on Jupyter, and its predecessor and command-line alternative, [IPython](https://ipython.org/), may be found in Jake Vanderplas's other book, the [Python Data Science Handbook](https://jakevdp.github.io/PythonDataScienceHandbook/)."
   ]
  },
  {
   "cell_type": "code",
   "execution_count": null,
   "metadata": {
    "collapsed": true
   },
   "outputs": [],
   "source": [
    "import sys\n",
    "print(sys.version) # Print Python version"
   ]
  },
  {
   "cell_type": "code",
   "execution_count": null,
   "metadata": {
    "colab": {},
    "colab_type": "code",
    "collapsed": true,
    "id": "tlV1QNdB5YLG"
   },
   "outputs": [],
   "source": [
    "# This is a code cell (and this line is a comment)\n",
    "\n",
    "print(\"Hello, world!\")   # Also a comment"
   ]
  },
  {
   "cell_type": "markdown",
   "metadata": {},
   "source": [
    "(By contrast, this cell is for documentation and is written in Markdown syntax.)"
   ]
  },
  {
   "cell_type": "code",
   "execution_count": null,
   "metadata": {
    "collapsed": true
   },
   "outputs": [],
   "source": [
    "print(\"Hello,\", \"world!\")"
   ]
  },
  {
   "cell_type": "code",
   "execution_count": null,
   "metadata": {
    "collapsed": true
   },
   "outputs": [],
   "source": [
    "\"Hello, world!\""
   ]
  },
  {
   "cell_type": "code",
   "execution_count": null,
   "metadata": {
    "collapsed": true
   },
   "outputs": [],
   "source": [
    "\"Hello, world!\"\n",
    "\"Goodbye, world!\""
   ]
  },
  {
   "cell_type": "code",
   "execution_count": null,
   "metadata": {
    "collapsed": true
   },
   "outputs": [],
   "source": [
    "\"\"\"Hello, world!\n",
    "Goodbye, world!\"\"\"  # There are no block (multiline) comments, but you can use strings"
   ]
  },
  {
   "cell_type": "markdown",
   "metadata": {},
   "source": [
    "**Asking for help.** Try the `help` function, or in Jupyter, the question mark `?` operator and pressing the `<tab>` on a substring for autocompleted suggestions."
   ]
  },
  {
   "cell_type": "code",
   "execution_count": null,
   "metadata": {
    "collapsed": true
   },
   "outputs": [],
   "source": [
    "help(print)"
   ]
  },
  {
   "cell_type": "code",
   "execution_count": null,
   "metadata": {
    "collapsed": true
   },
   "outputs": [],
   "source": [
    "?print"
   ]
  },
  {
   "cell_type": "markdown",
   "metadata": {},
   "source": [
    "**Built-in functions.** The examples above involved a function, `print`. There are many other Python functions. Many of these are part of the standard Python library, but a few are \"built-in\" (also called \"builtins\"). See [the Python documentation](https://docs.python.org/3/library/functions.html) for a list of these functions."
   ]
  },
  {
   "cell_type": "markdown",
   "metadata": {},
   "source": [
    "**Debugging.** We won't talk too much about debugging, but Vanderplas has a short section on how to do it in Jupyter; see [this page](https://jakevdp.github.io/PythonDataScienceHandbook/01.06-errors-and-debugging.html)."
   ]
  }
 ],
 "metadata": {
  "colab": {
   "include_colab_link": true,
   "name": "Untitled5.ipynb",
   "provenance": [],
   "version": "0.3.2"
  },
  "kernelspec": {
   "display_name": "Python 3.7",
   "language": "python",
   "name": "python37"
  },
  "language_info": {
   "codemirror_mode": {
    "name": "ipython",
    "version": 3
   },
   "file_extension": ".py",
   "mimetype": "text/x-python",
   "name": "python",
   "nbconvert_exporter": "python",
   "pygments_lexer": "ipython3",
   "version": "3.7.5"
  }
 },
 "nbformat": 4,
 "nbformat_minor": 1
}

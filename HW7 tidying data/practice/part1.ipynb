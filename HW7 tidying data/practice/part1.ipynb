{
 "cells": [
  {
   "cell_type": "markdown",
   "metadata": {},
   "source": [
    "# Pandas walk-through: Federal Election Commission dataset\n",
    "\n",
    "This walk-through is adapted from Chapter 14.5 of Wes McKinney's book, [Python for Data Analysis](http://shop.oreilly.com/product/0636920023784.do) (3rd edition)."
   ]
  },
  {
   "cell_type": "code",
   "execution_count": 1,
   "metadata": {},
   "outputs": [
    {
     "name": "stderr",
     "output_type": "stream",
     "text": [
      "Matplotlib is building the font cache; this may take a moment.\n"
     ]
    },
    {
     "name": "stdout",
     "output_type": "stream",
     "text": [
      "1.1.2\n"
     ]
    }
   ],
   "source": [
    "%matplotlib inline\n",
    "import pandas as pd\n",
    "print(pd.__version__)"
   ]
  },
  {
   "cell_type": "markdown",
   "metadata": {},
   "source": [
    "# Setup\n",
    "\n",
    "The following code cell imports a local Python module (stored in `cse6040utils.py`) and uses one of its utility functions to open the sample dataset.\n",
    "\n",
    "> Note: Due to the size of the data file, we are not making it available for download. You will need to run this notebook on Vocareum."
   ]
  },
  {
   "cell_type": "code",
   "execution_count": 2,
   "metadata": {},
   "outputs": [
    {
     "name": "stdout",
     "output_type": "stream",
     "text": [
      "'./resource/asnlib/publicdata/P00000001-ALL.csv' is ready!\n"
     ]
    }
   ],
   "source": [
    "from cse6040utils import download_dataset\n",
    "local_data = download_dataset({'P00000001-ALL.csv': '31df639d0b5dbd3b6d755f91d6bf6fb4'}, vocareum_only=True)"
   ]
  },
  {
   "cell_type": "markdown",
   "metadata": {},
   "source": [
    "# Initial exploration and clean-up"
   ]
  },
  {
   "cell_type": "code",
   "execution_count": 3,
   "metadata": {
    "scrolled": true
   },
   "outputs": [
    {
     "name": "stderr",
     "output_type": "stream",
     "text": [
      "/usr/lib/python3.7/site-packages/IPython/core/interactiveshell.py:3051: DtypeWarning: Columns (6) have mixed types.Specify dtype option on import or set low_memory=False.\n",
      "  interactivity=interactivity, compiler=compiler, result=result)\n"
     ]
    },
    {
     "data": {
      "text/html": [
       "<div>\n",
       "<style scoped>\n",
       "    .dataframe tbody tr th:only-of-type {\n",
       "        vertical-align: middle;\n",
       "    }\n",
       "\n",
       "    .dataframe tbody tr th {\n",
       "        vertical-align: top;\n",
       "    }\n",
       "\n",
       "    .dataframe thead th {\n",
       "        text-align: right;\n",
       "    }\n",
       "</style>\n",
       "<table border=\"1\" class=\"dataframe\">\n",
       "  <thead>\n",
       "    <tr style=\"text-align: right;\">\n",
       "      <th></th>\n",
       "      <th>cmte_id</th>\n",
       "      <th>cand_id</th>\n",
       "      <th>cand_nm</th>\n",
       "      <th>contbr_nm</th>\n",
       "      <th>contbr_city</th>\n",
       "      <th>contbr_st</th>\n",
       "      <th>contbr_zip</th>\n",
       "      <th>contbr_employer</th>\n",
       "      <th>contbr_occupation</th>\n",
       "      <th>contb_receipt_amt</th>\n",
       "      <th>contb_receipt_dt</th>\n",
       "      <th>receipt_desc</th>\n",
       "      <th>memo_cd</th>\n",
       "      <th>memo_text</th>\n",
       "      <th>form_tp</th>\n",
       "      <th>file_num</th>\n",
       "    </tr>\n",
       "  </thead>\n",
       "  <tbody>\n",
       "    <tr>\n",
       "      <th>0</th>\n",
       "      <td>C00410118</td>\n",
       "      <td>P20002978</td>\n",
       "      <td>Bachmann, Michelle</td>\n",
       "      <td>HARVEY, WILLIAM</td>\n",
       "      <td>MOBILE</td>\n",
       "      <td>AL</td>\n",
       "      <td>3.6601e+08</td>\n",
       "      <td>RETIRED</td>\n",
       "      <td>RETIRED</td>\n",
       "      <td>250.0</td>\n",
       "      <td>20-JUN-11</td>\n",
       "      <td>NaN</td>\n",
       "      <td>NaN</td>\n",
       "      <td>NaN</td>\n",
       "      <td>SA17A</td>\n",
       "      <td>736166</td>\n",
       "    </tr>\n",
       "    <tr>\n",
       "      <th>1</th>\n",
       "      <td>C00410118</td>\n",
       "      <td>P20002978</td>\n",
       "      <td>Bachmann, Michelle</td>\n",
       "      <td>HARVEY, WILLIAM</td>\n",
       "      <td>MOBILE</td>\n",
       "      <td>AL</td>\n",
       "      <td>3.6601e+08</td>\n",
       "      <td>RETIRED</td>\n",
       "      <td>RETIRED</td>\n",
       "      <td>50.0</td>\n",
       "      <td>23-JUN-11</td>\n",
       "      <td>NaN</td>\n",
       "      <td>NaN</td>\n",
       "      <td>NaN</td>\n",
       "      <td>SA17A</td>\n",
       "      <td>736166</td>\n",
       "    </tr>\n",
       "    <tr>\n",
       "      <th>2</th>\n",
       "      <td>C00410118</td>\n",
       "      <td>P20002978</td>\n",
       "      <td>Bachmann, Michelle</td>\n",
       "      <td>SMITH, LANIER</td>\n",
       "      <td>LANETT</td>\n",
       "      <td>AL</td>\n",
       "      <td>3.68633e+08</td>\n",
       "      <td>INFORMATION REQUESTED</td>\n",
       "      <td>INFORMATION REQUESTED</td>\n",
       "      <td>250.0</td>\n",
       "      <td>05-JUL-11</td>\n",
       "      <td>NaN</td>\n",
       "      <td>NaN</td>\n",
       "      <td>NaN</td>\n",
       "      <td>SA17A</td>\n",
       "      <td>749073</td>\n",
       "    </tr>\n",
       "    <tr>\n",
       "      <th>3</th>\n",
       "      <td>C00410118</td>\n",
       "      <td>P20002978</td>\n",
       "      <td>Bachmann, Michelle</td>\n",
       "      <td>BLEVINS, DARONDA</td>\n",
       "      <td>PIGGOTT</td>\n",
       "      <td>AR</td>\n",
       "      <td>7.24548e+08</td>\n",
       "      <td>NONE</td>\n",
       "      <td>RETIRED</td>\n",
       "      <td>250.0</td>\n",
       "      <td>01-AUG-11</td>\n",
       "      <td>NaN</td>\n",
       "      <td>NaN</td>\n",
       "      <td>NaN</td>\n",
       "      <td>SA17A</td>\n",
       "      <td>749073</td>\n",
       "    </tr>\n",
       "    <tr>\n",
       "      <th>4</th>\n",
       "      <td>C00410118</td>\n",
       "      <td>P20002978</td>\n",
       "      <td>Bachmann, Michelle</td>\n",
       "      <td>WARDENBURG, HAROLD</td>\n",
       "      <td>HOT SPRINGS NATION</td>\n",
       "      <td>AR</td>\n",
       "      <td>7.19016e+08</td>\n",
       "      <td>NONE</td>\n",
       "      <td>RETIRED</td>\n",
       "      <td>300.0</td>\n",
       "      <td>20-JUN-11</td>\n",
       "      <td>NaN</td>\n",
       "      <td>NaN</td>\n",
       "      <td>NaN</td>\n",
       "      <td>SA17A</td>\n",
       "      <td>736166</td>\n",
       "    </tr>\n",
       "  </tbody>\n",
       "</table>\n",
       "</div>"
      ],
      "text/plain": [
       "     cmte_id    cand_id             cand_nm           contbr_nm  \\\n",
       "0  C00410118  P20002978  Bachmann, Michelle     HARVEY, WILLIAM   \n",
       "1  C00410118  P20002978  Bachmann, Michelle     HARVEY, WILLIAM   \n",
       "2  C00410118  P20002978  Bachmann, Michelle       SMITH, LANIER   \n",
       "3  C00410118  P20002978  Bachmann, Michelle    BLEVINS, DARONDA   \n",
       "4  C00410118  P20002978  Bachmann, Michelle  WARDENBURG, HAROLD   \n",
       "\n",
       "          contbr_city contbr_st   contbr_zip        contbr_employer  \\\n",
       "0              MOBILE        AL   3.6601e+08                RETIRED   \n",
       "1              MOBILE        AL   3.6601e+08                RETIRED   \n",
       "2              LANETT        AL  3.68633e+08  INFORMATION REQUESTED   \n",
       "3             PIGGOTT        AR  7.24548e+08                   NONE   \n",
       "4  HOT SPRINGS NATION        AR  7.19016e+08                   NONE   \n",
       "\n",
       "       contbr_occupation  contb_receipt_amt contb_receipt_dt receipt_desc  \\\n",
       "0                RETIRED              250.0        20-JUN-11          NaN   \n",
       "1                RETIRED               50.0        23-JUN-11          NaN   \n",
       "2  INFORMATION REQUESTED              250.0        05-JUL-11          NaN   \n",
       "3                RETIRED              250.0        01-AUG-11          NaN   \n",
       "4                RETIRED              300.0        20-JUN-11          NaN   \n",
       "\n",
       "  memo_cd memo_text form_tp  file_num  \n",
       "0     NaN       NaN   SA17A    736166  \n",
       "1     NaN       NaN   SA17A    736166  \n",
       "2     NaN       NaN   SA17A    749073  \n",
       "3     NaN       NaN   SA17A    749073  \n",
       "4     NaN       NaN   SA17A    736166  "
      ]
     },
     "execution_count": 3,
     "metadata": {},
     "output_type": "execute_result"
    }
   ],
   "source": [
    "# Load CSV file\n",
    "fecdata = pd.read_csv(local_data['P00000001-ALL.csv'])\n",
    "fecdata.head()"
   ]
  },
  {
   "cell_type": "code",
   "execution_count": 4,
   "metadata": {},
   "outputs": [
    {
     "data": {
      "text/html": [
       "<div>\n",
       "<style scoped>\n",
       "    .dataframe tbody tr th:only-of-type {\n",
       "        vertical-align: middle;\n",
       "    }\n",
       "\n",
       "    .dataframe tbody tr th {\n",
       "        vertical-align: top;\n",
       "    }\n",
       "\n",
       "    .dataframe thead th {\n",
       "        text-align: right;\n",
       "    }\n",
       "</style>\n",
       "<table border=\"1\" class=\"dataframe\">\n",
       "  <thead>\n",
       "    <tr style=\"text-align: right;\">\n",
       "      <th></th>\n",
       "      <th>cmte_id</th>\n",
       "      <th>cand_id</th>\n",
       "      <th>cand_nm</th>\n",
       "      <th>contbr_nm</th>\n",
       "      <th>contbr_city</th>\n",
       "      <th>contbr_st</th>\n",
       "      <th>contbr_zip</th>\n",
       "      <th>contbr_employer</th>\n",
       "      <th>contbr_occupation</th>\n",
       "      <th>contb_receipt_amt</th>\n",
       "      <th>contb_receipt_dt</th>\n",
       "      <th>receipt_desc</th>\n",
       "      <th>memo_cd</th>\n",
       "      <th>memo_text</th>\n",
       "      <th>form_tp</th>\n",
       "      <th>file_num</th>\n",
       "    </tr>\n",
       "  </thead>\n",
       "  <tbody>\n",
       "    <tr>\n",
       "      <th>0</th>\n",
       "      <td>C00410118</td>\n",
       "      <td>P20002978</td>\n",
       "      <td>Bachmann, Michelle</td>\n",
       "      <td>HARVEY, WILLIAM</td>\n",
       "      <td>MOBILE</td>\n",
       "      <td>AL</td>\n",
       "      <td>3.6601e+08</td>\n",
       "      <td>RETIRED</td>\n",
       "      <td>RETIRED</td>\n",
       "      <td>250.0</td>\n",
       "      <td>20-JUN-11</td>\n",
       "      <td>NaN</td>\n",
       "      <td>NaN</td>\n",
       "      <td>NaN</td>\n",
       "      <td>SA17A</td>\n",
       "      <td>736166</td>\n",
       "    </tr>\n",
       "    <tr>\n",
       "      <th>1</th>\n",
       "      <td>C00410118</td>\n",
       "      <td>P20002978</td>\n",
       "      <td>Bachmann, Michelle</td>\n",
       "      <td>HARVEY, WILLIAM</td>\n",
       "      <td>MOBILE</td>\n",
       "      <td>AL</td>\n",
       "      <td>3.6601e+08</td>\n",
       "      <td>RETIRED</td>\n",
       "      <td>RETIRED</td>\n",
       "      <td>50.0</td>\n",
       "      <td>23-JUN-11</td>\n",
       "      <td>NaN</td>\n",
       "      <td>NaN</td>\n",
       "      <td>NaN</td>\n",
       "      <td>SA17A</td>\n",
       "      <td>736166</td>\n",
       "    </tr>\n",
       "    <tr>\n",
       "      <th>2</th>\n",
       "      <td>C00410118</td>\n",
       "      <td>P20002978</td>\n",
       "      <td>Bachmann, Michelle</td>\n",
       "      <td>SMITH, LANIER</td>\n",
       "      <td>LANETT</td>\n",
       "      <td>AL</td>\n",
       "      <td>3.68633e+08</td>\n",
       "      <td>INFORMATION REQUESTED</td>\n",
       "      <td>INFORMATION REQUESTED</td>\n",
       "      <td>250.0</td>\n",
       "      <td>05-JUL-11</td>\n",
       "      <td>NaN</td>\n",
       "      <td>NaN</td>\n",
       "      <td>NaN</td>\n",
       "      <td>SA17A</td>\n",
       "      <td>749073</td>\n",
       "    </tr>\n",
       "    <tr>\n",
       "      <th>3</th>\n",
       "      <td>C00410118</td>\n",
       "      <td>P20002978</td>\n",
       "      <td>Bachmann, Michelle</td>\n",
       "      <td>BLEVINS, DARONDA</td>\n",
       "      <td>PIGGOTT</td>\n",
       "      <td>AR</td>\n",
       "      <td>7.24548e+08</td>\n",
       "      <td>NONE</td>\n",
       "      <td>RETIRED</td>\n",
       "      <td>250.0</td>\n",
       "      <td>01-AUG-11</td>\n",
       "      <td>NaN</td>\n",
       "      <td>NaN</td>\n",
       "      <td>NaN</td>\n",
       "      <td>SA17A</td>\n",
       "      <td>749073</td>\n",
       "    </tr>\n",
       "    <tr>\n",
       "      <th>4</th>\n",
       "      <td>C00410118</td>\n",
       "      <td>P20002978</td>\n",
       "      <td>Bachmann, Michelle</td>\n",
       "      <td>WARDENBURG, HAROLD</td>\n",
       "      <td>HOT SPRINGS NATION</td>\n",
       "      <td>AR</td>\n",
       "      <td>7.19016e+08</td>\n",
       "      <td>NONE</td>\n",
       "      <td>RETIRED</td>\n",
       "      <td>300.0</td>\n",
       "      <td>20-JUN-11</td>\n",
       "      <td>NaN</td>\n",
       "      <td>NaN</td>\n",
       "      <td>NaN</td>\n",
       "      <td>SA17A</td>\n",
       "      <td>736166</td>\n",
       "    </tr>\n",
       "  </tbody>\n",
       "</table>\n",
       "</div>"
      ],
      "text/plain": [
       "     cmte_id    cand_id             cand_nm           contbr_nm  \\\n",
       "0  C00410118  P20002978  Bachmann, Michelle     HARVEY, WILLIAM   \n",
       "1  C00410118  P20002978  Bachmann, Michelle     HARVEY, WILLIAM   \n",
       "2  C00410118  P20002978  Bachmann, Michelle       SMITH, LANIER   \n",
       "3  C00410118  P20002978  Bachmann, Michelle    BLEVINS, DARONDA   \n",
       "4  C00410118  P20002978  Bachmann, Michelle  WARDENBURG, HAROLD   \n",
       "\n",
       "          contbr_city contbr_st   contbr_zip        contbr_employer  \\\n",
       "0              MOBILE        AL   3.6601e+08                RETIRED   \n",
       "1              MOBILE        AL   3.6601e+08                RETIRED   \n",
       "2              LANETT        AL  3.68633e+08  INFORMATION REQUESTED   \n",
       "3             PIGGOTT        AR  7.24548e+08                   NONE   \n",
       "4  HOT SPRINGS NATION        AR  7.19016e+08                   NONE   \n",
       "\n",
       "       contbr_occupation  contb_receipt_amt contb_receipt_dt receipt_desc  \\\n",
       "0                RETIRED              250.0        20-JUN-11          NaN   \n",
       "1                RETIRED               50.0        23-JUN-11          NaN   \n",
       "2  INFORMATION REQUESTED              250.0        05-JUL-11          NaN   \n",
       "3                RETIRED              250.0        01-AUG-11          NaN   \n",
       "4                RETIRED              300.0        20-JUN-11          NaN   \n",
       "\n",
       "  memo_cd memo_text form_tp  file_num  \n",
       "0     NaN       NaN   SA17A    736166  \n",
       "1     NaN       NaN   SA17A    736166  \n",
       "2     NaN       NaN   SA17A    749073  \n",
       "3     NaN       NaN   SA17A    749073  \n",
       "4     NaN       NaN   SA17A    736166  "
      ]
     },
     "execution_count": 4,
     "metadata": {},
     "output_type": "execute_result"
    }
   ],
   "source": [
    "fecdata.head()"
   ]
  },
  {
   "cell_type": "code",
   "execution_count": 5,
   "metadata": {},
   "outputs": [
    {
     "name": "stdout",
     "output_type": "stream",
     "text": [
      "<class 'pandas.core.frame.DataFrame'>\n",
      "RangeIndex: 1001731 entries, 0 to 1001730\n",
      "Data columns (total 16 columns):\n",
      " #   Column             Non-Null Count    Dtype  \n",
      "---  ------             --------------    -----  \n",
      " 0   cmte_id            1001731 non-null  object \n",
      " 1   cand_id            1001731 non-null  object \n",
      " 2   cand_nm            1001731 non-null  object \n",
      " 3   contbr_nm          1001731 non-null  object \n",
      " 4   contbr_city        1001712 non-null  object \n",
      " 5   contbr_st          1001727 non-null  object \n",
      " 6   contbr_zip         1001620 non-null  object \n",
      " 7   contbr_employer    988002 non-null   object \n",
      " 8   contbr_occupation  993301 non-null   object \n",
      " 9   contb_receipt_amt  1001731 non-null  float64\n",
      " 10  contb_receipt_dt   1001731 non-null  object \n",
      " 11  receipt_desc       14166 non-null    object \n",
      " 12  memo_cd            92482 non-null    object \n",
      " 13  memo_text          97770 non-null    object \n",
      " 14  form_tp            1001731 non-null  object \n",
      " 15  file_num           1001731 non-null  int64  \n",
      "dtypes: float64(1), int64(1), object(14)\n",
      "memory usage: 122.3+ MB\n"
     ]
    }
   ],
   "source": [
    "fecdata.info()"
   ]
  },
  {
   "cell_type": "markdown",
   "metadata": {},
   "source": [
    "Get a random sample:"
   ]
  },
  {
   "cell_type": "code",
   "execution_count": 6,
   "metadata": {},
   "outputs": [
    {
     "data": {
      "text/html": [
       "<div>\n",
       "<style scoped>\n",
       "    .dataframe tbody tr th:only-of-type {\n",
       "        vertical-align: middle;\n",
       "    }\n",
       "\n",
       "    .dataframe tbody tr th {\n",
       "        vertical-align: top;\n",
       "    }\n",
       "\n",
       "    .dataframe thead th {\n",
       "        text-align: right;\n",
       "    }\n",
       "</style>\n",
       "<table border=\"1\" class=\"dataframe\">\n",
       "  <thead>\n",
       "    <tr style=\"text-align: right;\">\n",
       "      <th></th>\n",
       "      <th>cmte_id</th>\n",
       "      <th>cand_id</th>\n",
       "      <th>cand_nm</th>\n",
       "      <th>contbr_nm</th>\n",
       "      <th>contbr_city</th>\n",
       "      <th>contbr_st</th>\n",
       "      <th>contbr_zip</th>\n",
       "      <th>contbr_employer</th>\n",
       "      <th>contbr_occupation</th>\n",
       "      <th>contb_receipt_amt</th>\n",
       "      <th>contb_receipt_dt</th>\n",
       "      <th>receipt_desc</th>\n",
       "      <th>memo_cd</th>\n",
       "      <th>memo_text</th>\n",
       "      <th>form_tp</th>\n",
       "      <th>file_num</th>\n",
       "    </tr>\n",
       "  </thead>\n",
       "  <tbody>\n",
       "    <tr>\n",
       "      <th>60230</th>\n",
       "      <td>C00431171</td>\n",
       "      <td>P80003353</td>\n",
       "      <td>Romney, Mitt</td>\n",
       "      <td>LADLEY, JANICE S. MRS.</td>\n",
       "      <td>CHARLOTTE</td>\n",
       "      <td>NC</td>\n",
       "      <td>282113347</td>\n",
       "      <td>INFORMATION REQUESTED PER BEST EFFORTS</td>\n",
       "      <td>INFORMATION REQUESTED PER BEST EFFORTS</td>\n",
       "      <td>110.0</td>\n",
       "      <td>09-JAN-12</td>\n",
       "      <td>NaN</td>\n",
       "      <td>NaN</td>\n",
       "      <td>NaN</td>\n",
       "      <td>SA17A</td>\n",
       "      <td>771933</td>\n",
       "    </tr>\n",
       "    <tr>\n",
       "      <th>306210</th>\n",
       "      <td>C00431445</td>\n",
       "      <td>P80003338</td>\n",
       "      <td>Obama, Barack</td>\n",
       "      <td>JONES, WILLIE</td>\n",
       "      <td>VALDOSTA</td>\n",
       "      <td>GA</td>\n",
       "      <td>316022005</td>\n",
       "      <td>RETIRED</td>\n",
       "      <td>RETIRED</td>\n",
       "      <td>100.0</td>\n",
       "      <td>13-JUN-11</td>\n",
       "      <td>NaN</td>\n",
       "      <td>NaN</td>\n",
       "      <td>NaN</td>\n",
       "      <td>SA17A</td>\n",
       "      <td>756214</td>\n",
       "    </tr>\n",
       "    <tr>\n",
       "      <th>929150</th>\n",
       "      <td>C00496497</td>\n",
       "      <td>P60003654</td>\n",
       "      <td>Gingrich, Newt</td>\n",
       "      <td>MERCOLA, JERRY</td>\n",
       "      <td>PLEASANTON</td>\n",
       "      <td>CA</td>\n",
       "      <td>945888210</td>\n",
       "      <td>ICS ELECTRONICS</td>\n",
       "      <td>MANAGER</td>\n",
       "      <td>249.0</td>\n",
       "      <td>17-JAN-12</td>\n",
       "      <td>NaN</td>\n",
       "      <td>NaN</td>\n",
       "      <td>NaN</td>\n",
       "      <td>SA17A</td>\n",
       "      <td>767151</td>\n",
       "    </tr>\n",
       "    <tr>\n",
       "      <th>677452</th>\n",
       "      <td>C00431445</td>\n",
       "      <td>P80003338</td>\n",
       "      <td>Obama, Barack</td>\n",
       "      <td>STONE, EILEEN</td>\n",
       "      <td>SEQUIM</td>\n",
       "      <td>WA</td>\n",
       "      <td>983829793</td>\n",
       "      <td>RETIRED</td>\n",
       "      <td>RETIRED</td>\n",
       "      <td>105.0</td>\n",
       "      <td>17-FEB-12</td>\n",
       "      <td>NaN</td>\n",
       "      <td>X</td>\n",
       "      <td>* OBAMA VICTORY FUND 2012</td>\n",
       "      <td>SA18</td>\n",
       "      <td>787803</td>\n",
       "    </tr>\n",
       "    <tr>\n",
       "      <th>375042</th>\n",
       "      <td>C00431445</td>\n",
       "      <td>P80003338</td>\n",
       "      <td>Obama, Barack</td>\n",
       "      <td>PARTAN, DORIS</td>\n",
       "      <td>BROOKLINE</td>\n",
       "      <td>MA</td>\n",
       "      <td>24465402</td>\n",
       "      <td>RETIRED</td>\n",
       "      <td>RETIRED</td>\n",
       "      <td>75.0</td>\n",
       "      <td>01-APR-12</td>\n",
       "      <td>NaN</td>\n",
       "      <td>NaN</td>\n",
       "      <td>NaN</td>\n",
       "      <td>SA17A</td>\n",
       "      <td>785239</td>\n",
       "    </tr>\n",
       "  </tbody>\n",
       "</table>\n",
       "</div>"
      ],
      "text/plain": [
       "          cmte_id    cand_id         cand_nm               contbr_nm  \\\n",
       "60230   C00431171  P80003353    Romney, Mitt  LADLEY, JANICE S. MRS.   \n",
       "306210  C00431445  P80003338   Obama, Barack           JONES, WILLIE   \n",
       "929150  C00496497  P60003654  Gingrich, Newt          MERCOLA, JERRY   \n",
       "677452  C00431445  P80003338   Obama, Barack           STONE, EILEEN   \n",
       "375042  C00431445  P80003338   Obama, Barack           PARTAN, DORIS   \n",
       "\n",
       "       contbr_city contbr_st contbr_zip  \\\n",
       "60230    CHARLOTTE        NC  282113347   \n",
       "306210    VALDOSTA        GA  316022005   \n",
       "929150  PLEASANTON        CA  945888210   \n",
       "677452      SEQUIM        WA  983829793   \n",
       "375042   BROOKLINE        MA   24465402   \n",
       "\n",
       "                               contbr_employer  \\\n",
       "60230   INFORMATION REQUESTED PER BEST EFFORTS   \n",
       "306210                                 RETIRED   \n",
       "929150                         ICS ELECTRONICS   \n",
       "677452                                 RETIRED   \n",
       "375042                                 RETIRED   \n",
       "\n",
       "                             contbr_occupation  contb_receipt_amt  \\\n",
       "60230   INFORMATION REQUESTED PER BEST EFFORTS              110.0   \n",
       "306210                                 RETIRED              100.0   \n",
       "929150                                 MANAGER              249.0   \n",
       "677452                                 RETIRED              105.0   \n",
       "375042                                 RETIRED               75.0   \n",
       "\n",
       "       contb_receipt_dt receipt_desc memo_cd                  memo_text  \\\n",
       "60230         09-JAN-12          NaN     NaN                        NaN   \n",
       "306210        13-JUN-11          NaN     NaN                        NaN   \n",
       "929150        17-JAN-12          NaN     NaN                        NaN   \n",
       "677452        17-FEB-12          NaN       X  * OBAMA VICTORY FUND 2012   \n",
       "375042        01-APR-12          NaN     NaN                        NaN   \n",
       "\n",
       "       form_tp  file_num  \n",
       "60230    SA17A    771933  \n",
       "306210   SA17A    756214  \n",
       "929150   SA17A    767151  \n",
       "677452    SA18    787803  \n",
       "375042   SA17A    785239  "
      ]
     },
     "execution_count": 6,
     "metadata": {},
     "output_type": "execute_result"
    }
   ],
   "source": [
    "fecdata.sample(5)"
   ]
  },
  {
   "cell_type": "markdown",
   "metadata": {},
   "source": [
    "Summarize numerical data (`.describe()`):"
   ]
  },
  {
   "cell_type": "code",
   "execution_count": 7,
   "metadata": {},
   "outputs": [
    {
     "data": {
      "text/html": [
       "<div>\n",
       "<style scoped>\n",
       "    .dataframe tbody tr th:only-of-type {\n",
       "        vertical-align: middle;\n",
       "    }\n",
       "\n",
       "    .dataframe tbody tr th {\n",
       "        vertical-align: top;\n",
       "    }\n",
       "\n",
       "    .dataframe thead th {\n",
       "        text-align: right;\n",
       "    }\n",
       "</style>\n",
       "<table border=\"1\" class=\"dataframe\">\n",
       "  <thead>\n",
       "    <tr style=\"text-align: right;\">\n",
       "      <th></th>\n",
       "      <th>contb_receipt_amt</th>\n",
       "      <th>file_num</th>\n",
       "    </tr>\n",
       "  </thead>\n",
       "  <tbody>\n",
       "    <tr>\n",
       "      <th>count</th>\n",
       "      <td>1.001731e+06</td>\n",
       "      <td>1.001731e+06</td>\n",
       "    </tr>\n",
       "    <tr>\n",
       "      <th>mean</th>\n",
       "      <td>2.982352e+02</td>\n",
       "      <td>7.744948e+05</td>\n",
       "    </tr>\n",
       "    <tr>\n",
       "      <th>std</th>\n",
       "      <td>3.749667e+03</td>\n",
       "      <td>1.059822e+04</td>\n",
       "    </tr>\n",
       "    <tr>\n",
       "      <th>min</th>\n",
       "      <td>-3.080000e+04</td>\n",
       "      <td>7.235110e+05</td>\n",
       "    </tr>\n",
       "    <tr>\n",
       "      <th>25%</th>\n",
       "      <td>3.500000e+01</td>\n",
       "      <td>7.719270e+05</td>\n",
       "    </tr>\n",
       "    <tr>\n",
       "      <th>50%</th>\n",
       "      <td>1.000000e+02</td>\n",
       "      <td>7.792250e+05</td>\n",
       "    </tr>\n",
       "    <tr>\n",
       "      <th>75%</th>\n",
       "      <td>2.500000e+02</td>\n",
       "      <td>7.802340e+05</td>\n",
       "    </tr>\n",
       "    <tr>\n",
       "      <th>max</th>\n",
       "      <td>2.014491e+06</td>\n",
       "      <td>7.878030e+05</td>\n",
       "    </tr>\n",
       "  </tbody>\n",
       "</table>\n",
       "</div>"
      ],
      "text/plain": [
       "       contb_receipt_amt      file_num\n",
       "count       1.001731e+06  1.001731e+06\n",
       "mean        2.982352e+02  7.744948e+05\n",
       "std         3.749667e+03  1.059822e+04\n",
       "min        -3.080000e+04  7.235110e+05\n",
       "25%         3.500000e+01  7.719270e+05\n",
       "50%         1.000000e+02  7.792250e+05\n",
       "75%         2.500000e+02  7.802340e+05\n",
       "max         2.014491e+06  7.878030e+05"
      ]
     },
     "execution_count": 7,
     "metadata": {},
     "output_type": "execute_result"
    }
   ],
   "source": [
    "fecdata.describe()"
   ]
  },
  {
   "cell_type": "markdown",
   "metadata": {},
   "source": [
    "Get a list of the unique candidates (`unique_candidates`):"
   ]
  },
  {
   "cell_type": "code",
   "execution_count": 8,
   "metadata": {},
   "outputs": [
    {
     "data": {
      "text/plain": [
       "array(['Bachmann, Michelle', 'Romney, Mitt', 'Obama, Barack',\n",
       "       \"Roemer, Charles E. 'Buddy' III\", 'Pawlenty, Timothy',\n",
       "       'Johnson, Gary Earl', 'Paul, Ron', 'Santorum, Rick',\n",
       "       'Cain, Herman', 'Gingrich, Newt', 'McCotter, Thaddeus G',\n",
       "       'Huntsman, Jon', 'Perry, Rick'], dtype=object)"
      ]
     },
     "execution_count": 8,
     "metadata": {},
     "output_type": "execute_result"
    }
   ],
   "source": [
    "unique_candidates = fecdata['cand_nm'].unique()\n",
    "unique_candidates"
   ]
  },
  {
   "cell_type": "markdown",
   "metadata": {},
   "source": [
    "Assign party affiliations (they are all Republicans except for Barack Obama):"
   ]
  },
  {
   "cell_type": "code",
   "execution_count": 9,
   "metadata": {},
   "outputs": [
    {
     "data": {
      "text/plain": [
       "{'Bachmann, Michelle': 'R',\n",
       " 'Romney, Mitt': 'R',\n",
       " 'Obama, Barack': 'D',\n",
       " \"Roemer, Charles E. 'Buddy' III\": 'R',\n",
       " 'Pawlenty, Timothy': 'R',\n",
       " 'Johnson, Gary Earl': 'R',\n",
       " 'Paul, Ron': 'R',\n",
       " 'Santorum, Rick': 'R',\n",
       " 'Cain, Herman': 'R',\n",
       " 'Gingrich, Newt': 'R',\n",
       " 'McCotter, Thaddeus G': 'R',\n",
       " 'Huntsman, Jon': 'R',\n",
       " 'Perry, Rick': 'R'}"
      ]
     },
     "execution_count": 9,
     "metadata": {},
     "output_type": "execute_result"
    }
   ],
   "source": [
    "party_affiliations = {name: 'D' if name == 'Obama, Barack' else 'R' for name in unique_candidates}\n",
    "party_affiliations"
   ]
  },
  {
   "cell_type": "code",
   "execution_count": 10,
   "metadata": {},
   "outputs": [
    {
     "data": {
      "text/plain": [
       "{'Bachmann, Michelle': 'R',\n",
       " 'Romney, Mitt': 'R',\n",
       " 'Obama, Barack': 'D',\n",
       " \"Roemer, Charles E. 'Buddy' III\": 'R',\n",
       " 'Pawlenty, Timothy': 'R',\n",
       " 'Johnson, Gary Earl': 'R',\n",
       " 'Paul, Ron': 'R',\n",
       " 'Santorum, Rick': 'R',\n",
       " 'Cain, Herman': 'R',\n",
       " 'Gingrich, Newt': 'R',\n",
       " 'McCotter, Thaddeus G': 'R',\n",
       " 'Huntsman, Jon': 'R',\n",
       " 'Perry, Rick': 'R'}"
      ]
     },
     "execution_count": 10,
     "metadata": {},
     "output_type": "execute_result"
    }
   ],
   "source": [
    "aff = {name: \"D\" if name == \"Obama, Barack\" else \"R\" for name in unique_candidates}\n",
    "aff"
   ]
  },
  {
   "cell_type": "code",
   "execution_count": 11,
   "metadata": {},
   "outputs": [
    {
     "data": {
      "text/plain": [
       "168649     Obama, Barack\n",
       "565024     Obama, Barack\n",
       "507144     Obama, Barack\n",
       "939150    Gingrich, Newt\n",
       "227182     Obama, Barack\n",
       "Name: cand_nm, dtype: object"
      ]
     },
     "execution_count": 11,
     "metadata": {},
     "output_type": "execute_result"
    }
   ],
   "source": [
    "candidate_sample = fecdata['cand_nm'].sample(5)\n",
    "candidate_sample"
   ]
  },
  {
   "cell_type": "code",
   "execution_count": 12,
   "metadata": {},
   "outputs": [
    {
     "data": {
      "text/plain": [
       "168649    D\n",
       "565024    D\n",
       "507144    D\n",
       "939150    R\n",
       "227182    D\n",
       "Name: cand_nm, dtype: object"
      ]
     },
     "execution_count": 12,
     "metadata": {},
     "output_type": "execute_result"
    }
   ],
   "source": [
    "candidate_sample.map(party_affiliations)"
   ]
  },
  {
   "cell_type": "code",
   "execution_count": 13,
   "metadata": {
    "collapsed": true
   },
   "outputs": [],
   "source": [
    "fecdata['party'] = fecdata['cand_nm'].map(party_affiliations)"
   ]
  },
  {
   "cell_type": "code",
   "execution_count": 14,
   "metadata": {},
   "outputs": [
    {
     "data": {
      "text/html": [
       "<div>\n",
       "<style scoped>\n",
       "    .dataframe tbody tr th:only-of-type {\n",
       "        vertical-align: middle;\n",
       "    }\n",
       "\n",
       "    .dataframe tbody tr th {\n",
       "        vertical-align: top;\n",
       "    }\n",
       "\n",
       "    .dataframe thead th {\n",
       "        text-align: right;\n",
       "    }\n",
       "</style>\n",
       "<table border=\"1\" class=\"dataframe\">\n",
       "  <thead>\n",
       "    <tr style=\"text-align: right;\">\n",
       "      <th></th>\n",
       "      <th>cmte_id</th>\n",
       "      <th>cand_id</th>\n",
       "      <th>cand_nm</th>\n",
       "      <th>contbr_nm</th>\n",
       "      <th>contbr_city</th>\n",
       "      <th>contbr_st</th>\n",
       "      <th>contbr_zip</th>\n",
       "      <th>contbr_employer</th>\n",
       "      <th>contbr_occupation</th>\n",
       "      <th>contb_receipt_amt</th>\n",
       "      <th>contb_receipt_dt</th>\n",
       "      <th>receipt_desc</th>\n",
       "      <th>memo_cd</th>\n",
       "      <th>memo_text</th>\n",
       "      <th>form_tp</th>\n",
       "      <th>file_num</th>\n",
       "      <th>party</th>\n",
       "    </tr>\n",
       "  </thead>\n",
       "  <tbody>\n",
       "    <tr>\n",
       "      <th>399589</th>\n",
       "      <td>C00431445</td>\n",
       "      <td>P80003338</td>\n",
       "      <td>Obama, Barack</td>\n",
       "      <td>COGGINS, MIRITS B</td>\n",
       "      <td>CLINTON</td>\n",
       "      <td>MD</td>\n",
       "      <td>20735</td>\n",
       "      <td>OFFICE OF PERSONNEL MGMT.</td>\n",
       "      <td>RETIRED</td>\n",
       "      <td>25.0</td>\n",
       "      <td>21-DEC-11</td>\n",
       "      <td>NaN</td>\n",
       "      <td>NaN</td>\n",
       "      <td>NaN</td>\n",
       "      <td>SA17A</td>\n",
       "      <td>772372</td>\n",
       "      <td>D</td>\n",
       "    </tr>\n",
       "    <tr>\n",
       "      <th>319740</th>\n",
       "      <td>C00431445</td>\n",
       "      <td>P80003338</td>\n",
       "      <td>Obama, Barack</td>\n",
       "      <td>HODI, LAITH</td>\n",
       "      <td>CHICAGO</td>\n",
       "      <td>IL</td>\n",
       "      <td>60645</td>\n",
       "      <td>VSE INTERNATIONAL CORP.</td>\n",
       "      <td>SALES MANAGER</td>\n",
       "      <td>35.0</td>\n",
       "      <td>30-APR-12</td>\n",
       "      <td>NaN</td>\n",
       "      <td>NaN</td>\n",
       "      <td>NaN</td>\n",
       "      <td>SA17A</td>\n",
       "      <td>785239</td>\n",
       "      <td>D</td>\n",
       "    </tr>\n",
       "    <tr>\n",
       "      <th>263654</th>\n",
       "      <td>C00431445</td>\n",
       "      <td>P80003338</td>\n",
       "      <td>Obama, Barack</td>\n",
       "      <td>COHN, GEORGE</td>\n",
       "      <td>SARASOTA</td>\n",
       "      <td>FL</td>\n",
       "      <td>342315631</td>\n",
       "      <td>RETIRED</td>\n",
       "      <td>RETIRED</td>\n",
       "      <td>25.0</td>\n",
       "      <td>07-MAR-12</td>\n",
       "      <td>NaN</td>\n",
       "      <td>NaN</td>\n",
       "      <td>NaN</td>\n",
       "      <td>SA17A</td>\n",
       "      <td>780234</td>\n",
       "      <td>D</td>\n",
       "    </tr>\n",
       "    <tr>\n",
       "      <th>101061</th>\n",
       "      <td>C00431171</td>\n",
       "      <td>P80003353</td>\n",
       "      <td>Romney, Mitt</td>\n",
       "      <td>GRAY, WILLIAM J. MR.</td>\n",
       "      <td>DUMFRIES</td>\n",
       "      <td>VA</td>\n",
       "      <td>220253622</td>\n",
       "      <td>SELF-EMPLOYED</td>\n",
       "      <td>BUSINESS OWNER</td>\n",
       "      <td>500.0</td>\n",
       "      <td>01-NOV-11</td>\n",
       "      <td>NaN</td>\n",
       "      <td>NaN</td>\n",
       "      <td>NaN</td>\n",
       "      <td>SA17A</td>\n",
       "      <td>771927</td>\n",
       "      <td>R</td>\n",
       "    </tr>\n",
       "    <tr>\n",
       "      <th>161419</th>\n",
       "      <td>C00431445</td>\n",
       "      <td>P80003338</td>\n",
       "      <td>Obama, Barack</td>\n",
       "      <td>MARTIN, IDA PAULINE</td>\n",
       "      <td>LOS ANGELES</td>\n",
       "      <td>CA</td>\n",
       "      <td>900473825</td>\n",
       "      <td>INFORMATION REQUESTED</td>\n",
       "      <td>INFORMATION REQUESTED</td>\n",
       "      <td>50.0</td>\n",
       "      <td>23-APR-12</td>\n",
       "      <td>NaN</td>\n",
       "      <td>NaN</td>\n",
       "      <td>NaN</td>\n",
       "      <td>SA17A</td>\n",
       "      <td>785239</td>\n",
       "      <td>D</td>\n",
       "    </tr>\n",
       "  </tbody>\n",
       "</table>\n",
       "</div>"
      ],
      "text/plain": [
       "          cmte_id    cand_id        cand_nm             contbr_nm  \\\n",
       "399589  C00431445  P80003338  Obama, Barack     COGGINS, MIRITS B   \n",
       "319740  C00431445  P80003338  Obama, Barack           HODI, LAITH   \n",
       "263654  C00431445  P80003338  Obama, Barack          COHN, GEORGE   \n",
       "101061  C00431171  P80003353   Romney, Mitt  GRAY, WILLIAM J. MR.   \n",
       "161419  C00431445  P80003338  Obama, Barack   MARTIN, IDA PAULINE   \n",
       "\n",
       "        contbr_city contbr_st contbr_zip            contbr_employer  \\\n",
       "399589      CLINTON        MD      20735  OFFICE OF PERSONNEL MGMT.   \n",
       "319740      CHICAGO        IL      60645    VSE INTERNATIONAL CORP.   \n",
       "263654     SARASOTA        FL  342315631                    RETIRED   \n",
       "101061     DUMFRIES        VA  220253622              SELF-EMPLOYED   \n",
       "161419  LOS ANGELES        CA  900473825      INFORMATION REQUESTED   \n",
       "\n",
       "            contbr_occupation  contb_receipt_amt contb_receipt_dt  \\\n",
       "399589                RETIRED               25.0        21-DEC-11   \n",
       "319740          SALES MANAGER               35.0        30-APR-12   \n",
       "263654                RETIRED               25.0        07-MAR-12   \n",
       "101061         BUSINESS OWNER              500.0        01-NOV-11   \n",
       "161419  INFORMATION REQUESTED               50.0        23-APR-12   \n",
       "\n",
       "       receipt_desc memo_cd memo_text form_tp  file_num party  \n",
       "399589          NaN     NaN       NaN   SA17A    772372     D  \n",
       "319740          NaN     NaN       NaN   SA17A    785239     D  \n",
       "263654          NaN     NaN       NaN   SA17A    780234     D  \n",
       "101061          NaN     NaN       NaN   SA17A    771927     R  \n",
       "161419          NaN     NaN       NaN   SA17A    785239     D  "
      ]
     },
     "execution_count": 14,
     "metadata": {},
     "output_type": "execute_result"
    }
   ],
   "source": [
    "fecdata.sample(5)"
   ]
  },
  {
   "cell_type": "markdown",
   "metadata": {},
   "source": [
    "# Total contributions by party and candidate"
   ]
  },
  {
   "cell_type": "markdown",
   "metadata": {},
   "source": [
    "What was the total amount of contributions (in millions of dollars)?"
   ]
  },
  {
   "cell_type": "code",
   "execution_count": 15,
   "metadata": {},
   "outputs": [
    {
     "data": {
      "text/plain": [
       "298.75139514000006"
      ]
     },
     "execution_count": 15,
     "metadata": {},
     "output_type": "execute_result"
    }
   ],
   "source": [
    "fecdata['contb_receipt_amt'].sum()*1e-6 # millions of dollars"
   ]
  },
  {
   "cell_type": "markdown",
   "metadata": {},
   "source": [
    "Which **party** got more individual donations (transactions, not total dollars)?"
   ]
  },
  {
   "cell_type": "code",
   "execution_count": 16,
   "metadata": {},
   "outputs": [
    {
     "data": {
      "text/plain": [
       "D    593746\n",
       "R    407985\n",
       "Name: party, dtype: int64"
      ]
     },
     "execution_count": 16,
     "metadata": {},
     "output_type": "execute_result"
    }
   ],
   "source": [
    "fecdata['party'].value_counts()"
   ]
  },
  {
   "cell_type": "markdown",
   "metadata": {},
   "source": [
    "Which party got more total dollars?"
   ]
  },
  {
   "cell_type": "code",
   "execution_count": 17,
   "metadata": {},
   "outputs": [
    {
     "data": {
      "text/plain": [
       "party\n",
       "D    133.502591\n",
       "R    165.248804\n",
       "Name: contb_receipt_amt, dtype: float64"
      ]
     },
     "execution_count": 17,
     "metadata": {},
     "output_type": "execute_result"
    }
   ],
   "source": [
    "fecdata.groupby('party')['contb_receipt_amt'].sum()*1e-6"
   ]
  },
  {
   "cell_type": "markdown",
   "metadata": {},
   "source": [
    "Filter all the data to include only the two main candidates, Romney and Obama."
   ]
  },
  {
   "cell_type": "code",
   "execution_count": 18,
   "metadata": {
    "collapsed": true
   },
   "outputs": [],
   "source": [
    "keep_candidates = {'Obama, Barack', 'Romney, Mitt'}"
   ]
  },
  {
   "cell_type": "code",
   "execution_count": 19,
   "metadata": {},
   "outputs": [
    {
     "data": {
      "text/plain": [
       "(700975, 17)"
      ]
     },
     "execution_count": 19,
     "metadata": {},
     "output_type": "execute_result"
    }
   ],
   "source": [
    "matches = fecdata['cand_nm'].apply(lambda x: x in keep_candidates)\n",
    "fecdata[matches].shape"
   ]
  },
  {
   "cell_type": "code",
   "execution_count": 20,
   "metadata": {},
   "outputs": [
    {
     "name": "stdout",
     "output_type": "stream",
     "text": [
      "['Romney, Mitt' 'Obama, Barack']\n"
     ]
    },
    {
     "data": {
      "text/html": [
       "<div>\n",
       "<style scoped>\n",
       "    .dataframe tbody tr th:only-of-type {\n",
       "        vertical-align: middle;\n",
       "    }\n",
       "\n",
       "    .dataframe tbody tr th {\n",
       "        vertical-align: top;\n",
       "    }\n",
       "\n",
       "    .dataframe thead th {\n",
       "        text-align: right;\n",
       "    }\n",
       "</style>\n",
       "<table border=\"1\" class=\"dataframe\">\n",
       "  <thead>\n",
       "    <tr style=\"text-align: right;\">\n",
       "      <th></th>\n",
       "      <th>cmte_id</th>\n",
       "      <th>cand_id</th>\n",
       "      <th>cand_nm</th>\n",
       "      <th>contbr_nm</th>\n",
       "      <th>contbr_city</th>\n",
       "      <th>contbr_st</th>\n",
       "      <th>contbr_zip</th>\n",
       "      <th>contbr_employer</th>\n",
       "      <th>contbr_occupation</th>\n",
       "      <th>contb_receipt_amt</th>\n",
       "      <th>contb_receipt_dt</th>\n",
       "      <th>receipt_desc</th>\n",
       "      <th>memo_cd</th>\n",
       "      <th>memo_text</th>\n",
       "      <th>form_tp</th>\n",
       "      <th>file_num</th>\n",
       "      <th>party</th>\n",
       "    </tr>\n",
       "  </thead>\n",
       "  <tbody>\n",
       "    <tr>\n",
       "      <th>52126</th>\n",
       "      <td>C00431171</td>\n",
       "      <td>P80003353</td>\n",
       "      <td>Romney, Mitt</td>\n",
       "      <td>FRANKE, EDWARD MR.</td>\n",
       "      <td>OWINGS MILLS</td>\n",
       "      <td>MD</td>\n",
       "      <td>211172914</td>\n",
       "      <td>BAXTER BAKER SIDLE CONN &amp; JONES P.</td>\n",
       "      <td>ATTORNEY</td>\n",
       "      <td>250.00</td>\n",
       "      <td>15-FEB-12</td>\n",
       "      <td>NaN</td>\n",
       "      <td>NaN</td>\n",
       "      <td>NaN</td>\n",
       "      <td>SA17A</td>\n",
       "      <td>780124</td>\n",
       "      <td>R</td>\n",
       "    </tr>\n",
       "    <tr>\n",
       "      <th>225633</th>\n",
       "      <td>C00431445</td>\n",
       "      <td>P80003338</td>\n",
       "      <td>Obama, Barack</td>\n",
       "      <td>FOLEY, CHRISTINE</td>\n",
       "      <td>TIBURON</td>\n",
       "      <td>CA</td>\n",
       "      <td>94920</td>\n",
       "      <td>CHRISTINE FOLEY, INC</td>\n",
       "      <td>RETAIL STORE OWNER</td>\n",
       "      <td>100.00</td>\n",
       "      <td>14-SEP-11</td>\n",
       "      <td>NaN</td>\n",
       "      <td>NaN</td>\n",
       "      <td>NaN</td>\n",
       "      <td>SA17A</td>\n",
       "      <td>756218</td>\n",
       "      <td>D</td>\n",
       "    </tr>\n",
       "    <tr>\n",
       "      <th>403907</th>\n",
       "      <td>C00431445</td>\n",
       "      <td>P80003338</td>\n",
       "      <td>Obama, Barack</td>\n",
       "      <td>MCLEOD, CHERYL A</td>\n",
       "      <td>ELKRIDGE</td>\n",
       "      <td>MD</td>\n",
       "      <td>21075</td>\n",
       "      <td>MD STATE EDUCATION ASSOC.</td>\n",
       "      <td>UNISERV DIRECTOR</td>\n",
       "      <td>131.75</td>\n",
       "      <td>29-NOV-11</td>\n",
       "      <td>NaN</td>\n",
       "      <td>X</td>\n",
       "      <td>* OBAMA VICTORY FUND 2012</td>\n",
       "      <td>SA18</td>\n",
       "      <td>772372</td>\n",
       "      <td>D</td>\n",
       "    </tr>\n",
       "    <tr>\n",
       "      <th>1699</th>\n",
       "      <td>C00431171</td>\n",
       "      <td>P80003353</td>\n",
       "      <td>Romney, Mitt</td>\n",
       "      <td>BRUMFIELD, ROBERT MR.</td>\n",
       "      <td>RUSSELLVILLE</td>\n",
       "      <td>AR</td>\n",
       "      <td>7.28015e+08</td>\n",
       "      <td>RETIRED</td>\n",
       "      <td>RETIRED</td>\n",
       "      <td>25.00</td>\n",
       "      <td>20-MAR-12</td>\n",
       "      <td>NaN</td>\n",
       "      <td>NaN</td>\n",
       "      <td>NaN</td>\n",
       "      <td>SA17A</td>\n",
       "      <td>780128</td>\n",
       "      <td>R</td>\n",
       "    </tr>\n",
       "    <tr>\n",
       "      <th>590390</th>\n",
       "      <td>C00431445</td>\n",
       "      <td>P80003338</td>\n",
       "      <td>Obama, Barack</td>\n",
       "      <td>TALLEY, AUDREY</td>\n",
       "      <td>PHILADELPHIA</td>\n",
       "      <td>PA</td>\n",
       "      <td>191182641</td>\n",
       "      <td>DRINKER BIDDLE &amp; REATH LLP</td>\n",
       "      <td>ATTORNEY</td>\n",
       "      <td>100.00</td>\n",
       "      <td>09-SEP-11</td>\n",
       "      <td>NaN</td>\n",
       "      <td>NaN</td>\n",
       "      <td>NaN</td>\n",
       "      <td>SA17A</td>\n",
       "      <td>756218</td>\n",
       "      <td>D</td>\n",
       "    </tr>\n",
       "  </tbody>\n",
       "</table>\n",
       "</div>"
      ],
      "text/plain": [
       "          cmte_id    cand_id        cand_nm              contbr_nm  \\\n",
       "52126   C00431171  P80003353   Romney, Mitt     FRANKE, EDWARD MR.   \n",
       "225633  C00431445  P80003338  Obama, Barack       FOLEY, CHRISTINE   \n",
       "403907  C00431445  P80003338  Obama, Barack       MCLEOD, CHERYL A   \n",
       "1699    C00431171  P80003353   Romney, Mitt  BRUMFIELD, ROBERT MR.   \n",
       "590390  C00431445  P80003338  Obama, Barack         TALLEY, AUDREY   \n",
       "\n",
       "         contbr_city contbr_st   contbr_zip  \\\n",
       "52126   OWINGS MILLS        MD    211172914   \n",
       "225633       TIBURON        CA        94920   \n",
       "403907      ELKRIDGE        MD        21075   \n",
       "1699    RUSSELLVILLE        AR  7.28015e+08   \n",
       "590390  PHILADELPHIA        PA    191182641   \n",
       "\n",
       "                           contbr_employer   contbr_occupation  \\\n",
       "52126   BAXTER BAKER SIDLE CONN & JONES P.            ATTORNEY   \n",
       "225633                CHRISTINE FOLEY, INC  RETAIL STORE OWNER   \n",
       "403907           MD STATE EDUCATION ASSOC.    UNISERV DIRECTOR   \n",
       "1699                               RETIRED             RETIRED   \n",
       "590390          DRINKER BIDDLE & REATH LLP            ATTORNEY   \n",
       "\n",
       "        contb_receipt_amt contb_receipt_dt receipt_desc memo_cd  \\\n",
       "52126              250.00        15-FEB-12          NaN     NaN   \n",
       "225633             100.00        14-SEP-11          NaN     NaN   \n",
       "403907             131.75        29-NOV-11          NaN       X   \n",
       "1699                25.00        20-MAR-12          NaN     NaN   \n",
       "590390             100.00        09-SEP-11          NaN     NaN   \n",
       "\n",
       "                        memo_text form_tp  file_num party  \n",
       "52126                         NaN   SA17A    780124     R  \n",
       "225633                        NaN   SA17A    756218     D  \n",
       "403907  * OBAMA VICTORY FUND 2012    SA18    772372     D  \n",
       "1699                          NaN   SA17A    780128     R  \n",
       "590390                        NaN   SA17A    756218     D  "
      ]
     },
     "metadata": {},
     "output_type": "display_data"
    },
    {
     "data": {
      "text/plain": [
       "cand_nm\n",
       "Obama, Barack    133.502591\n",
       "Romney, Mitt      85.219249\n",
       "Name: contb_receipt_amt, dtype: float64"
      ]
     },
     "metadata": {},
     "output_type": "display_data"
    }
   ],
   "source": [
    "fecmain = fecdata[fecdata['cand_nm'].isin(keep_candidates)].copy()\n",
    "print(fecmain['cand_nm'].unique())\n",
    "display(fecmain.sample(5))\n",
    "display(fecmain.groupby('cand_nm')['contb_receipt_amt'].sum()*1e-6)"
   ]
  },
  {
   "cell_type": "markdown",
   "metadata": {},
   "source": [
    "# Who contributes?"
   ]
  },
  {
   "cell_type": "markdown",
   "metadata": {},
   "source": [
    "Get a list of top occupations:"
   ]
  },
  {
   "cell_type": "code",
   "execution_count": 21,
   "metadata": {},
   "outputs": [
    {
     "data": {
      "text/plain": [
       "33606"
      ]
     },
     "execution_count": 21,
     "metadata": {},
     "output_type": "execute_result"
    }
   ],
   "source": [
    "len(fecmain['contbr_occupation'].unique())"
   ]
  },
  {
   "cell_type": "code",
   "execution_count": 22,
   "metadata": {},
   "outputs": [
    {
     "data": {
      "text/plain": [
       "RETIRED                     177897\n",
       "ATTORNEY                     30219\n",
       "INFORMATION REQUESTED        24785\n",
       "HOMEMAKER                    19742\n",
       "PHYSICIAN                    17259\n",
       "                             ...  \n",
       "CATTLE BROKER                    1\n",
       "FINANCE & ACCOUNTING             1\n",
       "REFORMER                         1\n",
       "GEOPHYSICAL CONSULTING           1\n",
       "EXECUTIVE ADMINISTRATION         1\n",
       "Name: contbr_occupation, Length: 33605, dtype: int64"
      ]
     },
     "execution_count": 22,
     "metadata": {},
     "output_type": "execute_result"
    }
   ],
   "source": [
    "fecmain['contbr_occupation'].value_counts()"
   ]
  },
  {
   "cell_type": "markdown",
   "metadata": {},
   "source": [
    "Replace synonyms: (also: `dict.get()`)"
   ]
  },
  {
   "cell_type": "code",
   "execution_count": 23,
   "metadata": {
    "collapsed": true
   },
   "outputs": [],
   "source": [
    "occ_mapping = {'INFORMATION REQUESTED': 'NOT PROVIDED',\n",
    "               'INFORMATION REQUESTED PER BEST EFFORTS': 'NOT PROVIDED',\n",
    "               'INFORMATION REQUESTED (BEST EFFORTS)': 'NOT PROVIDED',\n",
    "               'C.E.O.': 'CEO'}"
   ]
  },
  {
   "cell_type": "code",
   "execution_count": 24,
   "metadata": {},
   "outputs": [
    {
     "data": {
      "text/plain": [
       "411       NaN\n",
       "412       NaN\n",
       "413       NaN\n",
       "414       NaN\n",
       "415       NaN\n",
       "         ... \n",
       "701381    NaN\n",
       "701382    NaN\n",
       "701383    NaN\n",
       "701384    NaN\n",
       "701385    NaN\n",
       "Name: contbr_occupation, Length: 700975, dtype: object"
      ]
     },
     "execution_count": 24,
     "metadata": {},
     "output_type": "execute_result"
    }
   ],
   "source": [
    "fecmain['contbr_occupation'].map(occ_mapping)"
   ]
  },
  {
   "cell_type": "code",
   "execution_count": 25,
   "metadata": {},
   "outputs": [
    {
     "name": "stdout",
     "output_type": "stream",
     "text": [
      "None\n",
      "PROFESSOR\n"
     ]
    }
   ],
   "source": [
    "# .get()!\n",
    "print(occ_mapping.get('PROFESSOR'))\n",
    "print(occ_mapping.get('PROFESSOR', 'PROFESSOR'))"
   ]
  },
  {
   "cell_type": "code",
   "execution_count": 26,
   "metadata": {
    "collapsed": true
   },
   "outputs": [],
   "source": [
    "fecmain['contbr_occupation'] = fecmain['contbr_occupation'].map(lambda x: occ_mapping.get(x, x))"
   ]
  },
  {
   "cell_type": "code",
   "execution_count": 27,
   "metadata": {},
   "outputs": [
    {
     "data": {
      "text/plain": [
       "411                     FOREIGN SERVICE OFFICER\n",
       "412                     FOREIGN SERVICE OFFICER\n",
       "413                        INTELLIGENCE ANALYST\n",
       "414                                    ENGINEER\n",
       "415                   COMPUTER SYSTEMS ENGINEER\n",
       "                          ...                  \n",
       "701381    GS-15 INTERNATIONAL RELATIONS OFFICER\n",
       "701382                                  RETIRED\n",
       "701383                                 EDUCATOR\n",
       "701384    GS-15 INTERNATIONAL RELATIONS OFFICER\n",
       "701385                                  TEACHER\n",
       "Name: contbr_occupation, Length: 700975, dtype: object"
      ]
     },
     "execution_count": 27,
     "metadata": {},
     "output_type": "execute_result"
    }
   ],
   "source": [
    "fecmain['contbr_occupation']"
   ]
  },
  {
   "cell_type": "markdown",
   "metadata": {},
   "source": [
    "Synonymous employer mappings:"
   ]
  },
  {
   "cell_type": "code",
   "execution_count": 28,
   "metadata": {},
   "outputs": [
    {
     "data": {
      "text/plain": [
       "{'INFORMATION REQUESTED': 'NOT PROVIDED',\n",
       " 'INFORMATION REQUESTED PER BEST EFFORTS': 'NOT PROVIDED',\n",
       " 'INFORMATION REQUESTED (BEST EFFORTS)': 'NOT PROVIDED',\n",
       " 'C.E.O.': 'CEO',\n",
       " 'SELF': 'SELF-EMPLOYED',\n",
       " 'SELF EMPLOYED': 'SELF-EMPLOYED'}"
      ]
     },
     "execution_count": 28,
     "metadata": {},
     "output_type": "execute_result"
    }
   ],
   "source": [
    "emp_mapping = occ_mapping.copy()\n",
    "emp_mapping['SELF'] = 'SELF-EMPLOYED'\n",
    "emp_mapping['SELF EMPLOYED'] = 'SELF-EMPLOYED'\n",
    "emp_mapping"
   ]
  },
  {
   "cell_type": "code",
   "execution_count": 29,
   "metadata": {
    "collapsed": true
   },
   "outputs": [],
   "source": [
    "fecmain['contbr_employer'] = fecmain['contbr_employer'].map(lambda x: emp_mapping.get(x, x))"
   ]
  },
  {
   "cell_type": "code",
   "execution_count": 30,
   "metadata": {},
   "outputs": [
    {
     "data": {
      "text/plain": [
       "'pro'"
      ]
     },
     "execution_count": 30,
     "metadata": {},
     "output_type": "execute_result"
    }
   ],
   "source": [
    "emp_mapping.get('prof','pro')"
   ]
  },
  {
   "cell_type": "markdown",
   "metadata": {},
   "source": [
    "Create a \"pivot table\" that shows occupations as rows and party affiliation as columns, summing the individual contributions."
   ]
  },
  {
   "cell_type": "code",
   "execution_count": 31,
   "metadata": {},
   "outputs": [
    {
     "data": {
      "text/html": [
       "<div>\n",
       "<style scoped>\n",
       "    .dataframe tbody tr th:only-of-type {\n",
       "        vertical-align: middle;\n",
       "    }\n",
       "\n",
       "    .dataframe tbody tr th {\n",
       "        vertical-align: top;\n",
       "    }\n",
       "\n",
       "    .dataframe thead th {\n",
       "        text-align: right;\n",
       "    }\n",
       "</style>\n",
       "<table border=\"1\" class=\"dataframe\">\n",
       "  <thead>\n",
       "    <tr style=\"text-align: right;\">\n",
       "      <th>party</th>\n",
       "      <th>D</th>\n",
       "      <th>R</th>\n",
       "    </tr>\n",
       "    <tr>\n",
       "      <th>contbr_occupation</th>\n",
       "      <th></th>\n",
       "      <th></th>\n",
       "    </tr>\n",
       "  </thead>\n",
       "  <tbody>\n",
       "    <tr>\n",
       "      <th>MIXED-MEDIA ARTIST / STORYTELLER</th>\n",
       "      <td>100.0</td>\n",
       "      <td>NaN</td>\n",
       "    </tr>\n",
       "    <tr>\n",
       "      <th>AREA VICE PRESIDENT</th>\n",
       "      <td>250.0</td>\n",
       "      <td>NaN</td>\n",
       "    </tr>\n",
       "    <tr>\n",
       "      <th>RESEARCH ASSOCIATE</th>\n",
       "      <td>100.0</td>\n",
       "      <td>NaN</td>\n",
       "    </tr>\n",
       "    <tr>\n",
       "      <th>TEACHER</th>\n",
       "      <td>500.0</td>\n",
       "      <td>NaN</td>\n",
       "    </tr>\n",
       "    <tr>\n",
       "      <th>THERAPIST</th>\n",
       "      <td>3900.0</td>\n",
       "      <td>NaN</td>\n",
       "    </tr>\n",
       "    <tr>\n",
       "      <th>...</th>\n",
       "      <td>...</td>\n",
       "      <td>...</td>\n",
       "    </tr>\n",
       "    <tr>\n",
       "      <th>ZEPPOS AND ASSOCIATES</th>\n",
       "      <td>1000.0</td>\n",
       "      <td>NaN</td>\n",
       "    </tr>\n",
       "    <tr>\n",
       "      <th>ZONE MANAGER</th>\n",
       "      <td>135.0</td>\n",
       "      <td>NaN</td>\n",
       "    </tr>\n",
       "    <tr>\n",
       "      <th>ZOOKEEPER</th>\n",
       "      <td>35.0</td>\n",
       "      <td>NaN</td>\n",
       "    </tr>\n",
       "    <tr>\n",
       "      <th>ZOOLOGIST</th>\n",
       "      <td>400.0</td>\n",
       "      <td>NaN</td>\n",
       "    </tr>\n",
       "    <tr>\n",
       "      <th>ZOOLOGY EDUCATION</th>\n",
       "      <td>25.0</td>\n",
       "      <td>NaN</td>\n",
       "    </tr>\n",
       "  </tbody>\n",
       "</table>\n",
       "<p>33603 rows × 2 columns</p>\n",
       "</div>"
      ],
      "text/plain": [
       "party                                     D   R\n",
       "contbr_occupation                              \n",
       "   MIXED-MEDIA ARTIST / STORYTELLER   100.0 NaN\n",
       " AREA VICE PRESIDENT                  250.0 NaN\n",
       " RESEARCH ASSOCIATE                   100.0 NaN\n",
       " TEACHER                              500.0 NaN\n",
       " THERAPIST                           3900.0 NaN\n",
       "...                                     ...  ..\n",
       "ZEPPOS AND ASSOCIATES                1000.0 NaN\n",
       "ZONE MANAGER                          135.0 NaN\n",
       "ZOOKEEPER                              35.0 NaN\n",
       "ZOOLOGIST                             400.0 NaN\n",
       "ZOOLOGY EDUCATION                      25.0 NaN\n",
       "\n",
       "[33603 rows x 2 columns]"
      ]
     },
     "execution_count": 31,
     "metadata": {},
     "output_type": "execute_result"
    }
   ],
   "source": [
    "by_occ = fecmain.pivot_table('contb_receipt_amt', index='contbr_occupation', columns='party', aggfunc='sum')\n",
    "by_occ"
   ]
  },
  {
   "cell_type": "markdown",
   "metadata": {},
   "source": [
    "Determine which occupations account for $1 million or more in contributions. Compare the amounts between the two party affiliations. (Bonus: Make a plot to compare these visually.)"
   ]
  },
  {
   "cell_type": "code",
   "execution_count": 32,
   "metadata": {},
   "outputs": [
    {
     "data": {
      "text/plain": [
       "25"
      ]
     },
     "execution_count": 32,
     "metadata": {},
     "output_type": "execute_result"
    }
   ],
   "source": [
    "over_1mil = by_occ[by_occ.sum(axis=1) > 1e6]*1e-6\n",
    "len(over_1mil)"
   ]
  },
  {
   "cell_type": "code",
   "execution_count": 33,
   "metadata": {},
   "outputs": [
    {
     "data": {
      "text/html": [
       "<div>\n",
       "<style scoped>\n",
       "    .dataframe tbody tr th:only-of-type {\n",
       "        vertical-align: middle;\n",
       "    }\n",
       "\n",
       "    .dataframe tbody tr th {\n",
       "        vertical-align: top;\n",
       "    }\n",
       "\n",
       "    .dataframe thead th {\n",
       "        text-align: right;\n",
       "    }\n",
       "</style>\n",
       "<table border=\"1\" class=\"dataframe\">\n",
       "  <thead>\n",
       "    <tr style=\"text-align: right;\">\n",
       "      <th>party</th>\n",
       "      <th>D</th>\n",
       "      <th>R</th>\n",
       "    </tr>\n",
       "    <tr>\n",
       "      <th>contbr_occupation</th>\n",
       "      <th></th>\n",
       "      <th></th>\n",
       "    </tr>\n",
       "  </thead>\n",
       "  <tbody>\n",
       "    <tr>\n",
       "      <th>ATTORNEY</th>\n",
       "      <td>11.126933</td>\n",
       "      <td>5.302579</td>\n",
       "    </tr>\n",
       "    <tr>\n",
       "      <th>BANKER</th>\n",
       "      <td>0.224084</td>\n",
       "      <td>0.993536</td>\n",
       "    </tr>\n",
       "    <tr>\n",
       "      <th>BUSINESS OWNER</th>\n",
       "      <td>0.449979</td>\n",
       "      <td>0.601530</td>\n",
       "    </tr>\n",
       "    <tr>\n",
       "      <th>CEO</th>\n",
       "      <td>2.071475</td>\n",
       "      <td>2.247242</td>\n",
       "    </tr>\n",
       "    <tr>\n",
       "      <th>CHAIRMAN</th>\n",
       "      <td>0.495547</td>\n",
       "      <td>0.752587</td>\n",
       "    </tr>\n",
       "    <tr>\n",
       "      <th>CONSULTANT</th>\n",
       "      <td>2.459813</td>\n",
       "      <td>1.404577</td>\n",
       "    </tr>\n",
       "    <tr>\n",
       "      <th>ENGINEER</th>\n",
       "      <td>0.950426</td>\n",
       "      <td>0.317249</td>\n",
       "    </tr>\n",
       "    <tr>\n",
       "      <th>EXECUTIVE</th>\n",
       "      <td>1.355161</td>\n",
       "      <td>2.230654</td>\n",
       "    </tr>\n",
       "    <tr>\n",
       "      <th>FINANCE</th>\n",
       "      <td>0.294031</td>\n",
       "      <td>1.118567</td>\n",
       "    </tr>\n",
       "    <tr>\n",
       "      <th>HOMEMAKER</th>\n",
       "      <td>4.243394</td>\n",
       "      <td>8.037251</td>\n",
       "    </tr>\n",
       "    <tr>\n",
       "      <th>INVESTOR</th>\n",
       "      <td>0.884133</td>\n",
       "      <td>1.494725</td>\n",
       "    </tr>\n",
       "    <tr>\n",
       "      <th>LAWYER</th>\n",
       "      <td>3.159392</td>\n",
       "      <td>0.007705</td>\n",
       "    </tr>\n",
       "    <tr>\n",
       "      <th>MANAGER</th>\n",
       "      <td>0.762693</td>\n",
       "      <td>0.565826</td>\n",
       "    </tr>\n",
       "    <tr>\n",
       "      <th>NOT EMPLOYED</th>\n",
       "      <td>1.708108</td>\n",
       "      <td>NaN</td>\n",
       "    </tr>\n",
       "    <tr>\n",
       "      <th>NOT PROVIDED</th>\n",
       "      <td>4.849802</td>\n",
       "      <td>11.173375</td>\n",
       "    </tr>\n",
       "    <tr>\n",
       "      <th>OWNER</th>\n",
       "      <td>0.998867</td>\n",
       "      <td>0.845396</td>\n",
       "    </tr>\n",
       "    <tr>\n",
       "      <th>PHYSICIAN</th>\n",
       "      <td>3.732387</td>\n",
       "      <td>1.332996</td>\n",
       "    </tr>\n",
       "    <tr>\n",
       "      <th>PRESIDENT</th>\n",
       "      <td>1.878010</td>\n",
       "      <td>2.403440</td>\n",
       "    </tr>\n",
       "    <tr>\n",
       "      <th>PROFESSOR</th>\n",
       "      <td>2.163571</td>\n",
       "      <td>0.160362</td>\n",
       "    </tr>\n",
       "    <tr>\n",
       "      <th>REAL ESTATE</th>\n",
       "      <td>0.528752</td>\n",
       "      <td>1.033896</td>\n",
       "    </tr>\n",
       "    <tr>\n",
       "      <th>RETIRED</th>\n",
       "      <td>25.270507</td>\n",
       "      <td>11.266949</td>\n",
       "    </tr>\n",
       "    <tr>\n",
       "      <th>SELF-EMPLOYED</th>\n",
       "      <td>0.667393</td>\n",
       "      <td>1.063738</td>\n",
       "    </tr>\n",
       "    <tr>\n",
       "      <th>STUDENT</th>\n",
       "      <td>0.627450</td>\n",
       "      <td>0.488743</td>\n",
       "    </tr>\n",
       "    <tr>\n",
       "      <th>TEACHER</th>\n",
       "      <td>1.250969</td>\n",
       "      <td>0.138838</td>\n",
       "    </tr>\n",
       "    <tr>\n",
       "      <th>WRITER</th>\n",
       "      <td>1.084089</td>\n",
       "      <td>0.090363</td>\n",
       "    </tr>\n",
       "  </tbody>\n",
       "</table>\n",
       "</div>"
      ],
      "text/plain": [
       "party                      D          R\n",
       "contbr_occupation                      \n",
       "ATTORNEY           11.126933   5.302579\n",
       "BANKER              0.224084   0.993536\n",
       "BUSINESS OWNER      0.449979   0.601530\n",
       "CEO                 2.071475   2.247242\n",
       "CHAIRMAN            0.495547   0.752587\n",
       "CONSULTANT          2.459813   1.404577\n",
       "ENGINEER            0.950426   0.317249\n",
       "EXECUTIVE           1.355161   2.230654\n",
       "FINANCE             0.294031   1.118567\n",
       "HOMEMAKER           4.243394   8.037251\n",
       "INVESTOR            0.884133   1.494725\n",
       "LAWYER              3.159392   0.007705\n",
       "MANAGER             0.762693   0.565826\n",
       "NOT EMPLOYED        1.708108        NaN\n",
       "NOT PROVIDED        4.849802  11.173375\n",
       "OWNER               0.998867   0.845396\n",
       "PHYSICIAN           3.732387   1.332996\n",
       "PRESIDENT           1.878010   2.403440\n",
       "PROFESSOR           2.163571   0.160362\n",
       "REAL ESTATE         0.528752   1.033896\n",
       "RETIRED            25.270507  11.266949\n",
       "SELF-EMPLOYED       0.667393   1.063738\n",
       "STUDENT             0.627450   0.488743\n",
       "TEACHER             1.250969   0.138838\n",
       "WRITER              1.084089   0.090363"
      ]
     },
     "execution_count": 33,
     "metadata": {},
     "output_type": "execute_result"
    }
   ],
   "source": [
    "over_1mil"
   ]
  },
  {
   "cell_type": "code",
   "execution_count": 34,
   "metadata": {
    "collapsed": true
   },
   "outputs": [],
   "source": [
    "sorted_occ = over_1mil.sum(axis=1).sort_values()"
   ]
  },
  {
   "cell_type": "code",
   "execution_count": 35,
   "metadata": {},
   "outputs": [
    {
     "data": {
      "text/plain": [
       "contbr_occupation\n",
       "BUSINESS OWNER     1.051509\n",
       "STUDENT            1.116193\n",
       "WRITER             1.174452\n",
       "BANKER             1.217621\n",
       "CHAIRMAN           1.248134\n",
       "ENGINEER           1.267675\n",
       "MANAGER            1.328519\n",
       "TEACHER            1.389808\n",
       "FINANCE            1.412599\n",
       "REAL ESTATE        1.562648\n",
       "NOT EMPLOYED       1.708108\n",
       "SELF-EMPLOYED      1.731132\n",
       "OWNER              1.844263\n",
       "PROFESSOR          2.323933\n",
       "INVESTOR           2.378858\n",
       "LAWYER             3.167097\n",
       "EXECUTIVE          3.585815\n",
       "CONSULTANT         3.864390\n",
       "PRESIDENT          4.281450\n",
       "CEO                4.318717\n",
       "PHYSICIAN          5.065384\n",
       "HOMEMAKER         12.280645\n",
       "NOT PROVIDED      16.023177\n",
       "ATTORNEY          16.429512\n",
       "RETIRED           36.537456\n",
       "dtype: float64"
      ]
     },
     "execution_count": 35,
     "metadata": {},
     "output_type": "execute_result"
    }
   ],
   "source": [
    "over_1mil.sum(axis=1).sort_values()"
   ]
  },
  {
   "cell_type": "code",
   "execution_count": 36,
   "metadata": {},
   "outputs": [
    {
     "data": {
      "image/png": "[encoded data removed]",
      "text/plain": [
       "<Figure size 720x432 with 1 Axes>"
      ]
     },
     "metadata": {
      "needs_background": "light"
     },
     "output_type": "display_data"
    }
   ],
   "source": [
    "over_1mil_sorted = over_1mil.loc[sorted_occ.index]\n",
    "over_1mil_sorted.plot(kind='barh', stacked=True, figsize=(10, 6));"
   ]
  },
  {
   "cell_type": "markdown",
   "metadata": {},
   "source": [
    "# Simple ranking"
   ]
  },
  {
   "cell_type": "markdown",
   "metadata": {},
   "source": [
    "Determine largest donors:"
   ]
  },
  {
   "cell_type": "code",
   "execution_count": 37,
   "metadata": {},
   "outputs": [
    {
     "data": {
      "text/plain": [
       "325136    2014490.51\n",
       "326651    1944042.43\n",
       "344539    1679114.65\n",
       "344419    1511192.17\n",
       "319478     526246.17\n",
       "335187     512710.91\n",
       "257270     451726.00\n",
       "Name: contb_receipt_amt, dtype: float64"
      ]
     },
     "execution_count": 37,
     "metadata": {},
     "output_type": "execute_result"
    }
   ],
   "source": [
    "largest_donors = fecmain['contb_receipt_amt'].nlargest(7)\n",
    "largest_donors"
   ]
  },
  {
   "cell_type": "code",
   "execution_count": 38,
   "metadata": {},
   "outputs": [
    {
     "data": {
      "text/html": [
       "<div>\n",
       "<style scoped>\n",
       "    .dataframe tbody tr th:only-of-type {\n",
       "        vertical-align: middle;\n",
       "    }\n",
       "\n",
       "    .dataframe tbody tr th {\n",
       "        vertical-align: top;\n",
       "    }\n",
       "\n",
       "    .dataframe thead th {\n",
       "        text-align: right;\n",
       "    }\n",
       "</style>\n",
       "<table border=\"1\" class=\"dataframe\">\n",
       "  <thead>\n",
       "    <tr style=\"text-align: right;\">\n",
       "      <th></th>\n",
       "      <th>cmte_id</th>\n",
       "      <th>cand_id</th>\n",
       "      <th>cand_nm</th>\n",
       "      <th>contbr_nm</th>\n",
       "      <th>contbr_city</th>\n",
       "      <th>contbr_st</th>\n",
       "      <th>contbr_zip</th>\n",
       "      <th>contbr_employer</th>\n",
       "      <th>contbr_occupation</th>\n",
       "      <th>contb_receipt_amt</th>\n",
       "      <th>contb_receipt_dt</th>\n",
       "      <th>receipt_desc</th>\n",
       "      <th>memo_cd</th>\n",
       "      <th>memo_text</th>\n",
       "      <th>form_tp</th>\n",
       "      <th>file_num</th>\n",
       "      <th>party</th>\n",
       "    </tr>\n",
       "  </thead>\n",
       "  <tbody>\n",
       "    <tr>\n",
       "      <th>325136</th>\n",
       "      <td>C00431445</td>\n",
       "      <td>P80003338</td>\n",
       "      <td>Obama, Barack</td>\n",
       "      <td>OBAMA VICTORY FUND 2012 - UNITEMIZED</td>\n",
       "      <td>CHICAGO</td>\n",
       "      <td>IL</td>\n",
       "      <td>60680</td>\n",
       "      <td>NaN</td>\n",
       "      <td>NaN</td>\n",
       "      <td>2014490.51</td>\n",
       "      <td>29-FEB-12</td>\n",
       "      <td>NaN</td>\n",
       "      <td>X</td>\n",
       "      <td>*</td>\n",
       "      <td>SA18</td>\n",
       "      <td>787803</td>\n",
       "      <td>D</td>\n",
       "    </tr>\n",
       "    <tr>\n",
       "      <th>326651</th>\n",
       "      <td>C00431445</td>\n",
       "      <td>P80003338</td>\n",
       "      <td>Obama, Barack</td>\n",
       "      <td>OBAMA VICTORY FUND 2012 - UNITEMIZED</td>\n",
       "      <td>CHICAGO</td>\n",
       "      <td>IL</td>\n",
       "      <td>60680</td>\n",
       "      <td>NaN</td>\n",
       "      <td>NaN</td>\n",
       "      <td>1944042.43</td>\n",
       "      <td>31-DEC-11</td>\n",
       "      <td>NaN</td>\n",
       "      <td>X</td>\n",
       "      <td>*</td>\n",
       "      <td>SA18</td>\n",
       "      <td>772372</td>\n",
       "      <td>D</td>\n",
       "    </tr>\n",
       "    <tr>\n",
       "      <th>344539</th>\n",
       "      <td>C00431445</td>\n",
       "      <td>P80003338</td>\n",
       "      <td>Obama, Barack</td>\n",
       "      <td>OBAMA VICTORY FUND 2012 - UNITEMIZED</td>\n",
       "      <td>CHICAGO</td>\n",
       "      <td>IL</td>\n",
       "      <td>60680</td>\n",
       "      <td>NaN</td>\n",
       "      <td>NaN</td>\n",
       "      <td>1679114.65</td>\n",
       "      <td>31-MAR-12</td>\n",
       "      <td>NaN</td>\n",
       "      <td>X</td>\n",
       "      <td>*</td>\n",
       "      <td>SA18</td>\n",
       "      <td>780234</td>\n",
       "      <td>D</td>\n",
       "    </tr>\n",
       "    <tr>\n",
       "      <th>344419</th>\n",
       "      <td>C00431445</td>\n",
       "      <td>P80003338</td>\n",
       "      <td>Obama, Barack</td>\n",
       "      <td>OBAMA VICTORY FUND 2012 - UNITEMIZED</td>\n",
       "      <td>CHICAGO</td>\n",
       "      <td>IL</td>\n",
       "      <td>60680</td>\n",
       "      <td>NaN</td>\n",
       "      <td>NaN</td>\n",
       "      <td>1511192.17</td>\n",
       "      <td>30-SEP-11</td>\n",
       "      <td>NaN</td>\n",
       "      <td>X</td>\n",
       "      <td>*</td>\n",
       "      <td>SA18</td>\n",
       "      <td>756218</td>\n",
       "      <td>D</td>\n",
       "    </tr>\n",
       "    <tr>\n",
       "      <th>319478</th>\n",
       "      <td>C00431445</td>\n",
       "      <td>P80003338</td>\n",
       "      <td>Obama, Barack</td>\n",
       "      <td>OBAMA VICTORY FUND 2012 - UNITEMIZED</td>\n",
       "      <td>CHICAGO</td>\n",
       "      <td>IL</td>\n",
       "      <td>60680</td>\n",
       "      <td>NaN</td>\n",
       "      <td>NaN</td>\n",
       "      <td>526246.17</td>\n",
       "      <td>30-APR-12</td>\n",
       "      <td>NaN</td>\n",
       "      <td>X</td>\n",
       "      <td>*</td>\n",
       "      <td>SA18</td>\n",
       "      <td>785239</td>\n",
       "      <td>D</td>\n",
       "    </tr>\n",
       "    <tr>\n",
       "      <th>335187</th>\n",
       "      <td>C00431445</td>\n",
       "      <td>P80003338</td>\n",
       "      <td>Obama, Barack</td>\n",
       "      <td>OBAMA VICTORY FUND 2012 - UNITEMIZED</td>\n",
       "      <td>CHICAGO</td>\n",
       "      <td>IL</td>\n",
       "      <td>60680</td>\n",
       "      <td>NaN</td>\n",
       "      <td>NaN</td>\n",
       "      <td>512710.91</td>\n",
       "      <td>31-JAN-12</td>\n",
       "      <td>NaN</td>\n",
       "      <td>X</td>\n",
       "      <td>*</td>\n",
       "      <td>SA18</td>\n",
       "      <td>775668</td>\n",
       "      <td>D</td>\n",
       "    </tr>\n",
       "    <tr>\n",
       "      <th>257270</th>\n",
       "      <td>C00431445</td>\n",
       "      <td>P80003338</td>\n",
       "      <td>Obama, Barack</td>\n",
       "      <td>OBAMA VICTORY FUND 2012 - UNITEMIZED</td>\n",
       "      <td>WASHINGTON</td>\n",
       "      <td>DC</td>\n",
       "      <td>20003</td>\n",
       "      <td>NaN</td>\n",
       "      <td>NaN</td>\n",
       "      <td>451726.00</td>\n",
       "      <td>30-JUN-11</td>\n",
       "      <td>NaN</td>\n",
       "      <td>X</td>\n",
       "      <td>*</td>\n",
       "      <td>SA18</td>\n",
       "      <td>756214</td>\n",
       "      <td>D</td>\n",
       "    </tr>\n",
       "  </tbody>\n",
       "</table>\n",
       "</div>"
      ],
      "text/plain": [
       "          cmte_id    cand_id        cand_nm  \\\n",
       "325136  C00431445  P80003338  Obama, Barack   \n",
       "326651  C00431445  P80003338  Obama, Barack   \n",
       "344539  C00431445  P80003338  Obama, Barack   \n",
       "344419  C00431445  P80003338  Obama, Barack   \n",
       "319478  C00431445  P80003338  Obama, Barack   \n",
       "335187  C00431445  P80003338  Obama, Barack   \n",
       "257270  C00431445  P80003338  Obama, Barack   \n",
       "\n",
       "                                   contbr_nm contbr_city contbr_st contbr_zip  \\\n",
       "325136  OBAMA VICTORY FUND 2012 - UNITEMIZED     CHICAGO        IL      60680   \n",
       "326651  OBAMA VICTORY FUND 2012 - UNITEMIZED     CHICAGO        IL      60680   \n",
       "344539  OBAMA VICTORY FUND 2012 - UNITEMIZED     CHICAGO        IL      60680   \n",
       "344419  OBAMA VICTORY FUND 2012 - UNITEMIZED     CHICAGO        IL      60680   \n",
       "319478  OBAMA VICTORY FUND 2012 - UNITEMIZED     CHICAGO        IL      60680   \n",
       "335187  OBAMA VICTORY FUND 2012 - UNITEMIZED     CHICAGO        IL      60680   \n",
       "257270  OBAMA VICTORY FUND 2012 - UNITEMIZED  WASHINGTON        DC      20003   \n",
       "\n",
       "       contbr_employer contbr_occupation  contb_receipt_amt contb_receipt_dt  \\\n",
       "325136             NaN               NaN         2014490.51        29-FEB-12   \n",
       "326651             NaN               NaN         1944042.43        31-DEC-11   \n",
       "344539             NaN               NaN         1679114.65        31-MAR-12   \n",
       "344419             NaN               NaN         1511192.17        30-SEP-11   \n",
       "319478             NaN               NaN          526246.17        30-APR-12   \n",
       "335187             NaN               NaN          512710.91        31-JAN-12   \n",
       "257270             NaN               NaN          451726.00        30-JUN-11   \n",
       "\n",
       "       receipt_desc memo_cd memo_text form_tp  file_num party  \n",
       "325136          NaN       X         *    SA18    787803     D  \n",
       "326651          NaN       X         *    SA18    772372     D  \n",
       "344539          NaN       X         *    SA18    780234     D  \n",
       "344419          NaN       X         *    SA18    756218     D  \n",
       "319478          NaN       X         *    SA18    785239     D  \n",
       "335187          NaN       X         *    SA18    775668     D  \n",
       "257270          NaN       X         *    SA18    756214     D  "
      ]
     },
     "execution_count": 38,
     "metadata": {},
     "output_type": "execute_result"
    }
   ],
   "source": [
    "fecmain.loc[largest_donors.index]"
   ]
  },
  {
   "cell_type": "markdown",
   "metadata": {},
   "source": [
    "Display largest donors, grouped by candidate:"
   ]
  },
  {
   "cell_type": "code",
   "execution_count": 39,
   "metadata": {},
   "outputs": [
    {
     "data": {
      "text/plain": [
       "cand_nm              \n",
       "Obama, Barack  325136    2014490.51\n",
       "               326651    1944042.43\n",
       "               344539    1679114.65\n",
       "Romney, Mitt   65131       12700.00\n",
       "               41888       10000.00\n",
       "               90076       10000.00\n",
       "Name: contb_receipt_amt, dtype: float64"
      ]
     },
     "execution_count": 39,
     "metadata": {},
     "output_type": "execute_result"
    }
   ],
   "source": [
    "grouped = fecmain.groupby('cand_nm')\n",
    "grouped['contb_receipt_amt'].nlargest(3)"
   ]
  },
  {
   "cell_type": "code",
   "execution_count": 40,
   "metadata": {},
   "outputs": [
    {
     "data": {
      "text/plain": [
       "pandas.core.groupby.generic.DataFrameGroupBy"
      ]
     },
     "execution_count": 40,
     "metadata": {},
     "output_type": "execute_result"
    }
   ],
   "source": [
    "type(grouped)"
   ]
  },
  {
   "cell_type": "markdown",
   "metadata": {},
   "source": [
    "`.apply()` for groups:"
   ]
  },
  {
   "cell_type": "code",
   "execution_count": 41,
   "metadata": {},
   "outputs": [
    {
     "data": {
      "text/plain": [
       "cand_nm\n",
       "Obama, Barack    <class 'pandas.core.frame.DataFrame'>\n",
       "Romney, Mitt     <class 'pandas.core.frame.DataFrame'>\n",
       "dtype: object"
      ]
     },
     "execution_count": 41,
     "metadata": {},
     "output_type": "execute_result"
    }
   ],
   "source": [
    "grouped.apply(lambda x: type(x))"
   ]
  },
  {
   "cell_type": "markdown",
   "metadata": {},
   "source": [
    "Use `.apply()` to get `DataFrame` objects showing the largest donors, grouped by candidate _and_ occupation:"
   ]
  },
  {
   "cell_type": "code",
   "execution_count": 42,
   "metadata": {},
   "outputs": [
    {
     "data": {
      "text/plain": [
       "contbr_occupation\n",
       "RETIRED         36537456.46\n",
       "ATTORNEY        16429511.79\n",
       "NOT PROVIDED    16023176.80\n",
       "HOMEMAKER       12280645.16\n",
       "PHYSICIAN        5065383.78\n",
       "Name: contb_receipt_amt, dtype: float64"
      ]
     },
     "execution_count": 42,
     "metadata": {},
     "output_type": "execute_result"
    }
   ],
   "source": [
    "def top_amounts_by_occupation(df, n=5):\n",
    "    # Fill me in!\n",
    "    totals = df.groupby('contbr_occupation')['contb_receipt_amt'].sum()\n",
    "    return totals.nlargest(n)\n",
    "\n",
    "top_amounts_by_occupation(fecmain)"
   ]
  },
  {
   "cell_type": "code",
   "execution_count": 43,
   "metadata": {},
   "outputs": [
    {
     "data": {
      "text/plain": [
       "cand_nm        contbr_occupation\n",
       "Obama, Barack  RETIRED              25270507.23\n",
       "               ATTORNEY             11126932.97\n",
       "               NOT PROVIDED          4849801.96\n",
       "               HOMEMAKER             4243394.30\n",
       "               PHYSICIAN             3732387.44\n",
       "               LAWYER                3159391.87\n",
       "               CONSULTANT            2459812.71\n",
       "               PROFESSOR             2163571.08\n",
       "               CEO                   2071474.79\n",
       "               PRESIDENT             1878009.95\n",
       "Romney, Mitt   RETIRED              11266949.23\n",
       "               NOT PROVIDED         11173374.84\n",
       "               HOMEMAKER             8037250.86\n",
       "               ATTORNEY              5302578.82\n",
       "               PRESIDENT             2403439.77\n",
       "               CEO                   2247242.03\n",
       "               EXECUTIVE             2230653.79\n",
       "               INVESTOR              1494725.12\n",
       "               CONSULTANT            1404576.94\n",
       "               PHYSICIAN             1332996.34\n",
       "Name: contb_receipt_amt, dtype: float64"
      ]
     },
     "execution_count": 43,
     "metadata": {},
     "output_type": "execute_result"
    }
   ],
   "source": [
    "grouped.apply(top_amounts_by_occupation, n=10)"
   ]
  },
  {
   "cell_type": "markdown",
   "metadata": {},
   "source": [
    "# Big vs. small donations"
   ]
  },
  {
   "cell_type": "markdown",
   "metadata": {},
   "source": [
    "For each of the leading two candidates, did most of their money come from large or small donations?"
   ]
  },
  {
   "cell_type": "code",
   "execution_count": 44,
   "metadata": {},
   "outputs": [
    {
     "data": {
      "text/plain": [
       "[0, 1, 10, 100, 1000, 10000, 100000, 1000000, 10000000]"
      ]
     },
     "execution_count": 44,
     "metadata": {},
     "output_type": "execute_result"
    }
   ],
   "source": [
    "bins = [0] + [10**k for k in range(0, 8)]\n",
    "bins"
   ]
  },
  {
   "cell_type": "code",
   "execution_count": 45,
   "metadata": {},
   "outputs": [
    {
     "data": {
      "text/plain": [
       "411      [10, 100)\n",
       "412    [100, 1000)\n",
       "413    [100, 1000)\n",
       "414      [10, 100)\n",
       "415    [100, 1000)\n",
       "Name: contb_receipt_amt, dtype: category\n",
       "Categories (8, interval[int64]): [[0, 1) < [1, 10) < [10, 100) < [100, 1000) < [1000, 10000) < [10000, 100000) < [100000, 1000000) < [1000000, 10000000)]"
      ]
     },
     "execution_count": 45,
     "metadata": {},
     "output_type": "execute_result"
    }
   ],
   "source": [
    "labels = pd.cut(fecmain['contb_receipt_amt'], bins, right=False)\n",
    "labels[:5]"
   ]
  },
  {
   "cell_type": "code",
   "execution_count": 46,
   "metadata": {},
   "outputs": [
    {
     "data": {
      "text/plain": [
       "cand_nm        contb_receipt_amt  \n",
       "Obama, Barack  [0, 1)                    824\n",
       "               [1, 10)                 12028\n",
       "               [10, 100)              300624\n",
       "               [100, 1000)            239811\n",
       "               [1000, 10000)           36440\n",
       "               [10000, 100000)             2\n",
       "               [100000, 1000000)           3\n",
       "               [1000000, 10000000)         4\n",
       "Romney, Mitt   [0, 1)                      0\n",
       "               [1, 10)                  1407\n",
       "               [10, 100)               22575\n",
       "               [100, 1000)             42991\n",
       "               [1000, 10000)           38177\n",
       "               [10000, 100000)             5\n",
       "               [100000, 1000000)           0\n",
       "               [1000000, 10000000)         0\n",
       "dtype: int64"
      ]
     },
     "execution_count": 46,
     "metadata": {},
     "output_type": "execute_result"
    }
   ],
   "source": [
    "grouped = fecmain.groupby(['cand_nm', labels])\n",
    "grouped.size()"
   ]
  },
  {
   "cell_type": "markdown",
   "metadata": {},
   "source": [
    "**Fin!**"
   ]
  }
 ],
 "metadata": {
  "kernel_info": {
   "name": "python3"
  },
  "kernelspec": {
   "display_name": "Python 3 [3.7]",
   "language": "python",
   "name": "python3"
  },
  "language_info": {
   "codemirror_mode": {
    "name": "ipython",
    "version": 3
   },
   "file_extension": ".py",
   "mimetype": "text/x-python",
   "name": "python",
   "nbconvert_exporter": "python",
   "pygments_lexer": "ipython3",
   "version": "3.7.5"
  },
  "nteract": {
   "version": "0.11.9"
  }
 },
 "nbformat": 4,
 "nbformat_minor": 2
}

{
 "cells": [
  {
   "cell_type": "markdown",
   "metadata": {},
   "source": [
    "# Supplemental notes on Pandas\n",
    "\n",
    "The [**pandas** library](https://pandas.pydata.org/) is a Python module for representing what we call \"tibbles\" in Topic 7. Beyond what you see there, this notebook has additional notes to help you understand how to manipulate objects in Pandas. These notes adapt those found in the recommended text, [Python for Data Analysis (2nd ed.)](http://shop.oreilly.com/product/0636920050896.do), which is written by the createor of pandas, [Wes McKinney](http://wesmckinney.com/)."
   ]
  },
  {
   "cell_type": "markdown",
   "metadata": {},
   "source": [
    "**Versions.** The state of pandas is a bit in-flux, so it's important to be flexible and accommodate differences in functionality that might vary by version. The following code shows you how to check what version of pandas you have."
   ]
  },
  {
   "cell_type": "code",
   "execution_count": 1,
   "metadata": {},
   "outputs": [
    {
     "name": "stdout",
     "output_type": "stream",
     "text": [
      "=== pandas version: 1.1.2 ===\n",
      "\n",
      "=== Python version ===\n",
      "3.7.5 (default, Dec 18 2019, 06:24:58) \n",
      "[GCC 5.5.0 20171010]\n"
     ]
    }
   ],
   "source": [
    "import pandas as pd  # Standard idiom for loading pandas\n",
    "\n",
    "print(\"=== pandas version: {} ===\\n\".format(pd.__version__))\n",
    "\n",
    "import sys\n",
    "print(\"=== Python version ===\\n{}\".format(sys.version))"
   ]
  },
  {
   "cell_type": "markdown",
   "metadata": {},
   "source": [
    "The main object that pandas implements is the `DataFrame`, which is essentially a 2-D table. It's an ideal target for holding the tibbles of Topic+Notebook 7, and its design derives in part from [data frame objects in the R language](https://www.rdocumentation.org/packages/base/versions/3.5.1/topics/data.frame).\n",
    "\n",
    "In addition to `DataFrame`, another important component of pandas is the `Series`, which is essentially one column of a `DataFrame` object (and, therefore, corresponds to variables and responses in a tibble)."
   ]
  },
  {
   "cell_type": "code",
   "execution_count": 2,
   "metadata": {
    "collapsed": true
   },
   "outputs": [],
   "source": [
    "from pandas import DataFrame, Series"
   ]
  },
  {
   "cell_type": "markdown",
   "metadata": {},
   "source": [
    "# `Series` objects\n",
    "\n",
    "A pandas [`Series`](http://pandas.pydata.org/pandas-docs/stable/generated/pandas.Series.html) object is a column-oriented object that we will use to store a variable of a tibble."
   ]
  },
  {
   "cell_type": "code",
   "execution_count": 3,
   "metadata": {},
   "outputs": [
    {
     "name": "stdout",
     "output_type": "stream",
     "text": [
      "`obj` has type `<class 'pandas.core.series.Series'>`:\n",
      "\n",
      "0   -1\n",
      "1    2\n",
      "2   -3\n",
      "3    4\n",
      "4   -5\n",
      "dtype: int64\n"
     ]
    }
   ],
   "source": [
    "obj = Series([-1, 2, -3, 4, -5])\n",
    "print(f\"`obj` has type `{type(obj)}`:\\n\\n{obj}\")"
   ]
  },
  {
   "cell_type": "markdown",
   "metadata": {},
   "source": [
    "Observe the common **base type** (`dtype: int64`) and **index** (element numbers)."
   ]
  },
  {
   "cell_type": "markdown",
   "metadata": {},
   "source": [
    "Regarding the base type, a `Series` differs from a Python `list` in that the types of its elements are assumed to be the same. Doing so allows many operations on a `Series` to be faster than their counterparts for `list` objects, as in this search example."
   ]
  },
  {
   "cell_type": "code",
   "execution_count": 4,
   "metadata": {},
   "outputs": [
    {
     "name": "stdout",
     "output_type": "stream",
     "text": [
      "\n",
      "Creating random `list` and `Series` objects:\n",
      "- Length: 10000000 elements\n",
      "- Range: [-50000000, 50000000]\n",
      "\n",
      "==> Estimating time to search the `list`:\n",
      "171 ms ± 32.1 ms per loop (mean ± std. dev. of 7 runs, 1 loop each)\n",
      "\n",
      "==> Estimating time to search the `Series`:\n",
      "20.6 ms ± 106 µs per loop (mean ± std. dev. of 7 runs, 10 loops each)\n",
      "\n",
      "==> (`list` time) divided by `Series` time is roughly 8.3x\n"
     ]
    }
   ],
   "source": [
    "from random import randint\n",
    "n_ints = 10000000\n",
    "max_value = 5*n_ints\n",
    "\n",
    "print(f\"\"\"\n",
    "Creating random `list` and `Series` objects:\n",
    "- Length: {n_ints} elements\n",
    "- Range: [{-max_value}, {max_value}]\n",
    "\"\"\")\n",
    "a_list = [randint(-max_value, max_value) for _ in range(n_ints)]\n",
    "a_series = Series(a_list)\n",
    "\n",
    "print(\"==> Estimating time to search the `list`:\")\n",
    "t_list_search = %timeit -o randint(-max_value, max_value) in a_list\n",
    "\n",
    "print(\"\\n==> Estimating time to search the `Series`:\")\n",
    "t_series_search = %timeit -o a_series.isin([randint(-max_value, max_value)])\n",
    "\n",
    "print(f\"\\n==> (`list` time) divided by `Series` time is roughly {t_list_search.average / t_series_search.average:.1f}x\")"
   ]
  },
  {
   "cell_type": "markdown",
   "metadata": {},
   "source": [
    "If you create a `Series` with \"mixed types,\" the `dtype` will become the most generic Python type, `object`. (A deeper understanding of what this fact means requires some knowledge of object-oriented programming, but that won't be necessary for our course.)"
   ]
  },
  {
   "cell_type": "code",
   "execution_count": 5,
   "metadata": {},
   "outputs": [
    {
     "data": {
      "text/plain": [
       "0    -1\n",
       "1     2\n",
       "2    -3\n",
       "3     4\n",
       "4    -5\n",
       "dtype: object"
      ]
     },
     "execution_count": 5,
     "metadata": {},
     "output_type": "execute_result"
    }
   ],
   "source": [
    "obj2 = Series([-1, '2', -3, '4', -5])\n",
    "obj2"
   ]
  },
  {
   "cell_type": "markdown",
   "metadata": {},
   "source": [
    "If you want to query the base type, use:"
   ]
  },
  {
   "cell_type": "code",
   "execution_count": 6,
   "metadata": {},
   "outputs": [
    {
     "name": "stdout",
     "output_type": "stream",
     "text": [
      "int64\n",
      "object\n"
     ]
    }
   ],
   "source": [
    "print(obj.dtype)\n",
    "print(obj2.dtype)"
   ]
  },
  {
   "cell_type": "markdown",
   "metadata": {},
   "source": [
    "Regarding the index, it provides a convenient way to reference individual elements of the `Series`."
   ]
  },
  {
   "cell_type": "markdown",
   "metadata": {},
   "source": [
    "By default, a `Series` has an index that is akin to `range()` in standard Python, and effectively numbers the entries from 0 to `n-1`, where `n` is the length of the `Series`. A `Series` object also becomes list-like in how you reference its elements."
   ]
  },
  {
   "cell_type": "code",
   "execution_count": 7,
   "metadata": {
    "scrolled": true
   },
   "outputs": [
    {
     "name": "stdout",
     "output_type": "stream",
     "text": [
      "obj.index: RangeIndex(start=0, stop=5, step=1)\n",
      "range(0, 5): range(0, 5)\n"
     ]
    }
   ],
   "source": [
    "print(\"obj.index: {}\".format(obj.index))\n",
    "print(\"range(0, 5): {}\".format(range(0, 5)))"
   ]
  },
  {
   "cell_type": "code",
   "execution_count": 8,
   "metadata": {},
   "outputs": [
    {
     "name": "stdout",
     "output_type": "stream",
     "text": [
      "==> obj[2]:\n",
      "-3\n",
      "\n",
      "==> obj[3]:\n",
      "4\n",
      "\n",
      "==> obj[1:3]:\n",
      "1    2\n",
      "2   -3\n",
      "3    4\n",
      "dtype: int64\n",
      "\n"
     ]
    }
   ],
   "source": [
    "print(\"==> obj[2]:\\n{}\\n\".format(obj[2]))\n",
    "print(\"==> obj[3]:\\n{}\\n\".format(obj[3]))\n",
    "print(\"==> obj[1:3]:\\n{}\\n\".format(obj[1:4]))"
   ]
  },
  {
   "cell_type": "markdown",
   "metadata": {},
   "source": [
    "You can also use more complex index objects, like lists of integers and conditional masks."
   ]
  },
  {
   "cell_type": "code",
   "execution_count": 9,
   "metadata": {},
   "outputs": [
    {
     "data": {
      "text/plain": [
       "0   -1\n",
       "2   -3\n",
       "3    4\n",
       "dtype: int64"
      ]
     },
     "execution_count": 9,
     "metadata": {},
     "output_type": "execute_result"
    }
   ],
   "source": [
    "I = [0, 2, 3]\n",
    "obj[I] # Also: obj[[0, 2, 3]]"
   ]
  },
  {
   "cell_type": "code",
   "execution_count": 10,
   "metadata": {},
   "outputs": [
    {
     "name": "stdout",
     "output_type": "stream",
     "text": [
      "<class 'pandas.core.series.Series'> 0    False\n",
      "1     True\n",
      "2    False\n",
      "3     True\n",
      "4    False\n",
      "dtype: bool\n"
     ]
    }
   ],
   "source": [
    "I_pos = obj > 0\n",
    "print(type(I_pos), I_pos)"
   ]
  },
  {
   "cell_type": "code",
   "execution_count": 11,
   "metadata": {},
   "outputs": [
    {
     "name": "stdout",
     "output_type": "stream",
     "text": [
      "1    2\n",
      "3    4\n",
      "dtype: int64\n"
     ]
    }
   ],
   "source": [
    "print(obj[I_pos])"
   ]
  },
  {
   "cell_type": "markdown",
   "metadata": {},
   "source": [
    "However, the index can be a more general structure, which effectively turns a `Series` object into something that is \"dictionary-like.\""
   ]
  },
  {
   "cell_type": "code",
   "execution_count": 12,
   "metadata": {},
   "outputs": [
    {
     "data": {
      "text/plain": [
       "alice     1\n",
       "bob      -2\n",
       "carol     3\n",
       "dave     -4\n",
       "esther    5\n",
       "frank    -6\n",
       "dtype: int64"
      ]
     },
     "execution_count": 12,
     "metadata": {},
     "output_type": "execute_result"
    }
   ],
   "source": [
    "obj3 = Series([      1,    -2,       3,     -4,        5,      -6],\n",
    "              ['alice', 'bob', 'carol', 'dave', 'esther', 'frank'])\n",
    "obj3"
   ]
  },
  {
   "cell_type": "code",
   "execution_count": 13,
   "metadata": {},
   "outputs": [
    {
     "name": "stdout",
     "output_type": "stream",
     "text": [
      "* obj3['bob']: -2\n",
      "\n",
      "* obj3['carol']: 3\n",
      "\n"
     ]
    }
   ],
   "source": [
    "print(\"* obj3['bob']: {}\\n\".format(obj3['bob']))\n",
    "print(\"* obj3['carol']: {}\\n\".format(obj3['carol']))"
   ]
  },
  {
   "cell_type": "markdown",
   "metadata": {},
   "source": [
    "In fact, you can construct a `Series` from a dictionary directly:"
   ]
  },
  {
   "cell_type": "code",
   "execution_count": 14,
   "metadata": {},
   "outputs": [
    {
     "name": "stdout",
     "output_type": "stream",
     "text": [
      "alice     1\n",
      "carol     3\n",
      "esther    5\n",
      "bob      -2\n",
      "dave     -4\n",
      "frank    -6\n",
      "dtype: int64\n"
     ]
    }
   ],
   "source": [
    "peeps = {'alice': 1, 'carol': 3, 'esther': 5, 'bob': -2, 'dave': -4, 'frank': -6}\n",
    "obj4 = Series(peeps)\n",
    "print(obj4)"
   ]
  },
  {
   "cell_type": "code",
   "execution_count": 15,
   "metadata": {},
   "outputs": [
    {
     "name": "stdout",
     "output_type": "stream",
     "text": [
      "* las mujeres of `obj3` at offsets [0, 2, 4]:\n",
      "alice     1\n",
      "carol     3\n",
      "esther    5\n",
      "dtype: int64\n",
      "\n"
     ]
    }
   ],
   "source": [
    "mujeres = [0, 2, 4] # list of integer offsets\n",
    "print(\"* las mujeres of `obj3` at offsets {}:\\n{}\\n\".format(mujeres, obj3[mujeres]))"
   ]
  },
  {
   "cell_type": "code",
   "execution_count": 16,
   "metadata": {},
   "outputs": [
    {
     "name": "stdout",
     "output_type": "stream",
     "text": [
      "* hombres, by their names, ['bob', 'dave', 'frank']:\n",
      "bob     -2\n",
      "dave    -4\n",
      "frank   -6\n",
      "dtype: int64\n"
     ]
    }
   ],
   "source": [
    "hombres = ['bob', 'dave', 'frank'] # list of index values\n",
    "print(\"* hombres, by their names, {}:\\n{}\".format(hombres, obj3[hombres]))"
   ]
  },
  {
   "cell_type": "code",
   "execution_count": 17,
   "metadata": {},
   "outputs": [
    {
     "name": "stdout",
     "output_type": "stream",
     "text": [
      "alice     False\n",
      "bob        True\n",
      "carol     False\n",
      "dave       True\n",
      "esther    False\n",
      "frank      True\n",
      "dtype: bool\n"
     ]
    }
   ],
   "source": [
    "I_neg = obj3 < 0\n",
    "print(I_neg)"
   ]
  },
  {
   "cell_type": "code",
   "execution_count": 18,
   "metadata": {},
   "outputs": [
    {
     "name": "stdout",
     "output_type": "stream",
     "text": [
      "bob     -2\n",
      "dave    -4\n",
      "frank   -6\n",
      "dtype: int64\n"
     ]
    }
   ],
   "source": [
    "print(obj3[I_neg])"
   ]
  },
  {
   "cell_type": "markdown",
   "metadata": {},
   "source": [
    "Because of the dictionary-like naming of `Series` elements, you can use the Python `in` operator in the same way you would a dictionary.\n",
    "\n",
    "> Note: In the timing experiment comparing `list` search and `Series` search, you may have noticed that the benchmark does not use `in`, but rather, `Series.isin`. Why is that?"
   ]
  },
  {
   "cell_type": "code",
   "execution_count": 19,
   "metadata": {},
   "outputs": [
    {
     "name": "stdout",
     "output_type": "stream",
     "text": [
      "True\n",
      "True\n"
     ]
    }
   ],
   "source": [
    "print('carol' in peeps)\n",
    "print('carol' in obj3)"
   ]
  },
  {
   "cell_type": "markdown",
   "metadata": {},
   "source": [
    "Basic arithmetic works on `Series` as vector-like operations."
   ]
  },
  {
   "cell_type": "code",
   "execution_count": 20,
   "metadata": {},
   "outputs": [
    {
     "name": "stdout",
     "output_type": "stream",
     "text": [
      "alice     1\n",
      "bob      -2\n",
      "carol     3\n",
      "dave     -4\n",
      "esther    5\n",
      "frank    -6\n",
      "dtype: int64 \n",
      "\n",
      "alice      6\n",
      "bob        3\n",
      "carol      8\n",
      "dave       1\n",
      "esther    10\n",
      "frank     -1\n",
      "dtype: int64 \n",
      "\n",
      "alice      True\n",
      "bob        True\n",
      "carol      True\n",
      "dave       True\n",
      "esther     True\n",
      "frank     False\n",
      "dtype: bool \n",
      "\n",
      "alice      3.5\n",
      "bob        8.0\n",
      "carol      0.5\n",
      "dave      11.0\n",
      "esther    -2.5\n",
      "frank     14.0\n",
      "dtype: float64\n"
     ]
    }
   ],
   "source": [
    "print(obj3, \"\\n\")\n",
    "print(obj3 + 5, \"\\n\")\n",
    "print(obj3 + 5 > 0, \"\\n\")\n",
    "print((-2.5 * obj3) + (obj3 + 5))"
   ]
  },
  {
   "cell_type": "markdown",
   "metadata": {},
   "source": [
    "A `Series` object also supports vector-style operations with automatic alignment based on index values."
   ]
  },
  {
   "cell_type": "code",
   "execution_count": 21,
   "metadata": {},
   "outputs": [
    {
     "name": "stdout",
     "output_type": "stream",
     "text": [
      "alice     1\n",
      "bob      -2\n",
      "carol     3\n",
      "dave     -4\n",
      "esther    5\n",
      "frank    -6\n",
      "dtype: int64\n"
     ]
    }
   ],
   "source": [
    "print(obj3)"
   ]
  },
  {
   "cell_type": "code",
   "execution_count": 22,
   "metadata": {},
   "outputs": [
    {
     "data": {
      "text/plain": [
       "alice     1\n",
       "carol     3\n",
       "esther    5\n",
       "dtype: int64"
      ]
     },
     "execution_count": 22,
     "metadata": {},
     "output_type": "execute_result"
    }
   ],
   "source": [
    "obj_l = obj3[mujeres]\n",
    "obj_l"
   ]
  },
  {
   "cell_type": "code",
   "execution_count": 23,
   "metadata": {},
   "outputs": [
    {
     "data": {
      "text/plain": [
       "alice      2.0\n",
       "bob        NaN\n",
       "carol      6.0\n",
       "dave       NaN\n",
       "esther    10.0\n",
       "frank      NaN\n",
       "dtype: float64"
      ]
     },
     "execution_count": 23,
     "metadata": {},
     "output_type": "execute_result"
    }
   ],
   "source": [
    "obj3 + obj_l"
   ]
  },
  {
   "cell_type": "markdown",
   "metadata": {},
   "source": [
    "Observe what happened with undefined elements. If you are familiar with relational databases, this behavior is akin to an _outer-join_. "
   ]
  },
  {
   "cell_type": "markdown",
   "metadata": {},
   "source": [
    "Another useful transformation is the `.apply(fun)` method. It returns a copy of the `Series` where the function `fun` has been applied to each element. For example:"
   ]
  },
  {
   "cell_type": "code",
   "execution_count": 24,
   "metadata": {},
   "outputs": [
    {
     "data": {
      "text/plain": [
       "5"
      ]
     },
     "execution_count": 24,
     "metadata": {},
     "output_type": "execute_result"
    }
   ],
   "source": [
    "abs(-5) # Python built-in function"
   ]
  },
  {
   "cell_type": "code",
   "execution_count": 25,
   "metadata": {},
   "outputs": [
    {
     "data": {
      "text/plain": [
       "alice     1\n",
       "bob      -2\n",
       "carol     3\n",
       "dave     -4\n",
       "esther    5\n",
       "frank    -6\n",
       "dtype: int64"
      ]
     },
     "execution_count": 25,
     "metadata": {},
     "output_type": "execute_result"
    }
   ],
   "source": [
    "obj3 # Recall"
   ]
  },
  {
   "cell_type": "code",
   "execution_count": 26,
   "metadata": {},
   "outputs": [
    {
     "data": {
      "text/plain": [
       "alice     1\n",
       "bob       2\n",
       "carol     3\n",
       "dave      4\n",
       "esther    5\n",
       "frank     6\n",
       "dtype: int64"
      ]
     },
     "execution_count": 26,
     "metadata": {},
     "output_type": "execute_result"
    }
   ],
   "source": [
    "obj3.apply(abs)"
   ]
  },
  {
   "cell_type": "code",
   "execution_count": 27,
   "metadata": {},
   "outputs": [
    {
     "data": {
      "text/plain": [
       "alice     1\n",
       "bob      -2\n",
       "carol     3\n",
       "dave     -4\n",
       "esther    5\n",
       "frank    -6\n",
       "dtype: int64"
      ]
     },
     "execution_count": 27,
     "metadata": {},
     "output_type": "execute_result"
    }
   ],
   "source": [
    "obj3 # Note: `.apply()` returned a copy, so the original is untouched"
   ]
  },
  {
   "cell_type": "markdown",
   "metadata": {},
   "source": [
    "A `Series` may be _named_, too."
   ]
  },
  {
   "cell_type": "code",
   "execution_count": 28,
   "metadata": {},
   "outputs": [
    {
     "name": "stdout",
     "output_type": "stream",
     "text": [
      "None\n"
     ]
    }
   ],
   "source": [
    "print(obj3.name)"
   ]
  },
  {
   "cell_type": "code",
   "execution_count": 29,
   "metadata": {
    "scrolled": true
   },
   "outputs": [
    {
     "data": {
      "text/plain": [
       "alice     1\n",
       "bob      -2\n",
       "carol     3\n",
       "dave     -4\n",
       "esther    5\n",
       "frank    -6\n",
       "Name: peep, dtype: int64"
      ]
     },
     "execution_count": 29,
     "metadata": {},
     "output_type": "execute_result"
    }
   ],
   "source": [
    "obj3.name = 'peep'\n",
    "obj3"
   ]
  },
  {
   "cell_type": "markdown",
   "metadata": {},
   "source": [
    "When we move on to `DataFrame` objects, you'll see why names matter."
   ]
  },
  {
   "cell_type": "markdown",
   "metadata": {},
   "source": [
    "# `DataFrame` objects\n",
    "\n",
    "A pandas [`DataFrame`](https://pandas.pydata.org/pandas-docs/stable/generated/pandas.DataFrame.html) object is a table whose columns are `Series` objects, all keyed on the same index. It's the perfect container for what we have been referring to as a tibble."
   ]
  },
  {
   "cell_type": "code",
   "execution_count": 30,
   "metadata": {},
   "outputs": [
    {
     "name": "stdout",
     "output_type": "stream",
     "text": [
      "type: <class 'pandas.core.frame.DataFrame'>\n",
      "               name    zip       poc\n",
      "0         east pole  30324     jared\n",
      "1     chrome yellow  30312     kelly\n",
      "2             brash  30318      matt\n",
      "3           taproom  30317  jonathan\n",
      "4            3heart  30306      nhan\n",
      "5  spiller park pcm  30308      dale\n",
      "6            refuge  30303     kitti\n",
      "7           toptime  30318     nolan\n"
     ]
    }
   ],
   "source": [
    "cafes = DataFrame({'name': ['east pole', 'chrome yellow', 'brash', 'taproom', '3heart', 'spiller park pcm', 'refuge', 'toptime'],\n",
    "                   'zip': [30324, 30312, 30318, 30317, 30306, 30308, 30303, 30318],\n",
    "                   'poc': ['jared', 'kelly', 'matt', 'jonathan', 'nhan', 'dale', 'kitti', 'nolan']})\n",
    "print(\"type:\", type(cafes))\n",
    "print(cafes)"
   ]
  },
  {
   "cell_type": "code",
   "execution_count": 31,
   "metadata": {},
   "outputs": [
    {
     "data": {
      "text/html": [
       "<div>\n",
       "<style scoped>\n",
       "    .dataframe tbody tr th:only-of-type {\n",
       "        vertical-align: middle;\n",
       "    }\n",
       "\n",
       "    .dataframe tbody tr th {\n",
       "        vertical-align: top;\n",
       "    }\n",
       "\n",
       "    .dataframe thead th {\n",
       "        text-align: right;\n",
       "    }\n",
       "</style>\n",
       "<table border=\"1\" class=\"dataframe\">\n",
       "  <thead>\n",
       "    <tr style=\"text-align: right;\">\n",
       "      <th></th>\n",
       "      <th>name</th>\n",
       "      <th>zip</th>\n",
       "      <th>poc</th>\n",
       "    </tr>\n",
       "  </thead>\n",
       "  <tbody>\n",
       "    <tr>\n",
       "      <th>0</th>\n",
       "      <td>east pole</td>\n",
       "      <td>30324</td>\n",
       "      <td>jared</td>\n",
       "    </tr>\n",
       "    <tr>\n",
       "      <th>1</th>\n",
       "      <td>chrome yellow</td>\n",
       "      <td>30312</td>\n",
       "      <td>kelly</td>\n",
       "    </tr>\n",
       "    <tr>\n",
       "      <th>2</th>\n",
       "      <td>brash</td>\n",
       "      <td>30318</td>\n",
       "      <td>matt</td>\n",
       "    </tr>\n",
       "    <tr>\n",
       "      <th>3</th>\n",
       "      <td>taproom</td>\n",
       "      <td>30317</td>\n",
       "      <td>jonathan</td>\n",
       "    </tr>\n",
       "    <tr>\n",
       "      <th>4</th>\n",
       "      <td>3heart</td>\n",
       "      <td>30306</td>\n",
       "      <td>nhan</td>\n",
       "    </tr>\n",
       "    <tr>\n",
       "      <th>5</th>\n",
       "      <td>spiller park pcm</td>\n",
       "      <td>30308</td>\n",
       "      <td>dale</td>\n",
       "    </tr>\n",
       "    <tr>\n",
       "      <th>6</th>\n",
       "      <td>refuge</td>\n",
       "      <td>30303</td>\n",
       "      <td>kitti</td>\n",
       "    </tr>\n",
       "    <tr>\n",
       "      <th>7</th>\n",
       "      <td>toptime</td>\n",
       "      <td>30318</td>\n",
       "      <td>nolan</td>\n",
       "    </tr>\n",
       "  </tbody>\n",
       "</table>\n",
       "</div>"
      ],
      "text/plain": [
       "               name    zip       poc\n",
       "0         east pole  30324     jared\n",
       "1     chrome yellow  30312     kelly\n",
       "2             brash  30318      matt\n",
       "3           taproom  30317  jonathan\n",
       "4            3heart  30306      nhan\n",
       "5  spiller park pcm  30308      dale\n",
       "6            refuge  30303     kitti\n",
       "7           toptime  30318     nolan"
      ]
     },
     "metadata": {},
     "output_type": "display_data"
    }
   ],
   "source": [
    "display(cafes) # Or just `cafes` as the last line of a cell"
   ]
  },
  {
   "cell_type": "markdown",
   "metadata": {},
   "source": [
    "The `DataFrame` has named columns, which are stored as an `Index` (more later!):"
   ]
  },
  {
   "cell_type": "code",
   "execution_count": 32,
   "metadata": {},
   "outputs": [
    {
     "data": {
      "text/plain": [
       "Index(['name', 'zip', 'poc'], dtype='object')"
      ]
     },
     "execution_count": 32,
     "metadata": {},
     "output_type": "execute_result"
    }
   ],
   "source": [
    "cafes.columns"
   ]
  },
  {
   "cell_type": "markdown",
   "metadata": {},
   "source": [
    "Each column is a named `Series`:"
   ]
  },
  {
   "cell_type": "code",
   "execution_count": 33,
   "metadata": {},
   "outputs": [
    {
     "data": {
      "text/plain": [
       "pandas.core.series.Series"
      ]
     },
     "execution_count": 33,
     "metadata": {},
     "output_type": "execute_result"
    }
   ],
   "source": [
    "type(cafes['zip']) # Aha!"
   ]
  },
  {
   "cell_type": "markdown",
   "metadata": {},
   "source": [
    "As you might expect, these `Series` objects should all have the same index."
   ]
  },
  {
   "cell_type": "code",
   "execution_count": 34,
   "metadata": {},
   "outputs": [
    {
     "data": {
      "text/plain": [
       "RangeIndex(start=0, stop=8, step=1)"
      ]
     },
     "execution_count": 34,
     "metadata": {},
     "output_type": "execute_result"
    }
   ],
   "source": [
    "cafes.index"
   ]
  },
  {
   "cell_type": "code",
   "execution_count": 35,
   "metadata": {
    "scrolled": true
   },
   "outputs": [
    {
     "data": {
      "text/plain": [
       "array([ True,  True,  True,  True,  True,  True,  True,  True])"
      ]
     },
     "execution_count": 35,
     "metadata": {},
     "output_type": "execute_result"
    }
   ],
   "source": [
    "cafes.index == cafes['zip'].index"
   ]
  },
  {
   "cell_type": "code",
   "execution_count": 36,
   "metadata": {},
   "outputs": [
    {
     "data": {
      "text/plain": [
       "array([ True,  True,  True,  True,  True,  True,  True,  True])"
      ]
     },
     "execution_count": 36,
     "metadata": {},
     "output_type": "execute_result"
    }
   ],
   "source": [
    "cafes['zip'].index == cafes['poc'].index"
   ]
  },
  {
   "cell_type": "markdown",
   "metadata": {},
   "source": [
    "You may use complex indexing of columns."
   ]
  },
  {
   "cell_type": "code",
   "execution_count": 37,
   "metadata": {
    "scrolled": false
   },
   "outputs": [
    {
     "data": {
      "text/html": [
       "<div>\n",
       "<style scoped>\n",
       "    .dataframe tbody tr th:only-of-type {\n",
       "        vertical-align: middle;\n",
       "    }\n",
       "\n",
       "    .dataframe tbody tr th {\n",
       "        vertical-align: top;\n",
       "    }\n",
       "\n",
       "    .dataframe thead th {\n",
       "        text-align: right;\n",
       "    }\n",
       "</style>\n",
       "<table border=\"1\" class=\"dataframe\">\n",
       "  <thead>\n",
       "    <tr style=\"text-align: right;\">\n",
       "      <th></th>\n",
       "      <th>zip</th>\n",
       "      <th>poc</th>\n",
       "    </tr>\n",
       "  </thead>\n",
       "  <tbody>\n",
       "    <tr>\n",
       "      <th>0</th>\n",
       "      <td>30324</td>\n",
       "      <td>jared</td>\n",
       "    </tr>\n",
       "    <tr>\n",
       "      <th>1</th>\n",
       "      <td>30312</td>\n",
       "      <td>kelly</td>\n",
       "    </tr>\n",
       "    <tr>\n",
       "      <th>2</th>\n",
       "      <td>30318</td>\n",
       "      <td>matt</td>\n",
       "    </tr>\n",
       "    <tr>\n",
       "      <th>3</th>\n",
       "      <td>30317</td>\n",
       "      <td>jonathan</td>\n",
       "    </tr>\n",
       "    <tr>\n",
       "      <th>4</th>\n",
       "      <td>30306</td>\n",
       "      <td>nhan</td>\n",
       "    </tr>\n",
       "    <tr>\n",
       "      <th>5</th>\n",
       "      <td>30308</td>\n",
       "      <td>dale</td>\n",
       "    </tr>\n",
       "    <tr>\n",
       "      <th>6</th>\n",
       "      <td>30303</td>\n",
       "      <td>kitti</td>\n",
       "    </tr>\n",
       "    <tr>\n",
       "      <th>7</th>\n",
       "      <td>30318</td>\n",
       "      <td>nolan</td>\n",
       "    </tr>\n",
       "  </tbody>\n",
       "</table>\n",
       "</div>"
      ],
      "text/plain": [
       "     zip       poc\n",
       "0  30324     jared\n",
       "1  30312     kelly\n",
       "2  30318      matt\n",
       "3  30317  jonathan\n",
       "4  30306      nhan\n",
       "5  30308      dale\n",
       "6  30303     kitti\n",
       "7  30318     nolan"
      ]
     },
     "execution_count": 37,
     "metadata": {},
     "output_type": "execute_result"
    }
   ],
   "source": [
    "target_fields = ['zip', 'poc']\n",
    "cafes[target_fields]"
   ]
  },
  {
   "cell_type": "markdown",
   "metadata": {},
   "source": [
    "But slices apply to rows."
   ]
  },
  {
   "cell_type": "code",
   "execution_count": 38,
   "metadata": {},
   "outputs": [
    {
     "data": {
      "text/html": [
       "<div>\n",
       "<style scoped>\n",
       "    .dataframe tbody tr th:only-of-type {\n",
       "        vertical-align: middle;\n",
       "    }\n",
       "\n",
       "    .dataframe tbody tr th {\n",
       "        vertical-align: top;\n",
       "    }\n",
       "\n",
       "    .dataframe thead th {\n",
       "        text-align: right;\n",
       "    }\n",
       "</style>\n",
       "<table border=\"1\" class=\"dataframe\">\n",
       "  <thead>\n",
       "    <tr style=\"text-align: right;\">\n",
       "      <th></th>\n",
       "      <th>name</th>\n",
       "      <th>zip</th>\n",
       "      <th>poc</th>\n",
       "    </tr>\n",
       "  </thead>\n",
       "  <tbody>\n",
       "    <tr>\n",
       "      <th>1</th>\n",
       "      <td>chrome yellow</td>\n",
       "      <td>30312</td>\n",
       "      <td>kelly</td>\n",
       "    </tr>\n",
       "    <tr>\n",
       "      <th>3</th>\n",
       "      <td>taproom</td>\n",
       "      <td>30317</td>\n",
       "      <td>jonathan</td>\n",
       "    </tr>\n",
       "    <tr>\n",
       "      <th>5</th>\n",
       "      <td>spiller park pcm</td>\n",
       "      <td>30308</td>\n",
       "      <td>dale</td>\n",
       "    </tr>\n",
       "    <tr>\n",
       "      <th>7</th>\n",
       "      <td>toptime</td>\n",
       "      <td>30318</td>\n",
       "      <td>nolan</td>\n",
       "    </tr>\n",
       "  </tbody>\n",
       "</table>\n",
       "</div>"
      ],
      "text/plain": [
       "               name    zip       poc\n",
       "1     chrome yellow  30312     kelly\n",
       "3           taproom  30317  jonathan\n",
       "5  spiller park pcm  30308      dale\n",
       "7           toptime  30318     nolan"
      ]
     },
     "execution_count": 38,
     "metadata": {},
     "output_type": "execute_result"
    }
   ],
   "source": [
    "cafes[1::2]"
   ]
  },
  {
   "cell_type": "markdown",
   "metadata": {},
   "source": [
    "The index above is, by default, an integer range."
   ]
  },
  {
   "cell_type": "code",
   "execution_count": 39,
   "metadata": {},
   "outputs": [
    {
     "data": {
      "text/plain": [
       "RangeIndex(start=0, stop=8, step=1)"
      ]
     },
     "execution_count": 39,
     "metadata": {},
     "output_type": "execute_result"
    }
   ],
   "source": [
    "cafes.index"
   ]
  },
  {
   "cell_type": "code",
   "execution_count": 40,
   "metadata": {},
   "outputs": [
    {
     "data": {
      "text/html": [
       "<div>\n",
       "<style scoped>\n",
       "    .dataframe tbody tr th:only-of-type {\n",
       "        vertical-align: middle;\n",
       "    }\n",
       "\n",
       "    .dataframe tbody tr th {\n",
       "        vertical-align: top;\n",
       "    }\n",
       "\n",
       "    .dataframe thead th {\n",
       "        text-align: right;\n",
       "    }\n",
       "</style>\n",
       "<table border=\"1\" class=\"dataframe\">\n",
       "  <thead>\n",
       "    <tr style=\"text-align: right;\">\n",
       "      <th></th>\n",
       "      <th>poc</th>\n",
       "      <th>zip</th>\n",
       "    </tr>\n",
       "  </thead>\n",
       "  <tbody>\n",
       "    <tr>\n",
       "      <th>east pole</th>\n",
       "      <td>jared</td>\n",
       "      <td>30324</td>\n",
       "    </tr>\n",
       "    <tr>\n",
       "      <th>chrome yellow</th>\n",
       "      <td>kelly</td>\n",
       "      <td>30312</td>\n",
       "    </tr>\n",
       "    <tr>\n",
       "      <th>brash</th>\n",
       "      <td>matt</td>\n",
       "      <td>30318</td>\n",
       "    </tr>\n",
       "    <tr>\n",
       "      <th>taproom</th>\n",
       "      <td>jonathan</td>\n",
       "      <td>30317</td>\n",
       "    </tr>\n",
       "    <tr>\n",
       "      <th>3heart</th>\n",
       "      <td>nhan</td>\n",
       "      <td>30306</td>\n",
       "    </tr>\n",
       "    <tr>\n",
       "      <th>spiller park pcm</th>\n",
       "      <td>dale</td>\n",
       "      <td>30308</td>\n",
       "    </tr>\n",
       "    <tr>\n",
       "      <th>refuge</th>\n",
       "      <td>kitti</td>\n",
       "      <td>30303</td>\n",
       "    </tr>\n",
       "    <tr>\n",
       "      <th>toptime</th>\n",
       "      <td>nolan</td>\n",
       "      <td>30318</td>\n",
       "    </tr>\n",
       "  </tbody>\n",
       "</table>\n",
       "</div>"
      ],
      "text/plain": [
       "                       poc    zip\n",
       "east pole            jared  30324\n",
       "chrome yellow        kelly  30312\n",
       "brash                 matt  30318\n",
       "taproom           jonathan  30317\n",
       "3heart                nhan  30306\n",
       "spiller park pcm      dale  30308\n",
       "refuge               kitti  30303\n",
       "toptime              nolan  30318"
      ]
     },
     "execution_count": 40,
     "metadata": {},
     "output_type": "execute_result"
    }
   ],
   "source": [
    "cafes2 = cafes[['poc', 'zip']]\n",
    "cafes2.index = cafes['name']\n",
    "cafes2.index.name = None\n",
    "cafes2"
   ]
  },
  {
   "cell_type": "markdown",
   "metadata": {},
   "source": [
    "You can access subsets of rows using the `.loc` field and index values:"
   ]
  },
  {
   "cell_type": "code",
   "execution_count": 41,
   "metadata": {},
   "outputs": [
    {
     "data": {
      "text/html": [
       "<div>\n",
       "<style scoped>\n",
       "    .dataframe tbody tr th:only-of-type {\n",
       "        vertical-align: middle;\n",
       "    }\n",
       "\n",
       "    .dataframe tbody tr th {\n",
       "        vertical-align: top;\n",
       "    }\n",
       "\n",
       "    .dataframe thead th {\n",
       "        text-align: right;\n",
       "    }\n",
       "</style>\n",
       "<table border=\"1\" class=\"dataframe\">\n",
       "  <thead>\n",
       "    <tr style=\"text-align: right;\">\n",
       "      <th></th>\n",
       "      <th>poc</th>\n",
       "      <th>zip</th>\n",
       "    </tr>\n",
       "  </thead>\n",
       "  <tbody>\n",
       "    <tr>\n",
       "      <th>chrome yellow</th>\n",
       "      <td>kelly</td>\n",
       "      <td>30312</td>\n",
       "    </tr>\n",
       "    <tr>\n",
       "      <th>3heart</th>\n",
       "      <td>nhan</td>\n",
       "      <td>30306</td>\n",
       "    </tr>\n",
       "  </tbody>\n",
       "</table>\n",
       "</div>"
      ],
      "text/plain": [
       "                 poc    zip\n",
       "chrome yellow  kelly  30312\n",
       "3heart          nhan  30306"
      ]
     },
     "execution_count": 41,
     "metadata": {},
     "output_type": "execute_result"
    }
   ],
   "source": [
    "cafes2.loc[['chrome yellow', '3heart']]"
   ]
  },
  {
   "cell_type": "markdown",
   "metadata": {},
   "source": [
    "Alternatively, you can use integer offsets via the `.iloc` field, which is 0-based."
   ]
  },
  {
   "cell_type": "code",
   "execution_count": 42,
   "metadata": {},
   "outputs": [
    {
     "data": {
      "text/html": [
       "<div>\n",
       "<style scoped>\n",
       "    .dataframe tbody tr th:only-of-type {\n",
       "        vertical-align: middle;\n",
       "    }\n",
       "\n",
       "    .dataframe tbody tr th {\n",
       "        vertical-align: top;\n",
       "    }\n",
       "\n",
       "    .dataframe thead th {\n",
       "        text-align: right;\n",
       "    }\n",
       "</style>\n",
       "<table border=\"1\" class=\"dataframe\">\n",
       "  <thead>\n",
       "    <tr style=\"text-align: right;\">\n",
       "      <th></th>\n",
       "      <th>poc</th>\n",
       "      <th>zip</th>\n",
       "    </tr>\n",
       "  </thead>\n",
       "  <tbody>\n",
       "    <tr>\n",
       "      <th>chrome yellow</th>\n",
       "      <td>kelly</td>\n",
       "      <td>30312</td>\n",
       "    </tr>\n",
       "    <tr>\n",
       "      <th>taproom</th>\n",
       "      <td>jonathan</td>\n",
       "      <td>30317</td>\n",
       "    </tr>\n",
       "  </tbody>\n",
       "</table>\n",
       "</div>"
      ],
      "text/plain": [
       "                    poc    zip\n",
       "chrome yellow     kelly  30312\n",
       "taproom        jonathan  30317"
      ]
     },
     "execution_count": 42,
     "metadata": {},
     "output_type": "execute_result"
    }
   ],
   "source": [
    "cafes2.iloc[[1, 3]]"
   ]
  },
  {
   "cell_type": "markdown",
   "metadata": {},
   "source": [
    "Adding columns is easy. Suppose every cafe has a 4-star rating on Yelp! and a two-dollar-sign cost:"
   ]
  },
  {
   "cell_type": "code",
   "execution_count": 43,
   "metadata": {},
   "outputs": [
    {
     "data": {
      "text/html": [
       "<div>\n",
       "<style scoped>\n",
       "    .dataframe tbody tr th:only-of-type {\n",
       "        vertical-align: middle;\n",
       "    }\n",
       "\n",
       "    .dataframe tbody tr th {\n",
       "        vertical-align: top;\n",
       "    }\n",
       "\n",
       "    .dataframe thead th {\n",
       "        text-align: right;\n",
       "    }\n",
       "</style>\n",
       "<table border=\"1\" class=\"dataframe\">\n",
       "  <thead>\n",
       "    <tr style=\"text-align: right;\">\n",
       "      <th></th>\n",
       "      <th>poc</th>\n",
       "      <th>zip</th>\n",
       "      <th>rating</th>\n",
       "      <th>price</th>\n",
       "    </tr>\n",
       "  </thead>\n",
       "  <tbody>\n",
       "    <tr>\n",
       "      <th>east pole</th>\n",
       "      <td>jared</td>\n",
       "      <td>30324</td>\n",
       "      <td>4.0</td>\n",
       "      <td>$$</td>\n",
       "    </tr>\n",
       "    <tr>\n",
       "      <th>chrome yellow</th>\n",
       "      <td>kelly</td>\n",
       "      <td>30312</td>\n",
       "      <td>4.0</td>\n",
       "      <td>$$</td>\n",
       "    </tr>\n",
       "    <tr>\n",
       "      <th>brash</th>\n",
       "      <td>matt</td>\n",
       "      <td>30318</td>\n",
       "      <td>4.0</td>\n",
       "      <td>$$</td>\n",
       "    </tr>\n",
       "    <tr>\n",
       "      <th>taproom</th>\n",
       "      <td>jonathan</td>\n",
       "      <td>30317</td>\n",
       "      <td>4.0</td>\n",
       "      <td>$$</td>\n",
       "    </tr>\n",
       "    <tr>\n",
       "      <th>3heart</th>\n",
       "      <td>nhan</td>\n",
       "      <td>30306</td>\n",
       "      <td>4.0</td>\n",
       "      <td>$$</td>\n",
       "    </tr>\n",
       "    <tr>\n",
       "      <th>spiller park pcm</th>\n",
       "      <td>dale</td>\n",
       "      <td>30308</td>\n",
       "      <td>4.0</td>\n",
       "      <td>$$</td>\n",
       "    </tr>\n",
       "    <tr>\n",
       "      <th>refuge</th>\n",
       "      <td>kitti</td>\n",
       "      <td>30303</td>\n",
       "      <td>4.0</td>\n",
       "      <td>$$</td>\n",
       "    </tr>\n",
       "    <tr>\n",
       "      <th>toptime</th>\n",
       "      <td>nolan</td>\n",
       "      <td>30318</td>\n",
       "      <td>4.0</td>\n",
       "      <td>$$</td>\n",
       "    </tr>\n",
       "  </tbody>\n",
       "</table>\n",
       "</div>"
      ],
      "text/plain": [
       "                       poc    zip  rating price\n",
       "east pole            jared  30324     4.0    $$\n",
       "chrome yellow        kelly  30312     4.0    $$\n",
       "brash                 matt  30318     4.0    $$\n",
       "taproom           jonathan  30317     4.0    $$\n",
       "3heart                nhan  30306     4.0    $$\n",
       "spiller park pcm      dale  30308     4.0    $$\n",
       "refuge               kitti  30303     4.0    $$\n",
       "toptime              nolan  30318     4.0    $$"
      ]
     },
     "execution_count": 43,
     "metadata": {},
     "output_type": "execute_result"
    }
   ],
   "source": [
    "cafes2['rating'] = 4.0\n",
    "cafes2['price'] = '$$'\n",
    "cafes2"
   ]
  },
  {
   "cell_type": "markdown",
   "metadata": {},
   "source": [
    "And vector arithmetic should work on columns as expected."
   ]
  },
  {
   "cell_type": "code",
   "execution_count": 44,
   "metadata": {},
   "outputs": [
    {
     "data": {
      "text/plain": [
       "east pole           2\n",
       "chrome yellow       2\n",
       "brash               2\n",
       "taproom             2\n",
       "3heart              2\n",
       "spiller park pcm    2\n",
       "refuge              2\n",
       "toptime             2\n",
       "Name: price, dtype: int64"
      ]
     },
     "execution_count": 44,
     "metadata": {},
     "output_type": "execute_result"
    }
   ],
   "source": [
    "prices_as_ints = cafes2['price'].apply(lambda s: len(s))\n",
    "prices_as_ints"
   ]
  },
  {
   "cell_type": "code",
   "execution_count": 45,
   "metadata": {},
   "outputs": [
    {
     "data": {
      "text/html": [
       "<div>\n",
       "<style scoped>\n",
       "    .dataframe tbody tr th:only-of-type {\n",
       "        vertical-align: middle;\n",
       "    }\n",
       "\n",
       "    .dataframe tbody tr th {\n",
       "        vertical-align: top;\n",
       "    }\n",
       "\n",
       "    .dataframe thead th {\n",
       "        text-align: right;\n",
       "    }\n",
       "</style>\n",
       "<table border=\"1\" class=\"dataframe\">\n",
       "  <thead>\n",
       "    <tr style=\"text-align: right;\">\n",
       "      <th></th>\n",
       "      <th>poc</th>\n",
       "      <th>zip</th>\n",
       "      <th>rating</th>\n",
       "      <th>price</th>\n",
       "      <th>value</th>\n",
       "    </tr>\n",
       "  </thead>\n",
       "  <tbody>\n",
       "    <tr>\n",
       "      <th>east pole</th>\n",
       "      <td>jared</td>\n",
       "      <td>30324</td>\n",
       "      <td>4.0</td>\n",
       "      <td>$$</td>\n",
       "      <td>2.0</td>\n",
       "    </tr>\n",
       "    <tr>\n",
       "      <th>chrome yellow</th>\n",
       "      <td>kelly</td>\n",
       "      <td>30312</td>\n",
       "      <td>4.0</td>\n",
       "      <td>$$</td>\n",
       "      <td>2.0</td>\n",
       "    </tr>\n",
       "    <tr>\n",
       "      <th>brash</th>\n",
       "      <td>matt</td>\n",
       "      <td>30318</td>\n",
       "      <td>4.0</td>\n",
       "      <td>$$</td>\n",
       "      <td>2.0</td>\n",
       "    </tr>\n",
       "    <tr>\n",
       "      <th>taproom</th>\n",
       "      <td>jonathan</td>\n",
       "      <td>30317</td>\n",
       "      <td>4.0</td>\n",
       "      <td>$$</td>\n",
       "      <td>2.0</td>\n",
       "    </tr>\n",
       "    <tr>\n",
       "      <th>3heart</th>\n",
       "      <td>nhan</td>\n",
       "      <td>30306</td>\n",
       "      <td>4.0</td>\n",
       "      <td>$$</td>\n",
       "      <td>2.0</td>\n",
       "    </tr>\n",
       "    <tr>\n",
       "      <th>spiller park pcm</th>\n",
       "      <td>dale</td>\n",
       "      <td>30308</td>\n",
       "      <td>4.0</td>\n",
       "      <td>$$</td>\n",
       "      <td>2.0</td>\n",
       "    </tr>\n",
       "    <tr>\n",
       "      <th>refuge</th>\n",
       "      <td>kitti</td>\n",
       "      <td>30303</td>\n",
       "      <td>4.0</td>\n",
       "      <td>$$</td>\n",
       "      <td>2.0</td>\n",
       "    </tr>\n",
       "    <tr>\n",
       "      <th>toptime</th>\n",
       "      <td>nolan</td>\n",
       "      <td>30318</td>\n",
       "      <td>4.0</td>\n",
       "      <td>$$</td>\n",
       "      <td>2.0</td>\n",
       "    </tr>\n",
       "  </tbody>\n",
       "</table>\n",
       "</div>"
      ],
      "text/plain": [
       "                       poc    zip  rating price  value\n",
       "east pole            jared  30324     4.0    $$    2.0\n",
       "chrome yellow        kelly  30312     4.0    $$    2.0\n",
       "brash                 matt  30318     4.0    $$    2.0\n",
       "taproom           jonathan  30317     4.0    $$    2.0\n",
       "3heart                nhan  30306     4.0    $$    2.0\n",
       "spiller park pcm      dale  30308     4.0    $$    2.0\n",
       "refuge               kitti  30303     4.0    $$    2.0\n",
       "toptime              nolan  30318     4.0    $$    2.0"
      ]
     },
     "execution_count": 45,
     "metadata": {},
     "output_type": "execute_result"
    }
   ],
   "source": [
    "cafes2['value'] = cafes2['rating'] / prices_as_ints\n",
    "cafes2"
   ]
  },
  {
   "cell_type": "markdown",
   "metadata": {},
   "source": [
    "Because the columns are `Series` objects, there is an implicit matching that is happening on the indexes. In the preceding example, it works because all the `Series` objects involved have identical indexes."
   ]
  },
  {
   "cell_type": "markdown",
   "metadata": {},
   "source": [
    "However, the following will not work as intended because referencing rows yields copies.\n",
    "\n",
    "For instance, suppose there is a price hike of one more `'$'` for being in the 30306 and 30308 zip codes. (If you are in Atlanta, you may know that these are the zip codes that place you close to, or in, [Ponce City Market](http://poncecitymarket.com/) and the [Eastside Beltline Trail](https://beltline.org/explore-atlanta-beltline-trails/eastside-trail/)!) Let's increase the price there, on a copy of the dataframe, `cafes3`."
   ]
  },
  {
   "cell_type": "code",
   "execution_count": 46,
   "metadata": {},
   "outputs": [
    {
     "data": {
      "text/html": [
       "<div>\n",
       "<style scoped>\n",
       "    .dataframe tbody tr th:only-of-type {\n",
       "        vertical-align: middle;\n",
       "    }\n",
       "\n",
       "    .dataframe tbody tr th {\n",
       "        vertical-align: top;\n",
       "    }\n",
       "\n",
       "    .dataframe thead th {\n",
       "        text-align: right;\n",
       "    }\n",
       "</style>\n",
       "<table border=\"1\" class=\"dataframe\">\n",
       "  <thead>\n",
       "    <tr style=\"text-align: right;\">\n",
       "      <th></th>\n",
       "      <th>poc</th>\n",
       "      <th>zip</th>\n",
       "      <th>rating</th>\n",
       "      <th>price</th>\n",
       "      <th>value</th>\n",
       "    </tr>\n",
       "  </thead>\n",
       "  <tbody>\n",
       "    <tr>\n",
       "      <th>east pole</th>\n",
       "      <td>jared</td>\n",
       "      <td>30324</td>\n",
       "      <td>4.0</td>\n",
       "      <td>$$</td>\n",
       "      <td>2.0</td>\n",
       "    </tr>\n",
       "    <tr>\n",
       "      <th>chrome yellow</th>\n",
       "      <td>kelly</td>\n",
       "      <td>30312</td>\n",
       "      <td>4.0</td>\n",
       "      <td>$$</td>\n",
       "      <td>2.0</td>\n",
       "    </tr>\n",
       "    <tr>\n",
       "      <th>brash</th>\n",
       "      <td>matt</td>\n",
       "      <td>30318</td>\n",
       "      <td>4.0</td>\n",
       "      <td>$$</td>\n",
       "      <td>2.0</td>\n",
       "    </tr>\n",
       "    <tr>\n",
       "      <th>taproom</th>\n",
       "      <td>jonathan</td>\n",
       "      <td>30317</td>\n",
       "      <td>4.0</td>\n",
       "      <td>$$</td>\n",
       "      <td>2.0</td>\n",
       "    </tr>\n",
       "    <tr>\n",
       "      <th>3heart</th>\n",
       "      <td>nhan</td>\n",
       "      <td>30306</td>\n",
       "      <td>4.0</td>\n",
       "      <td>$$</td>\n",
       "      <td>2.0</td>\n",
       "    </tr>\n",
       "    <tr>\n",
       "      <th>spiller park pcm</th>\n",
       "      <td>dale</td>\n",
       "      <td>30308</td>\n",
       "      <td>4.0</td>\n",
       "      <td>$$</td>\n",
       "      <td>2.0</td>\n",
       "    </tr>\n",
       "    <tr>\n",
       "      <th>refuge</th>\n",
       "      <td>kitti</td>\n",
       "      <td>30303</td>\n",
       "      <td>4.0</td>\n",
       "      <td>$$</td>\n",
       "      <td>2.0</td>\n",
       "    </tr>\n",
       "    <tr>\n",
       "      <th>toptime</th>\n",
       "      <td>nolan</td>\n",
       "      <td>30318</td>\n",
       "      <td>4.0</td>\n",
       "      <td>$$</td>\n",
       "      <td>2.0</td>\n",
       "    </tr>\n",
       "  </tbody>\n",
       "</table>\n",
       "</div>"
      ],
      "text/plain": [
       "                       poc    zip  rating price  value\n",
       "east pole            jared  30324     4.0    $$    2.0\n",
       "chrome yellow        kelly  30312     4.0    $$    2.0\n",
       "brash                 matt  30318     4.0    $$    2.0\n",
       "taproom           jonathan  30317     4.0    $$    2.0\n",
       "3heart                nhan  30306     4.0    $$    2.0\n",
       "spiller park pcm      dale  30308     4.0    $$    2.0\n",
       "refuge               kitti  30303     4.0    $$    2.0\n",
       "toptime              nolan  30318     4.0    $$    2.0"
      ]
     },
     "execution_count": 46,
     "metadata": {},
     "output_type": "execute_result"
    }
   ],
   "source": [
    "cafes3 = cafes2.copy()\n",
    "cafes3"
   ]
  },
  {
   "cell_type": "code",
   "execution_count": 47,
   "metadata": {},
   "outputs": [
    {
     "data": {
      "text/plain": [
       "east pole           False\n",
       "chrome yellow       False\n",
       "brash               False\n",
       "taproom             False\n",
       "3heart               True\n",
       "spiller park pcm     True\n",
       "refuge              False\n",
       "toptime             False\n",
       "Name: zip, dtype: bool"
      ]
     },
     "execution_count": 47,
     "metadata": {},
     "output_type": "execute_result"
    }
   ],
   "source": [
    "is_fancy = cafes3['zip'].isin({30306, 30308})\n",
    "# Alternative:\n",
    "#is_fancy = cafes3['zip'].apply(lambda z: z in {30306, 30308})\n",
    "is_fancy"
   ]
  },
  {
   "cell_type": "code",
   "execution_count": 48,
   "metadata": {},
   "outputs": [
    {
     "data": {
      "text/html": [
       "<div>\n",
       "<style scoped>\n",
       "    .dataframe tbody tr th:only-of-type {\n",
       "        vertical-align: middle;\n",
       "    }\n",
       "\n",
       "    .dataframe tbody tr th {\n",
       "        vertical-align: top;\n",
       "    }\n",
       "\n",
       "    .dataframe thead th {\n",
       "        text-align: right;\n",
       "    }\n",
       "</style>\n",
       "<table border=\"1\" class=\"dataframe\">\n",
       "  <thead>\n",
       "    <tr style=\"text-align: right;\">\n",
       "      <th></th>\n",
       "      <th>poc</th>\n",
       "      <th>zip</th>\n",
       "      <th>rating</th>\n",
       "      <th>price</th>\n",
       "      <th>value</th>\n",
       "    </tr>\n",
       "  </thead>\n",
       "  <tbody>\n",
       "    <tr>\n",
       "      <th>3heart</th>\n",
       "      <td>nhan</td>\n",
       "      <td>30306</td>\n",
       "      <td>4.0</td>\n",
       "      <td>$$</td>\n",
       "      <td>2.0</td>\n",
       "    </tr>\n",
       "    <tr>\n",
       "      <th>spiller park pcm</th>\n",
       "      <td>dale</td>\n",
       "      <td>30308</td>\n",
       "      <td>4.0</td>\n",
       "      <td>$$</td>\n",
       "      <td>2.0</td>\n",
       "    </tr>\n",
       "  </tbody>\n",
       "</table>\n",
       "</div>"
      ],
      "text/plain": [
       "                   poc    zip  rating price  value\n",
       "3heart            nhan  30306     4.0    $$    2.0\n",
       "spiller park pcm  dale  30308     4.0    $$    2.0"
      ]
     },
     "execution_count": 48,
     "metadata": {},
     "output_type": "execute_result"
    }
   ],
   "source": [
    "cafes3[is_fancy]"
   ]
  },
  {
   "cell_type": "code",
   "execution_count": 49,
   "metadata": {},
   "outputs": [
    {
     "name": "stdout",
     "output_type": "stream",
     "text": [
      "$$$\n"
     ]
    }
   ],
   "source": [
    "# Recall: Legal Python for string concatenation\n",
    "s = '$$'\n",
    "s += '$'\n",
    "print(s)"
   ]
  },
  {
   "cell_type": "code",
   "execution_count": 50,
   "metadata": {},
   "outputs": [
    {
     "name": "stderr",
     "output_type": "stream",
     "text": [
      "/usr/lib/python3.7/site-packages/ipykernel_launcher.py:1: SettingWithCopyWarning: \n",
      "A value is trying to be set on a copy of a slice from a DataFrame.\n",
      "Try using .loc[row_indexer,col_indexer] = value instead\n",
      "\n",
      "See the caveats in the documentation: https://pandas.pydata.org/pandas-docs/stable/user_guide/indexing.html#returning-a-view-versus-a-copy\n",
      "  \"\"\"Entry point for launching an IPython kernel.\n"
     ]
    }
   ],
   "source": [
    "cafes3[is_fancy]['price'] += '$'"
   ]
  },
  {
   "cell_type": "markdown",
   "metadata": {},
   "source": [
    "What does that error message mean? Let's see if anything changed."
   ]
  },
  {
   "cell_type": "code",
   "execution_count": 51,
   "metadata": {},
   "outputs": [
    {
     "data": {
      "text/html": [
       "<div>\n",
       "<style scoped>\n",
       "    .dataframe tbody tr th:only-of-type {\n",
       "        vertical-align: middle;\n",
       "    }\n",
       "\n",
       "    .dataframe tbody tr th {\n",
       "        vertical-align: top;\n",
       "    }\n",
       "\n",
       "    .dataframe thead th {\n",
       "        text-align: right;\n",
       "    }\n",
       "</style>\n",
       "<table border=\"1\" class=\"dataframe\">\n",
       "  <thead>\n",
       "    <tr style=\"text-align: right;\">\n",
       "      <th></th>\n",
       "      <th>poc</th>\n",
       "      <th>zip</th>\n",
       "      <th>rating</th>\n",
       "      <th>price</th>\n",
       "      <th>value</th>\n",
       "    </tr>\n",
       "  </thead>\n",
       "  <tbody>\n",
       "    <tr>\n",
       "      <th>east pole</th>\n",
       "      <td>jared</td>\n",
       "      <td>30324</td>\n",
       "      <td>4.0</td>\n",
       "      <td>$$</td>\n",
       "      <td>2.0</td>\n",
       "    </tr>\n",
       "    <tr>\n",
       "      <th>chrome yellow</th>\n",
       "      <td>kelly</td>\n",
       "      <td>30312</td>\n",
       "      <td>4.0</td>\n",
       "      <td>$$</td>\n",
       "      <td>2.0</td>\n",
       "    </tr>\n",
       "    <tr>\n",
       "      <th>brash</th>\n",
       "      <td>matt</td>\n",
       "      <td>30318</td>\n",
       "      <td>4.0</td>\n",
       "      <td>$$</td>\n",
       "      <td>2.0</td>\n",
       "    </tr>\n",
       "    <tr>\n",
       "      <th>taproom</th>\n",
       "      <td>jonathan</td>\n",
       "      <td>30317</td>\n",
       "      <td>4.0</td>\n",
       "      <td>$$</td>\n",
       "      <td>2.0</td>\n",
       "    </tr>\n",
       "    <tr>\n",
       "      <th>3heart</th>\n",
       "      <td>nhan</td>\n",
       "      <td>30306</td>\n",
       "      <td>4.0</td>\n",
       "      <td>$$</td>\n",
       "      <td>2.0</td>\n",
       "    </tr>\n",
       "    <tr>\n",
       "      <th>spiller park pcm</th>\n",
       "      <td>dale</td>\n",
       "      <td>30308</td>\n",
       "      <td>4.0</td>\n",
       "      <td>$$</td>\n",
       "      <td>2.0</td>\n",
       "    </tr>\n",
       "    <tr>\n",
       "      <th>refuge</th>\n",
       "      <td>kitti</td>\n",
       "      <td>30303</td>\n",
       "      <td>4.0</td>\n",
       "      <td>$$</td>\n",
       "      <td>2.0</td>\n",
       "    </tr>\n",
       "    <tr>\n",
       "      <th>toptime</th>\n",
       "      <td>nolan</td>\n",
       "      <td>30318</td>\n",
       "      <td>4.0</td>\n",
       "      <td>$$</td>\n",
       "      <td>2.0</td>\n",
       "    </tr>\n",
       "  </tbody>\n",
       "</table>\n",
       "</div>"
      ],
      "text/plain": [
       "                       poc    zip  rating price  value\n",
       "east pole            jared  30324     4.0    $$    2.0\n",
       "chrome yellow        kelly  30312     4.0    $$    2.0\n",
       "brash                 matt  30318     4.0    $$    2.0\n",
       "taproom           jonathan  30317     4.0    $$    2.0\n",
       "3heart                nhan  30306     4.0    $$    2.0\n",
       "spiller park pcm      dale  30308     4.0    $$    2.0\n",
       "refuge               kitti  30303     4.0    $$    2.0\n",
       "toptime              nolan  30318     4.0    $$    2.0"
      ]
     },
     "execution_count": 51,
     "metadata": {},
     "output_type": "execute_result"
    }
   ],
   "source": [
    "cafes3"
   ]
  },
  {
   "cell_type": "markdown",
   "metadata": {},
   "source": [
    "Nope! When you slice horizontally, you get copies of the original data, not references to subsets of the original data. Therefore, we'll need different strategy.\n",
    "\n",
    "Observe that the error message suggests a way!"
   ]
  },
  {
   "cell_type": "code",
   "execution_count": 52,
   "metadata": {
    "scrolled": true
   },
   "outputs": [
    {
     "data": {
      "text/html": [
       "<div>\n",
       "<style scoped>\n",
       "    .dataframe tbody tr th:only-of-type {\n",
       "        vertical-align: middle;\n",
       "    }\n",
       "\n",
       "    .dataframe tbody tr th {\n",
       "        vertical-align: top;\n",
       "    }\n",
       "\n",
       "    .dataframe thead th {\n",
       "        text-align: right;\n",
       "    }\n",
       "</style>\n",
       "<table border=\"1\" class=\"dataframe\">\n",
       "  <thead>\n",
       "    <tr style=\"text-align: right;\">\n",
       "      <th></th>\n",
       "      <th>poc</th>\n",
       "      <th>zip</th>\n",
       "      <th>rating</th>\n",
       "      <th>price</th>\n",
       "      <th>value</th>\n",
       "    </tr>\n",
       "  </thead>\n",
       "  <tbody>\n",
       "    <tr>\n",
       "      <th>east pole</th>\n",
       "      <td>jared</td>\n",
       "      <td>30324</td>\n",
       "      <td>4.0</td>\n",
       "      <td>$$</td>\n",
       "      <td>2.0</td>\n",
       "    </tr>\n",
       "    <tr>\n",
       "      <th>chrome yellow</th>\n",
       "      <td>kelly</td>\n",
       "      <td>30312</td>\n",
       "      <td>4.0</td>\n",
       "      <td>$$</td>\n",
       "      <td>2.0</td>\n",
       "    </tr>\n",
       "    <tr>\n",
       "      <th>brash</th>\n",
       "      <td>matt</td>\n",
       "      <td>30318</td>\n",
       "      <td>4.0</td>\n",
       "      <td>$$</td>\n",
       "      <td>2.0</td>\n",
       "    </tr>\n",
       "    <tr>\n",
       "      <th>taproom</th>\n",
       "      <td>jonathan</td>\n",
       "      <td>30317</td>\n",
       "      <td>4.0</td>\n",
       "      <td>$$</td>\n",
       "      <td>2.0</td>\n",
       "    </tr>\n",
       "    <tr>\n",
       "      <th>3heart</th>\n",
       "      <td>nhan</td>\n",
       "      <td>30306</td>\n",
       "      <td>4.0</td>\n",
       "      <td>$$$</td>\n",
       "      <td>2.0</td>\n",
       "    </tr>\n",
       "    <tr>\n",
       "      <th>spiller park pcm</th>\n",
       "      <td>dale</td>\n",
       "      <td>30308</td>\n",
       "      <td>4.0</td>\n",
       "      <td>$$$</td>\n",
       "      <td>2.0</td>\n",
       "    </tr>\n",
       "    <tr>\n",
       "      <th>refuge</th>\n",
       "      <td>kitti</td>\n",
       "      <td>30303</td>\n",
       "      <td>4.0</td>\n",
       "      <td>$$</td>\n",
       "      <td>2.0</td>\n",
       "    </tr>\n",
       "    <tr>\n",
       "      <th>toptime</th>\n",
       "      <td>nolan</td>\n",
       "      <td>30318</td>\n",
       "      <td>4.0</td>\n",
       "      <td>$$</td>\n",
       "      <td>2.0</td>\n",
       "    </tr>\n",
       "  </tbody>\n",
       "</table>\n",
       "</div>"
      ],
      "text/plain": [
       "                       poc    zip  rating price  value\n",
       "east pole            jared  30324     4.0    $$    2.0\n",
       "chrome yellow        kelly  30312     4.0    $$    2.0\n",
       "brash                 matt  30318     4.0    $$    2.0\n",
       "taproom           jonathan  30317     4.0    $$    2.0\n",
       "3heart                nhan  30306     4.0   $$$    2.0\n",
       "spiller park pcm      dale  30308     4.0   $$$    2.0\n",
       "refuge               kitti  30303     4.0    $$    2.0\n",
       "toptime              nolan  30318     4.0    $$    2.0"
      ]
     },
     "execution_count": 52,
     "metadata": {},
     "output_type": "execute_result"
    }
   ],
   "source": [
    "cafes3.loc[is_fancy, 'price'] += '$'\n",
    "cafes3"
   ]
  },
  {
   "cell_type": "markdown",
   "metadata": {},
   "source": [
    "**A different approach.** For pedagogical purposes, let's see if we can go about solving this problem in other ways to see what might or might not work."
   ]
  },
  {
   "cell_type": "code",
   "execution_count": 53,
   "metadata": {},
   "outputs": [
    {
     "data": {
      "text/html": [
       "<div>\n",
       "<style scoped>\n",
       "    .dataframe tbody tr th:only-of-type {\n",
       "        vertical-align: middle;\n",
       "    }\n",
       "\n",
       "    .dataframe tbody tr th {\n",
       "        vertical-align: top;\n",
       "    }\n",
       "\n",
       "    .dataframe thead th {\n",
       "        text-align: right;\n",
       "    }\n",
       "</style>\n",
       "<table border=\"1\" class=\"dataframe\">\n",
       "  <thead>\n",
       "    <tr style=\"text-align: right;\">\n",
       "      <th></th>\n",
       "      <th>poc</th>\n",
       "      <th>zip</th>\n",
       "      <th>rating</th>\n",
       "      <th>price</th>\n",
       "      <th>value</th>\n",
       "    </tr>\n",
       "  </thead>\n",
       "  <tbody>\n",
       "    <tr>\n",
       "      <th>east pole</th>\n",
       "      <td>jared</td>\n",
       "      <td>30324</td>\n",
       "      <td>4.0</td>\n",
       "      <td>$$</td>\n",
       "      <td>2.0</td>\n",
       "    </tr>\n",
       "    <tr>\n",
       "      <th>chrome yellow</th>\n",
       "      <td>kelly</td>\n",
       "      <td>30312</td>\n",
       "      <td>4.0</td>\n",
       "      <td>$$</td>\n",
       "      <td>2.0</td>\n",
       "    </tr>\n",
       "    <tr>\n",
       "      <th>brash</th>\n",
       "      <td>matt</td>\n",
       "      <td>30318</td>\n",
       "      <td>4.0</td>\n",
       "      <td>$$</td>\n",
       "      <td>2.0</td>\n",
       "    </tr>\n",
       "    <tr>\n",
       "      <th>taproom</th>\n",
       "      <td>jonathan</td>\n",
       "      <td>30317</td>\n",
       "      <td>4.0</td>\n",
       "      <td>$$</td>\n",
       "      <td>2.0</td>\n",
       "    </tr>\n",
       "    <tr>\n",
       "      <th>3heart</th>\n",
       "      <td>nhan</td>\n",
       "      <td>30306</td>\n",
       "      <td>4.0</td>\n",
       "      <td>$$</td>\n",
       "      <td>2.0</td>\n",
       "    </tr>\n",
       "    <tr>\n",
       "      <th>spiller park pcm</th>\n",
       "      <td>dale</td>\n",
       "      <td>30308</td>\n",
       "      <td>4.0</td>\n",
       "      <td>$$</td>\n",
       "      <td>2.0</td>\n",
       "    </tr>\n",
       "    <tr>\n",
       "      <th>refuge</th>\n",
       "      <td>kitti</td>\n",
       "      <td>30303</td>\n",
       "      <td>4.0</td>\n",
       "      <td>$$</td>\n",
       "      <td>2.0</td>\n",
       "    </tr>\n",
       "    <tr>\n",
       "      <th>toptime</th>\n",
       "      <td>nolan</td>\n",
       "      <td>30318</td>\n",
       "      <td>4.0</td>\n",
       "      <td>$$</td>\n",
       "      <td>2.0</td>\n",
       "    </tr>\n",
       "  </tbody>\n",
       "</table>\n",
       "</div>"
      ],
      "text/plain": [
       "                       poc    zip  rating price  value\n",
       "east pole            jared  30324     4.0    $$    2.0\n",
       "chrome yellow        kelly  30312     4.0    $$    2.0\n",
       "brash                 matt  30318     4.0    $$    2.0\n",
       "taproom           jonathan  30317     4.0    $$    2.0\n",
       "3heart                nhan  30306     4.0    $$    2.0\n",
       "spiller park pcm      dale  30308     4.0    $$    2.0\n",
       "refuge               kitti  30303     4.0    $$    2.0\n",
       "toptime              nolan  30318     4.0    $$    2.0"
      ]
     },
     "execution_count": 53,
     "metadata": {},
     "output_type": "execute_result"
    }
   ],
   "source": [
    "cafes4 = cafes2.copy() # Start over\n",
    "cafes4"
   ]
  },
  {
   "cell_type": "markdown",
   "metadata": {},
   "source": [
    "Based on the earlier discussion, a well-educated first attempt might be to construct a `Series` with a named index, where the index values for fancy neighborhoods have an additional `'$'`, and then use string concatentation."
   ]
  },
  {
   "cell_type": "code",
   "execution_count": 54,
   "metadata": {},
   "outputs": [
    {
     "data": {
      "text/plain": [
       "Index(['3heart', 'spiller park pcm'], dtype='object')"
      ]
     },
     "execution_count": 54,
     "metadata": {},
     "output_type": "execute_result"
    }
   ],
   "source": [
    "fancy_shops = cafes4.index[is_fancy]\n",
    "fancy_shops"
   ]
  },
  {
   "cell_type": "code",
   "execution_count": 55,
   "metadata": {},
   "outputs": [
    {
     "data": {
      "text/plain": [
       "3heart              $\n",
       "spiller park pcm    $\n",
       "dtype: object"
      ]
     },
     "execution_count": 55,
     "metadata": {},
     "output_type": "execute_result"
    }
   ],
   "source": [
    "fancy_markup = Series(['$'] * len(fancy_shops), index=fancy_shops)\n",
    "fancy_markup"
   ]
  },
  {
   "cell_type": "code",
   "execution_count": 56,
   "metadata": {},
   "outputs": [
    {
     "data": {
      "text/plain": [
       "3heart              $$$\n",
       "brash               NaN\n",
       "chrome yellow       NaN\n",
       "east pole           NaN\n",
       "refuge              NaN\n",
       "spiller park pcm    $$$\n",
       "taproom             NaN\n",
       "toptime             NaN\n",
       "dtype: object"
      ]
     },
     "execution_count": 56,
     "metadata": {},
     "output_type": "execute_result"
    }
   ],
   "source": [
    "cafes4['price'] + fancy_markup"
   ]
  },
  {
   "cell_type": "markdown",
   "metadata": {},
   "source": [
    "Close! Remember that missing values are treated as `NaN` objects.\n",
    "\n",
    "**Exercise**. Develop an alternative scheme."
   ]
  },
  {
   "cell_type": "code",
   "execution_count": 57,
   "metadata": {},
   "outputs": [
    {
     "name": "stdout",
     "output_type": "stream",
     "text": [
      "False * '$' == ''\n",
      "True * '$' == '$'\n"
     ]
    }
   ],
   "source": [
    "# Preliminary observation:\n",
    "print(\"False * '$' == '{}'\".format(False * '$'))\n",
    "print(\"True * '$' == '{}'\".format(True * '$'))"
   ]
  },
  {
   "cell_type": "code",
   "execution_count": 58,
   "metadata": {},
   "outputs": [
    {
     "data": {
      "text/html": [
       "<div>\n",
       "<style scoped>\n",
       "    .dataframe tbody tr th:only-of-type {\n",
       "        vertical-align: middle;\n",
       "    }\n",
       "\n",
       "    .dataframe tbody tr th {\n",
       "        vertical-align: top;\n",
       "    }\n",
       "\n",
       "    .dataframe thead th {\n",
       "        text-align: right;\n",
       "    }\n",
       "</style>\n",
       "<table border=\"1\" class=\"dataframe\">\n",
       "  <thead>\n",
       "    <tr style=\"text-align: right;\">\n",
       "      <th></th>\n",
       "      <th>poc</th>\n",
       "      <th>zip</th>\n",
       "      <th>rating</th>\n",
       "      <th>price</th>\n",
       "      <th>value</th>\n",
       "    </tr>\n",
       "  </thead>\n",
       "  <tbody>\n",
       "    <tr>\n",
       "      <th>east pole</th>\n",
       "      <td>jared</td>\n",
       "      <td>30324</td>\n",
       "      <td>4.0</td>\n",
       "      <td>$$</td>\n",
       "      <td>2.0</td>\n",
       "    </tr>\n",
       "    <tr>\n",
       "      <th>chrome yellow</th>\n",
       "      <td>kelly</td>\n",
       "      <td>30312</td>\n",
       "      <td>4.0</td>\n",
       "      <td>$$</td>\n",
       "      <td>2.0</td>\n",
       "    </tr>\n",
       "    <tr>\n",
       "      <th>brash</th>\n",
       "      <td>matt</td>\n",
       "      <td>30318</td>\n",
       "      <td>4.0</td>\n",
       "      <td>$$</td>\n",
       "      <td>2.0</td>\n",
       "    </tr>\n",
       "    <tr>\n",
       "      <th>taproom</th>\n",
       "      <td>jonathan</td>\n",
       "      <td>30317</td>\n",
       "      <td>4.0</td>\n",
       "      <td>$$</td>\n",
       "      <td>2.0</td>\n",
       "    </tr>\n",
       "    <tr>\n",
       "      <th>3heart</th>\n",
       "      <td>nhan</td>\n",
       "      <td>30306</td>\n",
       "      <td>4.0</td>\n",
       "      <td>$$$</td>\n",
       "      <td>2.0</td>\n",
       "    </tr>\n",
       "    <tr>\n",
       "      <th>spiller park pcm</th>\n",
       "      <td>dale</td>\n",
       "      <td>30308</td>\n",
       "      <td>4.0</td>\n",
       "      <td>$$$</td>\n",
       "      <td>2.0</td>\n",
       "    </tr>\n",
       "    <tr>\n",
       "      <th>refuge</th>\n",
       "      <td>kitti</td>\n",
       "      <td>30303</td>\n",
       "      <td>4.0</td>\n",
       "      <td>$$</td>\n",
       "      <td>2.0</td>\n",
       "    </tr>\n",
       "    <tr>\n",
       "      <th>toptime</th>\n",
       "      <td>nolan</td>\n",
       "      <td>30318</td>\n",
       "      <td>4.0</td>\n",
       "      <td>$$</td>\n",
       "      <td>2.0</td>\n",
       "    </tr>\n",
       "  </tbody>\n",
       "</table>\n",
       "</div>"
      ],
      "text/plain": [
       "                       poc    zip  rating price  value\n",
       "east pole            jared  30324     4.0    $$    2.0\n",
       "chrome yellow        kelly  30312     4.0    $$    2.0\n",
       "brash                 matt  30318     4.0    $$    2.0\n",
       "taproom           jonathan  30317     4.0    $$    2.0\n",
       "3heart                nhan  30306     4.0   $$$    2.0\n",
       "spiller park pcm      dale  30308     4.0   $$$    2.0\n",
       "refuge               kitti  30303     4.0    $$    2.0\n",
       "toptime              nolan  30318     4.0    $$    2.0"
      ]
     },
     "execution_count": 58,
     "metadata": {},
     "output_type": "execute_result"
    }
   ],
   "source": [
    "cafes4 = cafes2.copy()\n",
    "cafes4['price'] += Series([x * '$' for x in is_fancy.tolist()], index=is_fancy.index)\n",
    "cafes4"
   ]
  },
  {
   "cell_type": "markdown",
   "metadata": {},
   "source": [
    "**More on `apply()` for `DataFrame` objects.** As with a `Series`, there is a `DataFrame.apply()` procedure. However, it's meaning is a bit more nuanced because a `DataFrame` is generally 2-D rather than 1-D."
   ]
  },
  {
   "cell_type": "code",
   "execution_count": 59,
   "metadata": {},
   "outputs": [
    {
     "data": {
      "text/plain": [
       "poc       <class 'pandas.core.series.Series'>\n",
       "zip       <class 'pandas.core.series.Series'>\n",
       "rating    <class 'pandas.core.series.Series'>\n",
       "price     <class 'pandas.core.series.Series'>\n",
       "value     <class 'pandas.core.series.Series'>\n",
       "dtype: object"
      ]
     },
     "execution_count": 59,
     "metadata": {},
     "output_type": "execute_result"
    }
   ],
   "source": [
    "cafes4.apply(lambda x: repr(type(x))) # What does this do? What does the output tell you?"
   ]
  },
  {
   "cell_type": "markdown",
   "metadata": {},
   "source": [
    "A useful parameter is `axis`:"
   ]
  },
  {
   "cell_type": "code",
   "execution_count": 60,
   "metadata": {},
   "outputs": [
    {
     "data": {
      "text/plain": [
       "east pole           <class 'pandas.core.series.Series'>\n",
       "chrome yellow       <class 'pandas.core.series.Series'>\n",
       "brash               <class 'pandas.core.series.Series'>\n",
       "taproom             <class 'pandas.core.series.Series'>\n",
       "3heart              <class 'pandas.core.series.Series'>\n",
       "spiller park pcm    <class 'pandas.core.series.Series'>\n",
       "refuge              <class 'pandas.core.series.Series'>\n",
       "toptime             <class 'pandas.core.series.Series'>\n",
       "dtype: object"
      ]
     },
     "execution_count": 60,
     "metadata": {},
     "output_type": "execute_result"
    }
   ],
   "source": [
    "cafes4.apply(lambda x: repr(type(x)), axis=1) # What does this do? What does the output tell you?"
   ]
  },
  {
   "cell_type": "markdown",
   "metadata": {},
   "source": [
    "And just to quickly verify what you get when `axis=1`:"
   ]
  },
  {
   "cell_type": "code",
   "execution_count": 61,
   "metadata": {},
   "outputs": [
    {
     "name": "stdout",
     "output_type": "stream",
     "text": [
      "==> east pole\n",
      "poc       jared\n",
      "zip       30324\n",
      "rating        4\n",
      "price        $$\n",
      "value         2\n",
      "Name: east pole, dtype: object\n"
     ]
    }
   ],
   "source": [
    "cafes4.apply(lambda x: print('==> ' + x.name + '\\n' + repr(x)) if x.name == 'east pole' else None, axis=1);"
   ]
  },
  {
   "cell_type": "markdown",
   "metadata": {},
   "source": [
    "**Exercise.** Use `DataFrame.apply()` to update the `'value'` column in `cafes4`, which is out of date given the update of the prices."
   ]
  },
  {
   "cell_type": "code",
   "execution_count": 62,
   "metadata": {},
   "outputs": [
    {
     "data": {
      "text/html": [
       "<div>\n",
       "<style scoped>\n",
       "    .dataframe tbody tr th:only-of-type {\n",
       "        vertical-align: middle;\n",
       "    }\n",
       "\n",
       "    .dataframe tbody tr th {\n",
       "        vertical-align: top;\n",
       "    }\n",
       "\n",
       "    .dataframe thead th {\n",
       "        text-align: right;\n",
       "    }\n",
       "</style>\n",
       "<table border=\"1\" class=\"dataframe\">\n",
       "  <thead>\n",
       "    <tr style=\"text-align: right;\">\n",
       "      <th></th>\n",
       "      <th>poc</th>\n",
       "      <th>zip</th>\n",
       "      <th>rating</th>\n",
       "      <th>price</th>\n",
       "      <th>value</th>\n",
       "    </tr>\n",
       "  </thead>\n",
       "  <tbody>\n",
       "    <tr>\n",
       "      <th>east pole</th>\n",
       "      <td>jared</td>\n",
       "      <td>30324</td>\n",
       "      <td>4.0</td>\n",
       "      <td>$$</td>\n",
       "      <td>2.0</td>\n",
       "    </tr>\n",
       "    <tr>\n",
       "      <th>chrome yellow</th>\n",
       "      <td>kelly</td>\n",
       "      <td>30312</td>\n",
       "      <td>4.0</td>\n",
       "      <td>$$</td>\n",
       "      <td>2.0</td>\n",
       "    </tr>\n",
       "    <tr>\n",
       "      <th>brash</th>\n",
       "      <td>matt</td>\n",
       "      <td>30318</td>\n",
       "      <td>4.0</td>\n",
       "      <td>$$</td>\n",
       "      <td>2.0</td>\n",
       "    </tr>\n",
       "    <tr>\n",
       "      <th>taproom</th>\n",
       "      <td>jonathan</td>\n",
       "      <td>30317</td>\n",
       "      <td>4.0</td>\n",
       "      <td>$$</td>\n",
       "      <td>2.0</td>\n",
       "    </tr>\n",
       "    <tr>\n",
       "      <th>3heart</th>\n",
       "      <td>nhan</td>\n",
       "      <td>30306</td>\n",
       "      <td>4.0</td>\n",
       "      <td>$$$</td>\n",
       "      <td>2.0</td>\n",
       "    </tr>\n",
       "    <tr>\n",
       "      <th>spiller park pcm</th>\n",
       "      <td>dale</td>\n",
       "      <td>30308</td>\n",
       "      <td>4.0</td>\n",
       "      <td>$$$</td>\n",
       "      <td>2.0</td>\n",
       "    </tr>\n",
       "    <tr>\n",
       "      <th>refuge</th>\n",
       "      <td>kitti</td>\n",
       "      <td>30303</td>\n",
       "      <td>4.0</td>\n",
       "      <td>$$</td>\n",
       "      <td>2.0</td>\n",
       "    </tr>\n",
       "    <tr>\n",
       "      <th>toptime</th>\n",
       "      <td>nolan</td>\n",
       "      <td>30318</td>\n",
       "      <td>4.0</td>\n",
       "      <td>$$</td>\n",
       "      <td>2.0</td>\n",
       "    </tr>\n",
       "  </tbody>\n",
       "</table>\n",
       "</div>"
      ],
      "text/plain": [
       "                       poc    zip  rating price  value\n",
       "east pole            jared  30324     4.0    $$    2.0\n",
       "chrome yellow        kelly  30312     4.0    $$    2.0\n",
       "brash                 matt  30318     4.0    $$    2.0\n",
       "taproom           jonathan  30317     4.0    $$    2.0\n",
       "3heart                nhan  30306     4.0   $$$    2.0\n",
       "spiller park pcm      dale  30308     4.0   $$$    2.0\n",
       "refuge               kitti  30303     4.0    $$    2.0\n",
       "toptime              nolan  30318     4.0    $$    2.0"
      ]
     },
     "execution_count": 62,
     "metadata": {},
     "output_type": "execute_result"
    }
   ],
   "source": [
    "cafes4 # Verify visually that `'value'` is out of date"
   ]
  },
  {
   "cell_type": "code",
   "execution_count": 63,
   "metadata": {},
   "outputs": [
    {
     "data": {
      "text/html": [
       "<div>\n",
       "<style scoped>\n",
       "    .dataframe tbody tr th:only-of-type {\n",
       "        vertical-align: middle;\n",
       "    }\n",
       "\n",
       "    .dataframe tbody tr th {\n",
       "        vertical-align: top;\n",
       "    }\n",
       "\n",
       "    .dataframe thead th {\n",
       "        text-align: right;\n",
       "    }\n",
       "</style>\n",
       "<table border=\"1\" class=\"dataframe\">\n",
       "  <thead>\n",
       "    <tr style=\"text-align: right;\">\n",
       "      <th></th>\n",
       "      <th>poc</th>\n",
       "      <th>zip</th>\n",
       "      <th>rating</th>\n",
       "      <th>price</th>\n",
       "      <th>value</th>\n",
       "    </tr>\n",
       "  </thead>\n",
       "  <tbody>\n",
       "    <tr>\n",
       "      <th>east pole</th>\n",
       "      <td>jared</td>\n",
       "      <td>30324</td>\n",
       "      <td>4.0</td>\n",
       "      <td>$$</td>\n",
       "      <td>2.000000</td>\n",
       "    </tr>\n",
       "    <tr>\n",
       "      <th>chrome yellow</th>\n",
       "      <td>kelly</td>\n",
       "      <td>30312</td>\n",
       "      <td>4.0</td>\n",
       "      <td>$$</td>\n",
       "      <td>2.000000</td>\n",
       "    </tr>\n",
       "    <tr>\n",
       "      <th>brash</th>\n",
       "      <td>matt</td>\n",
       "      <td>30318</td>\n",
       "      <td>4.0</td>\n",
       "      <td>$$</td>\n",
       "      <td>2.000000</td>\n",
       "    </tr>\n",
       "    <tr>\n",
       "      <th>taproom</th>\n",
       "      <td>jonathan</td>\n",
       "      <td>30317</td>\n",
       "      <td>4.0</td>\n",
       "      <td>$$</td>\n",
       "      <td>2.000000</td>\n",
       "    </tr>\n",
       "    <tr>\n",
       "      <th>3heart</th>\n",
       "      <td>nhan</td>\n",
       "      <td>30306</td>\n",
       "      <td>4.0</td>\n",
       "      <td>$$$</td>\n",
       "      <td>1.333333</td>\n",
       "    </tr>\n",
       "    <tr>\n",
       "      <th>spiller park pcm</th>\n",
       "      <td>dale</td>\n",
       "      <td>30308</td>\n",
       "      <td>4.0</td>\n",
       "      <td>$$$</td>\n",
       "      <td>1.333333</td>\n",
       "    </tr>\n",
       "    <tr>\n",
       "      <th>refuge</th>\n",
       "      <td>kitti</td>\n",
       "      <td>30303</td>\n",
       "      <td>4.0</td>\n",
       "      <td>$$</td>\n",
       "      <td>2.000000</td>\n",
       "    </tr>\n",
       "    <tr>\n",
       "      <th>toptime</th>\n",
       "      <td>nolan</td>\n",
       "      <td>30318</td>\n",
       "      <td>4.0</td>\n",
       "      <td>$$</td>\n",
       "      <td>2.000000</td>\n",
       "    </tr>\n",
       "  </tbody>\n",
       "</table>\n",
       "</div>"
      ],
      "text/plain": [
       "                       poc    zip  rating price     value\n",
       "east pole            jared  30324     4.0    $$  2.000000\n",
       "chrome yellow        kelly  30312     4.0    $$  2.000000\n",
       "brash                 matt  30318     4.0    $$  2.000000\n",
       "taproom           jonathan  30317     4.0    $$  2.000000\n",
       "3heart                nhan  30306     4.0   $$$  1.333333\n",
       "spiller park pcm      dale  30308     4.0   $$$  1.333333\n",
       "refuge               kitti  30303     4.0    $$  2.000000\n",
       "toptime              nolan  30318     4.0    $$  2.000000"
      ]
     },
     "execution_count": 63,
     "metadata": {},
     "output_type": "execute_result"
    }
   ],
   "source": [
    "def calc_value(row):\n",
    "    return row['rating'] / len(row['price'])\n",
    "\n",
    "cafes4['value'] = cafes4.apply(calc_value, axis=1)\n",
    "cafes4"
   ]
  },
  {
   "cell_type": "markdown",
   "metadata": {},
   "source": [
    "Another useful operation is gluing `DataFrame` objects together. There are several helpful operations covered in Notebook 7; one not mentioned there, but useful in one of its exercises, is `.concat()`."
   ]
  },
  {
   "cell_type": "code",
   "execution_count": 64,
   "metadata": {},
   "outputs": [
    {
     "data": {
      "text/html": [
       "<div>\n",
       "<style scoped>\n",
       "    .dataframe tbody tr th:only-of-type {\n",
       "        vertical-align: middle;\n",
       "    }\n",
       "\n",
       "    .dataframe tbody tr th {\n",
       "        vertical-align: top;\n",
       "    }\n",
       "\n",
       "    .dataframe thead th {\n",
       "        text-align: right;\n",
       "    }\n",
       "</style>\n",
       "<table border=\"1\" class=\"dataframe\">\n",
       "  <thead>\n",
       "    <tr style=\"text-align: right;\">\n",
       "      <th></th>\n",
       "      <th>poc</th>\n",
       "      <th>zip</th>\n",
       "      <th>rating</th>\n",
       "      <th>price</th>\n",
       "      <th>value</th>\n",
       "    </tr>\n",
       "  </thead>\n",
       "  <tbody>\n",
       "    <tr>\n",
       "      <th>east pole</th>\n",
       "      <td>jared</td>\n",
       "      <td>30324</td>\n",
       "      <td>4.0</td>\n",
       "      <td>$$</td>\n",
       "      <td>2.0</td>\n",
       "    </tr>\n",
       "    <tr>\n",
       "      <th>chrome yellow</th>\n",
       "      <td>kelly</td>\n",
       "      <td>30312</td>\n",
       "      <td>4.0</td>\n",
       "      <td>$$</td>\n",
       "      <td>2.0</td>\n",
       "    </tr>\n",
       "    <tr>\n",
       "      <th>brash</th>\n",
       "      <td>matt</td>\n",
       "      <td>30318</td>\n",
       "      <td>4.0</td>\n",
       "      <td>$$</td>\n",
       "      <td>2.0</td>\n",
       "    </tr>\n",
       "    <tr>\n",
       "      <th>taproom</th>\n",
       "      <td>jonathan</td>\n",
       "      <td>30317</td>\n",
       "      <td>4.0</td>\n",
       "      <td>$$</td>\n",
       "      <td>2.0</td>\n",
       "    </tr>\n",
       "    <tr>\n",
       "      <th>refuge</th>\n",
       "      <td>kitti</td>\n",
       "      <td>30303</td>\n",
       "      <td>4.0</td>\n",
       "      <td>$$</td>\n",
       "      <td>2.0</td>\n",
       "    </tr>\n",
       "    <tr>\n",
       "      <th>toptime</th>\n",
       "      <td>nolan</td>\n",
       "      <td>30318</td>\n",
       "      <td>4.0</td>\n",
       "      <td>$$</td>\n",
       "      <td>2.0</td>\n",
       "    </tr>\n",
       "  </tbody>\n",
       "</table>\n",
       "</div>"
      ],
      "text/plain": [
       "                    poc    zip  rating price  value\n",
       "east pole         jared  30324     4.0    $$    2.0\n",
       "chrome yellow     kelly  30312     4.0    $$    2.0\n",
       "brash              matt  30318     4.0    $$    2.0\n",
       "taproom        jonathan  30317     4.0    $$    2.0\n",
       "refuge            kitti  30303     4.0    $$    2.0\n",
       "toptime           nolan  30318     4.0    $$    2.0"
      ]
     },
     "metadata": {},
     "output_type": "display_data"
    },
    {
     "data": {
      "text/html": [
       "<div>\n",
       "<style scoped>\n",
       "    .dataframe tbody tr th:only-of-type {\n",
       "        vertical-align: middle;\n",
       "    }\n",
       "\n",
       "    .dataframe tbody tr th {\n",
       "        vertical-align: top;\n",
       "    }\n",
       "\n",
       "    .dataframe thead th {\n",
       "        text-align: right;\n",
       "    }\n",
       "</style>\n",
       "<table border=\"1\" class=\"dataframe\">\n",
       "  <thead>\n",
       "    <tr style=\"text-align: right;\">\n",
       "      <th></th>\n",
       "      <th>poc</th>\n",
       "      <th>zip</th>\n",
       "      <th>rating</th>\n",
       "      <th>price</th>\n",
       "      <th>value</th>\n",
       "    </tr>\n",
       "  </thead>\n",
       "  <tbody>\n",
       "    <tr>\n",
       "      <th>3heart</th>\n",
       "      <td>nhan</td>\n",
       "      <td>30306</td>\n",
       "      <td>4.0</td>\n",
       "      <td>$$$</td>\n",
       "      <td>1.333333</td>\n",
       "    </tr>\n",
       "    <tr>\n",
       "      <th>spiller park pcm</th>\n",
       "      <td>dale</td>\n",
       "      <td>30308</td>\n",
       "      <td>4.0</td>\n",
       "      <td>$$$</td>\n",
       "      <td>1.333333</td>\n",
       "    </tr>\n",
       "  </tbody>\n",
       "</table>\n",
       "</div>"
      ],
      "text/plain": [
       "                   poc    zip  rating price     value\n",
       "3heart            nhan  30306     4.0   $$$  1.333333\n",
       "spiller park pcm  dale  30308     4.0   $$$  1.333333"
      ]
     },
     "metadata": {},
     "output_type": "display_data"
    }
   ],
   "source": [
    "# Split based on price\n",
    "is_cheap = cafes4['price'] <= '$$'\n",
    "cafes_cheap = cafes4[is_cheap]\n",
    "cafes_pricey = cafes4[~is_cheap]\n",
    "\n",
    "display(cafes_cheap)\n",
    "display(cafes_pricey)"
   ]
  },
  {
   "cell_type": "code",
   "execution_count": 65,
   "metadata": {},
   "outputs": [
    {
     "data": {
      "text/html": [
       "<div>\n",
       "<style scoped>\n",
       "    .dataframe tbody tr th:only-of-type {\n",
       "        vertical-align: middle;\n",
       "    }\n",
       "\n",
       "    .dataframe tbody tr th {\n",
       "        vertical-align: top;\n",
       "    }\n",
       "\n",
       "    .dataframe thead th {\n",
       "        text-align: right;\n",
       "    }\n",
       "</style>\n",
       "<table border=\"1\" class=\"dataframe\">\n",
       "  <thead>\n",
       "    <tr style=\"text-align: right;\">\n",
       "      <th></th>\n",
       "      <th>poc</th>\n",
       "      <th>zip</th>\n",
       "      <th>rating</th>\n",
       "      <th>price</th>\n",
       "      <th>value</th>\n",
       "    </tr>\n",
       "  </thead>\n",
       "  <tbody>\n",
       "    <tr>\n",
       "      <th>east pole</th>\n",
       "      <td>jared</td>\n",
       "      <td>30324</td>\n",
       "      <td>4.0</td>\n",
       "      <td>$$</td>\n",
       "      <td>2.000000</td>\n",
       "    </tr>\n",
       "    <tr>\n",
       "      <th>chrome yellow</th>\n",
       "      <td>kelly</td>\n",
       "      <td>30312</td>\n",
       "      <td>4.0</td>\n",
       "      <td>$$</td>\n",
       "      <td>2.000000</td>\n",
       "    </tr>\n",
       "    <tr>\n",
       "      <th>brash</th>\n",
       "      <td>matt</td>\n",
       "      <td>30318</td>\n",
       "      <td>4.0</td>\n",
       "      <td>$$</td>\n",
       "      <td>2.000000</td>\n",
       "    </tr>\n",
       "    <tr>\n",
       "      <th>taproom</th>\n",
       "      <td>jonathan</td>\n",
       "      <td>30317</td>\n",
       "      <td>4.0</td>\n",
       "      <td>$$</td>\n",
       "      <td>2.000000</td>\n",
       "    </tr>\n",
       "    <tr>\n",
       "      <th>refuge</th>\n",
       "      <td>kitti</td>\n",
       "      <td>30303</td>\n",
       "      <td>4.0</td>\n",
       "      <td>$$</td>\n",
       "      <td>2.000000</td>\n",
       "    </tr>\n",
       "    <tr>\n",
       "      <th>toptime</th>\n",
       "      <td>nolan</td>\n",
       "      <td>30318</td>\n",
       "      <td>4.0</td>\n",
       "      <td>$$</td>\n",
       "      <td>2.000000</td>\n",
       "    </tr>\n",
       "    <tr>\n",
       "      <th>3heart</th>\n",
       "      <td>nhan</td>\n",
       "      <td>30306</td>\n",
       "      <td>4.0</td>\n",
       "      <td>$$$</td>\n",
       "      <td>1.333333</td>\n",
       "    </tr>\n",
       "    <tr>\n",
       "      <th>spiller park pcm</th>\n",
       "      <td>dale</td>\n",
       "      <td>30308</td>\n",
       "      <td>4.0</td>\n",
       "      <td>$$$</td>\n",
       "      <td>1.333333</td>\n",
       "    </tr>\n",
       "  </tbody>\n",
       "</table>\n",
       "</div>"
      ],
      "text/plain": [
       "                       poc    zip  rating price     value\n",
       "east pole            jared  30324     4.0    $$  2.000000\n",
       "chrome yellow        kelly  30312     4.0    $$  2.000000\n",
       "brash                 matt  30318     4.0    $$  2.000000\n",
       "taproom           jonathan  30317     4.0    $$  2.000000\n",
       "refuge               kitti  30303     4.0    $$  2.000000\n",
       "toptime              nolan  30318     4.0    $$  2.000000\n",
       "3heart                nhan  30306     4.0   $$$  1.333333\n",
       "spiller park pcm      dale  30308     4.0   $$$  1.333333"
      ]
     },
     "execution_count": 65,
     "metadata": {},
     "output_type": "execute_result"
    }
   ],
   "source": [
    "# Never mind; recombine\n",
    "pd.concat([cafes_cheap, cafes_pricey])"
   ]
  },
  {
   "cell_type": "markdown",
   "metadata": {},
   "source": [
    "## More on index objects\n",
    "\n",
    "A pandas [`Index`](https://pandas.pydata.org/pandas-docs/stable/generated/pandas.Index.html), used by `Series` and `DataFrame`, is \"list-like.\" It has a number of useful operations, including set-like operations (e.g., testing for membership, intersection, union, difference):"
   ]
  },
  {
   "cell_type": "code",
   "execution_count": 66,
   "metadata": {
    "collapsed": true
   },
   "outputs": [],
   "source": [
    "from pandas import Index"
   ]
  },
  {
   "cell_type": "code",
   "execution_count": 67,
   "metadata": {},
   "outputs": [
    {
     "data": {
      "text/plain": [
       "Index(['east pole', 'chrome yellow', 'brash', 'taproom', '3heart',\n",
       "       'spiller park pcm', 'refuge', 'toptime'],\n",
       "      dtype='object')"
      ]
     },
     "execution_count": 67,
     "metadata": {},
     "output_type": "execute_result"
    }
   ],
   "source": [
    "cafes4.index"
   ]
  },
  {
   "cell_type": "code",
   "execution_count": 68,
   "metadata": {},
   "outputs": [
    {
     "data": {
      "text/plain": [
       "array([False, False,  True, False,  True, False, False, False])"
      ]
     },
     "execution_count": 68,
     "metadata": {},
     "output_type": "execute_result"
    }
   ],
   "source": [
    "cafes4.index.isin(['brash', '3heart'])"
   ]
  },
  {
   "cell_type": "code",
   "execution_count": 69,
   "metadata": {},
   "outputs": [
    {
     "data": {
      "text/plain": [
       "Index(['3heart', 'brash', 'chattahoochee', 'chrome yellow', 'east pole',\n",
       "       'refuge', 'spiller park pcm', 'taproom', 'toptime'],\n",
       "      dtype='object')"
      ]
     },
     "execution_count": 69,
     "metadata": {},
     "output_type": "execute_result"
    }
   ],
   "source": [
    "cafes4.index.union(['chattahoochee'])"
   ]
  },
  {
   "cell_type": "code",
   "execution_count": 70,
   "metadata": {},
   "outputs": [
    {
     "data": {
      "text/plain": [
       "Index(['3heart', 'brash', 'chrome yellow', 'east pole', 'refuge',\n",
       "       'spiller park pcm', 'taproom', 'toptime'],\n",
       "      dtype='object')"
      ]
     },
     "execution_count": 70,
     "metadata": {},
     "output_type": "execute_result"
    }
   ],
   "source": [
    "cafes4.index.difference(['chattahoochee', 'starbucks', 'bar crema'])"
   ]
  },
  {
   "cell_type": "markdown",
   "metadata": {},
   "source": [
    "If you need to change the index of a `DataFrame`, here is one way to do it."
   ]
  },
  {
   "cell_type": "code",
   "execution_count": 71,
   "metadata": {},
   "outputs": [
    {
     "data": {
      "text/html": [
       "<div>\n",
       "<style scoped>\n",
       "    .dataframe tbody tr th:only-of-type {\n",
       "        vertical-align: middle;\n",
       "    }\n",
       "\n",
       "    .dataframe tbody tr th {\n",
       "        vertical-align: top;\n",
       "    }\n",
       "\n",
       "    .dataframe thead th {\n",
       "        text-align: right;\n",
       "    }\n",
       "</style>\n",
       "<table border=\"1\" class=\"dataframe\">\n",
       "  <thead>\n",
       "    <tr style=\"text-align: right;\">\n",
       "      <th></th>\n",
       "      <th>poc</th>\n",
       "      <th>zip</th>\n",
       "      <th>rating</th>\n",
       "      <th>price</th>\n",
       "      <th>value</th>\n",
       "    </tr>\n",
       "  </thead>\n",
       "  <tbody>\n",
       "    <tr>\n",
       "      <th>east pole</th>\n",
       "      <td>jared</td>\n",
       "      <td>30324</td>\n",
       "      <td>4.0</td>\n",
       "      <td>$$</td>\n",
       "      <td>2.000000</td>\n",
       "    </tr>\n",
       "    <tr>\n",
       "      <th>chrome yellow</th>\n",
       "      <td>kelly</td>\n",
       "      <td>30312</td>\n",
       "      <td>4.0</td>\n",
       "      <td>$$</td>\n",
       "      <td>2.000000</td>\n",
       "    </tr>\n",
       "    <tr>\n",
       "      <th>brash</th>\n",
       "      <td>matt</td>\n",
       "      <td>30318</td>\n",
       "      <td>4.0</td>\n",
       "      <td>$$</td>\n",
       "      <td>2.000000</td>\n",
       "    </tr>\n",
       "    <tr>\n",
       "      <th>taproom</th>\n",
       "      <td>jonathan</td>\n",
       "      <td>30317</td>\n",
       "      <td>4.0</td>\n",
       "      <td>$$</td>\n",
       "      <td>2.000000</td>\n",
       "    </tr>\n",
       "    <tr>\n",
       "      <th>3heart</th>\n",
       "      <td>nhan</td>\n",
       "      <td>30306</td>\n",
       "      <td>4.0</td>\n",
       "      <td>$$$</td>\n",
       "      <td>1.333333</td>\n",
       "    </tr>\n",
       "    <tr>\n",
       "      <th>spiller park pcm</th>\n",
       "      <td>dale</td>\n",
       "      <td>30308</td>\n",
       "      <td>4.0</td>\n",
       "      <td>$$$</td>\n",
       "      <td>1.333333</td>\n",
       "    </tr>\n",
       "    <tr>\n",
       "      <th>refuge</th>\n",
       "      <td>kitti</td>\n",
       "      <td>30303</td>\n",
       "      <td>4.0</td>\n",
       "      <td>$$</td>\n",
       "      <td>2.000000</td>\n",
       "    </tr>\n",
       "    <tr>\n",
       "      <th>toptime</th>\n",
       "      <td>nolan</td>\n",
       "      <td>30318</td>\n",
       "      <td>4.0</td>\n",
       "      <td>$$</td>\n",
       "      <td>2.000000</td>\n",
       "    </tr>\n",
       "  </tbody>\n",
       "</table>\n",
       "</div>"
      ],
      "text/plain": [
       "                       poc    zip  rating price     value\n",
       "east pole            jared  30324     4.0    $$  2.000000\n",
       "chrome yellow        kelly  30312     4.0    $$  2.000000\n",
       "brash                 matt  30318     4.0    $$  2.000000\n",
       "taproom           jonathan  30317     4.0    $$  2.000000\n",
       "3heart                nhan  30306     4.0   $$$  1.333333\n",
       "spiller park pcm      dale  30308     4.0   $$$  1.333333\n",
       "refuge               kitti  30303     4.0    $$  2.000000\n",
       "toptime              nolan  30318     4.0    $$  2.000000"
      ]
     },
     "metadata": {},
     "output_type": "display_data"
    },
    {
     "data": {
      "text/html": [
       "<div>\n",
       "<style scoped>\n",
       "    .dataframe tbody tr th:only-of-type {\n",
       "        vertical-align: middle;\n",
       "    }\n",
       "\n",
       "    .dataframe tbody tr th {\n",
       "        vertical-align: top;\n",
       "    }\n",
       "\n",
       "    .dataframe thead th {\n",
       "        text-align: right;\n",
       "    }\n",
       "</style>\n",
       "<table border=\"1\" class=\"dataframe\">\n",
       "  <thead>\n",
       "    <tr style=\"text-align: right;\">\n",
       "      <th></th>\n",
       "      <th>poc</th>\n",
       "      <th>zip</th>\n",
       "      <th>rating</th>\n",
       "      <th>price</th>\n",
       "      <th>value</th>\n",
       "    </tr>\n",
       "  </thead>\n",
       "  <tbody>\n",
       "    <tr>\n",
       "      <th>3heart</th>\n",
       "      <td>nhan</td>\n",
       "      <td>30306.0</td>\n",
       "      <td>4.0</td>\n",
       "      <td>$$$</td>\n",
       "      <td>1.333333</td>\n",
       "    </tr>\n",
       "    <tr>\n",
       "      <th>east pole</th>\n",
       "      <td>jared</td>\n",
       "      <td>30324.0</td>\n",
       "      <td>4.0</td>\n",
       "      <td>$$</td>\n",
       "      <td>2.000000</td>\n",
       "    </tr>\n",
       "    <tr>\n",
       "      <th>brash</th>\n",
       "      <td>matt</td>\n",
       "      <td>30318.0</td>\n",
       "      <td>4.0</td>\n",
       "      <td>$$</td>\n",
       "      <td>2.000000</td>\n",
       "    </tr>\n",
       "    <tr>\n",
       "      <th>starbucks</th>\n",
       "      <td>NaN</td>\n",
       "      <td>NaN</td>\n",
       "      <td>NaN</td>\n",
       "      <td>NaN</td>\n",
       "      <td>NaN</td>\n",
       "    </tr>\n",
       "  </tbody>\n",
       "</table>\n",
       "</div>"
      ],
      "text/plain": [
       "             poc      zip  rating price     value\n",
       "3heart      nhan  30306.0     4.0   $$$  1.333333\n",
       "east pole  jared  30324.0     4.0    $$  2.000000\n",
       "brash       matt  30318.0     4.0    $$  2.000000\n",
       "starbucks    NaN      NaN     NaN   NaN       NaN"
      ]
     },
     "metadata": {},
     "output_type": "display_data"
    }
   ],
   "source": [
    "cafes5 = cafes4.reindex(Index(['3heart', 'east pole', 'brash', 'starbucks']))\n",
    "\n",
    "display(cafes4)\n",
    "display(cafes5)"
   ]
  },
  {
   "cell_type": "markdown",
   "metadata": {},
   "source": [
    "Observe that this reindexing operation matches the supplied index values against the existing ones. (What happens to index values you leave out? What happens with new index values?)"
   ]
  },
  {
   "cell_type": "markdown",
   "metadata": {},
   "source": [
    "Another useful operation is dropping the index (and replacing it with the default, integers)."
   ]
  },
  {
   "cell_type": "code",
   "execution_count": 72,
   "metadata": {},
   "outputs": [
    {
     "data": {
      "text/html": [
       "<div>\n",
       "<style scoped>\n",
       "    .dataframe tbody tr th:only-of-type {\n",
       "        vertical-align: middle;\n",
       "    }\n",
       "\n",
       "    .dataframe tbody tr th {\n",
       "        vertical-align: top;\n",
       "    }\n",
       "\n",
       "    .dataframe thead th {\n",
       "        text-align: right;\n",
       "    }\n",
       "</style>\n",
       "<table border=\"1\" class=\"dataframe\">\n",
       "  <thead>\n",
       "    <tr style=\"text-align: right;\">\n",
       "      <th></th>\n",
       "      <th>poc</th>\n",
       "      <th>zip</th>\n",
       "      <th>rating</th>\n",
       "      <th>price</th>\n",
       "      <th>value</th>\n",
       "      <th>name</th>\n",
       "    </tr>\n",
       "  </thead>\n",
       "  <tbody>\n",
       "    <tr>\n",
       "      <th>0</th>\n",
       "      <td>jared</td>\n",
       "      <td>30324</td>\n",
       "      <td>4.0</td>\n",
       "      <td>$$</td>\n",
       "      <td>2.000000</td>\n",
       "      <td>east pole</td>\n",
       "    </tr>\n",
       "    <tr>\n",
       "      <th>1</th>\n",
       "      <td>kelly</td>\n",
       "      <td>30312</td>\n",
       "      <td>4.0</td>\n",
       "      <td>$$</td>\n",
       "      <td>2.000000</td>\n",
       "      <td>chrome yellow</td>\n",
       "    </tr>\n",
       "    <tr>\n",
       "      <th>2</th>\n",
       "      <td>matt</td>\n",
       "      <td>30318</td>\n",
       "      <td>4.0</td>\n",
       "      <td>$$</td>\n",
       "      <td>2.000000</td>\n",
       "      <td>brash</td>\n",
       "    </tr>\n",
       "    <tr>\n",
       "      <th>3</th>\n",
       "      <td>jonathan</td>\n",
       "      <td>30317</td>\n",
       "      <td>4.0</td>\n",
       "      <td>$$</td>\n",
       "      <td>2.000000</td>\n",
       "      <td>taproom</td>\n",
       "    </tr>\n",
       "    <tr>\n",
       "      <th>4</th>\n",
       "      <td>nhan</td>\n",
       "      <td>30306</td>\n",
       "      <td>4.0</td>\n",
       "      <td>$$$</td>\n",
       "      <td>1.333333</td>\n",
       "      <td>3heart</td>\n",
       "    </tr>\n",
       "    <tr>\n",
       "      <th>5</th>\n",
       "      <td>dale</td>\n",
       "      <td>30308</td>\n",
       "      <td>4.0</td>\n",
       "      <td>$$$</td>\n",
       "      <td>1.333333</td>\n",
       "      <td>spiller park pcm</td>\n",
       "    </tr>\n",
       "    <tr>\n",
       "      <th>6</th>\n",
       "      <td>kitti</td>\n",
       "      <td>30303</td>\n",
       "      <td>4.0</td>\n",
       "      <td>$$</td>\n",
       "      <td>2.000000</td>\n",
       "      <td>refuge</td>\n",
       "    </tr>\n",
       "    <tr>\n",
       "      <th>7</th>\n",
       "      <td>nolan</td>\n",
       "      <td>30318</td>\n",
       "      <td>4.0</td>\n",
       "      <td>$$</td>\n",
       "      <td>2.000000</td>\n",
       "      <td>toptime</td>\n",
       "    </tr>\n",
       "  </tbody>\n",
       "</table>\n",
       "</div>"
      ],
      "text/plain": [
       "        poc    zip  rating price     value              name\n",
       "0     jared  30324     4.0    $$  2.000000         east pole\n",
       "1     kelly  30312     4.0    $$  2.000000     chrome yellow\n",
       "2      matt  30318     4.0    $$  2.000000             brash\n",
       "3  jonathan  30317     4.0    $$  2.000000           taproom\n",
       "4      nhan  30306     4.0   $$$  1.333333            3heart\n",
       "5      dale  30308     4.0   $$$  1.333333  spiller park pcm\n",
       "6     kitti  30303     4.0    $$  2.000000            refuge\n",
       "7     nolan  30318     4.0    $$  2.000000           toptime"
      ]
     },
     "execution_count": 72,
     "metadata": {},
     "output_type": "execute_result"
    }
   ],
   "source": [
    "cafes6 = cafes4.reset_index(drop=True)\n",
    "cafes6['name'] = cafes4.index\n",
    "cafes6"
   ]
  },
  {
   "cell_type": "markdown",
   "metadata": {},
   "source": [
    "**Fin!** That's the end of these notes. With this information as background, you should be able to complete Notebook 7."
   ]
  }
 ],
 "metadata": {
  "kernel_info": {
   "name": "python3"
  },
  "kernelspec": {
   "display_name": "Python 3 [3.7]",
   "language": "python",
   "name": "python3"
  },
  "language_info": {
   "codemirror_mode": {
    "name": "ipython",
    "version": 3
   },
   "file_extension": ".py",
   "mimetype": "text/x-python",
   "name": "python",
   "nbconvert_exporter": "python",
   "pygments_lexer": "ipython3",
   "version": "3.7.5"
  },
  "nteract": {
   "version": "0.11.7"
  }
 },
 "nbformat": 4,
 "nbformat_minor": 2
}
